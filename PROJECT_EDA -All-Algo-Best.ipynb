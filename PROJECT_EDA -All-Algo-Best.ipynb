{
 "cells": [
  {
   "cell_type": "code",
   "execution_count": 1,
   "metadata": {},
   "outputs": [],
   "source": [
    "import numpy as np\n",
    "import pandas as pd\n",
    "import seaborn as sns\n",
    "from sklearn import metrics\n",
    "import matplotlib.pyplot as plt\n",
    "from sklearn import linear_model\n",
    "from sklearn import preprocessing\n",
    "from sklearn import model_selection\n",
    "from sklearn import feature_selection"
   ]
  },
  {
   "cell_type": "code",
   "execution_count": 2,
   "metadata": {},
   "outputs": [],
   "source": [
    "df=pd.read_csv(\"churn_train.csv\")"
   ]
  },
  {
   "cell_type": "code",
   "execution_count": 3,
   "metadata": {
    "scrolled": true
   },
   "outputs": [
    {
     "data": {
      "text/html": [
       "<div>\n",
       "<style scoped>\n",
       "    .dataframe tbody tr th:only-of-type {\n",
       "        vertical-align: middle;\n",
       "    }\n",
       "\n",
       "    .dataframe tbody tr th {\n",
       "        vertical-align: top;\n",
       "    }\n",
       "\n",
       "    .dataframe thead th {\n",
       "        text-align: right;\n",
       "    }\n",
       "</style>\n",
       "<table border=\"1\" class=\"dataframe\">\n",
       "  <thead>\n",
       "    <tr style=\"text-align: right;\">\n",
       "      <th></th>\n",
       "      <th>st</th>\n",
       "      <th>acclen</th>\n",
       "      <th>arcode</th>\n",
       "      <th>phnum</th>\n",
       "      <th>intplan</th>\n",
       "      <th>voice</th>\n",
       "      <th>nummailmes</th>\n",
       "      <th>tdmin</th>\n",
       "      <th>tdcal</th>\n",
       "      <th>tdchar</th>\n",
       "      <th>...</th>\n",
       "      <th>tecal</th>\n",
       "      <th>tecahr</th>\n",
       "      <th>tnmin</th>\n",
       "      <th>tncal</th>\n",
       "      <th>tnchar</th>\n",
       "      <th>timin</th>\n",
       "      <th>tical</th>\n",
       "      <th>tichar</th>\n",
       "      <th>ncsc</th>\n",
       "      <th>label</th>\n",
       "    </tr>\n",
       "  </thead>\n",
       "  <tbody>\n",
       "    <tr>\n",
       "      <th>0</th>\n",
       "      <td>KS</td>\n",
       "      <td>128</td>\n",
       "      <td>415</td>\n",
       "      <td>382-4657</td>\n",
       "      <td>no</td>\n",
       "      <td>yes</td>\n",
       "      <td>25</td>\n",
       "      <td>265.1</td>\n",
       "      <td>110</td>\n",
       "      <td>45.07</td>\n",
       "      <td>...</td>\n",
       "      <td>99</td>\n",
       "      <td>16.78</td>\n",
       "      <td>244.7</td>\n",
       "      <td>91</td>\n",
       "      <td>11.01</td>\n",
       "      <td>10.0</td>\n",
       "      <td>3</td>\n",
       "      <td>2.70</td>\n",
       "      <td>1</td>\n",
       "      <td>False.</td>\n",
       "    </tr>\n",
       "    <tr>\n",
       "      <th>1</th>\n",
       "      <td>OH</td>\n",
       "      <td>107</td>\n",
       "      <td>415</td>\n",
       "      <td>371-7191</td>\n",
       "      <td>no</td>\n",
       "      <td>yes</td>\n",
       "      <td>26</td>\n",
       "      <td>161.6</td>\n",
       "      <td>123</td>\n",
       "      <td>27.47</td>\n",
       "      <td>...</td>\n",
       "      <td>103</td>\n",
       "      <td>16.62</td>\n",
       "      <td>254.4</td>\n",
       "      <td>103</td>\n",
       "      <td>11.45</td>\n",
       "      <td>13.7</td>\n",
       "      <td>3</td>\n",
       "      <td>3.70</td>\n",
       "      <td>1</td>\n",
       "      <td>False.</td>\n",
       "    </tr>\n",
       "    <tr>\n",
       "      <th>2</th>\n",
       "      <td>NJ</td>\n",
       "      <td>137</td>\n",
       "      <td>415</td>\n",
       "      <td>358-1921</td>\n",
       "      <td>no</td>\n",
       "      <td>no</td>\n",
       "      <td>0</td>\n",
       "      <td>243.4</td>\n",
       "      <td>114</td>\n",
       "      <td>41.38</td>\n",
       "      <td>...</td>\n",
       "      <td>110</td>\n",
       "      <td>10.30</td>\n",
       "      <td>162.6</td>\n",
       "      <td>104</td>\n",
       "      <td>7.32</td>\n",
       "      <td>12.2</td>\n",
       "      <td>5</td>\n",
       "      <td>3.29</td>\n",
       "      <td>0</td>\n",
       "      <td>False.</td>\n",
       "    </tr>\n",
       "    <tr>\n",
       "      <th>3</th>\n",
       "      <td>OH</td>\n",
       "      <td>84</td>\n",
       "      <td>408</td>\n",
       "      <td>375-9999</td>\n",
       "      <td>yes</td>\n",
       "      <td>no</td>\n",
       "      <td>0</td>\n",
       "      <td>299.4</td>\n",
       "      <td>71</td>\n",
       "      <td>50.90</td>\n",
       "      <td>...</td>\n",
       "      <td>88</td>\n",
       "      <td>5.26</td>\n",
       "      <td>196.9</td>\n",
       "      <td>89</td>\n",
       "      <td>8.86</td>\n",
       "      <td>6.6</td>\n",
       "      <td>7</td>\n",
       "      <td>1.78</td>\n",
       "      <td>2</td>\n",
       "      <td>False.</td>\n",
       "    </tr>\n",
       "    <tr>\n",
       "      <th>4</th>\n",
       "      <td>OK</td>\n",
       "      <td>75</td>\n",
       "      <td>415</td>\n",
       "      <td>330-6626</td>\n",
       "      <td>yes</td>\n",
       "      <td>no</td>\n",
       "      <td>0</td>\n",
       "      <td>166.7</td>\n",
       "      <td>113</td>\n",
       "      <td>28.34</td>\n",
       "      <td>...</td>\n",
       "      <td>122</td>\n",
       "      <td>12.61</td>\n",
       "      <td>186.9</td>\n",
       "      <td>121</td>\n",
       "      <td>8.41</td>\n",
       "      <td>10.1</td>\n",
       "      <td>3</td>\n",
       "      <td>2.73</td>\n",
       "      <td>3</td>\n",
       "      <td>False.</td>\n",
       "    </tr>\n",
       "  </tbody>\n",
       "</table>\n",
       "<p>5 rows × 21 columns</p>\n",
       "</div>"
      ],
      "text/plain": [
       "   st  acclen  arcode     phnum intplan voice  nummailmes  tdmin  tdcal  \\\n",
       "0  KS     128     415  382-4657      no   yes          25  265.1    110   \n",
       "1  OH     107     415  371-7191      no   yes          26  161.6    123   \n",
       "2  NJ     137     415  358-1921      no    no           0  243.4    114   \n",
       "3  OH      84     408  375-9999     yes    no           0  299.4     71   \n",
       "4  OK      75     415  330-6626     yes    no           0  166.7    113   \n",
       "\n",
       "   tdchar  ...  tecal  tecahr  tnmin  tncal  tnchar  timin  tical  tichar  \\\n",
       "0   45.07  ...     99   16.78  244.7     91   11.01   10.0      3    2.70   \n",
       "1   27.47  ...    103   16.62  254.4    103   11.45   13.7      3    3.70   \n",
       "2   41.38  ...    110   10.30  162.6    104    7.32   12.2      5    3.29   \n",
       "3   50.90  ...     88    5.26  196.9     89    8.86    6.6      7    1.78   \n",
       "4   28.34  ...    122   12.61  186.9    121    8.41   10.1      3    2.73   \n",
       "\n",
       "   ncsc   label  \n",
       "0     1  False.  \n",
       "1     1  False.  \n",
       "2     0  False.  \n",
       "3     2  False.  \n",
       "4     3  False.  \n",
       "\n",
       "[5 rows x 21 columns]"
      ]
     },
     "execution_count": 3,
     "metadata": {},
     "output_type": "execute_result"
    }
   ],
   "source": [
    "df[ :5]"
   ]
  },
  {
   "cell_type": "code",
   "execution_count": 4,
   "metadata": {},
   "outputs": [
    {
     "data": {
      "text/plain": [
       "(3333, 21)"
      ]
     },
     "execution_count": 4,
     "metadata": {},
     "output_type": "execute_result"
    }
   ],
   "source": [
    "df.shape"
   ]
  },
  {
   "cell_type": "code",
   "execution_count": 5,
   "metadata": {},
   "outputs": [
    {
     "name": "stdout",
     "output_type": "stream",
     "text": [
      "<class 'pandas.core.frame.DataFrame'>\n",
      "RangeIndex: 3333 entries, 0 to 3332\n",
      "Data columns (total 21 columns):\n",
      " #   Column      Non-Null Count  Dtype  \n",
      "---  ------      --------------  -----  \n",
      " 0   st          3333 non-null   object \n",
      " 1   acclen      3333 non-null   int64  \n",
      " 2   arcode      3333 non-null   int64  \n",
      " 3   phnum       3333 non-null   object \n",
      " 4   intplan     3333 non-null   object \n",
      " 5   voice       3333 non-null   object \n",
      " 6   nummailmes  3333 non-null   int64  \n",
      " 7   tdmin       3333 non-null   float64\n",
      " 8   tdcal       3333 non-null   int64  \n",
      " 9   tdchar      3333 non-null   float64\n",
      " 10  temin       3333 non-null   float64\n",
      " 11  tecal       3333 non-null   int64  \n",
      " 12  tecahr      3333 non-null   float64\n",
      " 13  tnmin       3333 non-null   float64\n",
      " 14  tncal       3333 non-null   int64  \n",
      " 15  tnchar      3333 non-null   float64\n",
      " 16  timin       3333 non-null   float64\n",
      " 17  tical       3333 non-null   int64  \n",
      " 18  tichar      3333 non-null   float64\n",
      " 19  ncsc        3333 non-null   int64  \n",
      " 20  label       3333 non-null   object \n",
      "dtypes: float64(8), int64(8), object(5)\n",
      "memory usage: 546.9+ KB\n"
     ]
    }
   ],
   "source": [
    "df.info()"
   ]
  },
  {
   "cell_type": "markdown",
   "metadata": {},
   "source": [
    "## In our dataset there are 5 categorical, 1 discrete and 15 numeric columns in the given dataset:\n",
    "   ### - Categorical Columns:  st,phnum,intplan,voice,label (Target)\n",
    "   ### - Numerical Discrete Column:arcode\n",
    "   ### - Rest of the columns are Numerical\n",
    "   "
   ]
  },
  {
   "cell_type": "markdown",
   "metadata": {},
   "source": [
    "## Unique Values of each column"
   ]
  },
  {
   "cell_type": "code",
   "execution_count": 6,
   "metadata": {
    "scrolled": true
   },
   "outputs": [
    {
     "name": "stdout",
     "output_type": "stream",
     "text": [
      "st  :  51\n",
      "acclen  :  212\n",
      "arcode  :  3\n",
      "phnum  :  3333\n",
      "intplan  :  2\n",
      "voice  :  2\n",
      "nummailmes  :  46\n",
      "tdmin  :  1667\n",
      "tdcal  :  119\n",
      "tdchar  :  1667\n",
      "temin  :  1611\n",
      "tecal  :  123\n",
      "tecahr  :  1440\n",
      "tnmin  :  1591\n",
      "tncal  :  120\n",
      "tnchar  :  933\n",
      "timin  :  162\n",
      "tical  :  21\n",
      "tichar  :  162\n",
      "ncsc  :  10\n",
      "label  :  2\n"
     ]
    }
   ],
   "source": [
    "for col in df:\n",
    "    print(col,\" : \",df[col].nunique())"
   ]
  },
  {
   "cell_type": "markdown",
   "metadata": {},
   "source": [
    "## Details of each column"
   ]
  },
  {
   "cell_type": "code",
   "execution_count": 7,
   "metadata": {},
   "outputs": [
    {
     "name": "stdout",
     "output_type": "stream",
     "text": [
      "st  :  count     3333\n",
      "unique      51\n",
      "top         WV\n",
      "freq       106\n",
      "Name: st, dtype: object\n",
      "\n",
      "acclen  :  count    3333.000000\n",
      "mean      101.064806\n",
      "std        39.822106\n",
      "min         1.000000\n",
      "25%        74.000000\n",
      "50%       101.000000\n",
      "75%       127.000000\n",
      "max       243.000000\n",
      "Name: acclen, dtype: float64\n",
      "\n",
      "arcode  :  count    3333.000000\n",
      "mean      437.182418\n",
      "std        42.371290\n",
      "min       408.000000\n",
      "25%       408.000000\n",
      "50%       415.000000\n",
      "75%       510.000000\n",
      "max       510.000000\n",
      "Name: arcode, dtype: float64\n",
      "\n",
      "phnum  :  count         3333\n",
      "unique        3333\n",
      "top       399-2457\n",
      "freq             1\n",
      "Name: phnum, dtype: object\n",
      "\n",
      "intplan  :  count     3333\n",
      "unique       2\n",
      "top         no\n",
      "freq      3010\n",
      "Name: intplan, dtype: object\n",
      "\n",
      "voice  :  count     3333\n",
      "unique       2\n",
      "top         no\n",
      "freq      2411\n",
      "Name: voice, dtype: object\n",
      "\n",
      "nummailmes  :  count    3333.000000\n",
      "mean        8.099010\n",
      "std        13.688365\n",
      "min         0.000000\n",
      "25%         0.000000\n",
      "50%         0.000000\n",
      "75%        20.000000\n",
      "max        51.000000\n",
      "Name: nummailmes, dtype: float64\n",
      "\n",
      "tdmin  :  count    3333.000000\n",
      "mean      179.775098\n",
      "std        54.467389\n",
      "min         0.000000\n",
      "25%       143.700000\n",
      "50%       179.400000\n",
      "75%       216.400000\n",
      "max       350.800000\n",
      "Name: tdmin, dtype: float64\n",
      "\n",
      "tdcal  :  count    3333.000000\n",
      "mean      100.435644\n",
      "std        20.069084\n",
      "min         0.000000\n",
      "25%        87.000000\n",
      "50%       101.000000\n",
      "75%       114.000000\n",
      "max       165.000000\n",
      "Name: tdcal, dtype: float64\n",
      "\n",
      "tdchar  :  count    3333.000000\n",
      "mean       30.562307\n",
      "std         9.259435\n",
      "min         0.000000\n",
      "25%        24.430000\n",
      "50%        30.500000\n",
      "75%        36.790000\n",
      "max        59.640000\n",
      "Name: tdchar, dtype: float64\n",
      "\n",
      "temin  :  count    3333.000000\n",
      "mean      200.980348\n",
      "std        50.713844\n",
      "min         0.000000\n",
      "25%       166.600000\n",
      "50%       201.400000\n",
      "75%       235.300000\n",
      "max       363.700000\n",
      "Name: temin, dtype: float64\n",
      "\n",
      "tecal  :  count    3333.000000\n",
      "mean      100.114311\n",
      "std        19.922625\n",
      "min         0.000000\n",
      "25%        87.000000\n",
      "50%       100.000000\n",
      "75%       114.000000\n",
      "max       170.000000\n",
      "Name: tecal, dtype: float64\n",
      "\n",
      "tecahr  :  count    3333.000000\n",
      "mean       17.083540\n",
      "std         4.310668\n",
      "min         0.000000\n",
      "25%        14.160000\n",
      "50%        17.120000\n",
      "75%        20.000000\n",
      "max        30.910000\n",
      "Name: tecahr, dtype: float64\n",
      "\n",
      "tnmin  :  count    3333.000000\n",
      "mean      200.872037\n",
      "std        50.573847\n",
      "min        23.200000\n",
      "25%       167.000000\n",
      "50%       201.200000\n",
      "75%       235.300000\n",
      "max       395.000000\n",
      "Name: tnmin, dtype: float64\n",
      "\n",
      "tncal  :  count    3333.000000\n",
      "mean      100.107711\n",
      "std        19.568609\n",
      "min        33.000000\n",
      "25%        87.000000\n",
      "50%       100.000000\n",
      "75%       113.000000\n",
      "max       175.000000\n",
      "Name: tncal, dtype: float64\n",
      "\n",
      "tnchar  :  count    3333.000000\n",
      "mean        9.039325\n",
      "std         2.275873\n",
      "min         1.040000\n",
      "25%         7.520000\n",
      "50%         9.050000\n",
      "75%        10.590000\n",
      "max        17.770000\n",
      "Name: tnchar, dtype: float64\n",
      "\n",
      "timin  :  count    3333.000000\n",
      "mean       10.237294\n",
      "std         2.791840\n",
      "min         0.000000\n",
      "25%         8.500000\n",
      "50%        10.300000\n",
      "75%        12.100000\n",
      "max        20.000000\n",
      "Name: timin, dtype: float64\n",
      "\n",
      "tical  :  count    3333.000000\n",
      "mean        4.479448\n",
      "std         2.461214\n",
      "min         0.000000\n",
      "25%         3.000000\n",
      "50%         4.000000\n",
      "75%         6.000000\n",
      "max        20.000000\n",
      "Name: tical, dtype: float64\n",
      "\n",
      "tichar  :  count    3333.000000\n",
      "mean        2.764581\n",
      "std         0.753773\n",
      "min         0.000000\n",
      "25%         2.300000\n",
      "50%         2.780000\n",
      "75%         3.270000\n",
      "max         5.400000\n",
      "Name: tichar, dtype: float64\n",
      "\n",
      "ncsc  :  count    3333.000000\n",
      "mean        1.562856\n",
      "std         1.315491\n",
      "min         0.000000\n",
      "25%         1.000000\n",
      "50%         1.000000\n",
      "75%         2.000000\n",
      "max         9.000000\n",
      "Name: ncsc, dtype: float64\n",
      "\n",
      "label  :  count       3333\n",
      "unique         2\n",
      "top       False.\n",
      "freq        2850\n",
      "Name: label, dtype: object\n",
      "\n"
     ]
    }
   ],
   "source": [
    "for col in df:\n",
    "    print(col,\" : \",df[col].describe())\n",
    "    print()"
   ]
  },
  {
   "cell_type": "markdown",
   "metadata": {},
   "source": [
    "#### 'nummailmes' column contains outlier"
   ]
  },
  {
   "cell_type": "markdown",
   "metadata": {},
   "source": [
    "## Frequency of each record in each column"
   ]
  },
  {
   "cell_type": "code",
   "execution_count": 8,
   "metadata": {},
   "outputs": [
    {
     "name": "stdout",
     "output_type": "stream",
     "text": [
      "st\n",
      "WV    106\n",
      "MN     84\n",
      "NY     83\n",
      "AL     80\n",
      "WI     78\n",
      "OR     78\n",
      "OH     78\n",
      "WY     77\n",
      "VA     77\n",
      "CT     74\n",
      "VT     73\n",
      "ID     73\n",
      "MI     73\n",
      "TX     72\n",
      "UT     72\n",
      "IN     71\n",
      "KS     70\n",
      "MD     70\n",
      "MT     68\n",
      "NJ     68\n",
      "NC     68\n",
      "NV     66\n",
      "CO     66\n",
      "WA     66\n",
      "RI     65\n",
      "MA     65\n",
      "MS     65\n",
      "AZ     64\n",
      "FL     63\n",
      "MO     63\n",
      "NM     62\n",
      "ME     62\n",
      "ND     62\n",
      "OK     61\n",
      "DE     61\n",
      "NE     61\n",
      "SC     60\n",
      "SD     60\n",
      "KY     59\n",
      "IL     58\n",
      "NH     56\n",
      "AR     55\n",
      "GA     54\n",
      "DC     54\n",
      "TN     53\n",
      "HI     53\n",
      "AK     52\n",
      "LA     51\n",
      "PA     45\n",
      "IA     44\n",
      "CA     34\n",
      "Name: st, dtype: int64\n",
      "\n",
      "acclen\n",
      "105    43\n",
      "87     42\n",
      "93     40\n",
      "101    40\n",
      "90     39\n",
      "       ..\n",
      "191     1\n",
      "199     1\n",
      "215     1\n",
      "221     1\n",
      "2       1\n",
      "Name: acclen, Length: 212, dtype: int64\n",
      "\n",
      "arcode\n",
      "415    1655\n",
      "510     840\n",
      "408     838\n",
      "Name: arcode, dtype: int64\n",
      "\n",
      "phnum\n",
      "399-2457    1\n",
      "369-6012    1\n",
      "411-8043    1\n",
      "411-6211    1\n",
      "363-1123    1\n",
      "           ..\n",
      "338-6714    1\n",
      "365-5886    1\n",
      "353-1941    1\n",
      "407-6391    1\n",
      "370-3021    1\n",
      "Name: phnum, Length: 3333, dtype: int64\n",
      "\n",
      "intplan\n",
      "no     3010\n",
      "yes     323\n",
      "Name: intplan, dtype: int64\n",
      "\n",
      "voice\n",
      "no     2411\n",
      "yes     922\n",
      "Name: voice, dtype: int64\n",
      "\n",
      "nummailmes\n",
      "0     2411\n",
      "31      60\n",
      "29      53\n",
      "28      51\n",
      "33      46\n",
      "27      44\n",
      "30      44\n",
      "24      42\n",
      "26      41\n",
      "32      41\n",
      "25      37\n",
      "23      36\n",
      "36      34\n",
      "35      32\n",
      "22      32\n",
      "39      30\n",
      "37      29\n",
      "34      29\n",
      "21      28\n",
      "38      25\n",
      "20      22\n",
      "19      19\n",
      "40      16\n",
      "42      15\n",
      "17      14\n",
      "41      13\n",
      "16      13\n",
      "43       9\n",
      "15       9\n",
      "18       7\n",
      "44       7\n",
      "14       7\n",
      "45       6\n",
      "12       6\n",
      "46       4\n",
      "13       4\n",
      "47       3\n",
      "8        2\n",
      "48       2\n",
      "50       2\n",
      "9        2\n",
      "11       2\n",
      "49       1\n",
      "10       1\n",
      "4        1\n",
      "51       1\n",
      "Name: nummailmes, dtype: int64\n",
      "\n",
      "tdmin\n",
      "174.5    8\n",
      "159.5    8\n",
      "154.0    8\n",
      "175.4    7\n",
      "162.3    7\n",
      "        ..\n",
      "199.9    1\n",
      "105.8    1\n",
      "125.6    1\n",
      "179.8    1\n",
      "270.8    1\n",
      "Name: tdmin, Length: 1667, dtype: int64\n",
      "\n",
      "tdcal\n",
      "102    78\n",
      "105    75\n",
      "107    69\n",
      "95     69\n",
      "104    68\n",
      "       ..\n",
      "149     1\n",
      "157     1\n",
      "36      1\n",
      "30      1\n",
      "165     1\n",
      "Name: tdcal, Length: 119, dtype: int64\n",
      "\n",
      "tdchar\n",
      "27.12    8\n",
      "26.18    8\n",
      "29.67    8\n",
      "31.18    7\n",
      "27.59    7\n",
      "        ..\n",
      "19.36    1\n",
      "16.95    1\n",
      "34.12    1\n",
      "48.35    1\n",
      "13.28    1\n",
      "Name: tdchar, Length: 1667, dtype: int64\n",
      "\n",
      "temin\n",
      "169.9    9\n",
      "230.9    7\n",
      "209.4    7\n",
      "201.0    7\n",
      "220.6    7\n",
      "        ..\n",
      "335.0    1\n",
      "258.9    1\n",
      "134.7    1\n",
      "318.8    1\n",
      "317.2    1\n",
      "Name: temin, Length: 1611, dtype: int64\n",
      "\n",
      "tecal\n",
      "105    80\n",
      "94     79\n",
      "108    71\n",
      "97     70\n",
      "102    70\n",
      "       ..\n",
      "45      1\n",
      "49      1\n",
      "145     1\n",
      "153     1\n",
      "0       1\n",
      "Name: tecal, Length: 123, dtype: int64\n",
      "\n",
      "tecahr\n",
      "14.25    11\n",
      "16.12    11\n",
      "15.90    10\n",
      "18.62     9\n",
      "14.44     9\n",
      "         ..\n",
      "12.64     1\n",
      "13.83     1\n",
      "11.39     1\n",
      "28.03     1\n",
      "20.53     1\n",
      "Name: tecahr, Length: 1440, dtype: int64\n",
      "\n",
      "tnmin\n",
      "210.0    8\n",
      "214.6    8\n",
      "197.4    8\n",
      "191.4    8\n",
      "188.2    8\n",
      "        ..\n",
      "132.3    1\n",
      "306.2    1\n",
      "293.5    1\n",
      "271.7    1\n",
      "182.6    1\n",
      "Name: tnmin, Length: 1591, dtype: int64\n",
      "\n",
      "tncal\n",
      "105    84\n",
      "104    78\n",
      "91     76\n",
      "102    72\n",
      "100    69\n",
      "       ..\n",
      "164     1\n",
      "166     1\n",
      "33      1\n",
      "149     1\n",
      "36      1\n",
      "Name: tncal, Length: 120, dtype: int64\n",
      "\n",
      "tnchar\n",
      "9.66     15\n",
      "9.45     15\n",
      "8.88     14\n",
      "8.47     14\n",
      "7.69     13\n",
      "         ..\n",
      "14.65     1\n",
      "6.46      1\n",
      "3.94      1\n",
      "15.74     1\n",
      "6.14      1\n",
      "Name: tnchar, Length: 933, dtype: int64\n",
      "\n",
      "timin\n",
      "10.0    62\n",
      "11.3    59\n",
      "9.8     56\n",
      "10.9    56\n",
      "10.1    53\n",
      "        ..\n",
      "18.9     1\n",
      "1.3      1\n",
      "2.7      1\n",
      "2.6      1\n",
      "3.1      1\n",
      "Name: timin, Length: 162, dtype: int64\n",
      "\n",
      "tical\n",
      "3     668\n",
      "4     619\n",
      "2     489\n",
      "5     472\n",
      "6     336\n",
      "7     218\n",
      "1     160\n",
      "8     116\n",
      "9     109\n",
      "10     50\n",
      "11     28\n",
      "0      18\n",
      "12     15\n",
      "13     14\n",
      "15      7\n",
      "14      6\n",
      "18      3\n",
      "16      2\n",
      "19      1\n",
      "17      1\n",
      "20      1\n",
      "Name: tical, dtype: int64\n",
      "\n",
      "tichar\n",
      "2.70    62\n",
      "3.05    59\n",
      "2.65    56\n",
      "2.94    56\n",
      "2.73    53\n",
      "        ..\n",
      "0.68     1\n",
      "4.83     1\n",
      "0.84     1\n",
      "0.30     1\n",
      "5.40     1\n",
      "Name: tichar, Length: 162, dtype: int64\n",
      "\n",
      "ncsc\n",
      "1    1181\n",
      "2     759\n",
      "0     697\n",
      "3     429\n",
      "4     166\n",
      "5      66\n",
      "6      22\n",
      "7       9\n",
      "9       2\n",
      "8       2\n",
      "Name: ncsc, dtype: int64\n",
      "\n",
      "label\n",
      "False.    2850\n",
      "True.      483\n",
      "Name: label, dtype: int64\n",
      "\n"
     ]
    }
   ],
   "source": [
    "for col in df:\n",
    "    print(col)\n",
    "    print(df[col].value_counts())\n",
    "    print()"
   ]
  },
  {
   "cell_type": "markdown",
   "metadata": {},
   "source": [
    "## Percentage of each record in each column"
   ]
  },
  {
   "cell_type": "code",
   "execution_count": 9,
   "metadata": {},
   "outputs": [
    {
     "name": "stdout",
     "output_type": "stream",
     "text": [
      "st\n",
      "WV    0.031803\n",
      "MN    0.025203\n",
      "NY    0.024902\n",
      "AL    0.024002\n",
      "WI    0.023402\n",
      "OR    0.023402\n",
      "OH    0.023402\n",
      "WY    0.023102\n",
      "VA    0.023102\n",
      "CT    0.022202\n",
      "VT    0.021902\n",
      "ID    0.021902\n",
      "MI    0.021902\n",
      "TX    0.021602\n",
      "UT    0.021602\n",
      "IN    0.021302\n",
      "KS    0.021002\n",
      "MD    0.021002\n",
      "MT    0.020402\n",
      "NJ    0.020402\n",
      "NC    0.020402\n",
      "NV    0.019802\n",
      "CO    0.019802\n",
      "WA    0.019802\n",
      "RI    0.019502\n",
      "MA    0.019502\n",
      "MS    0.019502\n",
      "AZ    0.019202\n",
      "FL    0.018902\n",
      "MO    0.018902\n",
      "NM    0.018602\n",
      "ME    0.018602\n",
      "ND    0.018602\n",
      "OK    0.018302\n",
      "DE    0.018302\n",
      "NE    0.018302\n",
      "SC    0.018002\n",
      "SD    0.018002\n",
      "KY    0.017702\n",
      "IL    0.017402\n",
      "NH    0.016802\n",
      "AR    0.016502\n",
      "GA    0.016202\n",
      "DC    0.016202\n",
      "TN    0.015902\n",
      "HI    0.015902\n",
      "AK    0.015602\n",
      "LA    0.015302\n",
      "PA    0.013501\n",
      "IA    0.013201\n",
      "CA    0.010201\n",
      "Name: st, dtype: float64 3\n",
      "\n",
      "acclen\n",
      "105    0.012901\n",
      "87     0.012601\n",
      "93     0.012001\n",
      "101    0.012001\n",
      "90     0.011701\n",
      "         ...   \n",
      "191    0.000300\n",
      "199    0.000300\n",
      "215    0.000300\n",
      "221    0.000300\n",
      "2      0.000300\n",
      "Name: acclen, Length: 212, dtype: float64 3\n",
      "\n",
      "arcode\n",
      "415    0.496550\n",
      "510    0.252025\n",
      "408    0.251425\n",
      "Name: arcode, dtype: float64 3\n",
      "\n",
      "phnum\n",
      "399-2457    0.0003\n",
      "369-6012    0.0003\n",
      "411-8043    0.0003\n",
      "411-6211    0.0003\n",
      "363-1123    0.0003\n",
      "             ...  \n",
      "338-6714    0.0003\n",
      "365-5886    0.0003\n",
      "353-1941    0.0003\n",
      "407-6391    0.0003\n",
      "370-3021    0.0003\n",
      "Name: phnum, Length: 3333, dtype: float64 3\n",
      "\n",
      "intplan\n",
      "no     0.90309\n",
      "yes    0.09691\n",
      "Name: intplan, dtype: float64 3\n",
      "\n",
      "voice\n",
      "no     0.723372\n",
      "yes    0.276628\n",
      "Name: voice, dtype: float64 3\n",
      "\n",
      "nummailmes\n",
      "0     0.723372\n",
      "31    0.018002\n",
      "29    0.015902\n",
      "28    0.015302\n",
      "33    0.013801\n",
      "27    0.013201\n",
      "30    0.013201\n",
      "24    0.012601\n",
      "26    0.012301\n",
      "32    0.012301\n",
      "25    0.011101\n",
      "23    0.010801\n",
      "36    0.010201\n",
      "35    0.009601\n",
      "22    0.009601\n",
      "39    0.009001\n",
      "37    0.008701\n",
      "34    0.008701\n",
      "21    0.008401\n",
      "38    0.007501\n",
      "20    0.006601\n",
      "19    0.005701\n",
      "40    0.004800\n",
      "42    0.004500\n",
      "17    0.004200\n",
      "41    0.003900\n",
      "16    0.003900\n",
      "43    0.002700\n",
      "15    0.002700\n",
      "18    0.002100\n",
      "44    0.002100\n",
      "14    0.002100\n",
      "45    0.001800\n",
      "12    0.001800\n",
      "46    0.001200\n",
      "13    0.001200\n",
      "47    0.000900\n",
      "8     0.000600\n",
      "48    0.000600\n",
      "50    0.000600\n",
      "9     0.000600\n",
      "11    0.000600\n",
      "49    0.000300\n",
      "10    0.000300\n",
      "4     0.000300\n",
      "51    0.000300\n",
      "Name: nummailmes, dtype: float64 3\n",
      "\n",
      "tdmin\n",
      "174.5    0.0024\n",
      "159.5    0.0024\n",
      "154.0    0.0024\n",
      "175.4    0.0021\n",
      "162.3    0.0021\n",
      "          ...  \n",
      "199.9    0.0003\n",
      "105.8    0.0003\n",
      "125.6    0.0003\n",
      "179.8    0.0003\n",
      "270.8    0.0003\n",
      "Name: tdmin, Length: 1667, dtype: float64 3\n",
      "\n",
      "tdcal\n",
      "102    0.023402\n",
      "105    0.022502\n",
      "107    0.020702\n",
      "95     0.020702\n",
      "104    0.020402\n",
      "         ...   \n",
      "149    0.000300\n",
      "157    0.000300\n",
      "36     0.000300\n",
      "30     0.000300\n",
      "165    0.000300\n",
      "Name: tdcal, Length: 119, dtype: float64 3\n",
      "\n",
      "tdchar\n",
      "27.12    0.0024\n",
      "26.18    0.0024\n",
      "29.67    0.0024\n",
      "31.18    0.0021\n",
      "27.59    0.0021\n",
      "          ...  \n",
      "19.36    0.0003\n",
      "16.95    0.0003\n",
      "34.12    0.0003\n",
      "48.35    0.0003\n",
      "13.28    0.0003\n",
      "Name: tdchar, Length: 1667, dtype: float64 3\n",
      "\n",
      "temin\n",
      "169.9    0.0027\n",
      "230.9    0.0021\n",
      "209.4    0.0021\n",
      "201.0    0.0021\n",
      "220.6    0.0021\n",
      "          ...  \n",
      "335.0    0.0003\n",
      "258.9    0.0003\n",
      "134.7    0.0003\n",
      "318.8    0.0003\n",
      "317.2    0.0003\n",
      "Name: temin, Length: 1611, dtype: float64 3\n",
      "\n",
      "tecal\n",
      "105    0.024002\n",
      "94     0.023702\n",
      "108    0.021302\n",
      "97     0.021002\n",
      "102    0.021002\n",
      "         ...   \n",
      "45     0.000300\n",
      "49     0.000300\n",
      "145    0.000300\n",
      "153    0.000300\n",
      "0      0.000300\n",
      "Name: tecal, Length: 123, dtype: float64 3\n",
      "\n",
      "tecahr\n",
      "14.25    0.0033\n",
      "16.12    0.0033\n",
      "15.90    0.0030\n",
      "18.62    0.0027\n",
      "14.44    0.0027\n",
      "          ...  \n",
      "12.64    0.0003\n",
      "13.83    0.0003\n",
      "11.39    0.0003\n",
      "28.03    0.0003\n",
      "20.53    0.0003\n",
      "Name: tecahr, Length: 1440, dtype: float64 3\n",
      "\n",
      "tnmin\n",
      "210.0    0.0024\n",
      "214.6    0.0024\n",
      "197.4    0.0024\n",
      "191.4    0.0024\n",
      "188.2    0.0024\n",
      "          ...  \n",
      "132.3    0.0003\n",
      "306.2    0.0003\n",
      "293.5    0.0003\n",
      "271.7    0.0003\n",
      "182.6    0.0003\n",
      "Name: tnmin, Length: 1591, dtype: float64 3\n",
      "\n",
      "tncal\n",
      "105    0.025203\n",
      "104    0.023402\n",
      "91     0.022802\n",
      "102    0.021602\n",
      "100    0.020702\n",
      "         ...   \n",
      "164    0.000300\n",
      "166    0.000300\n",
      "33     0.000300\n",
      "149    0.000300\n",
      "36     0.000300\n",
      "Name: tncal, Length: 120, dtype: float64 3\n",
      "\n",
      "tnchar\n",
      "9.66     0.0045\n",
      "9.45     0.0045\n",
      "8.88     0.0042\n",
      "8.47     0.0042\n",
      "7.69     0.0039\n",
      "          ...  \n",
      "14.65    0.0003\n",
      "6.46     0.0003\n",
      "3.94     0.0003\n",
      "15.74    0.0003\n",
      "6.14     0.0003\n",
      "Name: tnchar, Length: 933, dtype: float64 3\n",
      "\n",
      "timin\n",
      "10.0    0.018602\n",
      "11.3    0.017702\n",
      "9.8     0.016802\n",
      "10.9    0.016802\n",
      "10.1    0.015902\n",
      "          ...   \n",
      "18.9    0.000300\n",
      "1.3     0.000300\n",
      "2.7     0.000300\n",
      "2.6     0.000300\n",
      "3.1     0.000300\n",
      "Name: timin, Length: 162, dtype: float64 3\n",
      "\n",
      "tical\n",
      "3     0.200420\n",
      "4     0.185719\n",
      "2     0.146715\n",
      "5     0.141614\n",
      "6     0.100810\n",
      "7     0.065407\n",
      "1     0.048005\n",
      "8     0.034803\n",
      "9     0.032703\n",
      "10    0.015002\n",
      "11    0.008401\n",
      "0     0.005401\n",
      "12    0.004500\n",
      "13    0.004200\n",
      "15    0.002100\n",
      "14    0.001800\n",
      "18    0.000900\n",
      "16    0.000600\n",
      "19    0.000300\n",
      "17    0.000300\n",
      "20    0.000300\n",
      "Name: tical, dtype: float64 3\n",
      "\n",
      "tichar\n",
      "2.70    0.018602\n",
      "3.05    0.017702\n",
      "2.65    0.016802\n",
      "2.94    0.016802\n",
      "2.73    0.015902\n",
      "          ...   \n",
      "0.68    0.000300\n",
      "4.83    0.000300\n",
      "0.84    0.000300\n",
      "0.30    0.000300\n",
      "5.40    0.000300\n",
      "Name: tichar, Length: 162, dtype: float64 3\n",
      "\n",
      "ncsc\n",
      "1    0.354335\n",
      "2    0.227723\n",
      "0    0.209121\n",
      "3    0.128713\n",
      "4    0.049805\n",
      "5    0.019802\n",
      "6    0.006601\n",
      "7    0.002700\n",
      "9    0.000600\n",
      "8    0.000600\n",
      "Name: ncsc, dtype: float64 3\n",
      "\n",
      "label\n",
      "False.    0.855086\n",
      "True.     0.144914\n",
      "Name: label, dtype: float64 3\n",
      "\n"
     ]
    }
   ],
   "source": [
    "for col in df:\n",
    "    print(col)\n",
    "    print(df[col].value_counts()/df.shape[0],3)\n",
    "    print()"
   ]
  },
  {
   "cell_type": "markdown",
   "metadata": {},
   "source": [
    "## Checking for NULL values in the dataset"
   ]
  },
  {
   "cell_type": "code",
   "execution_count": 10,
   "metadata": {},
   "outputs": [
    {
     "data": {
      "text/plain": [
       "st            0\n",
       "acclen        0\n",
       "arcode        0\n",
       "phnum         0\n",
       "intplan       0\n",
       "voice         0\n",
       "nummailmes    0\n",
       "tdmin         0\n",
       "tdcal         0\n",
       "tdchar        0\n",
       "temin         0\n",
       "tecal         0\n",
       "tecahr        0\n",
       "tnmin         0\n",
       "tncal         0\n",
       "tnchar        0\n",
       "timin         0\n",
       "tical         0\n",
       "tichar        0\n",
       "ncsc          0\n",
       "label         0\n",
       "dtype: int64"
      ]
     },
     "execution_count": 10,
     "metadata": {},
     "output_type": "execute_result"
    }
   ],
   "source": [
    "df.isna().sum()"
   ]
  },
  {
   "cell_type": "code",
   "execution_count": 11,
   "metadata": {},
   "outputs": [
    {
     "name": "stdout",
     "output_type": "stream",
     "text": [
      "<class 'pandas.core.frame.DataFrame'>\n",
      "RangeIndex: 3333 entries, 0 to 3332\n",
      "Data columns (total 21 columns):\n",
      " #   Column      Non-Null Count  Dtype  \n",
      "---  ------      --------------  -----  \n",
      " 0   st          3333 non-null   object \n",
      " 1   acclen      3333 non-null   int64  \n",
      " 2   arcode      3333 non-null   int64  \n",
      " 3   phnum       3333 non-null   object \n",
      " 4   intplan     3333 non-null   object \n",
      " 5   voice       3333 non-null   object \n",
      " 6   nummailmes  3333 non-null   int64  \n",
      " 7   tdmin       3333 non-null   float64\n",
      " 8   tdcal       3333 non-null   int64  \n",
      " 9   tdchar      3333 non-null   float64\n",
      " 10  temin       3333 non-null   float64\n",
      " 11  tecal       3333 non-null   int64  \n",
      " 12  tecahr      3333 non-null   float64\n",
      " 13  tnmin       3333 non-null   float64\n",
      " 14  tncal       3333 non-null   int64  \n",
      " 15  tnchar      3333 non-null   float64\n",
      " 16  timin       3333 non-null   float64\n",
      " 17  tical       3333 non-null   int64  \n",
      " 18  tichar      3333 non-null   float64\n",
      " 19  ncsc        3333 non-null   int64  \n",
      " 20  label       3333 non-null   object \n",
      "dtypes: float64(8), int64(8), object(5)\n",
      "memory usage: 546.9+ KB\n"
     ]
    }
   ],
   "source": [
    "df.info()"
   ]
  },
  {
   "cell_type": "code",
   "execution_count": 12,
   "metadata": {},
   "outputs": [],
   "source": [
    "def meanmed(df):\n",
    "     print(\"MEAN :\",round(df.mean(),2))\n",
    "     print(\"MEDIAN :\",df.median())  \n",
    "     print(\"DIFFERENCE :\",round(df.mean(),2)-df.median())"
   ]
  },
  {
   "cell_type": "code",
   "execution_count": 13,
   "metadata": {},
   "outputs": [
    {
     "name": "stdout",
     "output_type": "stream",
     "text": [
      "MEAN : 179.78\n",
      "MEDIAN : 179.4\n",
      "DIFFERENCE : 0.37999999999999545\n"
     ]
    }
   ],
   "source": [
    "meanmed (df[\"tdmin\"])"
   ]
  },
  {
   "cell_type": "code",
   "execution_count": 14,
   "metadata": {},
   "outputs": [
    {
     "name": "stdout",
     "output_type": "stream",
     "text": [
      "MEAN : 1.56\n",
      "MEDIAN : 1.0\n",
      "DIFFERENCE : 0.56\n"
     ]
    }
   ],
   "source": [
    "meanmed (df[\"ncsc\"])"
   ]
  },
  {
   "cell_type": "code",
   "execution_count": 15,
   "metadata": {},
   "outputs": [
    {
     "name": "stdout",
     "output_type": "stream",
     "text": [
      "MEAN : 2.76\n",
      "MEDIAN : 2.78\n",
      "DIFFERENCE : -0.020000000000000018\n"
     ]
    }
   ],
   "source": [
    "meanmed (df[\"tichar\"])"
   ]
  },
  {
   "cell_type": "code",
   "execution_count": 16,
   "metadata": {},
   "outputs": [
    {
     "name": "stdout",
     "output_type": "stream",
     "text": [
      "MEAN : 4.48\n",
      "MEDIAN : 4.0\n",
      "DIFFERENCE : 0.4800000000000004\n"
     ]
    }
   ],
   "source": [
    "meanmed (df[\"tical\"])"
   ]
  },
  {
   "cell_type": "code",
   "execution_count": 17,
   "metadata": {},
   "outputs": [
    {
     "name": "stdout",
     "output_type": "stream",
     "text": [
      "MEAN : 10.24\n",
      "MEDIAN : 10.3\n",
      "DIFFERENCE : -0.0600000000000005\n"
     ]
    }
   ],
   "source": [
    "meanmed (df[\"timin\"])"
   ]
  },
  {
   "cell_type": "code",
   "execution_count": 18,
   "metadata": {},
   "outputs": [
    {
     "name": "stdout",
     "output_type": "stream",
     "text": [
      "MEAN : 9.04\n",
      "MEDIAN : 9.05\n",
      "DIFFERENCE : -0.010000000000001563\n"
     ]
    }
   ],
   "source": [
    "meanmed (df[\"tnchar\"])"
   ]
  },
  {
   "cell_type": "code",
   "execution_count": 19,
   "metadata": {},
   "outputs": [
    {
     "name": "stdout",
     "output_type": "stream",
     "text": [
      "MEAN : 100.11\n",
      "MEDIAN : 100.0\n",
      "DIFFERENCE : 0.10999999999999943\n"
     ]
    }
   ],
   "source": [
    "meanmed (df[\"tncal\"])"
   ]
  },
  {
   "cell_type": "code",
   "execution_count": 20,
   "metadata": {},
   "outputs": [
    {
     "name": "stdout",
     "output_type": "stream",
     "text": [
      "MEAN : 200.87\n",
      "MEDIAN : 201.2\n",
      "DIFFERENCE : -0.3299999999999841\n"
     ]
    }
   ],
   "source": [
    "meanmed (df[\"tnmin\"])"
   ]
  },
  {
   "cell_type": "code",
   "execution_count": 21,
   "metadata": {},
   "outputs": [
    {
     "name": "stdout",
     "output_type": "stream",
     "text": [
      "MEAN : 17.08\n",
      "MEDIAN : 17.12\n",
      "DIFFERENCE : -0.0400000000000027\n"
     ]
    }
   ],
   "source": [
    "meanmed (df[\"tecahr\"])"
   ]
  },
  {
   "cell_type": "code",
   "execution_count": 22,
   "metadata": {},
   "outputs": [
    {
     "name": "stdout",
     "output_type": "stream",
     "text": [
      "MEAN : 100.11\n",
      "MEDIAN : 100.0\n",
      "DIFFERENCE : 0.10999999999999943\n"
     ]
    }
   ],
   "source": [
    "meanmed (df[\"tecal\"])"
   ]
  },
  {
   "cell_type": "code",
   "execution_count": 23,
   "metadata": {},
   "outputs": [
    {
     "name": "stdout",
     "output_type": "stream",
     "text": [
      "MEAN : 200.98\n",
      "MEDIAN : 201.4\n",
      "DIFFERENCE : -0.4200000000000159\n"
     ]
    }
   ],
   "source": [
    "meanmed (df[\"temin\"])"
   ]
  },
  {
   "cell_type": "code",
   "execution_count": 24,
   "metadata": {},
   "outputs": [
    {
     "name": "stdout",
     "output_type": "stream",
     "text": [
      "MEAN : 30.56\n",
      "MEDIAN : 30.5\n",
      "DIFFERENCE : 0.05999999999999872\n"
     ]
    }
   ],
   "source": [
    "meanmed (df[\"tdchar\"])"
   ]
  },
  {
   "cell_type": "code",
   "execution_count": 25,
   "metadata": {},
   "outputs": [
    {
     "name": "stdout",
     "output_type": "stream",
     "text": [
      "MEAN : 100.44\n",
      "MEDIAN : 101.0\n",
      "DIFFERENCE : -0.5600000000000023\n"
     ]
    }
   ],
   "source": [
    "meanmed (df[\"tdcal\"])"
   ]
  },
  {
   "cell_type": "code",
   "execution_count": 26,
   "metadata": {},
   "outputs": [
    {
     "name": "stdout",
     "output_type": "stream",
     "text": [
      "MEAN : 8.1\n",
      "MEDIAN : 0.0\n",
      "DIFFERENCE : 8.1\n"
     ]
    }
   ],
   "source": [
    "meanmed (df[\"nummailmes\"])"
   ]
  },
  {
   "cell_type": "code",
   "execution_count": 27,
   "metadata": {},
   "outputs": [],
   "source": [
    "nummail=np.array(df[\"nummailmes\"])"
   ]
  },
  {
   "cell_type": "code",
   "execution_count": 28,
   "metadata": {},
   "outputs": [
    {
     "data": {
      "text/plain": [
       "50.0"
      ]
     },
     "execution_count": 28,
     "metadata": {},
     "output_type": "execute_result"
    }
   ],
   "source": [
    "iqr=np.quantile(nummail,.75)-np.quantile(nummail,.25)\n",
    "tmax=np.quantile(nummail,.75)+1.5*iqr\n",
    "tmax"
   ]
  },
  {
   "cell_type": "code",
   "execution_count": 29,
   "metadata": {},
   "outputs": [
    {
     "data": {
      "text/plain": [
       "-30.0"
      ]
     },
     "execution_count": 29,
     "metadata": {},
     "output_type": "execute_result"
    }
   ],
   "source": [
    "tmin=np.quantile(nummail,.25)-1.5*iqr\n",
    "tmin"
   ]
  },
  {
   "cell_type": "code",
   "execution_count": 30,
   "metadata": {},
   "outputs": [
    {
     "data": {
      "text/plain": [
       "count    3333.000000\n",
       "mean        8.099010\n",
       "std        13.688365\n",
       "min         0.000000\n",
       "25%         0.000000\n",
       "50%         0.000000\n",
       "75%        20.000000\n",
       "max        51.000000\n",
       "Name: nummailmes, dtype: float64"
      ]
     },
     "execution_count": 30,
     "metadata": {},
     "output_type": "execute_result"
    }
   ],
   "source": [
    "df[\"nummailmes\"].describe()"
   ]
  },
  {
   "cell_type": "code",
   "execution_count": 31,
   "metadata": {},
   "outputs": [
    {
     "data": {
      "text/plain": [
       "46"
      ]
     },
     "execution_count": 31,
     "metadata": {},
     "output_type": "execute_result"
    }
   ],
   "source": [
    "df[\"nummailmes\"].nunique()"
   ]
  },
  {
   "cell_type": "code",
   "execution_count": 32,
   "metadata": {},
   "outputs": [
    {
     "name": "stdout",
     "output_type": "stream",
     "text": [
      "MEAN : 101.06\n",
      "MEDIAN : 101.0\n",
      "DIFFERENCE : 0.060000000000002274\n"
     ]
    }
   ],
   "source": [
    "meanmed (df[\"acclen\"])"
   ]
  },
  {
   "cell_type": "markdown",
   "metadata": {},
   "source": [
    "## Checking correlation between each column"
   ]
  },
  {
   "cell_type": "code",
   "execution_count": 33,
   "metadata": {},
   "outputs": [],
   "source": [
    "correlation_df = df.corr()"
   ]
  },
  {
   "cell_type": "code",
   "execution_count": 34,
   "metadata": {},
   "outputs": [
    {
     "data": {
      "text/plain": [
       "ncsc        ncsc          1.000000\n",
       "tichar      tichar        1.000000\n",
       "arcode      arcode        1.000000\n",
       "nummailmes  nummailmes    1.000000\n",
       "tdmin       tdmin         1.000000\n",
       "                            ...   \n",
       "tecahr      tdcal        -0.021449\n",
       "tdcal       temin        -0.021451\n",
       "temin       tdcal        -0.021451\n",
       "tical       arcode       -0.024179\n",
       "arcode      tical        -0.024179\n",
       "Length: 256, dtype: float64"
      ]
     },
     "execution_count": 34,
     "metadata": {},
     "output_type": "execute_result"
    }
   ],
   "source": [
    "correlation_df \n",
    "\n",
    "correlation_df = (df.corr().stack().sort_values(ascending=False))\n",
    "\n",
    "correlation_df"
   ]
  },
  {
   "cell_type": "code",
   "execution_count": 35,
   "metadata": {},
   "outputs": [],
   "source": [
    "correlation_df=correlation_df.drop_duplicates()"
   ]
  },
  {
   "cell_type": "code",
   "execution_count": 36,
   "metadata": {},
   "outputs": [
    {
     "name": "stderr",
     "output_type": "stream",
     "text": [
      "D:\\Anaconda\\lib\\site-packages\\pandas\\core\\generic.py:3887: PerformanceWarning: dropping on a non-lexsorted multi-index without a level parameter may impact performance.\n",
      "  obj = obj._drop_axis(labels, axis, level=level, errors=errors)\n"
     ]
    }
   ],
   "source": [
    "correlation_df=correlation_df.drop(\"ncsc\")"
   ]
  },
  {
   "cell_type": "code",
   "execution_count": 37,
   "metadata": {},
   "outputs": [
    {
     "data": {
      "text/plain": [
       "tdmin   tdchar    1.000000\n",
       "temin   tecahr    1.000000\n",
       "tnchar  tnmin     0.999999\n",
       "timin   tichar    0.999993\n",
       "acclen  tdcal     0.038470\n",
       "                    ...   \n",
       "tdcal   ncsc     -0.018942\n",
       "tncal   tdcal    -0.019557\n",
       "tdcal   tecahr   -0.021449\n",
       "        temin    -0.021451\n",
       "tical   arcode   -0.024179\n",
       "Length: 111, dtype: float64"
      ]
     },
     "execution_count": 37,
     "metadata": {},
     "output_type": "execute_result"
    }
   ],
   "source": [
    "correlation_df"
   ]
  },
  {
   "cell_type": "code",
   "execution_count": 38,
   "metadata": {},
   "outputs": [
    {
     "data": {
      "text/plain": [
       "MultiIndex([( 'tdmin', 'tdchar'),\n",
       "            ( 'temin', 'tecahr'),\n",
       "            ('tnchar',  'tnmin'),\n",
       "            ( 'timin', 'tichar'),\n",
       "            ('acclen',  'tdcal'),\n",
       "            ( 'tical', 'tichar'),\n",
       "            ( 'timin',  'tical'),\n",
       "            ('arcode',   'ncsc'),\n",
       "            ( 'tncal',  'tdmin'),\n",
       "            ('tdchar',  'tncal'),\n",
       "            ...\n",
       "            ('tichar', 'tnchar'),\n",
       "            ( 'tnmin',  'timin'),\n",
       "            ( 'timin', 'tnchar'),\n",
       "            ('arcode',  'timin'),\n",
       "            ('arcode', 'tichar'),\n",
       "            ( 'tdcal',   'ncsc'),\n",
       "            ( 'tncal',  'tdcal'),\n",
       "            ( 'tdcal', 'tecahr'),\n",
       "            ( 'tdcal',  'temin'),\n",
       "            ( 'tical', 'arcode')],\n",
       "           length=111)"
      ]
     },
     "execution_count": 38,
     "metadata": {},
     "output_type": "execute_result"
    }
   ],
   "source": [
    "correlation_df.index"
   ]
  },
  {
   "cell_type": "code",
   "execution_count": 39,
   "metadata": {},
   "outputs": [],
   "source": [
    "df[\"label\"]=(df[\"label\"]==\"True.\").astype(np.int) ### Changing label to 0 and 1"
   ]
  },
  {
   "cell_type": "code",
   "execution_count": 40,
   "metadata": {},
   "outputs": [
    {
     "data": {
      "text/html": [
       "<div>\n",
       "<style scoped>\n",
       "    .dataframe tbody tr th:only-of-type {\n",
       "        vertical-align: middle;\n",
       "    }\n",
       "\n",
       "    .dataframe tbody tr th {\n",
       "        vertical-align: top;\n",
       "    }\n",
       "\n",
       "    .dataframe thead th {\n",
       "        text-align: right;\n",
       "    }\n",
       "</style>\n",
       "<table border=\"1\" class=\"dataframe\">\n",
       "  <thead>\n",
       "    <tr style=\"text-align: right;\">\n",
       "      <th></th>\n",
       "      <th>st</th>\n",
       "      <th>acclen</th>\n",
       "      <th>arcode</th>\n",
       "      <th>phnum</th>\n",
       "      <th>intplan</th>\n",
       "      <th>voice</th>\n",
       "      <th>nummailmes</th>\n",
       "      <th>tdmin</th>\n",
       "      <th>tdcal</th>\n",
       "      <th>tdchar</th>\n",
       "      <th>...</th>\n",
       "      <th>tecal</th>\n",
       "      <th>tecahr</th>\n",
       "      <th>tnmin</th>\n",
       "      <th>tncal</th>\n",
       "      <th>tnchar</th>\n",
       "      <th>timin</th>\n",
       "      <th>tical</th>\n",
       "      <th>tichar</th>\n",
       "      <th>ncsc</th>\n",
       "      <th>label</th>\n",
       "    </tr>\n",
       "  </thead>\n",
       "  <tbody>\n",
       "    <tr>\n",
       "      <th>0</th>\n",
       "      <td>KS</td>\n",
       "      <td>128</td>\n",
       "      <td>415</td>\n",
       "      <td>382-4657</td>\n",
       "      <td>no</td>\n",
       "      <td>yes</td>\n",
       "      <td>25</td>\n",
       "      <td>265.1</td>\n",
       "      <td>110</td>\n",
       "      <td>45.07</td>\n",
       "      <td>...</td>\n",
       "      <td>99</td>\n",
       "      <td>16.78</td>\n",
       "      <td>244.7</td>\n",
       "      <td>91</td>\n",
       "      <td>11.01</td>\n",
       "      <td>10.0</td>\n",
       "      <td>3</td>\n",
       "      <td>2.7</td>\n",
       "      <td>1</td>\n",
       "      <td>0</td>\n",
       "    </tr>\n",
       "    <tr>\n",
       "      <th>1</th>\n",
       "      <td>OH</td>\n",
       "      <td>107</td>\n",
       "      <td>415</td>\n",
       "      <td>371-7191</td>\n",
       "      <td>no</td>\n",
       "      <td>yes</td>\n",
       "      <td>26</td>\n",
       "      <td>161.6</td>\n",
       "      <td>123</td>\n",
       "      <td>27.47</td>\n",
       "      <td>...</td>\n",
       "      <td>103</td>\n",
       "      <td>16.62</td>\n",
       "      <td>254.4</td>\n",
       "      <td>103</td>\n",
       "      <td>11.45</td>\n",
       "      <td>13.7</td>\n",
       "      <td>3</td>\n",
       "      <td>3.7</td>\n",
       "      <td>1</td>\n",
       "      <td>0</td>\n",
       "    </tr>\n",
       "  </tbody>\n",
       "</table>\n",
       "<p>2 rows × 21 columns</p>\n",
       "</div>"
      ],
      "text/plain": [
       "   st  acclen  arcode     phnum intplan voice  nummailmes  tdmin  tdcal  \\\n",
       "0  KS     128     415  382-4657      no   yes          25  265.1    110   \n",
       "1  OH     107     415  371-7191      no   yes          26  161.6    123   \n",
       "\n",
       "   tdchar  ...  tecal  tecahr  tnmin  tncal  tnchar  timin  tical  tichar  \\\n",
       "0   45.07  ...     99   16.78  244.7     91   11.01   10.0      3     2.7   \n",
       "1   27.47  ...    103   16.62  254.4    103   11.45   13.7      3     3.7   \n",
       "\n",
       "   ncsc  label  \n",
       "0     1      0  \n",
       "1     1      0  \n",
       "\n",
       "[2 rows x 21 columns]"
      ]
     },
     "execution_count": 40,
     "metadata": {},
     "output_type": "execute_result"
    }
   ],
   "source": [
    "df[ :2]"
   ]
  },
  {
   "cell_type": "code",
   "execution_count": 41,
   "metadata": {},
   "outputs": [
    {
     "data": {
      "text/plain": [
       "<AxesSubplot:xlabel='temin', ylabel='tdchar'>"
      ]
     },
     "execution_count": 41,
     "metadata": {},
     "output_type": "execute_result"
    },
    {
     "data": {
      "image/png": "[encoded data removed]",
      "text/plain": [
       "<Figure size 432x288 with 1 Axes>"
      ]
     },
     "metadata": {
      "needs_background": "light"
     },
     "output_type": "display_data"
    }
   ],
   "source": [
    "sns.scatterplot(x=\"temin\",y=\"tdchar\",hue=\"label\",data=df)"
   ]
  },
  {
   "cell_type": "code",
   "execution_count": 42,
   "metadata": {},
   "outputs": [
    {
     "data": {
      "text/plain": [
       "(array([ 14.,  67., 201., 479., 798., 812., 594., 264.,  84.,  20.]),\n",
       " array([  0.  ,  35.08,  70.16, 105.24, 140.32, 175.4 , 210.48, 245.56,\n",
       "        280.64, 315.72, 350.8 ]),\n",
       " <BarContainer object of 10 artists>)"
      ]
     },
     "execution_count": 42,
     "metadata": {},
     "output_type": "execute_result"
    },
    {
     "data": {
      "image/png": "[encoded data removed]",
      "text/plain": [
       "<Figure size 432x288 with 1 Axes>"
      ]
     },
     "metadata": {
      "needs_background": "light"
     },
     "output_type": "display_data"
    }
   ],
   "source": [
    "plt.hist(df[\"tdmin\"])"
   ]
  },
  {
   "cell_type": "code",
   "execution_count": 43,
   "metadata": {},
   "outputs": [
    {
     "data": {
      "text/plain": [
       "<AxesSubplot:xlabel='label', ylabel='count'>"
      ]
     },
     "execution_count": 43,
     "metadata": {},
     "output_type": "execute_result"
    },
    {
     "data": {
      "image/png": "[encoded data removed]",
      "text/plain": [
       "<Figure size 432x288 with 1 Axes>"
      ]
     },
     "metadata": {
      "needs_background": "light"
     },
     "output_type": "display_data"
    }
   ],
   "source": [
    "sns.countplot(x=\"label\",data=df)"
   ]
  },
  {
   "cell_type": "markdown",
   "metadata": {},
   "source": [
    "## Plotting each continuous column to see normally distributed or not"
   ]
  },
  {
   "cell_type": "code",
   "execution_count": 44,
   "metadata": {
    "scrolled": true
   },
   "outputs": [
    {
     "name": "stderr",
     "output_type": "stream",
     "text": [
      "D:\\Anaconda\\lib\\site-packages\\seaborn\\distributions.py:2551: FutureWarning: `distplot` is a deprecated function and will be removed in a future version. Please adapt your code to use either `displot` (a figure-level function with similar flexibility) or `histplot` (an axes-level function for histograms).\n",
      "  warnings.warn(msg, FutureWarning)\n"
     ]
    },
    {
     "data": {
      "text/plain": [
       "<AxesSubplot:xlabel='acclen', ylabel='Density'>"
      ]
     },
     "execution_count": 44,
     "metadata": {},
     "output_type": "execute_result"
    },
    {
     "data": {
      "image/png": "[encoded data removed]",
      "text/plain": [
       "<Figure size 432x288 with 1 Axes>"
      ]
     },
     "metadata": {
      "needs_background": "light"
     },
     "output_type": "display_data"
    }
   ],
   "source": [
    "sns.distplot(df[\"acclen\"])"
   ]
  },
  {
   "cell_type": "code",
   "execution_count": 45,
   "metadata": {},
   "outputs": [
    {
     "name": "stderr",
     "output_type": "stream",
     "text": [
      "D:\\Anaconda\\lib\\site-packages\\seaborn\\distributions.py:2551: FutureWarning: `distplot` is a deprecated function and will be removed in a future version. Please adapt your code to use either `displot` (a figure-level function with similar flexibility) or `histplot` (an axes-level function for histograms).\n",
      "  warnings.warn(msg, FutureWarning)\n"
     ]
    },
    {
     "data": {
      "text/plain": [
       "<AxesSubplot:xlabel='nummailmes', ylabel='Density'>"
      ]
     },
     "execution_count": 45,
     "metadata": {},
     "output_type": "execute_result"
    },
    {
     "data": {
      "image/png": "[encoded data removed]",
      "text/plain": [
       "<Figure size 432x288 with 1 Axes>"
      ]
     },
     "metadata": {
      "needs_background": "light"
     },
     "output_type": "display_data"
    }
   ],
   "source": [
    "sns.distplot(df[\"nummailmes\"])"
   ]
  },
  {
   "cell_type": "markdown",
   "metadata": {},
   "source": [
    "#### \"nummailmes\" is not normally distributed"
   ]
  },
  {
   "cell_type": "code",
   "execution_count": 46,
   "metadata": {},
   "outputs": [
    {
     "name": "stderr",
     "output_type": "stream",
     "text": [
      "D:\\Anaconda\\lib\\site-packages\\seaborn\\distributions.py:2551: FutureWarning: `distplot` is a deprecated function and will be removed in a future version. Please adapt your code to use either `displot` (a figure-level function with similar flexibility) or `histplot` (an axes-level function for histograms).\n",
      "  warnings.warn(msg, FutureWarning)\n"
     ]
    },
    {
     "data": {
      "text/plain": [
       "<AxesSubplot:xlabel='tdmin', ylabel='Density'>"
      ]
     },
     "execution_count": 46,
     "metadata": {},
     "output_type": "execute_result"
    },
    {
     "data": {
      "image/png": "[encoded data removed]",
      "text/plain": [
       "<Figure size 432x288 with 1 Axes>"
      ]
     },
     "metadata": {
      "needs_background": "light"
     },
     "output_type": "display_data"
    }
   ],
   "source": [
    "sns.distplot(df['tdmin'])"
   ]
  },
  {
   "cell_type": "code",
   "execution_count": 47,
   "metadata": {},
   "outputs": [
    {
     "name": "stderr",
     "output_type": "stream",
     "text": [
      "D:\\Anaconda\\lib\\site-packages\\seaborn\\distributions.py:2551: FutureWarning: `distplot` is a deprecated function and will be removed in a future version. Please adapt your code to use either `displot` (a figure-level function with similar flexibility) or `histplot` (an axes-level function for histograms).\n",
      "  warnings.warn(msg, FutureWarning)\n"
     ]
    },
    {
     "data": {
      "text/plain": [
       "<AxesSubplot:xlabel='tdcal', ylabel='Density'>"
      ]
     },
     "execution_count": 47,
     "metadata": {},
     "output_type": "execute_result"
    },
    {
     "data": {
      "image/png": "[encoded data removed]",
      "text/plain": [
       "<Figure size 432x288 with 1 Axes>"
      ]
     },
     "metadata": {
      "needs_background": "light"
     },
     "output_type": "display_data"
    }
   ],
   "source": [
    "sns.distplot(df['tdcal'])"
   ]
  },
  {
   "cell_type": "code",
   "execution_count": 48,
   "metadata": {},
   "outputs": [
    {
     "name": "stderr",
     "output_type": "stream",
     "text": [
      "D:\\Anaconda\\lib\\site-packages\\seaborn\\distributions.py:2551: FutureWarning: `distplot` is a deprecated function and will be removed in a future version. Please adapt your code to use either `displot` (a figure-level function with similar flexibility) or `histplot` (an axes-level function for histograms).\n",
      "  warnings.warn(msg, FutureWarning)\n"
     ]
    },
    {
     "data": {
      "text/plain": [
       "<AxesSubplot:xlabel='tdchar', ylabel='Density'>"
      ]
     },
     "execution_count": 48,
     "metadata": {},
     "output_type": "execute_result"
    },
    {
     "data": {
      "image/png": "[encoded data removed]",
      "text/plain": [
       "<Figure size 432x288 with 1 Axes>"
      ]
     },
     "metadata": {
      "needs_background": "light"
     },
     "output_type": "display_data"
    }
   ],
   "source": [
    "sns.distplot(df['tdchar'])"
   ]
  },
  {
   "cell_type": "code",
   "execution_count": 49,
   "metadata": {},
   "outputs": [
    {
     "name": "stderr",
     "output_type": "stream",
     "text": [
      "D:\\Anaconda\\lib\\site-packages\\seaborn\\distributions.py:2551: FutureWarning: `distplot` is a deprecated function and will be removed in a future version. Please adapt your code to use either `displot` (a figure-level function with similar flexibility) or `histplot` (an axes-level function for histograms).\n",
      "  warnings.warn(msg, FutureWarning)\n"
     ]
    },
    {
     "data": {
      "text/plain": [
       "<AxesSubplot:xlabel='temin', ylabel='Density'>"
      ]
     },
     "execution_count": 49,
     "metadata": {},
     "output_type": "execute_result"
    },
    {
     "data": {
      "image/png": "[encoded data removed]",
      "text/plain": [
       "<Figure size 432x288 with 1 Axes>"
      ]
     },
     "metadata": {
      "needs_background": "light"
     },
     "output_type": "display_data"
    }
   ],
   "source": [
    "sns.distplot(df['temin'])"
   ]
  },
  {
   "cell_type": "code",
   "execution_count": 50,
   "metadata": {},
   "outputs": [
    {
     "name": "stderr",
     "output_type": "stream",
     "text": [
      "D:\\Anaconda\\lib\\site-packages\\seaborn\\distributions.py:2551: FutureWarning: `distplot` is a deprecated function and will be removed in a future version. Please adapt your code to use either `displot` (a figure-level function with similar flexibility) or `histplot` (an axes-level function for histograms).\n",
      "  warnings.warn(msg, FutureWarning)\n"
     ]
    },
    {
     "data": {
      "text/plain": [
       "<AxesSubplot:xlabel='tecal', ylabel='Density'>"
      ]
     },
     "execution_count": 50,
     "metadata": {},
     "output_type": "execute_result"
    },
    {
     "data": {
      "image/png": "[encoded data removed]",
      "text/plain": [
       "<Figure size 432x288 with 1 Axes>"
      ]
     },
     "metadata": {
      "needs_background": "light"
     },
     "output_type": "display_data"
    }
   ],
   "source": [
    "sns.distplot(df['tecal'])"
   ]
  },
  {
   "cell_type": "code",
   "execution_count": 51,
   "metadata": {},
   "outputs": [
    {
     "name": "stderr",
     "output_type": "stream",
     "text": [
      "D:\\Anaconda\\lib\\site-packages\\seaborn\\distributions.py:2551: FutureWarning: `distplot` is a deprecated function and will be removed in a future version. Please adapt your code to use either `displot` (a figure-level function with similar flexibility) or `histplot` (an axes-level function for histograms).\n",
      "  warnings.warn(msg, FutureWarning)\n"
     ]
    },
    {
     "data": {
      "text/plain": [
       "<AxesSubplot:xlabel='tecahr', ylabel='Density'>"
      ]
     },
     "execution_count": 51,
     "metadata": {},
     "output_type": "execute_result"
    },
    {
     "data": {
      "image/png": "[encoded data removed]",
      "text/plain": [
       "<Figure size 432x288 with 1 Axes>"
      ]
     },
     "metadata": {
      "needs_background": "light"
     },
     "output_type": "display_data"
    }
   ],
   "source": [
    "sns.distplot(df['tecahr'])"
   ]
  },
  {
   "cell_type": "code",
   "execution_count": 52,
   "metadata": {},
   "outputs": [
    {
     "name": "stderr",
     "output_type": "stream",
     "text": [
      "D:\\Anaconda\\lib\\site-packages\\seaborn\\distributions.py:2551: FutureWarning: `distplot` is a deprecated function and will be removed in a future version. Please adapt your code to use either `displot` (a figure-level function with similar flexibility) or `histplot` (an axes-level function for histograms).\n",
      "  warnings.warn(msg, FutureWarning)\n"
     ]
    },
    {
     "data": {
      "text/plain": [
       "<AxesSubplot:xlabel='tnmin', ylabel='Density'>"
      ]
     },
     "execution_count": 52,
     "metadata": {},
     "output_type": "execute_result"
    },
    {
     "data": {
      "image/png": "[encoded data removed]",
      "text/plain": [
       "<Figure size 432x288 with 1 Axes>"
      ]
     },
     "metadata": {
      "needs_background": "light"
     },
     "output_type": "display_data"
    }
   ],
   "source": [
    "sns.distplot(df['tnmin'])"
   ]
  },
  {
   "cell_type": "code",
   "execution_count": 53,
   "metadata": {},
   "outputs": [
    {
     "name": "stderr",
     "output_type": "stream",
     "text": [
      "D:\\Anaconda\\lib\\site-packages\\seaborn\\distributions.py:2551: FutureWarning: `distplot` is a deprecated function and will be removed in a future version. Please adapt your code to use either `displot` (a figure-level function with similar flexibility) or `histplot` (an axes-level function for histograms).\n",
      "  warnings.warn(msg, FutureWarning)\n"
     ]
    },
    {
     "data": {
      "text/plain": [
       "<AxesSubplot:xlabel='tncal', ylabel='Density'>"
      ]
     },
     "execution_count": 53,
     "metadata": {},
     "output_type": "execute_result"
    },
    {
     "data": {
      "image/png": "[encoded data removed]",
      "text/plain": [
       "<Figure size 432x288 with 1 Axes>"
      ]
     },
     "metadata": {
      "needs_background": "light"
     },
     "output_type": "display_data"
    }
   ],
   "source": [
    "sns.distplot(df['tncal'])"
   ]
  },
  {
   "cell_type": "code",
   "execution_count": 54,
   "metadata": {},
   "outputs": [
    {
     "name": "stderr",
     "output_type": "stream",
     "text": [
      "D:\\Anaconda\\lib\\site-packages\\seaborn\\distributions.py:2551: FutureWarning: `distplot` is a deprecated function and will be removed in a future version. Please adapt your code to use either `displot` (a figure-level function with similar flexibility) or `histplot` (an axes-level function for histograms).\n",
      "  warnings.warn(msg, FutureWarning)\n"
     ]
    },
    {
     "data": {
      "text/plain": [
       "<AxesSubplot:xlabel='tnchar', ylabel='Density'>"
      ]
     },
     "execution_count": 54,
     "metadata": {},
     "output_type": "execute_result"
    },
    {
     "data": {
      "image/png": "[encoded data removed]",
      "text/plain": [
       "<Figure size 432x288 with 1 Axes>"
      ]
     },
     "metadata": {
      "needs_background": "light"
     },
     "output_type": "display_data"
    }
   ],
   "source": [
    "sns.distplot(df['tnchar'])"
   ]
  },
  {
   "cell_type": "code",
   "execution_count": 55,
   "metadata": {},
   "outputs": [
    {
     "name": "stderr",
     "output_type": "stream",
     "text": [
      "D:\\Anaconda\\lib\\site-packages\\seaborn\\distributions.py:2551: FutureWarning: `distplot` is a deprecated function and will be removed in a future version. Please adapt your code to use either `displot` (a figure-level function with similar flexibility) or `histplot` (an axes-level function for histograms).\n",
      "  warnings.warn(msg, FutureWarning)\n"
     ]
    },
    {
     "data": {
      "text/plain": [
       "<AxesSubplot:xlabel='timin', ylabel='Density'>"
      ]
     },
     "execution_count": 55,
     "metadata": {},
     "output_type": "execute_result"
    },
    {
     "data": {
      "image/png": "[encoded data removed]",
      "text/plain": [
       "<Figure size 432x288 with 1 Axes>"
      ]
     },
     "metadata": {
      "needs_background": "light"
     },
     "output_type": "display_data"
    }
   ],
   "source": [
    "sns.distplot(df['timin'])"
   ]
  },
  {
   "cell_type": "code",
   "execution_count": 56,
   "metadata": {},
   "outputs": [
    {
     "name": "stderr",
     "output_type": "stream",
     "text": [
      "D:\\Anaconda\\lib\\site-packages\\seaborn\\distributions.py:2551: FutureWarning: `distplot` is a deprecated function and will be removed in a future version. Please adapt your code to use either `displot` (a figure-level function with similar flexibility) or `histplot` (an axes-level function for histograms).\n",
      "  warnings.warn(msg, FutureWarning)\n"
     ]
    },
    {
     "data": {
      "text/plain": [
       "<AxesSubplot:xlabel='tical', ylabel='Density'>"
      ]
     },
     "execution_count": 56,
     "metadata": {},
     "output_type": "execute_result"
    },
    {
     "data": {
      "image/png": "[encoded data removed]",
      "text/plain": [
       "<Figure size 432x288 with 1 Axes>"
      ]
     },
     "metadata": {
      "needs_background": "light"
     },
     "output_type": "display_data"
    }
   ],
   "source": [
    "sns.distplot(df['tical'])"
   ]
  },
  {
   "cell_type": "code",
   "execution_count": 57,
   "metadata": {},
   "outputs": [
    {
     "name": "stderr",
     "output_type": "stream",
     "text": [
      "D:\\Anaconda\\lib\\site-packages\\seaborn\\distributions.py:2551: FutureWarning: `distplot` is a deprecated function and will be removed in a future version. Please adapt your code to use either `displot` (a figure-level function with similar flexibility) or `histplot` (an axes-level function for histograms).\n",
      "  warnings.warn(msg, FutureWarning)\n"
     ]
    },
    {
     "data": {
      "text/plain": [
       "<AxesSubplot:xlabel='tichar', ylabel='Density'>"
      ]
     },
     "execution_count": 57,
     "metadata": {},
     "output_type": "execute_result"
    },
    {
     "data": {
      "image/png": "[encoded data removed]",
      "text/plain": [
       "<Figure size 432x288 with 1 Axes>"
      ]
     },
     "metadata": {
      "needs_background": "light"
     },
     "output_type": "display_data"
    }
   ],
   "source": [
    "sns.distplot(df['tichar'])"
   ]
  },
  {
   "cell_type": "code",
   "execution_count": 58,
   "metadata": {},
   "outputs": [
    {
     "name": "stderr",
     "output_type": "stream",
     "text": [
      "D:\\Anaconda\\lib\\site-packages\\seaborn\\distributions.py:2551: FutureWarning: `distplot` is a deprecated function and will be removed in a future version. Please adapt your code to use either `displot` (a figure-level function with similar flexibility) or `histplot` (an axes-level function for histograms).\n",
      "  warnings.warn(msg, FutureWarning)\n"
     ]
    },
    {
     "data": {
      "text/plain": [
       "<AxesSubplot:xlabel='ncsc', ylabel='Density'>"
      ]
     },
     "execution_count": 58,
     "metadata": {},
     "output_type": "execute_result"
    },
    {
     "data": {
      "image/png": "[encoded data removed]",
      "text/plain": [
       "<Figure size 432x288 with 1 Axes>"
      ]
     },
     "metadata": {
      "needs_background": "light"
     },
     "output_type": "display_data"
    }
   ],
   "source": [
    "sns.distplot(df['ncsc'])"
   ]
  },
  {
   "cell_type": "markdown",
   "metadata": {},
   "source": [
    "#### all continuous columns are normally distributed but only \"nummailmes\" is not normally distributed"
   ]
  },
  {
   "cell_type": "code",
   "execution_count": 59,
   "metadata": {},
   "outputs": [
    {
     "data": {
      "text/plain": [
       "Index(['st', 'acclen', 'arcode', 'phnum', 'intplan', 'voice', 'nummailmes',\n",
       "       'tdmin', 'tdcal', 'tdchar', 'temin', 'tecal', 'tecahr', 'tnmin',\n",
       "       'tncal', 'tnchar', 'timin', 'tical', 'tichar', 'ncsc', 'label'],\n",
       "      dtype='object')"
      ]
     },
     "execution_count": 59,
     "metadata": {},
     "output_type": "execute_result"
    }
   ],
   "source": [
    "df.columns"
   ]
  },
  {
   "cell_type": "markdown",
   "metadata": {},
   "source": [
    "## Analysing continuous columns wrt a categorical column"
   ]
  },
  {
   "cell_type": "code",
   "execution_count": 60,
   "metadata": {},
   "outputs": [
    {
     "data": {
      "text/plain": [
       "<AxesSubplot:xlabel='label', ylabel='acclen'>"
      ]
     },
     "execution_count": 60,
     "metadata": {},
     "output_type": "execute_result"
    },
    {
     "data": {
      "image/png": "[encoded data removed]",
      "text/plain": [
       "<Figure size 432x288 with 1 Axes>"
      ]
     },
     "metadata": {
      "needs_background": "light"
     },
     "output_type": "display_data"
    }
   ],
   "source": [
    "sns.boxplot(y=\"acclen\",x=\"label\",data=df) "
   ]
  },
  {
   "cell_type": "markdown",
   "metadata": {},
   "source": [
    "#### From the above boxplot it is observed that the boxplot of \"acclen\" is same for churners as well as non churners"
   ]
  },
  {
   "cell_type": "code",
   "execution_count": 61,
   "metadata": {},
   "outputs": [
    {
     "data": {
      "text/plain": [
       "<AxesSubplot:xlabel='label', ylabel='nummailmes'>"
      ]
     },
     "execution_count": 61,
     "metadata": {},
     "output_type": "execute_result"
    },
    {
     "data": {
      "image/png": "[encoded data removed]",
      "text/plain": [
       "<Figure size 432x288 with 1 Axes>"
      ]
     },
     "metadata": {
      "needs_background": "light"
     },
     "output_type": "display_data"
    }
   ],
   "source": [
    "sns.boxplot(y=\"nummailmes\",x=\"label\",data=df) "
   ]
  },
  {
   "cell_type": "markdown",
   "metadata": {},
   "source": [
    "#### From the above boxplot it is observed that if the no of \"nummailmes\" is low then there is a high possibility that the cusmoter will not churn and if the no of \"nummailmes\" is high then there is a low possibility that the cusmoter will churn"
   ]
  },
  {
   "cell_type": "code",
   "execution_count": 62,
   "metadata": {},
   "outputs": [
    {
     "data": {
      "text/plain": [
       "<AxesSubplot:xlabel='label', ylabel='tdmin'>"
      ]
     },
     "execution_count": 62,
     "metadata": {},
     "output_type": "execute_result"
    },
    {
     "data": {
      "image/png": "[encoded data removed]",
      "text/plain": [
       "<Figure size 432x288 with 1 Axes>"
      ]
     },
     "metadata": {
      "needs_background": "light"
     },
     "output_type": "display_data"
    }
   ],
   "source": [
    "sns.boxplot(y=\"tdmin\",x=\"label\",data=df) "
   ]
  },
  {
   "cell_type": "markdown",
   "metadata": {},
   "source": [
    "#### From the above boxplot it is observed that \"tdmin\"  for churners are more than non churners"
   ]
  },
  {
   "cell_type": "code",
   "execution_count": 63,
   "metadata": {},
   "outputs": [
    {
     "data": {
      "text/plain": [
       "<AxesSubplot:xlabel='label', ylabel='tdcal'>"
      ]
     },
     "execution_count": 63,
     "metadata": {},
     "output_type": "execute_result"
    },
    {
     "data": {
      "image/png": "[encoded data removed]",
      "text/plain": [
       "<Figure size 432x288 with 1 Axes>"
      ]
     },
     "metadata": {
      "needs_background": "light"
     },
     "output_type": "display_data"
    }
   ],
   "source": [
    "sns.boxplot(y=\"tdcal\",x=\"label\",data=df) "
   ]
  },
  {
   "cell_type": "markdown",
   "metadata": {},
   "source": [
    "#### From the above boxplot it is observed that the boxplot of \"tdcal\" is same for churners as well as non churners"
   ]
  },
  {
   "cell_type": "code",
   "execution_count": 64,
   "metadata": {},
   "outputs": [
    {
     "data": {
      "text/plain": [
       "<AxesSubplot:xlabel='label', ylabel='tdchar'>"
      ]
     },
     "execution_count": 64,
     "metadata": {},
     "output_type": "execute_result"
    },
    {
     "data": {
      "image/png": "[encoded data removed]",
      "text/plain": [
       "<Figure size 432x288 with 1 Axes>"
      ]
     },
     "metadata": {
      "needs_background": "light"
     },
     "output_type": "display_data"
    }
   ],
   "source": [
    "sns.boxplot(y=\"tdchar\",x=\"label\",data=df) "
   ]
  },
  {
   "cell_type": "markdown",
   "metadata": {},
   "source": [
    "#### From the above boxplot it is observed that \"tdchar\" for churners are more than non churners"
   ]
  },
  {
   "cell_type": "code",
   "execution_count": 65,
   "metadata": {},
   "outputs": [
    {
     "data": {
      "text/plain": [
       "<AxesSubplot:xlabel='label', ylabel='temin'>"
      ]
     },
     "execution_count": 65,
     "metadata": {},
     "output_type": "execute_result"
    },
    {
     "data": {
      "image/png": "[encoded data removed]",
      "text/plain": [
       "<Figure size 432x288 with 1 Axes>"
      ]
     },
     "metadata": {
      "needs_background": "light"
     },
     "output_type": "display_data"
    }
   ],
   "source": [
    "sns.boxplot(y=\"temin\",x=\"label\",data=df) "
   ]
  },
  {
   "cell_type": "markdown",
   "metadata": {},
   "source": [
    "#### From the above boxplot it is observed that the boxplot of \"temin\" is slightly more for churners than non churners"
   ]
  },
  {
   "cell_type": "code",
   "execution_count": 66,
   "metadata": {},
   "outputs": [
    {
     "data": {
      "text/plain": [
       "<AxesSubplot:xlabel='label', ylabel='tecal'>"
      ]
     },
     "execution_count": 66,
     "metadata": {},
     "output_type": "execute_result"
    },
    {
     "data": {
      "image/png": "[encoded data removed]",
      "text/plain": [
       "<Figure size 432x288 with 1 Axes>"
      ]
     },
     "metadata": {
      "needs_background": "light"
     },
     "output_type": "display_data"
    }
   ],
   "source": [
    "sns.boxplot(y=\"tecal\",x=\"label\",data=df) "
   ]
  },
  {
   "cell_type": "markdown",
   "metadata": {},
   "source": [
    "#### From the above boxplot it is observed that the boxplot of \"tecal\" is same for churners as well as non churners"
   ]
  },
  {
   "cell_type": "code",
   "execution_count": 67,
   "metadata": {},
   "outputs": [
    {
     "data": {
      "text/plain": [
       "<AxesSubplot:xlabel='label', ylabel='tecahr'>"
      ]
     },
     "execution_count": 67,
     "metadata": {},
     "output_type": "execute_result"
    },
    {
     "data": {
      "image/png": "[encoded data removed]",
      "text/plain": [
       "<Figure size 432x288 with 1 Axes>"
      ]
     },
     "metadata": {
      "needs_background": "light"
     },
     "output_type": "display_data"
    }
   ],
   "source": [
    "sns.boxplot(y=\"tecahr\",x=\"label\",data=df) "
   ]
  },
  {
   "cell_type": "markdown",
   "metadata": {},
   "source": [
    "#### From the above boxplot it is observed that the boxplot of \"tecahr\" is almost same for churners as well as non churners"
   ]
  },
  {
   "cell_type": "code",
   "execution_count": 68,
   "metadata": {},
   "outputs": [
    {
     "data": {
      "text/plain": [
       "<AxesSubplot:xlabel='label', ylabel='tnmin'>"
      ]
     },
     "execution_count": 68,
     "metadata": {},
     "output_type": "execute_result"
    },
    {
     "data": {
      "image/png": "[encoded data removed]",
      "text/plain": [
       "<Figure size 432x288 with 1 Axes>"
      ]
     },
     "metadata": {
      "needs_background": "light"
     },
     "output_type": "display_data"
    }
   ],
   "source": [
    "sns.boxplot(y=\"tnmin\",x=\"label\",data=df) "
   ]
  },
  {
   "cell_type": "markdown",
   "metadata": {},
   "source": [
    "#### From the above boxplot it is observed that the boxplot of \"tnmin\" is almost same for churners as well as non churners"
   ]
  },
  {
   "cell_type": "code",
   "execution_count": 69,
   "metadata": {},
   "outputs": [
    {
     "data": {
      "text/plain": [
       "<AxesSubplot:xlabel='label', ylabel='tncal'>"
      ]
     },
     "execution_count": 69,
     "metadata": {},
     "output_type": "execute_result"
    },
    {
     "data": {
      "image/png": "[encoded data removed]",
      "text/plain": [
       "<Figure size 432x288 with 1 Axes>"
      ]
     },
     "metadata": {
      "needs_background": "light"
     },
     "output_type": "display_data"
    }
   ],
   "source": [
    "sns.boxplot(y=\"tncal\",x=\"label\",data=df) "
   ]
  },
  {
   "cell_type": "markdown",
   "metadata": {},
   "source": [
    "#### From the above boxplot it is observed that the boxplot of \"tncal\" is same for churners as well as non churners"
   ]
  },
  {
   "cell_type": "code",
   "execution_count": 70,
   "metadata": {},
   "outputs": [
    {
     "data": {
      "text/plain": [
       "<AxesSubplot:xlabel='label', ylabel='tnchar'>"
      ]
     },
     "execution_count": 70,
     "metadata": {},
     "output_type": "execute_result"
    },
    {
     "data": {
      "image/png": "[encoded data removed]",
      "text/plain": [
       "<Figure size 432x288 with 1 Axes>"
      ]
     },
     "metadata": {
      "needs_background": "light"
     },
     "output_type": "display_data"
    }
   ],
   "source": [
    "sns.boxplot(y=\"tnchar\",x=\"label\",data=df) "
   ]
  },
  {
   "cell_type": "markdown",
   "metadata": {},
   "source": [
    "#### From the above boxplot it is observed that the boxplot of \"tnchar\" is same for churners as well as non churners"
   ]
  },
  {
   "cell_type": "code",
   "execution_count": 71,
   "metadata": {},
   "outputs": [
    {
     "data": {
      "text/plain": [
       "<AxesSubplot:xlabel='label', ylabel='timin'>"
      ]
     },
     "execution_count": 71,
     "metadata": {},
     "output_type": "execute_result"
    },
    {
     "data": {
      "image/png": "[encoded data removed]",
      "text/plain": [
       "<Figure size 432x288 with 1 Axes>"
      ]
     },
     "metadata": {
      "needs_background": "light"
     },
     "output_type": "display_data"
    }
   ],
   "source": [
    "sns.boxplot(y=\"timin\",x=\"label\",data=df) "
   ]
  },
  {
   "cell_type": "markdown",
   "metadata": {},
   "source": [
    "#### From the above boxplot it is observed that the boxplot of \"timin\" is almost same for churners as well as non churners"
   ]
  },
  {
   "cell_type": "code",
   "execution_count": 72,
   "metadata": {},
   "outputs": [
    {
     "data": {
      "text/plain": [
       "<AxesSubplot:xlabel='label', ylabel='tical'>"
      ]
     },
     "execution_count": 72,
     "metadata": {},
     "output_type": "execute_result"
    },
    {
     "data": {
      "image/png": "[encoded data removed]",
      "text/plain": [
       "<Figure size 432x288 with 1 Axes>"
      ]
     },
     "metadata": {
      "needs_background": "light"
     },
     "output_type": "display_data"
    }
   ],
   "source": [
    "sns.boxplot(y=\"tical\",x=\"label\",data=df) "
   ]
  },
  {
   "cell_type": "markdown",
   "metadata": {},
   "source": [
    "#### From the above boxplot it is observed that the boxplot of \"tical\" is almost same for churners as well as non churners"
   ]
  },
  {
   "cell_type": "code",
   "execution_count": 73,
   "metadata": {},
   "outputs": [
    {
     "data": {
      "text/plain": [
       "<AxesSubplot:xlabel='label', ylabel='tichar'>"
      ]
     },
     "execution_count": 73,
     "metadata": {},
     "output_type": "execute_result"
    },
    {
     "data": {
      "image/png": "[encoded data removed]",
      "text/plain": [
       "<Figure size 432x288 with 1 Axes>"
      ]
     },
     "metadata": {
      "needs_background": "light"
     },
     "output_type": "display_data"
    }
   ],
   "source": [
    "sns.boxplot(y=\"tichar\",x=\"label\",data=df) "
   ]
  },
  {
   "cell_type": "markdown",
   "metadata": {},
   "source": [
    "#### From the above boxplot it is observed that the boxplot of \"tichar\" is almost same for churners as well as non churners"
   ]
  },
  {
   "cell_type": "code",
   "execution_count": 74,
   "metadata": {},
   "outputs": [
    {
     "data": {
      "text/plain": [
       "<AxesSubplot:xlabel='label', ylabel='ncsc'>"
      ]
     },
     "execution_count": 74,
     "metadata": {},
     "output_type": "execute_result"
    },
    {
     "data": {
      "image/png": "[encoded data removed]",
      "text/plain": [
       "<Figure size 432x288 with 1 Axes>"
      ]
     },
     "metadata": {
      "needs_background": "light"
     },
     "output_type": "display_data"
    }
   ],
   "source": [
    "sns.boxplot(y=\"ncsc\",x=\"label\",data=df) "
   ]
  },
  {
   "cell_type": "markdown",
   "metadata": {},
   "source": [
    "#### From the above boxplot it is observed that \"ncsc\" for churners are more than non churners"
   ]
  },
  {
   "cell_type": "markdown",
   "metadata": {},
   "source": [
    "## Analysing categorical columns wrt a categorical column"
   ]
  },
  {
   "cell_type": "code",
   "execution_count": 75,
   "metadata": {},
   "outputs": [
    {
     "data": {
      "text/plain": [
       "<AxesSubplot:xlabel='arcode', ylabel='count'>"
      ]
     },
     "execution_count": 75,
     "metadata": {},
     "output_type": "execute_result"
    },
    {
     "data": {
      "image/png": "[encoded data removed]",
      "text/plain": [
       "<Figure size 432x288 with 1 Axes>"
      ]
     },
     "metadata": {
      "needs_background": "light"
     },
     "output_type": "display_data"
    }
   ],
   "source": [
    "sns.countplot(x=\"arcode\", hue=\"label\", data=df)"
   ]
  },
  {
   "cell_type": "code",
   "execution_count": 76,
   "metadata": {},
   "outputs": [
    {
     "data": {
      "text/html": [
       "<div>\n",
       "<style scoped>\n",
       "    .dataframe tbody tr th:only-of-type {\n",
       "        vertical-align: middle;\n",
       "    }\n",
       "\n",
       "    .dataframe tbody tr th {\n",
       "        vertical-align: top;\n",
       "    }\n",
       "\n",
       "    .dataframe thead th {\n",
       "        text-align: right;\n",
       "    }\n",
       "</style>\n",
       "<table border=\"1\" class=\"dataframe\">\n",
       "  <thead>\n",
       "    <tr style=\"text-align: right;\">\n",
       "      <th>label</th>\n",
       "      <th>0</th>\n",
       "      <th>1</th>\n",
       "    </tr>\n",
       "    <tr>\n",
       "      <th>arcode</th>\n",
       "      <th></th>\n",
       "      <th></th>\n",
       "    </tr>\n",
       "  </thead>\n",
       "  <tbody>\n",
       "    <tr>\n",
       "      <th>408</th>\n",
       "      <td>0.854415</td>\n",
       "      <td>0.145585</td>\n",
       "    </tr>\n",
       "    <tr>\n",
       "      <th>415</th>\n",
       "      <td>0.857402</td>\n",
       "      <td>0.142598</td>\n",
       "    </tr>\n",
       "    <tr>\n",
       "      <th>510</th>\n",
       "      <td>0.851190</td>\n",
       "      <td>0.148810</td>\n",
       "    </tr>\n",
       "  </tbody>\n",
       "</table>\n",
       "</div>"
      ],
      "text/plain": [
       "label          0         1\n",
       "arcode                    \n",
       "408     0.854415  0.145585\n",
       "415     0.857402  0.142598\n",
       "510     0.851190  0.148810"
      ]
     },
     "execution_count": 76,
     "metadata": {},
     "output_type": "execute_result"
    }
   ],
   "source": [
    "pd.crosstab(index=df[\"arcode\"], columns=df[\"label\"], normalize=\"index\" )"
   ]
  },
  {
   "cell_type": "markdown",
   "metadata": {},
   "source": [
    "#### From the above result it is observed that chances of churning is very low in the given \"arcode\""
   ]
  },
  {
   "cell_type": "code",
   "execution_count": 77,
   "metadata": {},
   "outputs": [
    {
     "data": {
      "text/plain": [
       "<AxesSubplot:xlabel='intplan', ylabel='count'>"
      ]
     },
     "execution_count": 77,
     "metadata": {},
     "output_type": "execute_result"
    },
    {
     "data": {
      "image/png": "[encoded data removed]",
      "text/plain": [
       "<Figure size 432x288 with 1 Axes>"
      ]
     },
     "metadata": {
      "needs_background": "light"
     },
     "output_type": "display_data"
    }
   ],
   "source": [
    "sns.countplot(x=\"intplan\", hue=\"label\", data=df)"
   ]
  },
  {
   "cell_type": "code",
   "execution_count": 78,
   "metadata": {},
   "outputs": [
    {
     "data": {
      "text/html": [
       "<div>\n",
       "<style scoped>\n",
       "    .dataframe tbody tr th:only-of-type {\n",
       "        vertical-align: middle;\n",
       "    }\n",
       "\n",
       "    .dataframe tbody tr th {\n",
       "        vertical-align: top;\n",
       "    }\n",
       "\n",
       "    .dataframe thead th {\n",
       "        text-align: right;\n",
       "    }\n",
       "</style>\n",
       "<table border=\"1\" class=\"dataframe\">\n",
       "  <thead>\n",
       "    <tr style=\"text-align: right;\">\n",
       "      <th>label</th>\n",
       "      <th>0</th>\n",
       "      <th>1</th>\n",
       "    </tr>\n",
       "    <tr>\n",
       "      <th>intplan</th>\n",
       "      <th></th>\n",
       "      <th></th>\n",
       "    </tr>\n",
       "  </thead>\n",
       "  <tbody>\n",
       "    <tr>\n",
       "      <th>no</th>\n",
       "      <td>0.885050</td>\n",
       "      <td>0.114950</td>\n",
       "    </tr>\n",
       "    <tr>\n",
       "      <th>yes</th>\n",
       "      <td>0.575851</td>\n",
       "      <td>0.424149</td>\n",
       "    </tr>\n",
       "  </tbody>\n",
       "</table>\n",
       "</div>"
      ],
      "text/plain": [
       "label           0         1\n",
       "intplan                    \n",
       "no       0.885050  0.114950\n",
       "yes      0.575851  0.424149"
      ]
     },
     "execution_count": 78,
     "metadata": {},
     "output_type": "execute_result"
    }
   ],
   "source": [
    "pd.crosstab(index=df[\"intplan\"], columns=df[\"label\"], normalize=\"index\" )"
   ]
  },
  {
   "cell_type": "markdown",
   "metadata": {},
   "source": [
    "#### From the above result it is observed that chances of churning is very high for customer with \"intplan\" "
   ]
  },
  {
   "cell_type": "code",
   "execution_count": 79,
   "metadata": {},
   "outputs": [
    {
     "data": {
      "text/plain": [
       "<AxesSubplot:xlabel='voice', ylabel='count'>"
      ]
     },
     "execution_count": 79,
     "metadata": {},
     "output_type": "execute_result"
    },
    {
     "data": {
      "image/png": "[encoded data removed]",
      "text/plain": [
       "<Figure size 432x288 with 1 Axes>"
      ]
     },
     "metadata": {
      "needs_background": "light"
     },
     "output_type": "display_data"
    }
   ],
   "source": [
    "sns.countplot(x=\"voice\", hue=\"label\", data=df)"
   ]
  },
  {
   "cell_type": "code",
   "execution_count": 80,
   "metadata": {},
   "outputs": [
    {
     "data": {
      "text/html": [
       "<div>\n",
       "<style scoped>\n",
       "    .dataframe tbody tr th:only-of-type {\n",
       "        vertical-align: middle;\n",
       "    }\n",
       "\n",
       "    .dataframe tbody tr th {\n",
       "        vertical-align: top;\n",
       "    }\n",
       "\n",
       "    .dataframe thead th {\n",
       "        text-align: right;\n",
       "    }\n",
       "</style>\n",
       "<table border=\"1\" class=\"dataframe\">\n",
       "  <thead>\n",
       "    <tr style=\"text-align: right;\">\n",
       "      <th>label</th>\n",
       "      <th>0</th>\n",
       "      <th>1</th>\n",
       "    </tr>\n",
       "    <tr>\n",
       "      <th>voice</th>\n",
       "      <th></th>\n",
       "      <th></th>\n",
       "    </tr>\n",
       "  </thead>\n",
       "  <tbody>\n",
       "    <tr>\n",
       "      <th>no</th>\n",
       "      <td>0.832849</td>\n",
       "      <td>0.167151</td>\n",
       "    </tr>\n",
       "    <tr>\n",
       "      <th>yes</th>\n",
       "      <td>0.913232</td>\n",
       "      <td>0.086768</td>\n",
       "    </tr>\n",
       "  </tbody>\n",
       "</table>\n",
       "</div>"
      ],
      "text/plain": [
       "label         0         1\n",
       "voice                    \n",
       "no     0.832849  0.167151\n",
       "yes    0.913232  0.086768"
      ]
     },
     "execution_count": 80,
     "metadata": {},
     "output_type": "execute_result"
    }
   ],
   "source": [
    "pd.crosstab(index=df[\"voice\"], columns=df[\"label\"], normalize=\"index\" )"
   ]
  },
  {
   "cell_type": "markdown",
   "metadata": {},
   "source": [
    "#### From the above result it is observed that chances of churning is very low if  \"voice\" is \"yes\""
   ]
  },
  {
   "cell_type": "code",
   "execution_count": 81,
   "metadata": {},
   "outputs": [
    {
     "data": {
      "text/plain": [
       "<AxesSubplot:xlabel='st', ylabel='count'>"
      ]
     },
     "execution_count": 81,
     "metadata": {},
     "output_type": "execute_result"
    },
    {
     "data": {
      "image/png": "[encoded data removed]",
      "text/plain": [
       "<Figure size 432x288 with 1 Axes>"
      ]
     },
     "metadata": {
      "needs_background": "light"
     },
     "output_type": "display_data"
    }
   ],
   "source": [
    "sns.countplot(x=\"st\", hue=\"label\", data=df)"
   ]
  },
  {
   "cell_type": "code",
   "execution_count": 82,
   "metadata": {},
   "outputs": [
    {
     "data": {
      "text/html": [
       "<div>\n",
       "<style scoped>\n",
       "    .dataframe tbody tr th:only-of-type {\n",
       "        vertical-align: middle;\n",
       "    }\n",
       "\n",
       "    .dataframe tbody tr th {\n",
       "        vertical-align: top;\n",
       "    }\n",
       "\n",
       "    .dataframe thead th {\n",
       "        text-align: right;\n",
       "    }\n",
       "</style>\n",
       "<table border=\"1\" class=\"dataframe\">\n",
       "  <thead>\n",
       "    <tr style=\"text-align: right;\">\n",
       "      <th>label</th>\n",
       "      <th>0</th>\n",
       "      <th>1</th>\n",
       "    </tr>\n",
       "    <tr>\n",
       "      <th>st</th>\n",
       "      <th></th>\n",
       "      <th></th>\n",
       "    </tr>\n",
       "  </thead>\n",
       "  <tbody>\n",
       "    <tr>\n",
       "      <th>AK</th>\n",
       "      <td>0.942308</td>\n",
       "      <td>0.057692</td>\n",
       "    </tr>\n",
       "    <tr>\n",
       "      <th>AL</th>\n",
       "      <td>0.900000</td>\n",
       "      <td>0.100000</td>\n",
       "    </tr>\n",
       "    <tr>\n",
       "      <th>AR</th>\n",
       "      <td>0.800000</td>\n",
       "      <td>0.200000</td>\n",
       "    </tr>\n",
       "    <tr>\n",
       "      <th>AZ</th>\n",
       "      <td>0.937500</td>\n",
       "      <td>0.062500</td>\n",
       "    </tr>\n",
       "    <tr>\n",
       "      <th>CA</th>\n",
       "      <td>0.735294</td>\n",
       "      <td>0.264706</td>\n",
       "    </tr>\n",
       "    <tr>\n",
       "      <th>CO</th>\n",
       "      <td>0.863636</td>\n",
       "      <td>0.136364</td>\n",
       "    </tr>\n",
       "    <tr>\n",
       "      <th>CT</th>\n",
       "      <td>0.837838</td>\n",
       "      <td>0.162162</td>\n",
       "    </tr>\n",
       "    <tr>\n",
       "      <th>DC</th>\n",
       "      <td>0.907407</td>\n",
       "      <td>0.092593</td>\n",
       "    </tr>\n",
       "    <tr>\n",
       "      <th>DE</th>\n",
       "      <td>0.852459</td>\n",
       "      <td>0.147541</td>\n",
       "    </tr>\n",
       "    <tr>\n",
       "      <th>FL</th>\n",
       "      <td>0.873016</td>\n",
       "      <td>0.126984</td>\n",
       "    </tr>\n",
       "    <tr>\n",
       "      <th>GA</th>\n",
       "      <td>0.851852</td>\n",
       "      <td>0.148148</td>\n",
       "    </tr>\n",
       "    <tr>\n",
       "      <th>HI</th>\n",
       "      <td>0.943396</td>\n",
       "      <td>0.056604</td>\n",
       "    </tr>\n",
       "    <tr>\n",
       "      <th>IA</th>\n",
       "      <td>0.931818</td>\n",
       "      <td>0.068182</td>\n",
       "    </tr>\n",
       "    <tr>\n",
       "      <th>ID</th>\n",
       "      <td>0.876712</td>\n",
       "      <td>0.123288</td>\n",
       "    </tr>\n",
       "    <tr>\n",
       "      <th>IL</th>\n",
       "      <td>0.913793</td>\n",
       "      <td>0.086207</td>\n",
       "    </tr>\n",
       "    <tr>\n",
       "      <th>IN</th>\n",
       "      <td>0.873239</td>\n",
       "      <td>0.126761</td>\n",
       "    </tr>\n",
       "    <tr>\n",
       "      <th>KS</th>\n",
       "      <td>0.814286</td>\n",
       "      <td>0.185714</td>\n",
       "    </tr>\n",
       "    <tr>\n",
       "      <th>KY</th>\n",
       "      <td>0.864407</td>\n",
       "      <td>0.135593</td>\n",
       "    </tr>\n",
       "    <tr>\n",
       "      <th>LA</th>\n",
       "      <td>0.921569</td>\n",
       "      <td>0.078431</td>\n",
       "    </tr>\n",
       "    <tr>\n",
       "      <th>MA</th>\n",
       "      <td>0.830769</td>\n",
       "      <td>0.169231</td>\n",
       "    </tr>\n",
       "    <tr>\n",
       "      <th>MD</th>\n",
       "      <td>0.757143</td>\n",
       "      <td>0.242857</td>\n",
       "    </tr>\n",
       "    <tr>\n",
       "      <th>ME</th>\n",
       "      <td>0.790323</td>\n",
       "      <td>0.209677</td>\n",
       "    </tr>\n",
       "    <tr>\n",
       "      <th>MI</th>\n",
       "      <td>0.780822</td>\n",
       "      <td>0.219178</td>\n",
       "    </tr>\n",
       "    <tr>\n",
       "      <th>MN</th>\n",
       "      <td>0.821429</td>\n",
       "      <td>0.178571</td>\n",
       "    </tr>\n",
       "    <tr>\n",
       "      <th>MO</th>\n",
       "      <td>0.888889</td>\n",
       "      <td>0.111111</td>\n",
       "    </tr>\n",
       "    <tr>\n",
       "      <th>MS</th>\n",
       "      <td>0.784615</td>\n",
       "      <td>0.215385</td>\n",
       "    </tr>\n",
       "    <tr>\n",
       "      <th>MT</th>\n",
       "      <td>0.794118</td>\n",
       "      <td>0.205882</td>\n",
       "    </tr>\n",
       "    <tr>\n",
       "      <th>NC</th>\n",
       "      <td>0.838235</td>\n",
       "      <td>0.161765</td>\n",
       "    </tr>\n",
       "    <tr>\n",
       "      <th>ND</th>\n",
       "      <td>0.903226</td>\n",
       "      <td>0.096774</td>\n",
       "    </tr>\n",
       "    <tr>\n",
       "      <th>NE</th>\n",
       "      <td>0.918033</td>\n",
       "      <td>0.081967</td>\n",
       "    </tr>\n",
       "    <tr>\n",
       "      <th>NH</th>\n",
       "      <td>0.839286</td>\n",
       "      <td>0.160714</td>\n",
       "    </tr>\n",
       "    <tr>\n",
       "      <th>NJ</th>\n",
       "      <td>0.735294</td>\n",
       "      <td>0.264706</td>\n",
       "    </tr>\n",
       "    <tr>\n",
       "      <th>NM</th>\n",
       "      <td>0.903226</td>\n",
       "      <td>0.096774</td>\n",
       "    </tr>\n",
       "    <tr>\n",
       "      <th>NV</th>\n",
       "      <td>0.787879</td>\n",
       "      <td>0.212121</td>\n",
       "    </tr>\n",
       "    <tr>\n",
       "      <th>NY</th>\n",
       "      <td>0.819277</td>\n",
       "      <td>0.180723</td>\n",
       "    </tr>\n",
       "    <tr>\n",
       "      <th>OH</th>\n",
       "      <td>0.871795</td>\n",
       "      <td>0.128205</td>\n",
       "    </tr>\n",
       "    <tr>\n",
       "      <th>OK</th>\n",
       "      <td>0.852459</td>\n",
       "      <td>0.147541</td>\n",
       "    </tr>\n",
       "    <tr>\n",
       "      <th>OR</th>\n",
       "      <td>0.858974</td>\n",
       "      <td>0.141026</td>\n",
       "    </tr>\n",
       "    <tr>\n",
       "      <th>PA</th>\n",
       "      <td>0.822222</td>\n",
       "      <td>0.177778</td>\n",
       "    </tr>\n",
       "    <tr>\n",
       "      <th>RI</th>\n",
       "      <td>0.907692</td>\n",
       "      <td>0.092308</td>\n",
       "    </tr>\n",
       "    <tr>\n",
       "      <th>SC</th>\n",
       "      <td>0.766667</td>\n",
       "      <td>0.233333</td>\n",
       "    </tr>\n",
       "    <tr>\n",
       "      <th>SD</th>\n",
       "      <td>0.866667</td>\n",
       "      <td>0.133333</td>\n",
       "    </tr>\n",
       "    <tr>\n",
       "      <th>TN</th>\n",
       "      <td>0.905660</td>\n",
       "      <td>0.094340</td>\n",
       "    </tr>\n",
       "    <tr>\n",
       "      <th>TX</th>\n",
       "      <td>0.750000</td>\n",
       "      <td>0.250000</td>\n",
       "    </tr>\n",
       "    <tr>\n",
       "      <th>UT</th>\n",
       "      <td>0.861111</td>\n",
       "      <td>0.138889</td>\n",
       "    </tr>\n",
       "    <tr>\n",
       "      <th>VA</th>\n",
       "      <td>0.935065</td>\n",
       "      <td>0.064935</td>\n",
       "    </tr>\n",
       "    <tr>\n",
       "      <th>VT</th>\n",
       "      <td>0.890411</td>\n",
       "      <td>0.109589</td>\n",
       "    </tr>\n",
       "    <tr>\n",
       "      <th>WA</th>\n",
       "      <td>0.787879</td>\n",
       "      <td>0.212121</td>\n",
       "    </tr>\n",
       "    <tr>\n",
       "      <th>WI</th>\n",
       "      <td>0.910256</td>\n",
       "      <td>0.089744</td>\n",
       "    </tr>\n",
       "    <tr>\n",
       "      <th>WV</th>\n",
       "      <td>0.905660</td>\n",
       "      <td>0.094340</td>\n",
       "    </tr>\n",
       "    <tr>\n",
       "      <th>WY</th>\n",
       "      <td>0.883117</td>\n",
       "      <td>0.116883</td>\n",
       "    </tr>\n",
       "  </tbody>\n",
       "</table>\n",
       "</div>"
      ],
      "text/plain": [
       "label         0         1\n",
       "st                       \n",
       "AK     0.942308  0.057692\n",
       "AL     0.900000  0.100000\n",
       "AR     0.800000  0.200000\n",
       "AZ     0.937500  0.062500\n",
       "CA     0.735294  0.264706\n",
       "CO     0.863636  0.136364\n",
       "CT     0.837838  0.162162\n",
       "DC     0.907407  0.092593\n",
       "DE     0.852459  0.147541\n",
       "FL     0.873016  0.126984\n",
       "GA     0.851852  0.148148\n",
       "HI     0.943396  0.056604\n",
       "IA     0.931818  0.068182\n",
       "ID     0.876712  0.123288\n",
       "IL     0.913793  0.086207\n",
       "IN     0.873239  0.126761\n",
       "KS     0.814286  0.185714\n",
       "KY     0.864407  0.135593\n",
       "LA     0.921569  0.078431\n",
       "MA     0.830769  0.169231\n",
       "MD     0.757143  0.242857\n",
       "ME     0.790323  0.209677\n",
       "MI     0.780822  0.219178\n",
       "MN     0.821429  0.178571\n",
       "MO     0.888889  0.111111\n",
       "MS     0.784615  0.215385\n",
       "MT     0.794118  0.205882\n",
       "NC     0.838235  0.161765\n",
       "ND     0.903226  0.096774\n",
       "NE     0.918033  0.081967\n",
       "NH     0.839286  0.160714\n",
       "NJ     0.735294  0.264706\n",
       "NM     0.903226  0.096774\n",
       "NV     0.787879  0.212121\n",
       "NY     0.819277  0.180723\n",
       "OH     0.871795  0.128205\n",
       "OK     0.852459  0.147541\n",
       "OR     0.858974  0.141026\n",
       "PA     0.822222  0.177778\n",
       "RI     0.907692  0.092308\n",
       "SC     0.766667  0.233333\n",
       "SD     0.866667  0.133333\n",
       "TN     0.905660  0.094340\n",
       "TX     0.750000  0.250000\n",
       "UT     0.861111  0.138889\n",
       "VA     0.935065  0.064935\n",
       "VT     0.890411  0.109589\n",
       "WA     0.787879  0.212121\n",
       "WI     0.910256  0.089744\n",
       "WV     0.905660  0.094340\n",
       "WY     0.883117  0.116883"
      ]
     },
     "execution_count": 82,
     "metadata": {},
     "output_type": "execute_result"
    }
   ],
   "source": [
    "pd.crosstab(index=df[\"st\"], columns=df[\"label\"], normalize=\"index\" )"
   ]
  },
  {
   "cell_type": "markdown",
   "metadata": {},
   "source": [
    "#### From the above result it is observed that chances of churning is more if \"st\" is \"CA\" & \"NJ\" than rest of the \"st\""
   ]
  },
  {
   "cell_type": "code",
   "execution_count": 83,
   "metadata": {},
   "outputs": [
    {
     "data": {
      "text/html": [
       "<div>\n",
       "<style scoped>\n",
       "    .dataframe tbody tr th:only-of-type {\n",
       "        vertical-align: middle;\n",
       "    }\n",
       "\n",
       "    .dataframe tbody tr th {\n",
       "        vertical-align: top;\n",
       "    }\n",
       "\n",
       "    .dataframe thead th {\n",
       "        text-align: right;\n",
       "    }\n",
       "</style>\n",
       "<table border=\"1\" class=\"dataframe\">\n",
       "  <thead>\n",
       "    <tr style=\"text-align: right;\">\n",
       "      <th></th>\n",
       "      <th>st</th>\n",
       "      <th>acclen</th>\n",
       "      <th>arcode</th>\n",
       "      <th>phnum</th>\n",
       "      <th>intplan</th>\n",
       "      <th>voice</th>\n",
       "      <th>nummailmes</th>\n",
       "      <th>tdmin</th>\n",
       "      <th>tdcal</th>\n",
       "      <th>tdchar</th>\n",
       "      <th>...</th>\n",
       "      <th>tecal</th>\n",
       "      <th>tecahr</th>\n",
       "      <th>tnmin</th>\n",
       "      <th>tncal</th>\n",
       "      <th>tnchar</th>\n",
       "      <th>timin</th>\n",
       "      <th>tical</th>\n",
       "      <th>tichar</th>\n",
       "      <th>ncsc</th>\n",
       "      <th>label</th>\n",
       "    </tr>\n",
       "  </thead>\n",
       "  <tbody>\n",
       "    <tr>\n",
       "      <th>0</th>\n",
       "      <td>KS</td>\n",
       "      <td>128</td>\n",
       "      <td>415</td>\n",
       "      <td>382-4657</td>\n",
       "      <td>no</td>\n",
       "      <td>yes</td>\n",
       "      <td>25</td>\n",
       "      <td>265.1</td>\n",
       "      <td>110</td>\n",
       "      <td>45.07</td>\n",
       "      <td>...</td>\n",
       "      <td>99</td>\n",
       "      <td>16.78</td>\n",
       "      <td>244.7</td>\n",
       "      <td>91</td>\n",
       "      <td>11.01</td>\n",
       "      <td>10.0</td>\n",
       "      <td>3</td>\n",
       "      <td>2.7</td>\n",
       "      <td>1</td>\n",
       "      <td>0</td>\n",
       "    </tr>\n",
       "    <tr>\n",
       "      <th>1</th>\n",
       "      <td>OH</td>\n",
       "      <td>107</td>\n",
       "      <td>415</td>\n",
       "      <td>371-7191</td>\n",
       "      <td>no</td>\n",
       "      <td>yes</td>\n",
       "      <td>26</td>\n",
       "      <td>161.6</td>\n",
       "      <td>123</td>\n",
       "      <td>27.47</td>\n",
       "      <td>...</td>\n",
       "      <td>103</td>\n",
       "      <td>16.62</td>\n",
       "      <td>254.4</td>\n",
       "      <td>103</td>\n",
       "      <td>11.45</td>\n",
       "      <td>13.7</td>\n",
       "      <td>3</td>\n",
       "      <td>3.7</td>\n",
       "      <td>1</td>\n",
       "      <td>0</td>\n",
       "    </tr>\n",
       "  </tbody>\n",
       "</table>\n",
       "<p>2 rows × 21 columns</p>\n",
       "</div>"
      ],
      "text/plain": [
       "   st  acclen  arcode     phnum intplan voice  nummailmes  tdmin  tdcal  \\\n",
       "0  KS     128     415  382-4657      no   yes          25  265.1    110   \n",
       "1  OH     107     415  371-7191      no   yes          26  161.6    123   \n",
       "\n",
       "   tdchar  ...  tecal  tecahr  tnmin  tncal  tnchar  timin  tical  tichar  \\\n",
       "0   45.07  ...     99   16.78  244.7     91   11.01   10.0      3     2.7   \n",
       "1   27.47  ...    103   16.62  254.4    103   11.45   13.7      3     3.7   \n",
       "\n",
       "   ncsc  label  \n",
       "0     1      0  \n",
       "1     1      0  \n",
       "\n",
       "[2 rows x 21 columns]"
      ]
     },
     "execution_count": 83,
     "metadata": {},
     "output_type": "execute_result"
    }
   ],
   "source": [
    "df[ :2]"
   ]
  },
  {
   "cell_type": "code",
   "execution_count": 84,
   "metadata": {},
   "outputs": [],
   "source": [
    "X=df.drop({\"phnum\",\"label\"}, axis=1)"
   ]
  },
  {
   "cell_type": "code",
   "execution_count": 85,
   "metadata": {},
   "outputs": [],
   "source": [
    "y=df[\"label\"]"
   ]
  },
  {
   "cell_type": "code",
   "execution_count": 86,
   "metadata": {},
   "outputs": [
    {
     "data": {
      "text/plain": [
       "(3333, 19)"
      ]
     },
     "execution_count": 86,
     "metadata": {},
     "output_type": "execute_result"
    }
   ],
   "source": [
    "X.shape"
   ]
  },
  {
   "cell_type": "code",
   "execution_count": 87,
   "metadata": {},
   "outputs": [
    {
     "data": {
      "text/plain": [
       "['st', 'intplan', 'voice']"
      ]
     },
     "execution_count": 87,
     "metadata": {},
     "output_type": "execute_result"
    }
   ],
   "source": [
    "catcols=list(X.select_dtypes(include=\"object\").columns)\n",
    "catcols"
   ]
  },
  {
   "cell_type": "code",
   "execution_count": 88,
   "metadata": {},
   "outputs": [
    {
     "data": {
      "text/plain": [
       "['st', 'intplan', 'voice', 'arcode']"
      ]
     },
     "execution_count": 88,
     "metadata": {},
     "output_type": "execute_result"
    }
   ],
   "source": [
    "catcols.append(\"arcode\")\n",
    "catcols ### Categorical columns"
   ]
  },
  {
   "cell_type": "markdown",
   "metadata": {},
   "source": [
    "### Performing OHE on categorical columns"
   ]
  },
  {
   "cell_type": "code",
   "execution_count": 89,
   "metadata": {},
   "outputs": [
    {
     "data": {
      "text/html": [
       "<div>\n",
       "<style scoped>\n",
       "    .dataframe tbody tr th:only-of-type {\n",
       "        vertical-align: middle;\n",
       "    }\n",
       "\n",
       "    .dataframe tbody tr th {\n",
       "        vertical-align: top;\n",
       "    }\n",
       "\n",
       "    .dataframe thead th {\n",
       "        text-align: right;\n",
       "    }\n",
       "</style>\n",
       "<table border=\"1\" class=\"dataframe\">\n",
       "  <thead>\n",
       "    <tr style=\"text-align: right;\">\n",
       "      <th></th>\n",
       "      <th>acclen</th>\n",
       "      <th>nummailmes</th>\n",
       "      <th>tdmin</th>\n",
       "      <th>tdcal</th>\n",
       "      <th>tdchar</th>\n",
       "      <th>temin</th>\n",
       "      <th>tecal</th>\n",
       "      <th>tecahr</th>\n",
       "      <th>tnmin</th>\n",
       "      <th>tncal</th>\n",
       "      <th>...</th>\n",
       "      <th>st_VA</th>\n",
       "      <th>st_VT</th>\n",
       "      <th>st_WA</th>\n",
       "      <th>st_WI</th>\n",
       "      <th>st_WV</th>\n",
       "      <th>st_WY</th>\n",
       "      <th>intplan_yes</th>\n",
       "      <th>voice_yes</th>\n",
       "      <th>arcode_415</th>\n",
       "      <th>arcode_510</th>\n",
       "    </tr>\n",
       "  </thead>\n",
       "  <tbody>\n",
       "    <tr>\n",
       "      <th>0</th>\n",
       "      <td>128</td>\n",
       "      <td>25</td>\n",
       "      <td>265.1</td>\n",
       "      <td>110</td>\n",
       "      <td>45.07</td>\n",
       "      <td>197.4</td>\n",
       "      <td>99</td>\n",
       "      <td>16.78</td>\n",
       "      <td>244.7</td>\n",
       "      <td>91</td>\n",
       "      <td>...</td>\n",
       "      <td>0</td>\n",
       "      <td>0</td>\n",
       "      <td>0</td>\n",
       "      <td>0</td>\n",
       "      <td>0</td>\n",
       "      <td>0</td>\n",
       "      <td>0</td>\n",
       "      <td>1</td>\n",
       "      <td>1</td>\n",
       "      <td>0</td>\n",
       "    </tr>\n",
       "    <tr>\n",
       "      <th>1</th>\n",
       "      <td>107</td>\n",
       "      <td>26</td>\n",
       "      <td>161.6</td>\n",
       "      <td>123</td>\n",
       "      <td>27.47</td>\n",
       "      <td>195.5</td>\n",
       "      <td>103</td>\n",
       "      <td>16.62</td>\n",
       "      <td>254.4</td>\n",
       "      <td>103</td>\n",
       "      <td>...</td>\n",
       "      <td>0</td>\n",
       "      <td>0</td>\n",
       "      <td>0</td>\n",
       "      <td>0</td>\n",
       "      <td>0</td>\n",
       "      <td>0</td>\n",
       "      <td>0</td>\n",
       "      <td>1</td>\n",
       "      <td>1</td>\n",
       "      <td>0</td>\n",
       "    </tr>\n",
       "  </tbody>\n",
       "</table>\n",
       "<p>2 rows × 69 columns</p>\n",
       "</div>"
      ],
      "text/plain": [
       "   acclen  nummailmes  tdmin  tdcal  tdchar  temin  tecal  tecahr  tnmin  \\\n",
       "0     128          25  265.1    110   45.07  197.4     99   16.78  244.7   \n",
       "1     107          26  161.6    123   27.47  195.5    103   16.62  254.4   \n",
       "\n",
       "   tncal  ...  st_VA  st_VT  st_WA  st_WI  st_WV  st_WY  intplan_yes  \\\n",
       "0     91  ...      0      0      0      0      0      0            0   \n",
       "1    103  ...      0      0      0      0      0      0            0   \n",
       "\n",
       "   voice_yes  arcode_415  arcode_510  \n",
       "0          1           1           0  \n",
       "1          1           1           0  \n",
       "\n",
       "[2 rows x 69 columns]"
      ]
     },
     "execution_count": 89,
     "metadata": {},
     "output_type": "execute_result"
    }
   ],
   "source": [
    "xdfohe=pd.get_dummies(X,columns=catcols,drop_first=True)\n",
    "xdfohe[ :2]"
   ]
  },
  {
   "cell_type": "code",
   "execution_count": 90,
   "metadata": {},
   "outputs": [
    {
     "name": "stdout",
     "output_type": "stream",
     "text": [
      "<class 'pandas.core.frame.DataFrame'>\n",
      "RangeIndex: 3333 entries, 0 to 3332\n",
      "Data columns (total 69 columns):\n",
      " #   Column       Non-Null Count  Dtype  \n",
      "---  ------       --------------  -----  \n",
      " 0   acclen       3333 non-null   int64  \n",
      " 1   nummailmes   3333 non-null   int64  \n",
      " 2   tdmin        3333 non-null   float64\n",
      " 3   tdcal        3333 non-null   int64  \n",
      " 4   tdchar       3333 non-null   float64\n",
      " 5   temin        3333 non-null   float64\n",
      " 6   tecal        3333 non-null   int64  \n",
      " 7   tecahr       3333 non-null   float64\n",
      " 8   tnmin        3333 non-null   float64\n",
      " 9   tncal        3333 non-null   int64  \n",
      " 10  tnchar       3333 non-null   float64\n",
      " 11  timin        3333 non-null   float64\n",
      " 12  tical        3333 non-null   int64  \n",
      " 13  tichar       3333 non-null   float64\n",
      " 14  ncsc         3333 non-null   int64  \n",
      " 15  st_AL        3333 non-null   uint8  \n",
      " 16  st_AR        3333 non-null   uint8  \n",
      " 17  st_AZ        3333 non-null   uint8  \n",
      " 18  st_CA        3333 non-null   uint8  \n",
      " 19  st_CO        3333 non-null   uint8  \n",
      " 20  st_CT        3333 non-null   uint8  \n",
      " 21  st_DC        3333 non-null   uint8  \n",
      " 22  st_DE        3333 non-null   uint8  \n",
      " 23  st_FL        3333 non-null   uint8  \n",
      " 24  st_GA        3333 non-null   uint8  \n",
      " 25  st_HI        3333 non-null   uint8  \n",
      " 26  st_IA        3333 non-null   uint8  \n",
      " 27  st_ID        3333 non-null   uint8  \n",
      " 28  st_IL        3333 non-null   uint8  \n",
      " 29  st_IN        3333 non-null   uint8  \n",
      " 30  st_KS        3333 non-null   uint8  \n",
      " 31  st_KY        3333 non-null   uint8  \n",
      " 32  st_LA        3333 non-null   uint8  \n",
      " 33  st_MA        3333 non-null   uint8  \n",
      " 34  st_MD        3333 non-null   uint8  \n",
      " 35  st_ME        3333 non-null   uint8  \n",
      " 36  st_MI        3333 non-null   uint8  \n",
      " 37  st_MN        3333 non-null   uint8  \n",
      " 38  st_MO        3333 non-null   uint8  \n",
      " 39  st_MS        3333 non-null   uint8  \n",
      " 40  st_MT        3333 non-null   uint8  \n",
      " 41  st_NC        3333 non-null   uint8  \n",
      " 42  st_ND        3333 non-null   uint8  \n",
      " 43  st_NE        3333 non-null   uint8  \n",
      " 44  st_NH        3333 non-null   uint8  \n",
      " 45  st_NJ        3333 non-null   uint8  \n",
      " 46  st_NM        3333 non-null   uint8  \n",
      " 47  st_NV        3333 non-null   uint8  \n",
      " 48  st_NY        3333 non-null   uint8  \n",
      " 49  st_OH        3333 non-null   uint8  \n",
      " 50  st_OK        3333 non-null   uint8  \n",
      " 51  st_OR        3333 non-null   uint8  \n",
      " 52  st_PA        3333 non-null   uint8  \n",
      " 53  st_RI        3333 non-null   uint8  \n",
      " 54  st_SC        3333 non-null   uint8  \n",
      " 55  st_SD        3333 non-null   uint8  \n",
      " 56  st_TN        3333 non-null   uint8  \n",
      " 57  st_TX        3333 non-null   uint8  \n",
      " 58  st_UT        3333 non-null   uint8  \n",
      " 59  st_VA        3333 non-null   uint8  \n",
      " 60  st_VT        3333 non-null   uint8  \n",
      " 61  st_WA        3333 non-null   uint8  \n",
      " 62  st_WI        3333 non-null   uint8  \n",
      " 63  st_WV        3333 non-null   uint8  \n",
      " 64  st_WY        3333 non-null   uint8  \n",
      " 65  intplan_yes  3333 non-null   uint8  \n",
      " 66  voice_yes    3333 non-null   uint8  \n",
      " 67  arcode_415   3333 non-null   uint8  \n",
      " 68  arcode_510   3333 non-null   uint8  \n",
      "dtypes: float64(8), int64(7), uint8(54)\n",
      "memory usage: 566.5 KB\n"
     ]
    }
   ],
   "source": [
    "xdfohe.info()"
   ]
  },
  {
   "cell_type": "code",
   "execution_count": 91,
   "metadata": {},
   "outputs": [
    {
     "data": {
      "text/plain": [
       "['acclen',\n",
       " 'nummailmes',\n",
       " 'tdmin',\n",
       " 'tdcal',\n",
       " 'tdchar',\n",
       " 'temin',\n",
       " 'tecal',\n",
       " 'tecahr',\n",
       " 'tnmin',\n",
       " 'tncal',\n",
       " 'tnchar',\n",
       " 'timin',\n",
       " 'tical',\n",
       " 'tichar',\n",
       " 'ncsc']"
      ]
     },
     "execution_count": 91,
     "metadata": {},
     "output_type": "execute_result"
    }
   ],
   "source": [
    "numcols=list(X.select_dtypes(exclude=\"object\").columns)\n",
    "numcols.remove(\"arcode\")\n",
    "numcols  # Continuous columns"
   ]
  },
  {
   "cell_type": "code",
   "execution_count": 92,
   "metadata": {},
   "outputs": [],
   "source": [
    "from sklearn import linear_model\n",
    "from sklearn import preprocessing\n",
    "from sklearn import model_selection"
   ]
  },
  {
   "cell_type": "code",
   "execution_count": 93,
   "metadata": {},
   "outputs": [
    {
     "data": {
      "text/plain": [
       "(2666, 69)"
      ]
     },
     "execution_count": 93,
     "metadata": {},
     "output_type": "execute_result"
    }
   ],
   "source": [
    "# Splitting into train and test data\n",
    "from sklearn import model_selection\n",
    "Xtrain,Xtest,ytrain,ytest=model_selection.train_test_split(xdfohe,y,test_size=.2,random_state=42)\n",
    "Xtrain.shape"
   ]
  },
  {
   "cell_type": "code",
   "execution_count": 94,
   "metadata": {},
   "outputs": [
    {
     "data": {
      "text/html": [
       "<div>\n",
       "<style scoped>\n",
       "    .dataframe tbody tr th:only-of-type {\n",
       "        vertical-align: middle;\n",
       "    }\n",
       "\n",
       "    .dataframe tbody tr th {\n",
       "        vertical-align: top;\n",
       "    }\n",
       "\n",
       "    .dataframe thead th {\n",
       "        text-align: right;\n",
       "    }\n",
       "</style>\n",
       "<table border=\"1\" class=\"dataframe\">\n",
       "  <thead>\n",
       "    <tr style=\"text-align: right;\">\n",
       "      <th></th>\n",
       "      <th>acclen</th>\n",
       "      <th>nummailmes</th>\n",
       "      <th>tdmin</th>\n",
       "      <th>tdcal</th>\n",
       "      <th>tdchar</th>\n",
       "      <th>temin</th>\n",
       "      <th>tecal</th>\n",
       "      <th>tecahr</th>\n",
       "      <th>tnmin</th>\n",
       "      <th>tncal</th>\n",
       "      <th>...</th>\n",
       "      <th>st_VA</th>\n",
       "      <th>st_VT</th>\n",
       "      <th>st_WA</th>\n",
       "      <th>st_WI</th>\n",
       "      <th>st_WV</th>\n",
       "      <th>st_WY</th>\n",
       "      <th>intplan_yes</th>\n",
       "      <th>voice_yes</th>\n",
       "      <th>arcode_415</th>\n",
       "      <th>arcode_510</th>\n",
       "    </tr>\n",
       "  </thead>\n",
       "  <tbody>\n",
       "    <tr>\n",
       "      <th>817</th>\n",
       "      <td>243</td>\n",
       "      <td>0</td>\n",
       "      <td>95.5</td>\n",
       "      <td>92</td>\n",
       "      <td>16.24</td>\n",
       "      <td>163.7</td>\n",
       "      <td>63</td>\n",
       "      <td>13.91</td>\n",
       "      <td>264.2</td>\n",
       "      <td>118</td>\n",
       "      <td>...</td>\n",
       "      <td>0</td>\n",
       "      <td>0</td>\n",
       "      <td>0</td>\n",
       "      <td>0</td>\n",
       "      <td>0</td>\n",
       "      <td>0</td>\n",
       "      <td>0</td>\n",
       "      <td>0</td>\n",
       "      <td>0</td>\n",
       "      <td>1</td>\n",
       "    </tr>\n",
       "    <tr>\n",
       "      <th>1373</th>\n",
       "      <td>108</td>\n",
       "      <td>0</td>\n",
       "      <td>112.0</td>\n",
       "      <td>105</td>\n",
       "      <td>19.04</td>\n",
       "      <td>193.7</td>\n",
       "      <td>110</td>\n",
       "      <td>16.46</td>\n",
       "      <td>208.9</td>\n",
       "      <td>93</td>\n",
       "      <td>...</td>\n",
       "      <td>0</td>\n",
       "      <td>0</td>\n",
       "      <td>0</td>\n",
       "      <td>0</td>\n",
       "      <td>0</td>\n",
       "      <td>0</td>\n",
       "      <td>0</td>\n",
       "      <td>0</td>\n",
       "      <td>1</td>\n",
       "      <td>0</td>\n",
       "    </tr>\n",
       "  </tbody>\n",
       "</table>\n",
       "<p>2 rows × 69 columns</p>\n",
       "</div>"
      ],
      "text/plain": [
       "      acclen  nummailmes  tdmin  tdcal  tdchar  temin  tecal  tecahr  tnmin  \\\n",
       "817      243           0   95.5     92   16.24  163.7     63   13.91  264.2   \n",
       "1373     108           0  112.0    105   19.04  193.7    110   16.46  208.9   \n",
       "\n",
       "      tncal  ...  st_VA  st_VT  st_WA  st_WI  st_WV  st_WY  intplan_yes  \\\n",
       "817     118  ...      0      0      0      0      0      0            0   \n",
       "1373     93  ...      0      0      0      0      0      0            0   \n",
       "\n",
       "      voice_yes  arcode_415  arcode_510  \n",
       "817           0           0           1  \n",
       "1373          0           1           0  \n",
       "\n",
       "[2 rows x 69 columns]"
      ]
     },
     "execution_count": 94,
     "metadata": {},
     "output_type": "execute_result"
    }
   ],
   "source": [
    "Xtrain[ :2]"
   ]
  },
  {
   "cell_type": "code",
   "execution_count": 95,
   "metadata": {},
   "outputs": [
    {
     "data": {
      "text/plain": [
       "(667, 69)"
      ]
     },
     "execution_count": 95,
     "metadata": {},
     "output_type": "execute_result"
    }
   ],
   "source": [
    "Xtest.shape"
   ]
  },
  {
   "cell_type": "markdown",
   "metadata": {},
   "source": [
    "### Performing Scaling of continuous columns"
   ]
  },
  {
   "cell_type": "code",
   "execution_count": 96,
   "metadata": {},
   "outputs": [],
   "source": [
    "scaler=preprocessing.StandardScaler()\n",
    "Xtrain[numcols]=scaler.fit_transform(Xtrain[numcols])\n",
    "Xtest[numcols]=scaler.transform(Xtest[numcols])"
   ]
  },
  {
   "cell_type": "code",
   "execution_count": 97,
   "metadata": {},
   "outputs": [
    {
     "data": {
      "text/html": [
       "<div>\n",
       "<style scoped>\n",
       "    .dataframe tbody tr th:only-of-type {\n",
       "        vertical-align: middle;\n",
       "    }\n",
       "\n",
       "    .dataframe tbody tr th {\n",
       "        vertical-align: top;\n",
       "    }\n",
       "\n",
       "    .dataframe thead th {\n",
       "        text-align: right;\n",
       "    }\n",
       "</style>\n",
       "<table border=\"1\" class=\"dataframe\">\n",
       "  <thead>\n",
       "    <tr style=\"text-align: right;\">\n",
       "      <th></th>\n",
       "      <th>acclen</th>\n",
       "      <th>nummailmes</th>\n",
       "      <th>tdmin</th>\n",
       "      <th>tdcal</th>\n",
       "      <th>tdchar</th>\n",
       "      <th>temin</th>\n",
       "      <th>tecal</th>\n",
       "      <th>tecahr</th>\n",
       "      <th>tnmin</th>\n",
       "      <th>tncal</th>\n",
       "      <th>...</th>\n",
       "      <th>st_VA</th>\n",
       "      <th>st_VT</th>\n",
       "      <th>st_WA</th>\n",
       "      <th>st_WI</th>\n",
       "      <th>st_WV</th>\n",
       "      <th>st_WY</th>\n",
       "      <th>intplan_yes</th>\n",
       "      <th>voice_yes</th>\n",
       "      <th>arcode_415</th>\n",
       "      <th>arcode_510</th>\n",
       "    </tr>\n",
       "  </thead>\n",
       "  <tbody>\n",
       "    <tr>\n",
       "      <th>817</th>\n",
       "      <td>3.601382</td>\n",
       "      <td>-0.584936</td>\n",
       "      <td>-1.547653</td>\n",
       "      <td>-0.429657</td>\n",
       "      <td>-1.547170</td>\n",
       "      <td>-0.729987</td>\n",
       "      <td>-1.840891</td>\n",
       "      <td>-0.731087</td>\n",
       "      <td>1.255804</td>\n",
       "      <td>0.925634</td>\n",
       "      <td>...</td>\n",
       "      <td>0</td>\n",
       "      <td>0</td>\n",
       "      <td>0</td>\n",
       "      <td>0</td>\n",
       "      <td>0</td>\n",
       "      <td>0</td>\n",
       "      <td>0</td>\n",
       "      <td>0</td>\n",
       "      <td>0</td>\n",
       "      <td>1</td>\n",
       "    </tr>\n",
       "    <tr>\n",
       "      <th>1373</th>\n",
       "      <td>0.184951</td>\n",
       "      <td>-0.584936</td>\n",
       "      <td>-1.244014</td>\n",
       "      <td>0.224176</td>\n",
       "      <td>-1.244071</td>\n",
       "      <td>-0.138082</td>\n",
       "      <td>0.499864</td>\n",
       "      <td>-0.139179</td>\n",
       "      <td>0.165090</td>\n",
       "      <td>-0.353704</td>\n",
       "      <td>...</td>\n",
       "      <td>0</td>\n",
       "      <td>0</td>\n",
       "      <td>0</td>\n",
       "      <td>0</td>\n",
       "      <td>0</td>\n",
       "      <td>0</td>\n",
       "      <td>0</td>\n",
       "      <td>0</td>\n",
       "      <td>1</td>\n",
       "      <td>0</td>\n",
       "    </tr>\n",
       "  </tbody>\n",
       "</table>\n",
       "<p>2 rows × 69 columns</p>\n",
       "</div>"
      ],
      "text/plain": [
       "        acclen  nummailmes     tdmin     tdcal    tdchar     temin     tecal  \\\n",
       "817   3.601382   -0.584936 -1.547653 -0.429657 -1.547170 -0.729987 -1.840891   \n",
       "1373  0.184951   -0.584936 -1.244014  0.224176 -1.244071 -0.138082  0.499864   \n",
       "\n",
       "        tecahr     tnmin     tncal  ...  st_VA  st_VT  st_WA  st_WI  st_WV  \\\n",
       "817  -0.731087  1.255804  0.925634  ...      0      0      0      0      0   \n",
       "1373 -0.139179  0.165090 -0.353704  ...      0      0      0      0      0   \n",
       "\n",
       "      st_WY  intplan_yes  voice_yes  arcode_415  arcode_510  \n",
       "817       0            0          0           0           1  \n",
       "1373      0            0          0           1           0  \n",
       "\n",
       "[2 rows x 69 columns]"
      ]
     },
     "execution_count": 97,
     "metadata": {},
     "output_type": "execute_result"
    }
   ],
   "source": [
    "Xtrain[ :2]"
   ]
  },
  {
   "cell_type": "code",
   "execution_count": 98,
   "metadata": {},
   "outputs": [],
   "source": [
    "from sklearn import metrics"
   ]
  },
  {
   "cell_type": "code",
   "execution_count": 99,
   "metadata": {},
   "outputs": [],
   "source": [
    "def printscores(actual,pred):\n",
    "    print(\"AUC:\",metrics.roc_auc_score(actual,pred))\n",
    "    print(\"accuracy:\",metrics.accuracy_score(actual,pred))\n",
    "    print(\"recall  :\",metrics.recall_score(actual,pred))\n",
    "    print(\"precision :\",metrics.precision_score(actual,pred))\n",
    "    print(\"f1-score : \",metrics.f1_score(actual,pred))"
   ]
  },
  {
   "cell_type": "markdown",
   "metadata": {},
   "source": [
    "## Fitting training data into a LogisticRegression model with all columns"
   ]
  },
  {
   "cell_type": "code",
   "execution_count": 100,
   "metadata": {},
   "outputs": [],
   "source": [
    "model=linear_model.LogisticRegression()\n",
    "model.fit(Xtrain,ytrain)\n",
    "testpred=model.predict(Xtest)\n",
    "trainpred=model.predict(Xtrain)"
   ]
  },
  {
   "cell_type": "markdown",
   "metadata": {},
   "source": [
    "### Predicting with train and test data"
   ]
  },
  {
   "cell_type": "code",
   "execution_count": 101,
   "metadata": {},
   "outputs": [],
   "source": [
    "testpred=model.predict(Xtest)\n",
    "trainpred=model.predict(Xtrain)"
   ]
  },
  {
   "cell_type": "markdown",
   "metadata": {},
   "source": [
    "### Checking metrics of the model (all columns included)"
   ]
  },
  {
   "cell_type": "code",
   "execution_count": 102,
   "metadata": {},
   "outputs": [
    {
     "name": "stdout",
     "output_type": "stream",
     "text": [
      "AUC: 0.6157941427274645\n",
      "accuracy: 0.872093023255814\n",
      "recall  : 0.25654450261780104\n",
      "precision : 0.632258064516129\n",
      "f1-score :  0.3649906890130354\n"
     ]
    }
   ],
   "source": [
    "printscores(ytrain,trainpred)"
   ]
  },
  {
   "cell_type": "code",
   "execution_count": 103,
   "metadata": {},
   "outputs": [
    {
     "name": "stdout",
     "output_type": "stream",
     "text": [
      "AUC: 0.575858027498863\n",
      "accuracy: 0.8530734632683659\n",
      "recall  : 0.1782178217821782\n",
      "precision : 0.5454545454545454\n",
      "f1-score :  0.26865671641791045\n"
     ]
    }
   ],
   "source": [
    "printscores(ytest,testpred)"
   ]
  },
  {
   "cell_type": "markdown",
   "metadata": {},
   "source": [
    "### Reducing no of columns using RFE"
   ]
  },
  {
   "cell_type": "code",
   "execution_count": 104,
   "metadata": {},
   "outputs": [
    {
     "data": {
      "text/plain": [
       "Index(['tdmin', 'tdchar', 'temin', 'ncsc', 'st_AL', 'st_AR', 'st_AZ', 'st_CA',\n",
       "       'st_HI', 'st_IL', 'st_KS', 'st_LA', 'st_MD', 'st_ME', 'st_MI', 'st_MN',\n",
       "       'st_MS', 'st_MT', 'st_ND', 'st_NJ', 'st_NV', 'st_PA', 'st_RI', 'st_SC',\n",
       "       'st_TX', 'st_VA', 'st_VT', 'st_WA', 'intplan_yes', 'voice_yes'],\n",
       "      dtype='object')"
      ]
     },
     "execution_count": 104,
     "metadata": {},
     "output_type": "execute_result"
    }
   ],
   "source": [
    "from sklearn import feature_selection\n",
    "rfeobj=feature_selection.RFE(linear_model.LogisticRegression(),n_features_to_select=30)\n",
    "rfeobj.fit(Xtrain,ytrain)\n",
    "impcols=Xtrain.columns[rfeobj.support_] \n",
    "impcols"
   ]
  },
  {
   "cell_type": "markdown",
   "metadata": {},
   "source": [
    "### Checking the colinearity of 30 important columns"
   ]
  },
  {
   "cell_type": "code",
   "execution_count": 105,
   "metadata": {},
   "outputs": [
    {
     "data": {
      "text/html": [
       "<div>\n",
       "<style scoped>\n",
       "    .dataframe tbody tr th:only-of-type {\n",
       "        vertical-align: middle;\n",
       "    }\n",
       "\n",
       "    .dataframe tbody tr th {\n",
       "        vertical-align: top;\n",
       "    }\n",
       "\n",
       "    .dataframe thead th {\n",
       "        text-align: right;\n",
       "    }\n",
       "</style>\n",
       "<table border=\"1\" class=\"dataframe\">\n",
       "  <thead>\n",
       "    <tr style=\"text-align: right;\">\n",
       "      <th></th>\n",
       "      <th>Features</th>\n",
       "      <th>VIF</th>\n",
       "    </tr>\n",
       "  </thead>\n",
       "  <tbody>\n",
       "    <tr>\n",
       "      <th>0</th>\n",
       "      <td>tdmin</td>\n",
       "      <td>1.065417e+07</td>\n",
       "    </tr>\n",
       "    <tr>\n",
       "      <th>1</th>\n",
       "      <td>tdchar</td>\n",
       "      <td>1.065416e+07</td>\n",
       "    </tr>\n",
       "    <tr>\n",
       "      <th>2</th>\n",
       "      <td>temin</td>\n",
       "      <td>1.012692e+00</td>\n",
       "    </tr>\n",
       "    <tr>\n",
       "      <th>3</th>\n",
       "      <td>ncsc</td>\n",
       "      <td>1.012128e+00</td>\n",
       "    </tr>\n",
       "    <tr>\n",
       "      <th>4</th>\n",
       "      <td>st_AL</td>\n",
       "      <td>1.012615e+00</td>\n",
       "    </tr>\n",
       "    <tr>\n",
       "      <th>5</th>\n",
       "      <td>st_AR</td>\n",
       "      <td>1.014110e+00</td>\n",
       "    </tr>\n",
       "    <tr>\n",
       "      <th>6</th>\n",
       "      <td>st_AZ</td>\n",
       "      <td>1.011560e+00</td>\n",
       "    </tr>\n",
       "    <tr>\n",
       "      <th>7</th>\n",
       "      <td>st_CA</td>\n",
       "      <td>1.004405e+00</td>\n",
       "    </tr>\n",
       "    <tr>\n",
       "      <th>8</th>\n",
       "      <td>st_HI</td>\n",
       "      <td>1.011903e+00</td>\n",
       "    </tr>\n",
       "    <tr>\n",
       "      <th>9</th>\n",
       "      <td>st_IL</td>\n",
       "      <td>1.021704e+00</td>\n",
       "    </tr>\n",
       "    <tr>\n",
       "      <th>10</th>\n",
       "      <td>st_KS</td>\n",
       "      <td>1.010956e+00</td>\n",
       "    </tr>\n",
       "    <tr>\n",
       "      <th>11</th>\n",
       "      <td>st_LA</td>\n",
       "      <td>1.005328e+00</td>\n",
       "    </tr>\n",
       "    <tr>\n",
       "      <th>12</th>\n",
       "      <td>st_MD</td>\n",
       "      <td>1.010088e+00</td>\n",
       "    </tr>\n",
       "    <tr>\n",
       "      <th>13</th>\n",
       "      <td>st_ME</td>\n",
       "      <td>1.007833e+00</td>\n",
       "    </tr>\n",
       "    <tr>\n",
       "      <th>14</th>\n",
       "      <td>st_MI</td>\n",
       "      <td>1.012222e+00</td>\n",
       "    </tr>\n",
       "    <tr>\n",
       "      <th>15</th>\n",
       "      <td>st_MN</td>\n",
       "      <td>1.011060e+00</td>\n",
       "    </tr>\n",
       "    <tr>\n",
       "      <th>16</th>\n",
       "      <td>st_MS</td>\n",
       "      <td>1.013206e+00</td>\n",
       "    </tr>\n",
       "    <tr>\n",
       "      <th>17</th>\n",
       "      <td>st_MT</td>\n",
       "      <td>1.012077e+00</td>\n",
       "    </tr>\n",
       "    <tr>\n",
       "      <th>18</th>\n",
       "      <td>st_ND</td>\n",
       "      <td>1.012390e+00</td>\n",
       "    </tr>\n",
       "    <tr>\n",
       "      <th>19</th>\n",
       "      <td>st_NJ</td>\n",
       "      <td>1.010324e+00</td>\n",
       "    </tr>\n",
       "    <tr>\n",
       "      <th>20</th>\n",
       "      <td>st_NV</td>\n",
       "      <td>1.008336e+00</td>\n",
       "    </tr>\n",
       "    <tr>\n",
       "      <th>21</th>\n",
       "      <td>st_PA</td>\n",
       "      <td>1.010088e+00</td>\n",
       "    </tr>\n",
       "    <tr>\n",
       "      <th>22</th>\n",
       "      <td>st_RI</td>\n",
       "      <td>1.011012e+00</td>\n",
       "    </tr>\n",
       "    <tr>\n",
       "      <th>23</th>\n",
       "      <td>st_SC</td>\n",
       "      <td>1.007093e+00</td>\n",
       "    </tr>\n",
       "    <tr>\n",
       "      <th>24</th>\n",
       "      <td>st_TX</td>\n",
       "      <td>1.005602e+00</td>\n",
       "    </tr>\n",
       "    <tr>\n",
       "      <th>25</th>\n",
       "      <td>st_VA</td>\n",
       "      <td>1.006753e+00</td>\n",
       "    </tr>\n",
       "    <tr>\n",
       "      <th>26</th>\n",
       "      <td>st_VT</td>\n",
       "      <td>1.005240e+00</td>\n",
       "    </tr>\n",
       "    <tr>\n",
       "      <th>27</th>\n",
       "      <td>st_WA</td>\n",
       "      <td>1.002040e+00</td>\n",
       "    </tr>\n",
       "    <tr>\n",
       "      <th>28</th>\n",
       "      <td>intplan_yes</td>\n",
       "      <td>1.091309e+00</td>\n",
       "    </tr>\n",
       "    <tr>\n",
       "      <th>29</th>\n",
       "      <td>voice_yes</td>\n",
       "      <td>1.156828e+00</td>\n",
       "    </tr>\n",
       "  </tbody>\n",
       "</table>\n",
       "</div>"
      ],
      "text/plain": [
       "       Features           VIF\n",
       "0         tdmin  1.065417e+07\n",
       "1        tdchar  1.065416e+07\n",
       "2         temin  1.012692e+00\n",
       "3          ncsc  1.012128e+00\n",
       "4         st_AL  1.012615e+00\n",
       "5         st_AR  1.014110e+00\n",
       "6         st_AZ  1.011560e+00\n",
       "7         st_CA  1.004405e+00\n",
       "8         st_HI  1.011903e+00\n",
       "9         st_IL  1.021704e+00\n",
       "10        st_KS  1.010956e+00\n",
       "11        st_LA  1.005328e+00\n",
       "12        st_MD  1.010088e+00\n",
       "13        st_ME  1.007833e+00\n",
       "14        st_MI  1.012222e+00\n",
       "15        st_MN  1.011060e+00\n",
       "16        st_MS  1.013206e+00\n",
       "17        st_MT  1.012077e+00\n",
       "18        st_ND  1.012390e+00\n",
       "19        st_NJ  1.010324e+00\n",
       "20        st_NV  1.008336e+00\n",
       "21        st_PA  1.010088e+00\n",
       "22        st_RI  1.011012e+00\n",
       "23        st_SC  1.007093e+00\n",
       "24        st_TX  1.005602e+00\n",
       "25        st_VA  1.006753e+00\n",
       "26        st_VT  1.005240e+00\n",
       "27        st_WA  1.002040e+00\n",
       "28  intplan_yes  1.091309e+00\n",
       "29    voice_yes  1.156828e+00"
      ]
     },
     "execution_count": 105,
     "metadata": {},
     "output_type": "execute_result"
    }
   ],
   "source": [
    "from statsmodels.stats.outliers_influence import variance_inflation_factor\n",
    "vifdf = pd.DataFrame() \n",
    "vifdf['Features'] = Xtrain[impcols].columns\n",
    "vifdf['VIF'] = [ variance_inflation_factor(Xtrain[impcols].values, i) for i in range(Xtrain[impcols].shape[1])]\n",
    "vifdf"
   ]
  },
  {
   "cell_type": "code",
   "execution_count": null,
   "metadata": {},
   "outputs": [],
   "source": []
  },
  {
   "cell_type": "code",
   "execution_count": null,
   "metadata": {},
   "outputs": [],
   "source": []
  },
  {
   "cell_type": "markdown",
   "metadata": {},
   "source": [
    "## Checking the significance of 30 columns"
   ]
  },
  {
   "cell_type": "code",
   "execution_count": 106,
   "metadata": {},
   "outputs": [
    {
     "data": {
      "text/html": [
       "<table class=\"simpletable\">\n",
       "<caption>Generalized Linear Model Regression Results</caption>\n",
       "<tr>\n",
       "  <th>Dep. Variable:</th>         <td>label</td>      <th>  No. Observations:  </th>  <td>  2666</td> \n",
       "</tr>\n",
       "<tr>\n",
       "  <th>Model:</th>                  <td>GLM</td>       <th>  Df Residuals:      </th>  <td>  2635</td> \n",
       "</tr>\n",
       "<tr>\n",
       "  <th>Model Family:</th>        <td>Binomial</td>     <th>  Df Model:          </th>  <td>    30</td> \n",
       "</tr>\n",
       "<tr>\n",
       "  <th>Link Function:</th>         <td>logit</td>      <th>  Scale:             </th> <td>  1.0000</td>\n",
       "</tr>\n",
       "<tr>\n",
       "  <th>Method:</th>                <td>IRLS</td>       <th>  Log-Likelihood:    </th> <td> -843.21</td>\n",
       "</tr>\n",
       "<tr>\n",
       "  <th>Date:</th>            <td>Thu, 17 Feb 2022</td> <th>  Deviance:          </th> <td>  1686.4</td>\n",
       "</tr>\n",
       "<tr>\n",
       "  <th>Time:</th>                <td>20:02:19</td>     <th>  Pearson chi2:      </th> <td>2.49e+03</td>\n",
       "</tr>\n",
       "<tr>\n",
       "  <th>No. Iterations:</th>          <td>6</td>        <th>                     </th>     <td> </td>   \n",
       "</tr>\n",
       "<tr>\n",
       "  <th>Covariance Type:</th>     <td>nonrobust</td>    <th>                     </th>     <td> </td>   \n",
       "</tr>\n",
       "</table>\n",
       "<table class=\"simpletable\">\n",
       "<tr>\n",
       "       <td></td>          <th>coef</th>     <th>std err</th>      <th>z</th>      <th>P>|z|</th>  <th>[0.025</th>    <th>0.975]</th>  \n",
       "</tr>\n",
       "<tr>\n",
       "  <th>const</th>       <td>   -2.3641</td> <td>    0.107</td> <td>  -22.092</td> <td> 0.000</td> <td>   -2.574</td> <td>   -2.154</td>\n",
       "</tr>\n",
       "<tr>\n",
       "  <th>tdmin</th>       <td> -115.6565</td> <td>  205.156</td> <td>   -0.564</td> <td> 0.573</td> <td> -517.756</td> <td>  286.443</td>\n",
       "</tr>\n",
       "<tr>\n",
       "  <th>tdchar</th>      <td>  116.2964</td> <td>  205.157</td> <td>    0.567</td> <td> 0.571</td> <td> -285.803</td> <td>  518.396</td>\n",
       "</tr>\n",
       "<tr>\n",
       "  <th>temin</th>       <td>    0.3037</td> <td>    0.065</td> <td>    4.640</td> <td> 0.000</td> <td>    0.175</td> <td>    0.432</td>\n",
       "</tr>\n",
       "<tr>\n",
       "  <th>ncsc</th>        <td>    0.6895</td> <td>    0.059</td> <td>   11.756</td> <td> 0.000</td> <td>    0.575</td> <td>    0.804</td>\n",
       "</tr>\n",
       "<tr>\n",
       "  <th>st_AL</th>       <td>   -1.0546</td> <td>    0.575</td> <td>   -1.833</td> <td> 0.067</td> <td>   -2.182</td> <td>    0.073</td>\n",
       "</tr>\n",
       "<tr>\n",
       "  <th>st_AR</th>       <td>    0.5184</td> <td>    0.432</td> <td>    1.200</td> <td> 0.230</td> <td>   -0.329</td> <td>    1.365</td>\n",
       "</tr>\n",
       "<tr>\n",
       "  <th>st_AZ</th>       <td>   -0.7159</td> <td>    0.644</td> <td>   -1.111</td> <td> 0.266</td> <td>   -1.979</td> <td>    0.547</td>\n",
       "</tr>\n",
       "<tr>\n",
       "  <th>st_CA</th>       <td>    0.8542</td> <td>    0.523</td> <td>    1.632</td> <td> 0.103</td> <td>   -0.171</td> <td>    1.880</td>\n",
       "</tr>\n",
       "<tr>\n",
       "  <th>st_HI</th>       <td>   -0.8237</td> <td>    0.647</td> <td>   -1.273</td> <td> 0.203</td> <td>   -2.092</td> <td>    0.445</td>\n",
       "</tr>\n",
       "<tr>\n",
       "  <th>st_IL</th>       <td>   -0.9150</td> <td>    0.600</td> <td>   -1.524</td> <td> 0.127</td> <td>   -2.092</td> <td>    0.262</td>\n",
       "</tr>\n",
       "<tr>\n",
       "  <th>st_KS</th>       <td>    0.6237</td> <td>    0.385</td> <td>    1.622</td> <td> 0.105</td> <td>   -0.130</td> <td>    1.378</td>\n",
       "</tr>\n",
       "<tr>\n",
       "  <th>st_LA</th>       <td>   -0.4395</td> <td>    0.624</td> <td>   -0.704</td> <td> 0.481</td> <td>   -1.663</td> <td>    0.784</td>\n",
       "</tr>\n",
       "<tr>\n",
       "  <th>st_MD</th>       <td>    0.4405</td> <td>    0.362</td> <td>    1.217</td> <td> 0.224</td> <td>   -0.269</td> <td>    1.150</td>\n",
       "</tr>\n",
       "<tr>\n",
       "  <th>st_ME</th>       <td>    0.6399</td> <td>    0.409</td> <td>    1.566</td> <td> 0.117</td> <td>   -0.161</td> <td>    1.441</td>\n",
       "</tr>\n",
       "<tr>\n",
       "  <th>st_MI</th>       <td>    0.5335</td> <td>    0.370</td> <td>    1.442</td> <td> 0.149</td> <td>   -0.192</td> <td>    1.259</td>\n",
       "</tr>\n",
       "<tr>\n",
       "  <th>st_MN</th>       <td>    0.6408</td> <td>    0.364</td> <td>    1.762</td> <td> 0.078</td> <td>   -0.072</td> <td>    1.354</td>\n",
       "</tr>\n",
       "<tr>\n",
       "  <th>st_MS</th>       <td>    0.5910</td> <td>    0.448</td> <td>    1.319</td> <td> 0.187</td> <td>   -0.287</td> <td>    1.469</td>\n",
       "</tr>\n",
       "<tr>\n",
       "  <th>st_MT</th>       <td>    1.0197</td> <td>    0.380</td> <td>    2.681</td> <td> 0.007</td> <td>    0.274</td> <td>    1.765</td>\n",
       "</tr>\n",
       "<tr>\n",
       "  <th>st_ND</th>       <td>   -1.7972</td> <td>    0.795</td> <td>   -2.261</td> <td> 0.024</td> <td>   -3.355</td> <td>   -0.239</td>\n",
       "</tr>\n",
       "<tr>\n",
       "  <th>st_NJ</th>       <td>    0.9219</td> <td>    0.362</td> <td>    2.549</td> <td> 0.011</td> <td>    0.213</td> <td>    1.631</td>\n",
       "</tr>\n",
       "<tr>\n",
       "  <th>st_NV</th>       <td>    0.7320</td> <td>    0.375</td> <td>    1.950</td> <td> 0.051</td> <td>   -0.004</td> <td>    1.468</td>\n",
       "</tr>\n",
       "<tr>\n",
       "  <th>st_PA</th>       <td>    0.7296</td> <td>    0.499</td> <td>    1.462</td> <td> 0.144</td> <td>   -0.249</td> <td>    1.708</td>\n",
       "</tr>\n",
       "<tr>\n",
       "  <th>st_RI</th>       <td>   -0.5948</td> <td>    0.584</td> <td>   -1.018</td> <td> 0.309</td> <td>   -1.740</td> <td>    0.550</td>\n",
       "</tr>\n",
       "<tr>\n",
       "  <th>st_SC</th>       <td>    1.1826</td> <td>    0.401</td> <td>    2.946</td> <td> 0.003</td> <td>    0.396</td> <td>    1.969</td>\n",
       "</tr>\n",
       "<tr>\n",
       "  <th>st_TX</th>       <td>    1.0275</td> <td>    0.343</td> <td>    2.995</td> <td> 0.003</td> <td>    0.355</td> <td>    1.700</td>\n",
       "</tr>\n",
       "<tr>\n",
       "  <th>st_VA</th>       <td>   -0.6800</td> <td>    0.517</td> <td>   -1.316</td> <td> 0.188</td> <td>   -1.693</td> <td>    0.333</td>\n",
       "</tr>\n",
       "<tr>\n",
       "  <th>st_VT</th>       <td>   -1.3310</td> <td>    0.675</td> <td>   -1.971</td> <td> 0.049</td> <td>   -2.655</td> <td>   -0.007</td>\n",
       "</tr>\n",
       "<tr>\n",
       "  <th>st_WA</th>       <td>    0.4988</td> <td>    0.394</td> <td>    1.265</td> <td> 0.206</td> <td>   -0.274</td> <td>    1.272</td>\n",
       "</tr>\n",
       "<tr>\n",
       "  <th>intplan_yes</th> <td>    2.2122</td> <td>    0.168</td> <td>   13.150</td> <td> 0.000</td> <td>    1.883</td> <td>    2.542</td>\n",
       "</tr>\n",
       "<tr>\n",
       "  <th>voice_yes</th>   <td>   -0.9653</td> <td>    0.167</td> <td>   -5.785</td> <td> 0.000</td> <td>   -1.292</td> <td>   -0.638</td>\n",
       "</tr>\n",
       "</table>"
      ],
      "text/plain": [
       "<class 'statsmodels.iolib.summary.Summary'>\n",
       "\"\"\"\n",
       "                 Generalized Linear Model Regression Results                  \n",
       "==============================================================================\n",
       "Dep. Variable:                  label   No. Observations:                 2666\n",
       "Model:                            GLM   Df Residuals:                     2635\n",
       "Model Family:                Binomial   Df Model:                           30\n",
       "Link Function:                  logit   Scale:                          1.0000\n",
       "Method:                          IRLS   Log-Likelihood:                -843.21\n",
       "Date:                Thu, 17 Feb 2022   Deviance:                       1686.4\n",
       "Time:                        20:02:19   Pearson chi2:                 2.49e+03\n",
       "No. Iterations:                     6                                         \n",
       "Covariance Type:            nonrobust                                         \n",
       "===============================================================================\n",
       "                  coef    std err          z      P>|z|      [0.025      0.975]\n",
       "-------------------------------------------------------------------------------\n",
       "const          -2.3641      0.107    -22.092      0.000      -2.574      -2.154\n",
       "tdmin        -115.6565    205.156     -0.564      0.573    -517.756     286.443\n",
       "tdchar        116.2964    205.157      0.567      0.571    -285.803     518.396\n",
       "temin           0.3037      0.065      4.640      0.000       0.175       0.432\n",
       "ncsc            0.6895      0.059     11.756      0.000       0.575       0.804\n",
       "st_AL          -1.0546      0.575     -1.833      0.067      -2.182       0.073\n",
       "st_AR           0.5184      0.432      1.200      0.230      -0.329       1.365\n",
       "st_AZ          -0.7159      0.644     -1.111      0.266      -1.979       0.547\n",
       "st_CA           0.8542      0.523      1.632      0.103      -0.171       1.880\n",
       "st_HI          -0.8237      0.647     -1.273      0.203      -2.092       0.445\n",
       "st_IL          -0.9150      0.600     -1.524      0.127      -2.092       0.262\n",
       "st_KS           0.6237      0.385      1.622      0.105      -0.130       1.378\n",
       "st_LA          -0.4395      0.624     -0.704      0.481      -1.663       0.784\n",
       "st_MD           0.4405      0.362      1.217      0.224      -0.269       1.150\n",
       "st_ME           0.6399      0.409      1.566      0.117      -0.161       1.441\n",
       "st_MI           0.5335      0.370      1.442      0.149      -0.192       1.259\n",
       "st_MN           0.6408      0.364      1.762      0.078      -0.072       1.354\n",
       "st_MS           0.5910      0.448      1.319      0.187      -0.287       1.469\n",
       "st_MT           1.0197      0.380      2.681      0.007       0.274       1.765\n",
       "st_ND          -1.7972      0.795     -2.261      0.024      -3.355      -0.239\n",
       "st_NJ           0.9219      0.362      2.549      0.011       0.213       1.631\n",
       "st_NV           0.7320      0.375      1.950      0.051      -0.004       1.468\n",
       "st_PA           0.7296      0.499      1.462      0.144      -0.249       1.708\n",
       "st_RI          -0.5948      0.584     -1.018      0.309      -1.740       0.550\n",
       "st_SC           1.1826      0.401      2.946      0.003       0.396       1.969\n",
       "st_TX           1.0275      0.343      2.995      0.003       0.355       1.700\n",
       "st_VA          -0.6800      0.517     -1.316      0.188      -1.693       0.333\n",
       "st_VT          -1.3310      0.675     -1.971      0.049      -2.655      -0.007\n",
       "st_WA           0.4988      0.394      1.265      0.206      -0.274       1.272\n",
       "intplan_yes     2.2122      0.168     13.150      0.000       1.883       2.542\n",
       "voice_yes      -0.9653      0.167     -5.785      0.000      -1.292      -0.638\n",
       "===============================================================================\n",
       "\"\"\""
      ]
     },
     "execution_count": 106,
     "metadata": {},
     "output_type": "execute_result"
    }
   ],
   "source": [
    "import statsmodels.api as sm\n",
    "Xtrainsm=sm.add_constant(Xtrain[impcols])\n",
    "model = sm.GLM(  ytrain ,  Xtrainsm,  family = sm.families.Binomial())\n",
    "results=model.fit()\n",
    "results.summary()"
   ]
  },
  {
   "cell_type": "markdown",
   "metadata": {},
   "source": [
    "#### \"tdmin\",\"tdchar\",\"st_RI\",\"st_MD\",\"st_HI\",\"st_AZ',\"st_AR\" - Non- significant Columns"
   ]
  },
  {
   "cell_type": "markdown",
   "metadata": {},
   "source": [
    "## Fitting training data with 30 columns into LogisticRegression model"
   ]
  },
  {
   "cell_type": "code",
   "execution_count": 107,
   "metadata": {},
   "outputs": [],
   "source": [
    "model=linear_model.LogisticRegression()\n",
    "model.fit(Xtrain[impcols],ytrain)\n",
    "trainpred=model.predict(Xtrain[impcols])\n",
    "testpred=model.predict(Xtest[impcols])"
   ]
  },
  {
   "cell_type": "markdown",
   "metadata": {},
   "source": [
    "### Checking metrics of the model (30 columns included)"
   ]
  },
  {
   "cell_type": "code",
   "execution_count": 108,
   "metadata": {},
   "outputs": [
    {
     "name": "stdout",
     "output_type": "stream",
     "text": [
      "AUC: 0.5841662005666555\n",
      "accuracy: 0.8645911477869468\n",
      "recall  : 0.19109947643979058\n",
      "precision : 0.584\n",
      "f1-score :  0.2879684418145957\n"
     ]
    }
   ],
   "source": [
    "printscores(ytrain,trainpred)"
   ]
  },
  {
   "cell_type": "code",
   "execution_count": 109,
   "metadata": {
    "scrolled": true
   },
   "outputs": [],
   "source": [
    "#AUC: 0.6157941427274645\n",
    "#accuracy: 0.872093023255814\n",
    "#recall  : 0.25654450261780104\n",
    "#precision : 0.632258064516129\n",
    "#f1-score :  0.3649906890130354\n",
    "    #Previous"
   ]
  },
  {
   "cell_type": "code",
   "execution_count": 110,
   "metadata": {},
   "outputs": [
    {
     "name": "stdout",
     "output_type": "stream",
     "text": [
      "AUC: 0.5610065423503481\n",
      "accuracy: 0.848575712143928\n",
      "recall  : 0.1485148514851485\n",
      "precision : 0.5\n",
      "f1-score :  0.22900763358778625\n"
     ]
    }
   ],
   "source": [
    "printscores(ytest,testpred)"
   ]
  },
  {
   "cell_type": "code",
   "execution_count": 111,
   "metadata": {},
   "outputs": [],
   "source": [
    "#AUC: 0.575858027498863\n",
    "#accuracy: 0.8530734632683659\n",
    "#recall  : 0.1782178217821782\n",
    "#precision : 0.5454545454545454\n",
    "#f1-score :  0.26865671641791045\n",
    "    #Previous"
   ]
  },
  {
   "cell_type": "markdown",
   "metadata": {},
   "source": [
    "### Reducing no of columns using RFE"
   ]
  },
  {
   "cell_type": "code",
   "execution_count": 112,
   "metadata": {},
   "outputs": [
    {
     "data": {
      "text/plain": [
       "Index(['tdchar', 'ncsc', 'st_AL', 'st_AZ', 'st_HI', 'st_IL', 'st_MT', 'st_ND',\n",
       "       'st_NJ', 'st_SC', 'st_TX', 'st_VA', 'st_VT', 'intplan_yes',\n",
       "       'voice_yes'],\n",
       "      dtype='object')"
      ]
     },
     "execution_count": 112,
     "metadata": {},
     "output_type": "execute_result"
    }
   ],
   "source": [
    "from sklearn import feature_selection\n",
    "rfeobj=feature_selection.RFE(linear_model.LogisticRegression(),n_features_to_select=15)\n",
    "rfeobj.fit(Xtrain,ytrain)\n",
    "impcols=Xtrain.columns[rfeobj.support_] \n",
    "impcols"
   ]
  },
  {
   "cell_type": "code",
   "execution_count": 113,
   "metadata": {},
   "outputs": [],
   "source": [
    "#rfeobj=feature_selection.RFE(linear_model.LogisticRegression())\n",
    "#params={\"n_features_to_select\":list(range(15,60))}\n",
    "#gridobj=model_selection.GridSearchCV(estimator=rfeobj,param_grid=params,scoring=\"recall\",cv=5,return_train_score=True)"
   ]
  },
  {
   "cell_type": "code",
   "execution_count": 114,
   "metadata": {},
   "outputs": [],
   "source": [
    "#gridobj.fit(Xtrain,ytrain)"
   ]
  },
  {
   "cell_type": "code",
   "execution_count": 115,
   "metadata": {},
   "outputs": [],
   "source": [
    "#gridobj.best_score_"
   ]
  },
  {
   "cell_type": "code",
   "execution_count": 116,
   "metadata": {},
   "outputs": [
    {
     "data": {
      "text/plain": [
       "0    0.856714\n",
       "1    0.143286\n",
       "Name: label, dtype: float64"
      ]
     },
     "execution_count": 116,
     "metadata": {},
     "output_type": "execute_result"
    }
   ],
   "source": [
    "ytrain.value_counts()/ytrain.shape[0]"
   ]
  },
  {
   "cell_type": "code",
   "execution_count": 117,
   "metadata": {},
   "outputs": [],
   "source": [
    "#gridobj.best_params_"
   ]
  },
  {
   "cell_type": "code",
   "execution_count": 118,
   "metadata": {},
   "outputs": [],
   "source": [
    "#model=gridobj.best_estimator_"
   ]
  },
  {
   "cell_type": "code",
   "execution_count": 119,
   "metadata": {},
   "outputs": [],
   "source": [
    "#Xtrain.columns[model.support_]"
   ]
  },
  {
   "cell_type": "markdown",
   "metadata": {},
   "source": [
    "### Checking the P value for significant column"
   ]
  },
  {
   "cell_type": "code",
   "execution_count": 120,
   "metadata": {},
   "outputs": [
    {
     "data": {
      "text/html": [
       "<table class=\"simpletable\">\n",
       "<caption>Generalized Linear Model Regression Results</caption>\n",
       "<tr>\n",
       "  <th>Dep. Variable:</th>         <td>label</td>      <th>  No. Observations:  </th>  <td>  2666</td> \n",
       "</tr>\n",
       "<tr>\n",
       "  <th>Model:</th>                  <td>GLM</td>       <th>  Df Residuals:      </th>  <td>  2650</td> \n",
       "</tr>\n",
       "<tr>\n",
       "  <th>Model Family:</th>        <td>Binomial</td>     <th>  Df Model:          </th>  <td>    15</td> \n",
       "</tr>\n",
       "<tr>\n",
       "  <th>Link Function:</th>         <td>logit</td>      <th>  Scale:             </th> <td>  1.0000</td>\n",
       "</tr>\n",
       "<tr>\n",
       "  <th>Method:</th>                <td>IRLS</td>       <th>  Log-Likelihood:    </th> <td> -863.78</td>\n",
       "</tr>\n",
       "<tr>\n",
       "  <th>Date:</th>            <td>Thu, 17 Feb 2022</td> <th>  Deviance:          </th> <td>  1727.6</td>\n",
       "</tr>\n",
       "<tr>\n",
       "  <th>Time:</th>                <td>20:02:23</td>     <th>  Pearson chi2:      </th> <td>2.47e+03</td>\n",
       "</tr>\n",
       "<tr>\n",
       "  <th>No. Iterations:</th>          <td>6</td>        <th>                     </th>     <td> </td>   \n",
       "</tr>\n",
       "<tr>\n",
       "  <th>Covariance Type:</th>     <td>nonrobust</td>    <th>                     </th>     <td> </td>   \n",
       "</tr>\n",
       "</table>\n",
       "<table class=\"simpletable\">\n",
       "<tr>\n",
       "       <td></td>          <th>coef</th>     <th>std err</th>      <th>z</th>      <th>P>|z|</th>  <th>[0.025</th>    <th>0.975]</th>  \n",
       "</tr>\n",
       "<tr>\n",
       "  <th>const</th>       <td>   -2.1662</td> <td>    0.089</td> <td>  -24.424</td> <td> 0.000</td> <td>   -2.340</td> <td>   -1.992</td>\n",
       "</tr>\n",
       "<tr>\n",
       "  <th>tdchar</th>      <td>    0.6372</td> <td>    0.064</td> <td>    9.894</td> <td> 0.000</td> <td>    0.511</td> <td>    0.763</td>\n",
       "</tr>\n",
       "<tr>\n",
       "  <th>ncsc</th>        <td>    0.6691</td> <td>    0.057</td> <td>   11.639</td> <td> 0.000</td> <td>    0.556</td> <td>    0.782</td>\n",
       "</tr>\n",
       "<tr>\n",
       "  <th>st_AL</th>       <td>   -1.1890</td> <td>    0.561</td> <td>   -2.118</td> <td> 0.034</td> <td>   -2.289</td> <td>   -0.089</td>\n",
       "</tr>\n",
       "<tr>\n",
       "  <th>st_AZ</th>       <td>   -1.0017</td> <td>    0.645</td> <td>   -1.553</td> <td> 0.120</td> <td>   -2.266</td> <td>    0.262</td>\n",
       "</tr>\n",
       "<tr>\n",
       "  <th>st_HI</th>       <td>   -1.0171</td> <td>    0.637</td> <td>   -1.596</td> <td> 0.110</td> <td>   -2.266</td> <td>    0.232</td>\n",
       "</tr>\n",
       "<tr>\n",
       "  <th>st_IL</th>       <td>   -1.0569</td> <td>    0.601</td> <td>   -1.760</td> <td> 0.078</td> <td>   -2.234</td> <td>    0.120</td>\n",
       "</tr>\n",
       "<tr>\n",
       "  <th>st_MT</th>       <td>    0.8152</td> <td>    0.374</td> <td>    2.178</td> <td> 0.029</td> <td>    0.082</td> <td>    1.549</td>\n",
       "</tr>\n",
       "<tr>\n",
       "  <th>st_ND</th>       <td>   -1.9092</td> <td>    0.787</td> <td>   -2.427</td> <td> 0.015</td> <td>   -3.451</td> <td>   -0.368</td>\n",
       "</tr>\n",
       "<tr>\n",
       "  <th>st_NJ</th>       <td>    0.7190</td> <td>    0.355</td> <td>    2.022</td> <td> 0.043</td> <td>    0.022</td> <td>    1.416</td>\n",
       "</tr>\n",
       "<tr>\n",
       "  <th>st_SC</th>       <td>    1.0506</td> <td>    0.390</td> <td>    2.691</td> <td> 0.007</td> <td>    0.286</td> <td>    1.816</td>\n",
       "</tr>\n",
       "<tr>\n",
       "  <th>st_TX</th>       <td>    0.8194</td> <td>    0.334</td> <td>    2.452</td> <td> 0.014</td> <td>    0.165</td> <td>    1.474</td>\n",
       "</tr>\n",
       "<tr>\n",
       "  <th>st_VA</th>       <td>   -0.8374</td> <td>    0.511</td> <td>   -1.637</td> <td> 0.102</td> <td>   -1.840</td> <td>    0.165</td>\n",
       "</tr>\n",
       "<tr>\n",
       "  <th>st_VT</th>       <td>   -1.4201</td> <td>    0.667</td> <td>   -2.128</td> <td> 0.033</td> <td>   -2.728</td> <td>   -0.112</td>\n",
       "</tr>\n",
       "<tr>\n",
       "  <th>intplan_yes</th> <td>    2.2064</td> <td>    0.165</td> <td>   13.383</td> <td> 0.000</td> <td>    1.883</td> <td>    2.530</td>\n",
       "</tr>\n",
       "<tr>\n",
       "  <th>voice_yes</th>   <td>   -0.9319</td> <td>    0.164</td> <td>   -5.699</td> <td> 0.000</td> <td>   -1.252</td> <td>   -0.611</td>\n",
       "</tr>\n",
       "</table>"
      ],
      "text/plain": [
       "<class 'statsmodels.iolib.summary.Summary'>\n",
       "\"\"\"\n",
       "                 Generalized Linear Model Regression Results                  \n",
       "==============================================================================\n",
       "Dep. Variable:                  label   No. Observations:                 2666\n",
       "Model:                            GLM   Df Residuals:                     2650\n",
       "Model Family:                Binomial   Df Model:                           15\n",
       "Link Function:                  logit   Scale:                          1.0000\n",
       "Method:                          IRLS   Log-Likelihood:                -863.78\n",
       "Date:                Thu, 17 Feb 2022   Deviance:                       1727.6\n",
       "Time:                        20:02:23   Pearson chi2:                 2.47e+03\n",
       "No. Iterations:                     6                                         \n",
       "Covariance Type:            nonrobust                                         \n",
       "===============================================================================\n",
       "                  coef    std err          z      P>|z|      [0.025      0.975]\n",
       "-------------------------------------------------------------------------------\n",
       "const          -2.1662      0.089    -24.424      0.000      -2.340      -1.992\n",
       "tdchar          0.6372      0.064      9.894      0.000       0.511       0.763\n",
       "ncsc            0.6691      0.057     11.639      0.000       0.556       0.782\n",
       "st_AL          -1.1890      0.561     -2.118      0.034      -2.289      -0.089\n",
       "st_AZ          -1.0017      0.645     -1.553      0.120      -2.266       0.262\n",
       "st_HI          -1.0171      0.637     -1.596      0.110      -2.266       0.232\n",
       "st_IL          -1.0569      0.601     -1.760      0.078      -2.234       0.120\n",
       "st_MT           0.8152      0.374      2.178      0.029       0.082       1.549\n",
       "st_ND          -1.9092      0.787     -2.427      0.015      -3.451      -0.368\n",
       "st_NJ           0.7190      0.355      2.022      0.043       0.022       1.416\n",
       "st_SC           1.0506      0.390      2.691      0.007       0.286       1.816\n",
       "st_TX           0.8194      0.334      2.452      0.014       0.165       1.474\n",
       "st_VA          -0.8374      0.511     -1.637      0.102      -1.840       0.165\n",
       "st_VT          -1.4201      0.667     -2.128      0.033      -2.728      -0.112\n",
       "intplan_yes     2.2064      0.165     13.383      0.000       1.883       2.530\n",
       "voice_yes      -0.9319      0.164     -5.699      0.000      -1.252      -0.611\n",
       "===============================================================================\n",
       "\"\"\""
      ]
     },
     "execution_count": 120,
     "metadata": {},
     "output_type": "execute_result"
    }
   ],
   "source": [
    "import statsmodels.api as sm\n",
    "Xtrainsm=sm.add_constant(Xtrain[impcols])\n",
    "model = sm.GLM(  ytrain ,  Xtrainsm,  family = sm.families.Binomial())\n",
    "results=model.fit()\n",
    "results.summary()"
   ]
  },
  {
   "cell_type": "markdown",
   "metadata": {},
   "source": [
    "### Fitting training data with 15 columns into LogisticRegression model"
   ]
  },
  {
   "cell_type": "code",
   "execution_count": 121,
   "metadata": {},
   "outputs": [],
   "source": [
    "model=linear_model.LogisticRegression()\n",
    "model.fit(Xtrain[impcols],ytrain)\n",
    "trainpred=model.predict(Xtrain[impcols])\n",
    "testpred=model.predict(Xtest[impcols])"
   ]
  },
  {
   "cell_type": "markdown",
   "metadata": {},
   "source": [
    "### Checking metrics of the model (15 columns )"
   ]
  },
  {
   "cell_type": "code",
   "execution_count": 122,
   "metadata": {},
   "outputs": [
    {
     "name": "stdout",
     "output_type": "stream",
     "text": [
      "AUC: 0.5774027837632152\n",
      "accuracy: 0.8623405851462865\n",
      "recall  : 0.17801047120418848\n",
      "precision : 0.5619834710743802\n",
      "f1-score :  0.27037773359840955\n"
     ]
    }
   ],
   "source": [
    "printscores(ytrain,trainpred)"
   ]
  },
  {
   "cell_type": "code",
   "execution_count": 123,
   "metadata": {},
   "outputs": [
    {
     "name": "stdout",
     "output_type": "stream",
     "text": [
      "AUC: 0.5551726550746948\n",
      "accuracy: 0.8455772113943029\n",
      "recall  : 0.13861386138613863\n",
      "precision : 0.4666666666666667\n",
      "f1-score :  0.2137404580152672\n"
     ]
    }
   ],
   "source": [
    "printscores(ytest,testpred)"
   ]
  },
  {
   "cell_type": "code",
   "execution_count": 124,
   "metadata": {},
   "outputs": [],
   "source": [
    "#AUC: 0.5610065423503481\n",
    "#accuracy: 0.848575712143928\n",
    "#recall  : 0.1485148514851485\n",
    "#precision : 0.5\n",
    "#f1-score :  0.22900763358778625\n",
    "    #previous"
   ]
  },
  {
   "cell_type": "code",
   "execution_count": 125,
   "metadata": {},
   "outputs": [],
   "source": [
    "scores=model_selection.cross_val_score(linear_model.LogisticRegression(),Xtrain,ytrain,cv=4,scoring=\"recall\")"
   ]
  },
  {
   "cell_type": "code",
   "execution_count": 126,
   "metadata": {},
   "outputs": [
    {
     "data": {
      "text/plain": [
       "array([0.22916667, 0.27083333, 0.21052632, 0.26315789])"
      ]
     },
     "execution_count": 126,
     "metadata": {},
     "output_type": "execute_result"
    }
   ],
   "source": [
    "scores"
   ]
  },
  {
   "cell_type": "code",
   "execution_count": null,
   "metadata": {},
   "outputs": [],
   "source": []
  },
  {
   "cell_type": "code",
   "execution_count": null,
   "metadata": {},
   "outputs": [],
   "source": []
  },
  {
   "cell_type": "markdown",
   "metadata": {},
   "source": [
    "## Fitting data into a Decision tree model with all columns"
   ]
  },
  {
   "cell_type": "code",
   "execution_count": 127,
   "metadata": {},
   "outputs": [
    {
     "data": {
      "text/plain": [
       "DecisionTreeClassifier(random_state=42)"
      ]
     },
     "execution_count": 127,
     "metadata": {},
     "output_type": "execute_result"
    }
   ],
   "source": [
    "from sklearn import tree\n",
    "model=tree.DecisionTreeClassifier(random_state=42) #unconstrained model \n",
    "model.fit(Xtrain,ytrain)"
   ]
  },
  {
   "cell_type": "code",
   "execution_count": 128,
   "metadata": {},
   "outputs": [],
   "source": [
    "trainp=model.predict(Xtrain)\n",
    "testp=model.predict(Xtest)"
   ]
  },
  {
   "cell_type": "code",
   "execution_count": 129,
   "metadata": {},
   "outputs": [
    {
     "name": "stdout",
     "output_type": "stream",
     "text": [
      "AUC: 1.0\n",
      "accuracy: 1.0\n",
      "recall  : 1.0\n",
      "precision : 1.0\n",
      "f1-score :  1.0\n"
     ]
    }
   ],
   "source": [
    "printscores(ytrain,trainp) # model works perfect with train data as it is not constrained."
   ]
  },
  {
   "cell_type": "code",
   "execution_count": 130,
   "metadata": {},
   "outputs": [
    {
     "name": "stdout",
     "output_type": "stream",
     "text": [
      "AUC: 0.8527358919637547\n",
      "accuracy: 0.9295352323838081\n",
      "recall  : 0.7425742574257426\n",
      "precision : 0.78125\n",
      "f1-score :  0.7614213197969543\n"
     ]
    }
   ],
   "source": [
    "printscores(ytest,testp)"
   ]
  },
  {
   "cell_type": "code",
   "execution_count": 131,
   "metadata": {},
   "outputs": [],
   "source": [
    "model=tree.DecisionTreeClassifier(random_state=42)\n",
    "scores=model_selection.cross_val_score(tree.DecisionTreeClassifier(random_state=42),Xtrain,ytrain,cv=4,scoring=\"recall\")"
   ]
  },
  {
   "cell_type": "code",
   "execution_count": 132,
   "metadata": {},
   "outputs": [
    {
     "data": {
      "text/plain": [
       "0.7199013157894737"
      ]
     },
     "execution_count": 132,
     "metadata": {},
     "output_type": "execute_result"
    }
   ],
   "source": [
    "np.mean(scores)"
   ]
  },
  {
   "cell_type": "code",
   "execution_count": 133,
   "metadata": {},
   "outputs": [
    {
     "data": {
      "text/plain": [
       "0.05131394438315861"
      ]
     },
     "execution_count": 133,
     "metadata": {},
     "output_type": "execute_result"
    }
   ],
   "source": [
    "np.std(scores) ## not consistent"
   ]
  },
  {
   "cell_type": "code",
   "execution_count": 134,
   "metadata": {},
   "outputs": [
    {
     "data": {
      "text/plain": [
       "array([0.65625   , 0.78125   , 0.68421053, 0.75789474])"
      ]
     },
     "execution_count": 134,
     "metadata": {},
     "output_type": "execute_result"
    }
   ],
   "source": [
    "scores"
   ]
  },
  {
   "cell_type": "code",
   "execution_count": 135,
   "metadata": {},
   "outputs": [],
   "source": [
    "# Using GridSearchCV to find the best max_depth within the range 3-15"
   ]
  },
  {
   "cell_type": "code",
   "execution_count": 136,
   "metadata": {},
   "outputs": [],
   "source": [
    "#maxdepthvalues=list(range(3,15))\n",
    "#d={\"max_depth\": maxdepthvalues}\n",
    "#obj=model_selection.GridSearchCV(estimator=tree.DecisionTreeClassifier(random_state=42),param_grid=d, cv=10 ,scoring=\"recall\",return_train_score=True)\n",
    "#obj.fit(Xtrain,ytrain)"
   ]
  },
  {
   "cell_type": "code",
   "execution_count": 137,
   "metadata": {},
   "outputs": [],
   "source": [
    "#obj.best_params_ #Best max_depth within the range 3-15"
   ]
  },
  {
   "cell_type": "code",
   "execution_count": 138,
   "metadata": {},
   "outputs": [],
   "source": [
    "#obj.best_score_ #Recall score on that depth level"
   ]
  },
  {
   "cell_type": "code",
   "execution_count": 139,
   "metadata": {},
   "outputs": [],
   "source": [
    "# Using GridSearchCV to find the best max_depth within the range 15-60"
   ]
  },
  {
   "cell_type": "code",
   "execution_count": 140,
   "metadata": {},
   "outputs": [],
   "source": [
    "#maxdepthvalues=list(range(15,60)) \n",
    "#d={\"max_depth\": maxdepthvalues}\n",
    "#obj=model_selection.GridSearchCV(estimator=tree.DecisionTreeClassifier(random_state=42), param_grid=d, cv=10, scoring=\"recall\")\n",
    "#obj.fit(Xtrain,ytrain)"
   ]
  },
  {
   "cell_type": "code",
   "execution_count": 141,
   "metadata": {},
   "outputs": [],
   "source": [
    "#obj.best_params_ #Best max_depth within the range 15-60"
   ]
  },
  {
   "cell_type": "code",
   "execution_count": 142,
   "metadata": {},
   "outputs": [],
   "source": [
    "#obj.best_score_ #Recall score on that depth level"
   ]
  },
  {
   "cell_type": "code",
   "execution_count": 143,
   "metadata": {},
   "outputs": [],
   "source": [
    "# Using GridSearchCV to find the best max_depth within the range 3-15 and min_samples_split within the range 30-61"
   ]
  },
  {
   "cell_type": "code",
   "execution_count": 144,
   "metadata": {},
   "outputs": [],
   "source": [
    "#maxdepthvalues=list(range(3,15)) \n",
    "#minsamplessplitvalues=list(range(30,61))\n",
    "#d={\"max_depth\": maxdepthvalues    ,  \"min_samples_split\": minsamplessplitvalues}\n",
    "#obj=model_selection.GridSearchCV(estimator=tree.DecisionTreeClassifier(random_state=42)  ,  param_grid=d, cv=10 , scoring=\"recall\")\n",
    "#obj.fit(Xtrain,ytrain)"
   ]
  },
  {
   "cell_type": "code",
   "execution_count": 145,
   "metadata": {},
   "outputs": [],
   "source": [
    "#obj.best_params_ #Best max_depth within the range 3-15 and min_samples_split within the range 30-61"
   ]
  },
  {
   "cell_type": "code",
   "execution_count": 146,
   "metadata": {},
   "outputs": [],
   "source": [
    "#obj.best_score_ #Recall score for that hyperparameter"
   ]
  },
  {
   "cell_type": "code",
   "execution_count": 147,
   "metadata": {},
   "outputs": [],
   "source": [
    "# Using GridSearchCV to find the best max_depth within the range 15-60 and min_samples_split within the range 30-61"
   ]
  },
  {
   "cell_type": "code",
   "execution_count": 148,
   "metadata": {},
   "outputs": [],
   "source": [
    "#maxdepthvalues=list(range(15,60)) \n",
    "#minsamplessplitvalues=list(range(30,61))\n",
    "#d={\"max_depth\": maxdepthvalues  ,  \"min_samples_split\": minsamplessplitvalues}\n",
    "#obj=model_selection.GridSearchCV(estimator=tree.DecisionTreeClassifier(random_state=42), param_grid=d, cv=10 , scoring=\"recall\")\n",
    "#obj.fit(Xtrain,ytrain)"
   ]
  },
  {
   "cell_type": "code",
   "execution_count": 149,
   "metadata": {},
   "outputs": [],
   "source": [
    "#obj.best_params_ #Best max_depth within the range 15-60 and min_samples_split within the range 30-61"
   ]
  },
  {
   "cell_type": "code",
   "execution_count": 150,
   "metadata": {},
   "outputs": [],
   "source": [
    "#obj.best_score_ #Recall score for that hyperparameter"
   ]
  },
  {
   "cell_type": "code",
   "execution_count": 151,
   "metadata": {},
   "outputs": [
    {
     "data": {
      "text/plain": [
       "DecisionTreeClassifier(max_depth=8, min_samples_split=30, random_state=42)"
      ]
     },
     "execution_count": 151,
     "metadata": {},
     "output_type": "execute_result"
    }
   ],
   "source": [
    "model=tree.DecisionTreeClassifier(random_state=42,max_depth= 8, min_samples_split=30)\n",
    "model.fit(Xtrain,ytrain)"
   ]
  },
  {
   "cell_type": "code",
   "execution_count": 152,
   "metadata": {},
   "outputs": [],
   "source": [
    "trainp=model.predict(Xtrain)\n",
    "testp=model.predict(Xtest)"
   ]
  },
  {
   "cell_type": "code",
   "execution_count": 153,
   "metadata": {},
   "outputs": [
    {
     "name": "stdout",
     "output_type": "stream",
     "text": [
      "AUC: 0.8950507055684433\n",
      "accuracy: 0.9621155288822205\n",
      "recall  : 0.8010471204188482\n",
      "precision : 0.9244712990936556\n",
      "f1-score :  0.8583450210378682\n"
     ]
    }
   ],
   "source": [
    "printscores(ytrain,trainp)"
   ]
  },
  {
   "cell_type": "code",
   "execution_count": 154,
   "metadata": {},
   "outputs": [
    {
     "name": "stdout",
     "output_type": "stream",
     "text": [
      "AUC: 0.8283332750236155\n",
      "accuracy: 0.9295352323838081\n",
      "recall  : 0.6831683168316832\n",
      "precision : 0.8214285714285714\n",
      "f1-score :  0.745945945945946\n"
     ]
    }
   ],
   "source": [
    "printscores(ytest,testp)"
   ]
  },
  {
   "cell_type": "code",
   "execution_count": 155,
   "metadata": {},
   "outputs": [
    {
     "data": {
      "text/html": [
       "<div>\n",
       "<style scoped>\n",
       "    .dataframe tbody tr th:only-of-type {\n",
       "        vertical-align: middle;\n",
       "    }\n",
       "\n",
       "    .dataframe tbody tr th {\n",
       "        vertical-align: top;\n",
       "    }\n",
       "\n",
       "    .dataframe thead th {\n",
       "        text-align: right;\n",
       "    }\n",
       "</style>\n",
       "<table border=\"1\" class=\"dataframe\">\n",
       "  <thead>\n",
       "    <tr style=\"text-align: right;\">\n",
       "      <th>Predicted</th>\n",
       "      <th>0</th>\n",
       "      <th>1</th>\n",
       "      <th>All</th>\n",
       "    </tr>\n",
       "    <tr>\n",
       "      <th>Actual</th>\n",
       "      <th></th>\n",
       "      <th></th>\n",
       "      <th></th>\n",
       "    </tr>\n",
       "  </thead>\n",
       "  <tbody>\n",
       "    <tr>\n",
       "      <th>0</th>\n",
       "      <td>551</td>\n",
       "      <td>15</td>\n",
       "      <td>566</td>\n",
       "    </tr>\n",
       "    <tr>\n",
       "      <th>1</th>\n",
       "      <td>32</td>\n",
       "      <td>69</td>\n",
       "      <td>101</td>\n",
       "    </tr>\n",
       "    <tr>\n",
       "      <th>All</th>\n",
       "      <td>583</td>\n",
       "      <td>84</td>\n",
       "      <td>667</td>\n",
       "    </tr>\n",
       "  </tbody>\n",
       "</table>\n",
       "</div>"
      ],
      "text/plain": [
       "Predicted    0   1  All\n",
       "Actual                 \n",
       "0          551  15  566\n",
       "1           32  69  101\n",
       "All        583  84  667"
      ]
     },
     "execution_count": 155,
     "metadata": {},
     "output_type": "execute_result"
    }
   ],
   "source": [
    "pd.crosstab(ytest, testp, rownames=['Actual'], colnames=['Predicted'], margins=True)"
   ]
  },
  {
   "cell_type": "code",
   "execution_count": 156,
   "metadata": {},
   "outputs": [],
   "source": [
    "# This below model is better than the above one"
   ]
  },
  {
   "cell_type": "code",
   "execution_count": 157,
   "metadata": {},
   "outputs": [
    {
     "data": {
      "text/plain": [
       "DecisionTreeClassifier(max_depth=20, min_samples_split=30, random_state=42)"
      ]
     },
     "execution_count": 157,
     "metadata": {},
     "output_type": "execute_result"
    }
   ],
   "source": [
    "model=tree.DecisionTreeClassifier(random_state=42,max_depth= 20, min_samples_split=30)\n",
    "model.fit(Xtrain,ytrain)"
   ]
  },
  {
   "cell_type": "code",
   "execution_count": 158,
   "metadata": {},
   "outputs": [],
   "source": [
    "trainp=model.predict(Xtrain)\n",
    "testp=model.predict(Xtest)"
   ]
  },
  {
   "cell_type": "code",
   "execution_count": 159,
   "metadata": {},
   "outputs": [
    {
     "name": "stdout",
     "output_type": "stream",
     "text": [
      "AUC: 0.9029041087098046\n",
      "accuracy: 0.9643660915228808\n",
      "recall  : 0.8167539267015707\n",
      "precision : 0.9258160237388724\n",
      "f1-score :  0.8678720445062588\n"
     ]
    }
   ],
   "source": [
    "printscores(ytrain,trainp)"
   ]
  },
  {
   "cell_type": "code",
   "execution_count": 160,
   "metadata": {},
   "outputs": [
    {
     "name": "stdout",
     "output_type": "stream",
     "text": [
      "AUC: 0.8274498827974672\n",
      "accuracy: 0.9280359820089955\n",
      "recall  : 0.6831683168316832\n",
      "precision : 0.8117647058823529\n",
      "f1-score :  0.7419354838709677\n"
     ]
    }
   ],
   "source": [
    "printscores(ytest,testp)"
   ]
  },
  {
   "cell_type": "code",
   "execution_count": 161,
   "metadata": {},
   "outputs": [
    {
     "data": {
      "text/html": [
       "<div>\n",
       "<style scoped>\n",
       "    .dataframe tbody tr th:only-of-type {\n",
       "        vertical-align: middle;\n",
       "    }\n",
       "\n",
       "    .dataframe tbody tr th {\n",
       "        vertical-align: top;\n",
       "    }\n",
       "\n",
       "    .dataframe thead th {\n",
       "        text-align: right;\n",
       "    }\n",
       "</style>\n",
       "<table border=\"1\" class=\"dataframe\">\n",
       "  <thead>\n",
       "    <tr style=\"text-align: right;\">\n",
       "      <th>Predicted</th>\n",
       "      <th>0</th>\n",
       "      <th>1</th>\n",
       "      <th>All</th>\n",
       "    </tr>\n",
       "    <tr>\n",
       "      <th>Actual</th>\n",
       "      <th></th>\n",
       "      <th></th>\n",
       "      <th></th>\n",
       "    </tr>\n",
       "  </thead>\n",
       "  <tbody>\n",
       "    <tr>\n",
       "      <th>0</th>\n",
       "      <td>550</td>\n",
       "      <td>16</td>\n",
       "      <td>566</td>\n",
       "    </tr>\n",
       "    <tr>\n",
       "      <th>1</th>\n",
       "      <td>32</td>\n",
       "      <td>69</td>\n",
       "      <td>101</td>\n",
       "    </tr>\n",
       "    <tr>\n",
       "      <th>All</th>\n",
       "      <td>582</td>\n",
       "      <td>85</td>\n",
       "      <td>667</td>\n",
       "    </tr>\n",
       "  </tbody>\n",
       "</table>\n",
       "</div>"
      ],
      "text/plain": [
       "Predicted    0   1  All\n",
       "Actual                 \n",
       "0          550  16  566\n",
       "1           32  69  101\n",
       "All        582  85  667"
      ]
     },
     "execution_count": 161,
     "metadata": {},
     "output_type": "execute_result"
    }
   ],
   "source": [
    "pd.crosstab(ytest, testp, rownames=['Actual'], colnames=['Predicted'], margins=True)"
   ]
  },
  {
   "cell_type": "code",
   "execution_count": 162,
   "metadata": {},
   "outputs": [
    {
     "data": {
      "text/plain": [
       "DecisionTreeClassifier(max_depth=20, random_state=42)"
      ]
     },
     "execution_count": 162,
     "metadata": {},
     "output_type": "execute_result"
    }
   ],
   "source": [
    "model=tree.DecisionTreeClassifier(random_state=42,max_depth= 20)\n",
    "model.fit(Xtrain,ytrain) # Model with only max_depth=20"
   ]
  },
  {
   "cell_type": "code",
   "execution_count": 163,
   "metadata": {},
   "outputs": [],
   "source": [
    "trainp=model.predict(Xtrain)\n",
    "testp=model.predict(Xtest)"
   ]
  },
  {
   "cell_type": "code",
   "execution_count": 164,
   "metadata": {},
   "outputs": [
    {
     "name": "stdout",
     "output_type": "stream",
     "text": [
      "AUC: 0.9986910994764397\n",
      "accuracy: 0.9996249062265566\n",
      "recall  : 0.9973821989528796\n",
      "precision : 1.0\n",
      "f1-score :  0.998689384010485\n"
     ]
    }
   ],
   "source": [
    "printscores(ytrain,trainp)"
   ]
  },
  {
   "cell_type": "code",
   "execution_count": 165,
   "metadata": {},
   "outputs": [
    {
     "name": "stdout",
     "output_type": "stream",
     "text": [
      "AUC: 0.8518524997376062\n",
      "accuracy: 0.9280359820089955\n",
      "recall  : 0.7425742574257426\n",
      "precision : 0.7731958762886598\n",
      "f1-score :  0.7575757575757575\n"
     ]
    }
   ],
   "source": [
    "printscores(ytest,testp)"
   ]
  },
  {
   "cell_type": "code",
   "execution_count": 166,
   "metadata": {},
   "outputs": [
    {
     "data": {
      "text/html": [
       "<div>\n",
       "<style scoped>\n",
       "    .dataframe tbody tr th:only-of-type {\n",
       "        vertical-align: middle;\n",
       "    }\n",
       "\n",
       "    .dataframe tbody tr th {\n",
       "        vertical-align: top;\n",
       "    }\n",
       "\n",
       "    .dataframe thead th {\n",
       "        text-align: right;\n",
       "    }\n",
       "</style>\n",
       "<table border=\"1\" class=\"dataframe\">\n",
       "  <thead>\n",
       "    <tr style=\"text-align: right;\">\n",
       "      <th>Predicted</th>\n",
       "      <th>0</th>\n",
       "      <th>1</th>\n",
       "      <th>All</th>\n",
       "    </tr>\n",
       "    <tr>\n",
       "      <th>Actual</th>\n",
       "      <th></th>\n",
       "      <th></th>\n",
       "      <th></th>\n",
       "    </tr>\n",
       "  </thead>\n",
       "  <tbody>\n",
       "    <tr>\n",
       "      <th>0</th>\n",
       "      <td>544</td>\n",
       "      <td>22</td>\n",
       "      <td>566</td>\n",
       "    </tr>\n",
       "    <tr>\n",
       "      <th>1</th>\n",
       "      <td>26</td>\n",
       "      <td>75</td>\n",
       "      <td>101</td>\n",
       "    </tr>\n",
       "    <tr>\n",
       "      <th>All</th>\n",
       "      <td>570</td>\n",
       "      <td>97</td>\n",
       "      <td>667</td>\n",
       "    </tr>\n",
       "  </tbody>\n",
       "</table>\n",
       "</div>"
      ],
      "text/plain": [
       "Predicted    0   1  All\n",
       "Actual                 \n",
       "0          544  22  566\n",
       "1           26  75  101\n",
       "All        570  97  667"
      ]
     },
     "execution_count": 166,
     "metadata": {},
     "output_type": "execute_result"
    }
   ],
   "source": [
    "pd.crosstab(ytest, testp, rownames=['Actual'], colnames=['Predicted'], margins=True)"
   ]
  },
  {
   "cell_type": "code",
   "execution_count": 167,
   "metadata": {},
   "outputs": [
    {
     "data": {
      "text/plain": [
       "DecisionTreeClassifier(max_depth=16, random_state=42)"
      ]
     },
     "execution_count": 167,
     "metadata": {},
     "output_type": "execute_result"
    }
   ],
   "source": [
    "model=tree.DecisionTreeClassifier(random_state=42,max_depth= 16)\n",
    "model.fit(Xtrain,ytrain) # Model with only max_depth=16"
   ]
  },
  {
   "cell_type": "code",
   "execution_count": 168,
   "metadata": {},
   "outputs": [],
   "source": [
    "trainp=model.predict(Xtrain)\n",
    "testp=model.predict(Xtest)"
   ]
  },
  {
   "cell_type": "code",
   "execution_count": 169,
   "metadata": {},
   "outputs": [
    {
     "name": "stdout",
     "output_type": "stream",
     "text": [
      "AUC: 0.9856020942408377\n",
      "accuracy: 0.9958739684921231\n",
      "recall  : 0.9712041884816754\n",
      "precision : 1.0\n",
      "f1-score :  0.9853917662682604\n"
     ]
    }
   ],
   "source": [
    "printscores(ytrain,trainp)"
   ]
  },
  {
   "cell_type": "code",
   "execution_count": 170,
   "metadata": {},
   "outputs": [
    {
     "name": "stdout",
     "output_type": "stream",
     "text": [
      "AUC: 0.8477853969142497\n",
      "accuracy: 0.9280359820089955\n",
      "recall  : 0.7326732673267327\n",
      "precision : 0.7789473684210526\n",
      "f1-score :  0.7551020408163266\n"
     ]
    }
   ],
   "source": [
    "printscores(ytest,testp)"
   ]
  },
  {
   "cell_type": "code",
   "execution_count": 171,
   "metadata": {},
   "outputs": [
    {
     "data": {
      "text/html": [
       "<div>\n",
       "<style scoped>\n",
       "    .dataframe tbody tr th:only-of-type {\n",
       "        vertical-align: middle;\n",
       "    }\n",
       "\n",
       "    .dataframe tbody tr th {\n",
       "        vertical-align: top;\n",
       "    }\n",
       "\n",
       "    .dataframe thead th {\n",
       "        text-align: right;\n",
       "    }\n",
       "</style>\n",
       "<table border=\"1\" class=\"dataframe\">\n",
       "  <thead>\n",
       "    <tr style=\"text-align: right;\">\n",
       "      <th>Predicted</th>\n",
       "      <th>0</th>\n",
       "      <th>1</th>\n",
       "      <th>All</th>\n",
       "    </tr>\n",
       "    <tr>\n",
       "      <th>Actual</th>\n",
       "      <th></th>\n",
       "      <th></th>\n",
       "      <th></th>\n",
       "    </tr>\n",
       "  </thead>\n",
       "  <tbody>\n",
       "    <tr>\n",
       "      <th>0</th>\n",
       "      <td>545</td>\n",
       "      <td>21</td>\n",
       "      <td>566</td>\n",
       "    </tr>\n",
       "    <tr>\n",
       "      <th>1</th>\n",
       "      <td>27</td>\n",
       "      <td>74</td>\n",
       "      <td>101</td>\n",
       "    </tr>\n",
       "    <tr>\n",
       "      <th>All</th>\n",
       "      <td>572</td>\n",
       "      <td>95</td>\n",
       "      <td>667</td>\n",
       "    </tr>\n",
       "  </tbody>\n",
       "</table>\n",
       "</div>"
      ],
      "text/plain": [
       "Predicted    0   1  All\n",
       "Actual                 \n",
       "0          545  21  566\n",
       "1           27  74  101\n",
       "All        572  95  667"
      ]
     },
     "execution_count": 171,
     "metadata": {},
     "output_type": "execute_result"
    }
   ],
   "source": [
    "pd.crosstab(ytest, testp, rownames=['Actual'], colnames=['Predicted'], margins=True)"
   ]
  },
  {
   "cell_type": "code",
   "execution_count": 172,
   "metadata": {},
   "outputs": [
    {
     "data": {
      "text/plain": [
       "DecisionTreeClassifier(max_depth=18, random_state=42)"
      ]
     },
     "execution_count": 172,
     "metadata": {},
     "output_type": "execute_result"
    }
   ],
   "source": [
    "model=tree.DecisionTreeClassifier(random_state=42,max_depth= 18)\n",
    "model.fit(Xtrain,ytrain) # Model with only max_depth=18"
   ]
  },
  {
   "cell_type": "code",
   "execution_count": 173,
   "metadata": {},
   "outputs": [],
   "source": [
    "trainp=model.predict(Xtrain)\n",
    "testp=model.predict(Xtest)"
   ]
  },
  {
   "cell_type": "code",
   "execution_count": 174,
   "metadata": {},
   "outputs": [
    {
     "name": "stdout",
     "output_type": "stream",
     "text": [
      "AUC: 0.9973821989528796\n",
      "accuracy: 0.9992498124531133\n",
      "recall  : 0.9947643979057592\n",
      "precision : 1.0\n",
      "f1-score :  0.9973753280839895\n"
     ]
    }
   ],
   "source": [
    "printscores(ytrain,trainp)"
   ]
  },
  {
   "cell_type": "code",
   "execution_count": 175,
   "metadata": {},
   "outputs": [
    {
     "name": "stdout",
     "output_type": "stream",
     "text": [
      "AUC: 0.849202323059161\n",
      "accuracy: 0.9235382308845578\n",
      "recall  : 0.7425742574257426\n",
      "precision : 0.75\n",
      "f1-score :  0.746268656716418\n"
     ]
    }
   ],
   "source": [
    "printscores(ytest,testp)"
   ]
  },
  {
   "cell_type": "code",
   "execution_count": 176,
   "metadata": {},
   "outputs": [
    {
     "data": {
      "text/html": [
       "<div>\n",
       "<style scoped>\n",
       "    .dataframe tbody tr th:only-of-type {\n",
       "        vertical-align: middle;\n",
       "    }\n",
       "\n",
       "    .dataframe tbody tr th {\n",
       "        vertical-align: top;\n",
       "    }\n",
       "\n",
       "    .dataframe thead th {\n",
       "        text-align: right;\n",
       "    }\n",
       "</style>\n",
       "<table border=\"1\" class=\"dataframe\">\n",
       "  <thead>\n",
       "    <tr style=\"text-align: right;\">\n",
       "      <th>Predicted</th>\n",
       "      <th>0</th>\n",
       "      <th>1</th>\n",
       "      <th>All</th>\n",
       "    </tr>\n",
       "    <tr>\n",
       "      <th>Actual</th>\n",
       "      <th></th>\n",
       "      <th></th>\n",
       "      <th></th>\n",
       "    </tr>\n",
       "  </thead>\n",
       "  <tbody>\n",
       "    <tr>\n",
       "      <th>0</th>\n",
       "      <td>541</td>\n",
       "      <td>25</td>\n",
       "      <td>566</td>\n",
       "    </tr>\n",
       "    <tr>\n",
       "      <th>1</th>\n",
       "      <td>26</td>\n",
       "      <td>75</td>\n",
       "      <td>101</td>\n",
       "    </tr>\n",
       "    <tr>\n",
       "      <th>All</th>\n",
       "      <td>567</td>\n",
       "      <td>100</td>\n",
       "      <td>667</td>\n",
       "    </tr>\n",
       "  </tbody>\n",
       "</table>\n",
       "</div>"
      ],
      "text/plain": [
       "Predicted    0    1  All\n",
       "Actual                  \n",
       "0          541   25  566\n",
       "1           26   75  101\n",
       "All        567  100  667"
      ]
     },
     "execution_count": 176,
     "metadata": {},
     "output_type": "execute_result"
    }
   ],
   "source": [
    "pd.crosstab(ytest, testp, rownames=['Actual'], colnames=['Predicted'], margins=True)"
   ]
  },
  {
   "cell_type": "code",
   "execution_count": 177,
   "metadata": {},
   "outputs": [
    {
     "data": {
      "text/plain": [
       "DecisionTreeClassifier(max_depth=12, random_state=42)"
      ]
     },
     "execution_count": 177,
     "metadata": {},
     "output_type": "execute_result"
    }
   ],
   "source": [
    "model=tree.DecisionTreeClassifier(random_state=42,max_depth= 12)\n",
    "model.fit(Xtrain,ytrain) # Model with only max_depth=12"
   ]
  },
  {
   "cell_type": "code",
   "execution_count": 178,
   "metadata": {},
   "outputs": [],
   "source": [
    "trainp=model.predict(Xtrain)\n",
    "testp=model.predict(Xtest)"
   ]
  },
  {
   "cell_type": "code",
   "execution_count": 179,
   "metadata": {},
   "outputs": [
    {
     "name": "stdout",
     "output_type": "stream",
     "text": [
      "AUC: 0.958986255398355\n",
      "accuracy: 0.9876219054763691\n",
      "recall  : 0.918848167539267\n",
      "precision : 0.9943342776203966\n",
      "f1-score :  0.9551020408163264\n"
     ]
    }
   ],
   "source": [
    "printscores(ytrain,trainp)"
   ]
  },
  {
   "cell_type": "code",
   "execution_count": 180,
   "metadata": {},
   "outputs": [
    {
     "name": "stdout",
     "output_type": "stream",
     "text": [
      "AUC: 0.8553860686421999\n",
      "accuracy: 0.9340329835082459\n",
      "recall  : 0.7425742574257426\n",
      "precision : 0.8064516129032258\n",
      "f1-score :  0.7731958762886598\n"
     ]
    }
   ],
   "source": [
    "printscores(ytest,testp)"
   ]
  },
  {
   "cell_type": "code",
   "execution_count": 181,
   "metadata": {},
   "outputs": [
    {
     "data": {
      "text/html": [
       "<div>\n",
       "<style scoped>\n",
       "    .dataframe tbody tr th:only-of-type {\n",
       "        vertical-align: middle;\n",
       "    }\n",
       "\n",
       "    .dataframe tbody tr th {\n",
       "        vertical-align: top;\n",
       "    }\n",
       "\n",
       "    .dataframe thead th {\n",
       "        text-align: right;\n",
       "    }\n",
       "</style>\n",
       "<table border=\"1\" class=\"dataframe\">\n",
       "  <thead>\n",
       "    <tr style=\"text-align: right;\">\n",
       "      <th>Predicted</th>\n",
       "      <th>0</th>\n",
       "      <th>1</th>\n",
       "      <th>All</th>\n",
       "    </tr>\n",
       "    <tr>\n",
       "      <th>Actual</th>\n",
       "      <th></th>\n",
       "      <th></th>\n",
       "      <th></th>\n",
       "    </tr>\n",
       "  </thead>\n",
       "  <tbody>\n",
       "    <tr>\n",
       "      <th>0</th>\n",
       "      <td>548</td>\n",
       "      <td>18</td>\n",
       "      <td>566</td>\n",
       "    </tr>\n",
       "    <tr>\n",
       "      <th>1</th>\n",
       "      <td>26</td>\n",
       "      <td>75</td>\n",
       "      <td>101</td>\n",
       "    </tr>\n",
       "    <tr>\n",
       "      <th>All</th>\n",
       "      <td>574</td>\n",
       "      <td>93</td>\n",
       "      <td>667</td>\n",
       "    </tr>\n",
       "  </tbody>\n",
       "</table>\n",
       "</div>"
      ],
      "text/plain": [
       "Predicted    0   1  All\n",
       "Actual                 \n",
       "0          548  18  566\n",
       "1           26  75  101\n",
       "All        574  93  667"
      ]
     },
     "execution_count": 181,
     "metadata": {},
     "output_type": "execute_result"
    }
   ],
   "source": [
    "pd.crosstab(ytest, testp, rownames=['Actual'], colnames=['Predicted'], margins=True)"
   ]
  },
  {
   "cell_type": "code",
   "execution_count": 182,
   "metadata": {},
   "outputs": [
    {
     "data": {
      "text/plain": [
       "Index(['acclen', 'nummailmes', 'tdmin', 'tdcal', 'tdchar', 'temin', 'tecal',\n",
       "       'tecahr', 'tnmin', 'tncal', 'tnchar', 'timin', 'tical', 'tichar',\n",
       "       'ncsc', 'st_AL', 'st_CO', 'st_FL', 'st_HI', 'st_ID', 'st_IL', 'st_MD',\n",
       "       'st_MS', 'st_MT', 'st_NJ', 'st_OR', 'st_SC', 'st_WY', 'intplan_yes',\n",
       "       'arcode_415'],\n",
       "      dtype='object')"
      ]
     },
     "execution_count": 182,
     "metadata": {},
     "output_type": "execute_result"
    }
   ],
   "source": [
    "from sklearn import feature_selection\n",
    "rfeobj=feature_selection.RFE(tree.DecisionTreeClassifier(random_state=42),n_features_to_select=30)\n",
    "rfeobj.fit(Xtrain,ytrain)\n",
    "impcols=Xtrain.columns[rfeobj.support_] \n",
    "impcols"
   ]
  },
  {
   "cell_type": "code",
   "execution_count": 183,
   "metadata": {},
   "outputs": [],
   "source": [
    "#maxdepthvalues=list(range(5,40))\n",
    "#d={\"max_depth\": maxdepthvalues}\n",
    "#obj=model_selection.GridSearchCV(estimator=tree.DecisionTreeClassifier(random_state=42),param_grid=d,cv=10 ,scoring=\"recall\",return_train_score=True,n_jobs=-1)\n",
    "#obj.fit(Xtrain[impcols],ytrain)"
   ]
  },
  {
   "cell_type": "code",
   "execution_count": 184,
   "metadata": {},
   "outputs": [],
   "source": [
    "#obj.best_params_"
   ]
  },
  {
   "cell_type": "code",
   "execution_count": 185,
   "metadata": {},
   "outputs": [],
   "source": [
    "#obj.best_score_"
   ]
  },
  {
   "cell_type": "code",
   "execution_count": 186,
   "metadata": {},
   "outputs": [],
   "source": [
    "#resultsdf=pd.DataFrame(obj.cv_results_)"
   ]
  },
  {
   "cell_type": "code",
   "execution_count": 187,
   "metadata": {},
   "outputs": [],
   "source": [
    "#resultsdf[ [\"params\",\"mean_test_score\",\"mean_train_score\"] ]"
   ]
  },
  {
   "cell_type": "code",
   "execution_count": 188,
   "metadata": {},
   "outputs": [
    {
     "data": {
      "text/plain": [
       "DecisionTreeClassifier(max_depth=9, random_state=42)"
      ]
     },
     "execution_count": 188,
     "metadata": {},
     "output_type": "execute_result"
    }
   ],
   "source": [
    "model=tree.DecisionTreeClassifier(random_state=42,max_depth= 9)\n",
    "model.fit(Xtrain[impcols],ytrain) # Model with only max_depth=9 and 30 cols"
   ]
  },
  {
   "cell_type": "code",
   "execution_count": 189,
   "metadata": {},
   "outputs": [],
   "source": [
    "trainp=model.predict(Xtrain[impcols])\n",
    "testp=model.predict(Xtest[impcols])"
   ]
  },
  {
   "cell_type": "code",
   "execution_count": 190,
   "metadata": {},
   "outputs": [
    {
     "name": "stdout",
     "output_type": "stream",
     "text": [
      "AUC: 0.9317182585892299\n",
      "accuracy: 0.9801200300075019\n",
      "recall  : 0.8638743455497382\n",
      "precision : 0.9969788519637462\n",
      "f1-score :  0.9256661991584854\n"
     ]
    }
   ],
   "source": [
    "printscores(ytrain,trainp)"
   ]
  },
  {
   "cell_type": "code",
   "execution_count": 191,
   "metadata": {},
   "outputs": [
    {
     "name": "stdout",
     "output_type": "stream",
     "text": [
      "AUC: 0.8624532064513871\n",
      "accuracy: 0.9460269865067467\n",
      "recall  : 0.7425742574257426\n",
      "precision : 0.8823529411764706\n",
      "f1-score :  0.8064516129032258\n"
     ]
    }
   ],
   "source": [
    "printscores(ytest,testp)"
   ]
  },
  {
   "cell_type": "code",
   "execution_count": 192,
   "metadata": {},
   "outputs": [
    {
     "data": {
      "text/plain": [
       "Index(['acclen', 'nummailmes', 'tdmin', 'tdcal', 'tdchar', 'temin', 'tecal',\n",
       "       'tecahr', 'tnmin', 'tncal', 'tnchar', 'timin', 'tical', 'tichar',\n",
       "       'ncsc', 'st_HI', 'st_MS', 'st_MT', 'intplan_yes', 'arcode_415'],\n",
       "      dtype='object')"
      ]
     },
     "execution_count": 192,
     "metadata": {},
     "output_type": "execute_result"
    }
   ],
   "source": [
    "from sklearn import feature_selection\n",
    "rfeobj=feature_selection.RFE(tree.DecisionTreeClassifier(random_state=42),n_features_to_select=20)\n",
    "rfeobj.fit(Xtrain,ytrain)\n",
    "impcols=Xtrain.columns[rfeobj.support_] \n",
    "impcols"
   ]
  },
  {
   "cell_type": "code",
   "execution_count": 193,
   "metadata": {},
   "outputs": [],
   "source": [
    "#maxdepthvalues=list(range(5,40))\n",
    "#d={\"max_depth\": maxdepthvalues}\n",
    "#obj=model_selection.GridSearchCV(estimator=tree.DecisionTreeClassifier(random_state=42),param_grid=d,cv=10 ,scoring=\"recall\",return_train_score=True,n_jobs=-1)\n",
    "#obj.fit(Xtrain[impcols],ytrain)"
   ]
  },
  {
   "cell_type": "code",
   "execution_count": 194,
   "metadata": {},
   "outputs": [],
   "source": [
    "#obj.best_params_"
   ]
  },
  {
   "cell_type": "code",
   "execution_count": 195,
   "metadata": {},
   "outputs": [],
   "source": [
    "#obj.best_score_"
   ]
  },
  {
   "cell_type": "code",
   "execution_count": 196,
   "metadata": {},
   "outputs": [
    {
     "data": {
      "text/plain": [
       "DecisionTreeClassifier(max_depth=16, random_state=42)"
      ]
     },
     "execution_count": 196,
     "metadata": {},
     "output_type": "execute_result"
    }
   ],
   "source": [
    "model=tree.DecisionTreeClassifier(random_state=42,max_depth= 16)\n",
    "model.fit(Xtrain[impcols],ytrain) # Model with only max_depth=20 and 20 cols"
   ]
  },
  {
   "cell_type": "code",
   "execution_count": 197,
   "metadata": {},
   "outputs": [],
   "source": [
    "trainp=model.predict(Xtrain[impcols])\n",
    "testp=model.predict(Xtest[impcols])"
   ]
  },
  {
   "cell_type": "code",
   "execution_count": 198,
   "metadata": {},
   "outputs": [
    {
     "name": "stdout",
     "output_type": "stream",
     "text": [
      "AUC: 0.9738219895287958\n",
      "accuracy: 0.9924981245311327\n",
      "recall  : 0.9476439790575916\n",
      "precision : 1.0\n",
      "f1-score :  0.9731182795698924\n"
     ]
    }
   ],
   "source": [
    "printscores(ytrain,trainp)"
   ]
  },
  {
   "cell_type": "code",
   "execution_count": 199,
   "metadata": {},
   "outputs": [
    {
     "name": "stdout",
     "output_type": "stream",
     "text": [
      "AUC: 0.8711209460168632\n",
      "accuracy: 0.9400299850074962\n",
      "recall  : 0.7722772277227723\n",
      "precision : 0.8210526315789474\n",
      "f1-score :  0.7959183673469388\n"
     ]
    }
   ],
   "source": [
    "printscores(ytest,testp)"
   ]
  },
  {
   "cell_type": "code",
   "execution_count": 200,
   "metadata": {},
   "outputs": [
    {
     "data": {
      "text/plain": [
       "Index(['acclen', 'nummailmes', 'tdmin', 'tdcal', 'tdchar', 'temin', 'tecal',\n",
       "       'tecahr', 'tnmin', 'tnchar', 'timin', 'tical', 'tichar', 'ncsc',\n",
       "       'intplan_yes'],\n",
       "      dtype='object')"
      ]
     },
     "execution_count": 200,
     "metadata": {},
     "output_type": "execute_result"
    }
   ],
   "source": [
    "from sklearn import feature_selection\n",
    "rfeobj=feature_selection.RFE(tree.DecisionTreeClassifier(random_state=42),n_features_to_select=15)\n",
    "rfeobj.fit(Xtrain,ytrain)\n",
    "impcols=Xtrain.columns[rfeobj.support_] \n",
    "impcols"
   ]
  },
  {
   "cell_type": "code",
   "execution_count": 201,
   "metadata": {},
   "outputs": [],
   "source": [
    "#maxdepthvalues=list(range(5,40))\n",
    "#d={\"max_depth\": maxdepthvalues}\n",
    "#obj=model_selection.GridSearchCV(estimator=tree.DecisionTreeClassifier(random_state=42),param_grid=d,cv=10 ,scoring=\"recall\",return_train_score=True,n_jobs=-1)\n",
    "#obj.fit(Xtrain[impcols],ytrain)"
   ]
  },
  {
   "cell_type": "code",
   "execution_count": 202,
   "metadata": {},
   "outputs": [],
   "source": [
    "#obj.best_params_"
   ]
  },
  {
   "cell_type": "code",
   "execution_count": 203,
   "metadata": {},
   "outputs": [],
   "source": [
    "#obj.best_score_"
   ]
  },
  {
   "cell_type": "code",
   "execution_count": 204,
   "metadata": {},
   "outputs": [
    {
     "data": {
      "text/plain": [
       "DecisionTreeClassifier(max_depth=24, random_state=42)"
      ]
     },
     "execution_count": 204,
     "metadata": {},
     "output_type": "execute_result"
    }
   ],
   "source": [
    "model=tree.DecisionTreeClassifier(random_state=42,max_depth= 24)\n",
    "model.fit(Xtrain[impcols],ytrain) # Model with only max_depth=17 and 15 cols"
   ]
  },
  {
   "cell_type": "code",
   "execution_count": 205,
   "metadata": {},
   "outputs": [],
   "source": [
    "trainp=model.predict(Xtrain[impcols])\n",
    "testp=model.predict(Xtest[impcols])"
   ]
  },
  {
   "cell_type": "code",
   "execution_count": 206,
   "metadata": {},
   "outputs": [
    {
     "name": "stdout",
     "output_type": "stream",
     "text": [
      "AUC: 1.0\n",
      "accuracy: 1.0\n",
      "recall  : 1.0\n",
      "precision : 1.0\n",
      "f1-score :  1.0\n"
     ]
    }
   ],
   "source": [
    "printscores(ytrain,trainp)"
   ]
  },
  {
   "cell_type": "code",
   "execution_count": 207,
   "metadata": {},
   "outputs": [
    {
     "name": "stdout",
     "output_type": "stream",
     "text": [
      "AUC: 0.8546863520274289\n",
      "accuracy: 0.9190404797601199\n",
      "recall  : 0.7623762376237624\n",
      "precision : 0.719626168224299\n",
      "f1-score :  0.7403846153846154\n"
     ]
    }
   ],
   "source": [
    "printscores(ytest,testp)"
   ]
  },
  {
   "cell_type": "code",
   "execution_count": 208,
   "metadata": {},
   "outputs": [
    {
     "data": {
      "text/plain": [
       "Index(['acclen', 'nummailmes', 'tdmin', 'tdcal', 'tdchar', 'temin', 'tecahr',\n",
       "       'tnmin', 'tnchar', 'timin', 'tical', 'tichar', 'ncsc', 'intplan_yes'],\n",
       "      dtype='object')"
      ]
     },
     "execution_count": 208,
     "metadata": {},
     "output_type": "execute_result"
    }
   ],
   "source": [
    "from sklearn import feature_selection\n",
    "rfeobj=feature_selection.RFE(tree.DecisionTreeClassifier(random_state=42),n_features_to_select=14)\n",
    "rfeobj.fit(Xtrain,ytrain)\n",
    "impcols=Xtrain.columns[rfeobj.support_] \n",
    "impcols"
   ]
  },
  {
   "cell_type": "code",
   "execution_count": 209,
   "metadata": {},
   "outputs": [],
   "source": [
    "#maxdepthvalues=list(range(5,40))\n",
    "#d={\"max_depth\": maxdepthvalues}\n",
    "#obj=model_selection.GridSearchCV(estimator=tree.DecisionTreeClassifier(random_state=42),param_grid=d,cv=10 ,scoring=\"recall\",return_train_score=True,n_jobs=-1)\n",
    "#obj.fit(Xtrain[impcols],ytrain)"
   ]
  },
  {
   "cell_type": "code",
   "execution_count": 210,
   "metadata": {},
   "outputs": [],
   "source": [
    "#obj.best_params_"
   ]
  },
  {
   "cell_type": "code",
   "execution_count": 211,
   "metadata": {},
   "outputs": [],
   "source": [
    "#obj.best_score_"
   ]
  },
  {
   "cell_type": "code",
   "execution_count": 212,
   "metadata": {},
   "outputs": [
    {
     "data": {
      "text/plain": [
       "DecisionTreeClassifier(max_depth=16, random_state=42)"
      ]
     },
     "execution_count": 212,
     "metadata": {},
     "output_type": "execute_result"
    }
   ],
   "source": [
    "model=tree.DecisionTreeClassifier(random_state=42,max_depth= 16)\n",
    "model.fit(Xtrain[impcols],ytrain) # Model with only max_depth=19 and 14 cols"
   ]
  },
  {
   "cell_type": "code",
   "execution_count": 213,
   "metadata": {},
   "outputs": [],
   "source": [
    "trainp=model.predict(Xtrain[impcols])\n",
    "testp=model.predict(Xtest[impcols])"
   ]
  },
  {
   "cell_type": "code",
   "execution_count": 214,
   "metadata": {},
   "outputs": [
    {
     "name": "stdout",
     "output_type": "stream",
     "text": [
      "AUC: 0.9672774869109948\n",
      "accuracy: 0.9906226556639159\n",
      "recall  : 0.9345549738219895\n",
      "precision : 1.0\n",
      "f1-score :  0.9661705006765899\n"
     ]
    }
   ],
   "source": [
    "printscores(ytrain,trainp)"
   ]
  },
  {
   "cell_type": "code",
   "execution_count": 215,
   "metadata": {},
   "outputs": [
    {
     "name": "stdout",
     "output_type": "stream",
     "text": [
      "AUC: 0.8553860686421999\n",
      "accuracy: 0.9340329835082459\n",
      "recall  : 0.7425742574257426\n",
      "precision : 0.8064516129032258\n",
      "f1-score :  0.7731958762886598\n"
     ]
    }
   ],
   "source": [
    "printscores(ytest,testp)"
   ]
  },
  {
   "cell_type": "code",
   "execution_count": 216,
   "metadata": {},
   "outputs": [
    {
     "data": {
      "text/plain": [
       "Index(['acclen', 'nummailmes', 'tdmin', 'tdchar', 'temin', 'tecahr', 'tnmin',\n",
       "       'tnchar', 'timin', 'tical', 'tichar', 'ncsc', 'intplan_yes'],\n",
       "      dtype='object')"
      ]
     },
     "execution_count": 216,
     "metadata": {},
     "output_type": "execute_result"
    }
   ],
   "source": [
    "from sklearn import feature_selection\n",
    "rfeobj=feature_selection.RFE(tree.DecisionTreeClassifier(random_state=42),n_features_to_select=13)\n",
    "rfeobj.fit(Xtrain,ytrain)\n",
    "impcols=Xtrain.columns[rfeobj.support_] \n",
    "impcols"
   ]
  },
  {
   "cell_type": "code",
   "execution_count": 217,
   "metadata": {},
   "outputs": [],
   "source": [
    "#maxdepthvalues=list(range(5,40))\n",
    "#d={\"max_depth\": maxdepthvalues}\n",
    "#obj=model_selection.GridSearchCV(estimator=tree.DecisionTreeClassifier(random_state=42),param_grid=d,cv=10 ,scoring=\"recall\",return_train_score=True,n_jobs=-1)\n",
    "#obj.fit(Xtrain[impcols],ytrain)"
   ]
  },
  {
   "cell_type": "code",
   "execution_count": 218,
   "metadata": {},
   "outputs": [],
   "source": [
    "#obj.best_params_"
   ]
  },
  {
   "cell_type": "code",
   "execution_count": 219,
   "metadata": {},
   "outputs": [],
   "source": [
    "#obj.best_score_"
   ]
  },
  {
   "cell_type": "code",
   "execution_count": 220,
   "metadata": {},
   "outputs": [
    {
     "data": {
      "text/plain": [
       "DecisionTreeClassifier(max_depth=13, random_state=42)"
      ]
     },
     "execution_count": 220,
     "metadata": {},
     "output_type": "execute_result"
    }
   ],
   "source": [
    "model=tree.DecisionTreeClassifier(random_state=42,max_depth= 13)\n",
    "model.fit(Xtrain[impcols],ytrain) # Model with only max_depth=27 and 13 cols"
   ]
  },
  {
   "cell_type": "code",
   "execution_count": 221,
   "metadata": {},
   "outputs": [],
   "source": [
    "trainp=model.predict(Xtrain[impcols])\n",
    "testp=model.predict(Xtest[impcols])"
   ]
  },
  {
   "cell_type": "code",
   "execution_count": 222,
   "metadata": {},
   "outputs": [
    {
     "name": "stdout",
     "output_type": "stream",
     "text": [
      "AUC: 0.9541884816753927\n",
      "accuracy: 0.9868717179294824\n",
      "recall  : 0.9083769633507853\n",
      "precision : 1.0\n",
      "f1-score :  0.9519890260631001\n"
     ]
    }
   ],
   "source": [
    "printscores(ytrain,trainp)"
   ]
  },
  {
   "cell_type": "code",
   "execution_count": 223,
   "metadata": {},
   "outputs": [
    {
     "name": "stdout",
     "output_type": "stream",
     "text": [
      "AUC: 0.8624532064513871\n",
      "accuracy: 0.9460269865067467\n",
      "recall  : 0.7425742574257426\n",
      "precision : 0.8823529411764706\n",
      "f1-score :  0.8064516129032258\n"
     ]
    }
   ],
   "source": [
    "printscores(ytest,testp)"
   ]
  },
  {
   "cell_type": "code",
   "execution_count": 224,
   "metadata": {},
   "outputs": [
    {
     "data": {
      "text/plain": [
       "Index(['acclen', 'nummailmes', 'tdmin', 'tdchar', 'temin', 'tecahr', 'tnmin',\n",
       "       'tnchar', 'timin', 'tical', 'ncsc', 'intplan_yes'],\n",
       "      dtype='object')"
      ]
     },
     "execution_count": 224,
     "metadata": {},
     "output_type": "execute_result"
    }
   ],
   "source": [
    "from sklearn import feature_selection\n",
    "rfeobj=feature_selection.RFE(tree.DecisionTreeClassifier(random_state=42),n_features_to_select=12)\n",
    "rfeobj.fit(Xtrain,ytrain)\n",
    "impcols=Xtrain.columns[rfeobj.support_] \n",
    "impcols"
   ]
  },
  {
   "cell_type": "code",
   "execution_count": 225,
   "metadata": {},
   "outputs": [],
   "source": [
    "#maxdepthvalues=list(range(5,40))\n",
    "#d={\"max_depth\": maxdepthvalues}\n",
    "#obj=model_selection.GridSearchCV(estimator=tree.DecisionTreeClassifier(random_state=42),param_grid=d,cv=10 ,scoring=\"recall\",return_train_score=True,n_jobs=-1)\n",
    "#obj.fit(Xtrain[impcols],ytrain)"
   ]
  },
  {
   "cell_type": "code",
   "execution_count": 226,
   "metadata": {},
   "outputs": [],
   "source": [
    "#obj.best_params_"
   ]
  },
  {
   "cell_type": "code",
   "execution_count": 227,
   "metadata": {},
   "outputs": [],
   "source": [
    "#obj.best_score_"
   ]
  },
  {
   "cell_type": "code",
   "execution_count": 228,
   "metadata": {},
   "outputs": [
    {
     "data": {
      "text/plain": [
       "DecisionTreeClassifier(max_depth=21, random_state=42)"
      ]
     },
     "execution_count": 228,
     "metadata": {},
     "output_type": "execute_result"
    }
   ],
   "source": [
    "model=tree.DecisionTreeClassifier(random_state=42,max_depth= 21)\n",
    "model.fit(Xtrain[impcols],ytrain) # Model with only max_depth=19 and 12 cols"
   ]
  },
  {
   "cell_type": "code",
   "execution_count": 229,
   "metadata": {},
   "outputs": [],
   "source": [
    "trainp=model.predict(Xtrain[impcols])\n",
    "testp=model.predict(Xtest[impcols])"
   ]
  },
  {
   "cell_type": "code",
   "execution_count": 230,
   "metadata": {},
   "outputs": [
    {
     "name": "stdout",
     "output_type": "stream",
     "text": [
      "AUC: 0.9840742795316382\n",
      "accuracy: 0.9951237809452363\n",
      "recall  : 0.9685863874345549\n",
      "precision : 0.9973045822102425\n",
      "f1-score :  0.9827357237715804\n"
     ]
    }
   ],
   "source": [
    "printscores(ytrain,trainp)"
   ]
  },
  {
   "cell_type": "code",
   "execution_count": 231,
   "metadata": {},
   "outputs": [
    {
     "name": "stdout",
     "output_type": "stream",
     "text": [
      "AUC: 0.8617534898366161\n",
      "accuracy: 0.9310344827586207\n",
      "recall  : 0.7623762376237624\n",
      "precision : 0.7777777777777778\n",
      "f1-score :  0.7699999999999999\n"
     ]
    }
   ],
   "source": [
    "printscores(ytest,testp)"
   ]
  },
  {
   "cell_type": "code",
   "execution_count": 232,
   "metadata": {},
   "outputs": [
    {
     "data": {
      "text/plain": [
       "Index(['acclen', 'nummailmes', 'tdmin', 'tdchar', 'temin', 'tnmin', 'tnchar',\n",
       "       'timin', 'tical', 'ncsc', 'intplan_yes'],\n",
       "      dtype='object')"
      ]
     },
     "execution_count": 232,
     "metadata": {},
     "output_type": "execute_result"
    }
   ],
   "source": [
    "from sklearn import feature_selection\n",
    "rfeobj=feature_selection.RFE(tree.DecisionTreeClassifier(random_state=42),n_features_to_select=11)\n",
    "rfeobj.fit(Xtrain,ytrain)\n",
    "impcols=Xtrain.columns[rfeobj.support_] \n",
    "impcols"
   ]
  },
  {
   "cell_type": "code",
   "execution_count": 233,
   "metadata": {},
   "outputs": [],
   "source": [
    "#maxdepthvalues=list(range(5,40))\n",
    "#d={\"max_depth\": maxdepthvalues}\n",
    "#obj=model_selection.GridSearchCV(estimator=tree.DecisionTreeClassifier(random_state=42),param_grid=d,cv=10 ,scoring=\"recall\",return_train_score=True,n_jobs=-1)\n",
    "#obj.fit(Xtrain[impcols],ytrain)"
   ]
  },
  {
   "cell_type": "code",
   "execution_count": 234,
   "metadata": {},
   "outputs": [],
   "source": [
    "#obj.best_params_"
   ]
  },
  {
   "cell_type": "code",
   "execution_count": 235,
   "metadata": {},
   "outputs": [],
   "source": [
    "#obj.best_score_"
   ]
  },
  {
   "cell_type": "code",
   "execution_count": 236,
   "metadata": {},
   "outputs": [
    {
     "data": {
      "text/plain": [
       "DecisionTreeClassifier(max_depth=17, random_state=42)"
      ]
     },
     "execution_count": 236,
     "metadata": {},
     "output_type": "execute_result"
    }
   ],
   "source": [
    "model=tree.DecisionTreeClassifier(random_state=42,max_depth= 17)\n",
    "model.fit(Xtrain[impcols],ytrain) # Model with only max_depth=23 and 11 cols"
   ]
  },
  {
   "cell_type": "code",
   "execution_count": 237,
   "metadata": {},
   "outputs": [],
   "source": [
    "trainp=model.predict(Xtrain[impcols])\n",
    "testp=model.predict(Xtest[impcols])"
   ]
  },
  {
   "cell_type": "code",
   "execution_count": 238,
   "metadata": {},
   "outputs": [
    {
     "name": "stdout",
     "output_type": "stream",
     "text": [
      "AUC: 0.9698952879581152\n",
      "accuracy: 0.9913728432108027\n",
      "recall  : 0.9397905759162304\n",
      "precision : 1.0\n",
      "f1-score :  0.9689608636977058\n"
     ]
    }
   ],
   "source": [
    "printscores(ytrain,trainp)"
   ]
  },
  {
   "cell_type": "code",
   "execution_count": 239,
   "metadata": {},
   "outputs": [
    {
     "name": "stdout",
     "output_type": "stream",
     "text": [
      "AUC: 0.8617534898366161\n",
      "accuracy: 0.9310344827586207\n",
      "recall  : 0.7623762376237624\n",
      "precision : 0.7777777777777778\n",
      "f1-score :  0.7699999999999999\n"
     ]
    }
   ],
   "source": [
    "printscores(ytest,testp)"
   ]
  },
  {
   "cell_type": "code",
   "execution_count": 240,
   "metadata": {},
   "outputs": [
    {
     "data": {
      "text/plain": [
       "Index(['nummailmes', 'tdmin', 'tdchar', 'temin', 'tnmin', 'tnchar', 'timin',\n",
       "       'tical', 'ncsc', 'intplan_yes'],\n",
       "      dtype='object')"
      ]
     },
     "execution_count": 240,
     "metadata": {},
     "output_type": "execute_result"
    }
   ],
   "source": [
    "from sklearn import feature_selection\n",
    "rfeobj=feature_selection.RFE(tree.DecisionTreeClassifier(random_state=42),n_features_to_select=10)\n",
    "rfeobj.fit(Xtrain,ytrain)\n",
    "impcols=Xtrain.columns[rfeobj.support_] \n",
    "impcols"
   ]
  },
  {
   "cell_type": "code",
   "execution_count": 241,
   "metadata": {},
   "outputs": [],
   "source": [
    "#maxdepthvalues=list(range(5,40))\n",
    "#d={\"max_depth\": maxdepthvalues}\n",
    "#obj=model_selection.GridSearchCV(estimator=tree.DecisionTreeClassifier(random_state=42),param_grid=d,cv=10 ,scoring=\"recall\",return_train_score=True,n_jobs=-1)\n",
    "#obj.fit(Xtrain[impcols],ytrain)"
   ]
  },
  {
   "cell_type": "code",
   "execution_count": 242,
   "metadata": {},
   "outputs": [],
   "source": [
    "#obj.best_params_"
   ]
  },
  {
   "cell_type": "code",
   "execution_count": 243,
   "metadata": {},
   "outputs": [],
   "source": [
    "#obj.best_score_"
   ]
  },
  {
   "cell_type": "code",
   "execution_count": 244,
   "metadata": {},
   "outputs": [
    {
     "data": {
      "text/plain": [
       "DecisionTreeClassifier(max_depth=20, random_state=42)"
      ]
     },
     "execution_count": 244,
     "metadata": {},
     "output_type": "execute_result"
    }
   ],
   "source": [
    "model=tree.DecisionTreeClassifier(random_state=42,max_depth= 20)\n",
    "model.fit(Xtrain[impcols],ytrain) # Model with only max_depth=21 and 10 cols"
   ]
  },
  {
   "cell_type": "code",
   "execution_count": 245,
   "metadata": {},
   "outputs": [],
   "source": [
    "trainp=model.predict(Xtrain[impcols])\n",
    "testp=model.predict(Xtest[impcols])"
   ]
  },
  {
   "cell_type": "code",
   "execution_count": 246,
   "metadata": {},
   "outputs": [
    {
     "name": "stdout",
     "output_type": "stream",
     "text": [
      "AUC: 0.9797097495896792\n",
      "accuracy: 0.9932483120780196\n",
      "recall  : 0.9607329842931938\n",
      "precision : 0.9918918918918919\n",
      "f1-score :  0.976063829787234\n"
     ]
    }
   ],
   "source": [
    "printscores(ytrain,trainp)"
   ]
  },
  {
   "cell_type": "code",
   "execution_count": 247,
   "metadata": {},
   "outputs": [
    {
     "name": "stdout",
     "output_type": "stream",
     "text": [
      "AUC: 0.8580362453206452\n",
      "accuracy: 0.9385307346326837\n",
      "recall  : 0.7425742574257426\n",
      "precision : 0.8333333333333334\n",
      "f1-score :  0.7853403141361257\n"
     ]
    }
   ],
   "source": [
    "printscores(ytest,testp)"
   ]
  },
  {
   "cell_type": "code",
   "execution_count": 248,
   "metadata": {},
   "outputs": [
    {
     "data": {
      "text/plain": [
       "Index(['nummailmes', 'tdmin', 'tdchar', 'temin', 'tnmin', 'timin', 'tical',\n",
       "       'ncsc', 'intplan_yes'],\n",
       "      dtype='object')"
      ]
     },
     "execution_count": 248,
     "metadata": {},
     "output_type": "execute_result"
    }
   ],
   "source": [
    "from sklearn import feature_selection\n",
    "rfeobj=feature_selection.RFE(tree.DecisionTreeClassifier(random_state=42),n_features_to_select=9)\n",
    "rfeobj.fit(Xtrain,ytrain)\n",
    "impcols=Xtrain.columns[rfeobj.support_] \n",
    "impcols"
   ]
  },
  {
   "cell_type": "code",
   "execution_count": 249,
   "metadata": {},
   "outputs": [],
   "source": [
    "#maxdepthvalues=list(range(5,40))\n",
    "#d={\"max_depth\": maxdepthvalues}\n",
    "#obj=model_selection.GridSearchCV(estimator=tree.DecisionTreeClassifier(random_state=42),param_grid=d,cv=10 ,scoring=\"recall\",return_train_score=True,n_jobs=-1)\n",
    "#obj.fit(Xtrain[impcols],ytrain)"
   ]
  },
  {
   "cell_type": "code",
   "execution_count": 250,
   "metadata": {},
   "outputs": [],
   "source": [
    "#obj.best_params_\n"
   ]
  },
  {
   "cell_type": "code",
   "execution_count": 251,
   "metadata": {},
   "outputs": [],
   "source": [
    "#obj.best_score_"
   ]
  },
  {
   "cell_type": "code",
   "execution_count": 252,
   "metadata": {},
   "outputs": [
    {
     "data": {
      "text/plain": [
       "DecisionTreeClassifier(max_depth=17, random_state=42)"
      ]
     },
     "execution_count": 252,
     "metadata": {},
     "output_type": "execute_result"
    }
   ],
   "source": [
    "model=tree.DecisionTreeClassifier(random_state=42,max_depth= 17)\n",
    "model.fit(Xtrain[impcols],ytrain) # Model with only max_depth=17 and 9 cols"
   ]
  },
  {
   "cell_type": "code",
   "execution_count": 253,
   "metadata": {},
   "outputs": [],
   "source": [
    "trainp=model.predict(Xtrain[impcols])\n",
    "testp=model.predict(Xtest[impcols])"
   ]
  },
  {
   "cell_type": "code",
   "execution_count": 254,
   "metadata": {},
   "outputs": [
    {
     "name": "stdout",
     "output_type": "stream",
     "text": [
      "AUC: 0.9698952879581152\n",
      "accuracy: 0.9913728432108027\n",
      "recall  : 0.9397905759162304\n",
      "precision : 1.0\n",
      "f1-score :  0.9689608636977058\n"
     ]
    }
   ],
   "source": [
    "printscores(ytrain,trainp)"
   ]
  },
  {
   "cell_type": "code",
   "execution_count": 255,
   "metadata": {},
   "outputs": [
    {
     "name": "stdout",
     "output_type": "stream",
     "text": [
      "AUC: 0.8612199559178533\n",
      "accuracy: 0.9370314842578711\n",
      "recall  : 0.7524752475247525\n",
      "precision : 0.8172043010752689\n",
      "f1-score :  0.7835051546391754\n"
     ]
    }
   ],
   "source": [
    "printscores(ytest,testp)"
   ]
  },
  {
   "cell_type": "code",
   "execution_count": null,
   "metadata": {},
   "outputs": [],
   "source": []
  },
  {
   "cell_type": "code",
   "execution_count": null,
   "metadata": {},
   "outputs": [],
   "source": []
  },
  {
   "cell_type": "code",
   "execution_count": 256,
   "metadata": {},
   "outputs": [],
   "source": [
    "#from sklearn import feature_selection\n",
    "#rfeobj=feature_selection.RFE(estimator=tree.DecisionTreeClassifier(max_depth=12,random_state=42))\n",
    "#grid={\"n_features_to_select\":list(range(5,30,2))}\n",
    "#gridobj=model_selection.GridSearchCV(estimator=rfeobj,param_grid=grid,cv=10,scoring=\"recall\",return_train_score=True,n_jobs=-1)\n",
    "#gridobj.fit(Xtrain,ytrain)\n",
    "#cvdf2=pd.DataFrame(gridobj.cv_results_)\n",
    "#cvdf2[[\"params\",\"mean_train_score\",\"mean_test_score\"]]"
   ]
  },
  {
   "cell_type": "code",
   "execution_count": 257,
   "metadata": {},
   "outputs": [],
   "source": [
    "#gridobj.best_params_"
   ]
  },
  {
   "cell_type": "code",
   "execution_count": 258,
   "metadata": {},
   "outputs": [],
   "source": [
    "#from sklearn import feature_selection\n",
    "#rfeobj=feature_selection.RFE(estimator=tree.DecisionTreeClassifier(max_depth=19,random_state=42))\n",
    "#grid={\"n_features_to_select\":list(range(5,30,2))}\n",
    "#gridobj=model_selection.GridSearchCV(estimator=rfeobj,param_grid=grid,cv=10,scoring=\"recall\",return_train_score=True,n_jobs=-1)\n",
    "#gridobj.fit(Xtrain,ytrain)\n",
    "#cvdf3=pd.DataFrame(gridobj.cv_results_)\n",
    "#cvdf3[[\"params\",\"mean_train_score\",\"mean_test_score\"]]\n",
    "\n",
    "#gridobj.best_params_"
   ]
  },
  {
   "cell_type": "code",
   "execution_count": 259,
   "metadata": {},
   "outputs": [],
   "source": [
    "#from sklearn import feature_selection\n",
    "#rfeobj=feature_selection.RFE(estimator=tree.DecisionTreeClassifier(max_depth=17,random_state=42))\n",
    "#grid={\"n_features_to_select\":list(range(5,30,2))}\n",
    "#gridobj=model_selection.GridSearchCV(estimator=rfeobj,param_grid=grid,cv=10,scoring=\"recall\",return_train_score=True,n_jobs=-1)\n",
    "#gridobj.fit(Xtrain,ytrain)\n",
    "#cvdf4=pd.DataFrame(gridobj.cv_results_)\n",
    "#cvdf4[[\"params\",\"mean_train_score\",\"mean_test_score\"]]"
   ]
  },
  {
   "cell_type": "code",
   "execution_count": 260,
   "metadata": {},
   "outputs": [],
   "source": [
    "#gridobj.best_params_"
   ]
  },
  {
   "cell_type": "code",
   "execution_count": 261,
   "metadata": {},
   "outputs": [],
   "source": [
    "#from sklearn import feature_selection\n",
    "#rfeobj=feature_selection.RFE(estimator=tree.DecisionTreeClassifier(max_depth=15,random_state=42))\n",
    "#grid={\"n_features_to_select\":list(range(5,30,2))}\n",
    "#gridobj=model_selection.GridSearchCV(estimator=rfeobj,param_grid=grid,cv=10,scoring=\"recall\",return_train_score=True,n_jobs=-1)\n",
    "#gridobj.fit(Xtrain,ytrain)\n",
    "#cvdf5=pd.DataFrame(gridobj.cv_results_)\n",
    "#cvdf5[[\"params\",\"mean_train_score\",\"mean_test_score\"]]"
   ]
  },
  {
   "cell_type": "code",
   "execution_count": 262,
   "metadata": {},
   "outputs": [],
   "source": [
    "#gridobj.best_params_"
   ]
  },
  {
   "cell_type": "code",
   "execution_count": 263,
   "metadata": {},
   "outputs": [],
   "source": [
    "#from sklearn import feature_selection\n",
    "#rfeobj=feature_selection.RFE(estimator=tree.DecisionTreeClassifier(max_depth=14,random_state=42))\n",
    "#grid={\"n_features_to_select\":list(range(5,30,2))}\n",
    "#gridobj=model_selection.GridSearchCV(estimator=rfeobj,param_grid=grid,cv=10,scoring=\"recall\",return_train_score=True,n_jobs=-1)\n",
    "#gridobj.fit(Xtrain,ytrain)\n",
    "#cvdf6=pd.DataFrame(gridobj.cv_results_)\n",
    "#cvdf6[[\"params\",\"mean_train_score\",\"mean_test_score\"]]"
   ]
  },
  {
   "cell_type": "code",
   "execution_count": 264,
   "metadata": {},
   "outputs": [],
   "source": [
    "#gridobj.best_params_"
   ]
  },
  {
   "cell_type": "code",
   "execution_count": 265,
   "metadata": {},
   "outputs": [],
   "source": [
    "#from sklearn import feature_selection\n",
    "#rfeobj=feature_selection.RFE(estimator=tree.DecisionTreeClassifier(max_depth=13,random_state=42))\n",
    "#grid={\"n_features_to_select\":list(range(5,30,2))}\n",
    "#gridobj=model_selection.GridSearchCV(estimator=rfeobj,param_grid=grid,cv=10,scoring=\"recall\",return_train_score=True,n_jobs=-1)\n",
    "#gridobj.fit(Xtrain,ytrain)\n",
    "#cvdf7=pd.DataFrame(gridobj.cv_results_)\n",
    "#cvdf7[[\"params\",\"mean_train_score\",\"mean_test_score\"]]"
   ]
  },
  {
   "cell_type": "code",
   "execution_count": 266,
   "metadata": {},
   "outputs": [],
   "source": [
    "#gridobj.best_params_"
   ]
  },
  {
   "cell_type": "code",
   "execution_count": 267,
   "metadata": {},
   "outputs": [],
   "source": [
    "#from sklearn import feature_selection\n",
    "#rfeobj=feature_selection.RFE(estimator=tree.DecisionTreeClassifier(max_depth=11,random_state=42))\n",
    "#grid={\"n_features_to_select\":list(range(5,30,2))}\n",
    "#gridobj=model_selection.GridSearchCV(estimator=rfeobj,param_grid=grid,cv=10,scoring=\"recall\",return_train_score=True,n_jobs=-1)\n",
    "#gridobj.fit(Xtrain,ytrain)\n",
    "#cvdf7=pd.DataFrame(gridobj.cv_results_)\n",
    "#cvdf7[[\"params\",\"mean_train_score\",\"mean_test_score\"]]"
   ]
  },
  {
   "cell_type": "code",
   "execution_count": 268,
   "metadata": {},
   "outputs": [],
   "source": [
    "#gridobj.best_params_"
   ]
  },
  {
   "cell_type": "code",
   "execution_count": 269,
   "metadata": {},
   "outputs": [],
   "source": [
    "#from sklearn import feature_selection\n",
    "#rfeobj=feature_selection.RFE(estimator=tree.DecisionTreeClassifier(max_depth=10,random_state=42))\n",
    "#grid={\"n_features_to_select\":list(range(5,30,2))}\n",
    "#gridobj=model_selection.GridSearchCV(estimator=rfeobj,param_grid=grid,cv=10,scoring=\"recall\",return_train_score=True,n_jobs=-1)\n",
    "#gridobj.fit(Xtrain,ytrain)\n",
    "#cvdf8=pd.DataFrame(gridobj.cv_results_)\n",
    "#cvdf8[[\"params\",\"mean_train_score\",\"mean_test_score\"]]"
   ]
  },
  {
   "cell_type": "code",
   "execution_count": 270,
   "metadata": {},
   "outputs": [],
   "source": [
    "#gridobj.best_params_"
   ]
  },
  {
   "cell_type": "code",
   "execution_count": 271,
   "metadata": {},
   "outputs": [],
   "source": [
    "#from sklearn import feature_selection\n",
    "#rfeobj=feature_selection.RFE(estimator=tree.DecisionTreeClassifier(max_depth=9,random_state=42))\n",
    "#grid={\"n_features_to_select\":list(range(5,30,2))}\n",
    "#gridobj=model_selection.GridSearchCV(estimator=rfeobj,param_grid=grid,cv=10,scoring=\"recall\",return_train_score=True,n_jobs=-1)\n",
    "#gridobj.fit(Xtrain,ytrain)\n",
    "#cvdf9=pd.DataFrame(gridobj.cv_results_)\n",
    "#cvdf9[[\"params\",\"mean_train_score\",\"mean_test_score\"]]"
   ]
  },
  {
   "cell_type": "code",
   "execution_count": 272,
   "metadata": {},
   "outputs": [],
   "source": [
    "#gridobj.best_params_"
   ]
  },
  {
   "cell_type": "code",
   "execution_count": 273,
   "metadata": {},
   "outputs": [],
   "source": [
    "#from sklearn import feature_selection\n",
    "#rfeobj=feature_selection.RFE(estimator=tree.DecisionTreeClassifier(max_depth=8,random_state=42))\n",
    "#grid={\"n_features_to_select\":list(range(5,30,2))}\n",
    "#gridobj=model_selection.GridSearchCV(estimator=rfeobj,param_grid=grid,cv=10,scoring=\"recall\",return_train_score=True,n_jobs=-1)\n",
    "#gridobj.fit(Xtrain,ytrain)\n",
    "#cvdf10=pd.DataFrame(gridobj.cv_results_)\n",
    "#cvdf10[[\"params\",\"mean_train_score\",\"mean_test_score\"]]"
   ]
  },
  {
   "cell_type": "code",
   "execution_count": 274,
   "metadata": {},
   "outputs": [],
   "source": [
    "#gridobj.best_params_"
   ]
  },
  {
   "cell_type": "code",
   "execution_count": 275,
   "metadata": {},
   "outputs": [],
   "source": [
    "#from sklearn import feature_selection\n",
    "#rfeobj=feature_selection.RFE(estimator=tree.DecisionTreeClassifier(max_depth=16,random_state=42))\n",
    "#grid={\"n_features_to_select\":list(range(5,30,2))}\n",
    "#gridobj=model_selection.GridSearchCV(estimator=rfeobj,param_grid=grid,cv=10,scoring=\"recall\",return_train_score=True,n_jobs=-1)\n",
    "#gridobj.fit(Xtrain,ytrain)\n",
    "#cvdf3=pd.DataFrame(gridobj.cv_results_)\n",
    "#cvdf3[[\"params\",\"mean_train_score\",\"mean_test_score\"]]"
   ]
  },
  {
   "cell_type": "code",
   "execution_count": 276,
   "metadata": {},
   "outputs": [],
   "source": [
    "#gridobj.best_params_"
   ]
  },
  {
   "cell_type": "code",
   "execution_count": 277,
   "metadata": {},
   "outputs": [],
   "source": [
    "#from sklearn import feature_selection\n",
    "#rfeobj=feature_selection.RFE(estimator=tree.DecisionTreeClassifier(max_depth=20,random_state=42))\n",
    "#grid={\"n_features_to_select\":list(range(5,30,2))}\n",
    "#gridobj=model_selection.GridSearchCV(estimator=rfeobj,param_grid=grid,cv=10,scoring=\"recall\",return_train_score=True,n_jobs=-1)\n",
    "#gridobj.fit(Xtrain,ytrain)\n",
    "#cvdf3=pd.DataFrame(gridobj.cv_results_)\n",
    "#cvdf3[[\"params\",\"mean_train_score\",\"mean_test_score\"]]"
   ]
  },
  {
   "cell_type": "code",
   "execution_count": 278,
   "metadata": {},
   "outputs": [],
   "source": [
    "#gridobj.best_params_"
   ]
  },
  {
   "cell_type": "code",
   "execution_count": 279,
   "metadata": {},
   "outputs": [],
   "source": [
    "#from sklearn import feature_selection\n",
    "#rfeobj=feature_selection.RFE(estimator=tree.DecisionTreeClassifier(max_depth=19,random_state=42))\n",
    "#grid={\"n_features_to_select\":list(range(5,30,2))}\n",
    "#gridobj=model_selection.GridSearchCV(estimator=rfeobj,param_grid=grid,cv=10,scoring=\"recall\",return_train_score=True,n_jobs=-1)\n",
    "#gridobj.fit(Xtrain,ytrain)\n",
    "#cvdf3=pd.DataFrame(gridobj.cv_results_)\n",
    "#cvdf3[[\"params\",\"mean_train_score\",\"mean_test_score\"]]"
   ]
  },
  {
   "cell_type": "code",
   "execution_count": 280,
   "metadata": {},
   "outputs": [],
   "source": [
    "#gridobj.best_params_"
   ]
  },
  {
   "cell_type": "code",
   "execution_count": null,
   "metadata": {},
   "outputs": [],
   "source": []
  },
  {
   "cell_type": "code",
   "execution_count": 281,
   "metadata": {},
   "outputs": [
    {
     "data": {
      "text/plain": [
       "Index(['nummailmes', 'tdmin', 'tdchar', 'temin', 'tnmin', 'timin', 'tical',\n",
       "       'ncsc', 'intplan_yes'],\n",
       "      dtype='object')"
      ]
     },
     "execution_count": 281,
     "metadata": {},
     "output_type": "execute_result"
    }
   ],
   "source": [
    "from sklearn import feature_selection\n",
    "rfeobj=feature_selection.RFE(tree.DecisionTreeClassifier(random_state=42),n_features_to_select=9)\n",
    "rfeobj.fit(Xtrain,ytrain)\n",
    "impcols=Xtrain.columns[rfeobj.support_] \n",
    "impcols"
   ]
  },
  {
   "cell_type": "code",
   "execution_count": 282,
   "metadata": {},
   "outputs": [],
   "source": [
    "#maxdepthvalues=list(range(5,40))\n",
    "#d={\"max_depth\": maxdepthvalues}\n",
    "#obj=model_selection.GridSearchCV(estimator=tree.DecisionTreeClassifier(random_state=42),param_grid=d,cv=10 ,scoring=\"recall\",return_train_score=True,n_jobs=-1)\n",
    "#obj.fit(Xtrain[impcols],ytrain)"
   ]
  },
  {
   "cell_type": "code",
   "execution_count": 283,
   "metadata": {},
   "outputs": [],
   "source": [
    "#obj.best_params_"
   ]
  },
  {
   "cell_type": "code",
   "execution_count": 284,
   "metadata": {},
   "outputs": [],
   "source": [
    "\n",
    "#minsamplesleaf=list(range(5,20))\n",
    "#d={\"min_samples_leaf\":minsamplesleaf}\n",
    "#obj=model_selection.GridSearchCV(estimator=tree.DecisionTreeClassifier(random_state=42), param_grid=d, cv=10 , scoring=\"recall\")\n",
    "#obj.fit(Xtrain[impcols],ytrain)"
   ]
  },
  {
   "cell_type": "code",
   "execution_count": 285,
   "metadata": {},
   "outputs": [],
   "source": [
    "#obj.best_params_#{'max_depth': 13, 'min_samples_split': 5}"
   ]
  },
  {
   "cell_type": "code",
   "execution_count": 286,
   "metadata": {},
   "outputs": [],
   "source": [
    "#from sklearn import feature_selection\n",
    "#rfeobj=feature_selection.RFE(estimator=tree.DecisionTreeClassifier(max_depth=12,min_samples_split=5,random_state=42))\n",
    "#grid={\"n_features_to_select\":list(range(5,30,2))}\n",
    "#gridobj=model_selection.GridSearchCV(estimator=rfeobj,param_grid=grid,cv=10,scoring=\"recall\",return_train_score=True,n_jobs=-1)\n",
    "#gridobj.fit(Xtrain,ytrain)\n",
    "#cvdf3=pd.DataFrame(gridobj.cv_results_)\n",
    "#cvdf3[[\"params\",\"mean_train_score\",\"mean_test_score\"]]"
   ]
  },
  {
   "cell_type": "code",
   "execution_count": 287,
   "metadata": {},
   "outputs": [],
   "source": [
    "#gridobj.best_params_"
   ]
  },
  {
   "cell_type": "markdown",
   "metadata": {},
   "source": [
    "# Best model using decision tree found with\n",
    "## - max_depth=11,min_samples_split=5\n",
    "## - max_depth=11"
   ]
  },
  {
   "cell_type": "code",
   "execution_count": 288,
   "metadata": {},
   "outputs": [
    {
     "data": {
      "text/plain": [
       "DecisionTreeClassifier(max_depth=11, min_samples_split=5, random_state=42)"
      ]
     },
     "execution_count": 288,
     "metadata": {},
     "output_type": "execute_result"
    }
   ],
   "source": [
    "model=tree.DecisionTreeClassifier(random_state=42,max_depth=11,min_samples_split=5)\n",
    "model.fit(Xtrain[impcols],ytrain) # Model with max_depth=11 , min_samples_split=5 and 9 cols"
   ]
  },
  {
   "cell_type": "code",
   "execution_count": 289,
   "metadata": {},
   "outputs": [],
   "source": [
    "trainp=model.predict(Xtrain[impcols])\n",
    "testp=model.predict(Xtest[impcols])"
   ]
  },
  {
   "cell_type": "code",
   "execution_count": 290,
   "metadata": {},
   "outputs": [
    {
     "name": "stdout",
     "output_type": "stream",
     "text": [
      "AUC: 0.9293147871374735\n",
      "accuracy: 0.9778694673668417\n",
      "recall  : 0.8612565445026178\n",
      "precision : 0.982089552238806\n",
      "f1-score :  0.9177126917712692\n"
     ]
    }
   ],
   "source": [
    "printscores(ytrain,trainp)"
   ]
  },
  {
   "cell_type": "code",
   "execution_count": 291,
   "metadata": {},
   "outputs": [],
   "source": [
    "#AUC: 0.9698952879581152\n",
    "#accuracy: 0.9913728432108027\n",
    "#recall  : 0.9397905759162304\n",
    "#precision : 1.0\n",
    "#f1-score :  0.9689608636977058\n",
    "#    max depth 17 "
   ]
  },
  {
   "cell_type": "code",
   "execution_count": 292,
   "metadata": {},
   "outputs": [
    {
     "name": "stdout",
     "output_type": "stream",
     "text": [
      "AUC: 0.872354196550397\n",
      "accuracy: 0.9490254872563718\n",
      "recall  : 0.7623762376237624\n",
      "precision : 0.8850574712643678\n",
      "f1-score :  0.8191489361702128\n"
     ]
    }
   ],
   "source": [
    "printscores(ytest,testp)"
   ]
  },
  {
   "cell_type": "code",
   "execution_count": 293,
   "metadata": {},
   "outputs": [],
   "source": [
    "#AUC: 0.8617534898366161\n",
    "#accuracy: 0.9310344827586207\n",
    "#recall  : 0.7623762376237624\n",
    "#precision : 0.7777777777777778\n",
    "#f1-score :  0.7699999999999999"
   ]
  },
  {
   "cell_type": "code",
   "execution_count": 294,
   "metadata": {},
   "outputs": [
    {
     "data": {
      "text/html": [
       "<div>\n",
       "<style scoped>\n",
       "    .dataframe tbody tr th:only-of-type {\n",
       "        vertical-align: middle;\n",
       "    }\n",
       "\n",
       "    .dataframe tbody tr th {\n",
       "        vertical-align: top;\n",
       "    }\n",
       "\n",
       "    .dataframe thead th {\n",
       "        text-align: right;\n",
       "    }\n",
       "</style>\n",
       "<table border=\"1\" class=\"dataframe\">\n",
       "  <thead>\n",
       "    <tr style=\"text-align: right;\">\n",
       "      <th>Predicted</th>\n",
       "      <th>0</th>\n",
       "      <th>1</th>\n",
       "      <th>All</th>\n",
       "    </tr>\n",
       "    <tr>\n",
       "      <th>Actual</th>\n",
       "      <th></th>\n",
       "      <th></th>\n",
       "      <th></th>\n",
       "    </tr>\n",
       "  </thead>\n",
       "  <tbody>\n",
       "    <tr>\n",
       "      <th>0</th>\n",
       "      <td>556</td>\n",
       "      <td>10</td>\n",
       "      <td>566</td>\n",
       "    </tr>\n",
       "    <tr>\n",
       "      <th>1</th>\n",
       "      <td>24</td>\n",
       "      <td>77</td>\n",
       "      <td>101</td>\n",
       "    </tr>\n",
       "    <tr>\n",
       "      <th>All</th>\n",
       "      <td>580</td>\n",
       "      <td>87</td>\n",
       "      <td>667</td>\n",
       "    </tr>\n",
       "  </tbody>\n",
       "</table>\n",
       "</div>"
      ],
      "text/plain": [
       "Predicted    0   1  All\n",
       "Actual                 \n",
       "0          556  10  566\n",
       "1           24  77  101\n",
       "All        580  87  667"
      ]
     },
     "execution_count": 294,
     "metadata": {},
     "output_type": "execute_result"
    }
   ],
   "source": [
    "pd.crosstab(ytest, testp, rownames=['Actual'], colnames=['Predicted'], margins=True)"
   ]
  },
  {
   "cell_type": "code",
   "execution_count": 295,
   "metadata": {},
   "outputs": [
    {
     "data": {
      "text/plain": [
       "0    2850\n",
       "1     483\n",
       "Name: label, dtype: int64"
      ]
     },
     "execution_count": 295,
     "metadata": {},
     "output_type": "execute_result"
    }
   ],
   "source": [
    "df[\"label\"].value_counts()"
   ]
  },
  {
   "cell_type": "code",
   "execution_count": 296,
   "metadata": {},
   "outputs": [
    {
     "data": {
      "text/plain": [
       "DecisionTreeClassifier(max_depth=11, random_state=42)"
      ]
     },
     "execution_count": 296,
     "metadata": {},
     "output_type": "execute_result"
    }
   ],
   "source": [
    "model=tree.DecisionTreeClassifier(random_state=42,max_depth= 11)\n",
    "model.fit(Xtrain[impcols],ytrain) # Model with only max_depth=11 and 9 cols"
   ]
  },
  {
   "cell_type": "code",
   "execution_count": 297,
   "metadata": {},
   "outputs": [],
   "source": [
    "trainp=model.predict(Xtrain[impcols])\n",
    "testp=model.predict(Xtest[impcols])"
   ]
  },
  {
   "cell_type": "code",
   "execution_count": 298,
   "metadata": {},
   "outputs": [
    {
     "name": "stdout",
     "output_type": "stream",
     "text": [
      "AUC: 0.9424083769633508\n",
      "accuracy: 0.9834958739684921\n",
      "recall  : 0.8848167539267016\n",
      "precision : 1.0\n",
      "f1-score :  0.9388888888888889\n"
     ]
    }
   ],
   "source": [
    "printscores(ytrain,trainp)"
   ]
  },
  {
   "cell_type": "code",
   "execution_count": 299,
   "metadata": {},
   "outputs": [],
   "source": [
    "#AUC: 0.9698952879581152\n",
    "#accuracy: 0.9913728432108027\n",
    "#recall  : 0.9397905759162304\n",
    "#precision : 1.0\n",
    "#f1-score :  0.9689608636977058\n",
    "#    max depth 17"
   ]
  },
  {
   "cell_type": "code",
   "execution_count": 300,
   "metadata": {},
   "outputs": [
    {
     "name": "stdout",
     "output_type": "stream",
     "text": [
      "AUC: 0.8804884021971102\n",
      "accuracy: 0.9490254872563718\n",
      "recall  : 0.7821782178217822\n",
      "precision : 0.8681318681318682\n",
      "f1-score :  0.8229166666666666\n"
     ]
    }
   ],
   "source": [
    "printscores(ytest,testp)"
   ]
  },
  {
   "cell_type": "code",
   "execution_count": 301,
   "metadata": {},
   "outputs": [
    {
     "data": {
      "text/html": [
       "<div>\n",
       "<style scoped>\n",
       "    .dataframe tbody tr th:only-of-type {\n",
       "        vertical-align: middle;\n",
       "    }\n",
       "\n",
       "    .dataframe tbody tr th {\n",
       "        vertical-align: top;\n",
       "    }\n",
       "\n",
       "    .dataframe thead th {\n",
       "        text-align: right;\n",
       "    }\n",
       "</style>\n",
       "<table border=\"1\" class=\"dataframe\">\n",
       "  <thead>\n",
       "    <tr style=\"text-align: right;\">\n",
       "      <th>Predicted</th>\n",
       "      <th>0</th>\n",
       "      <th>1</th>\n",
       "      <th>All</th>\n",
       "    </tr>\n",
       "    <tr>\n",
       "      <th>Actual</th>\n",
       "      <th></th>\n",
       "      <th></th>\n",
       "      <th></th>\n",
       "    </tr>\n",
       "  </thead>\n",
       "  <tbody>\n",
       "    <tr>\n",
       "      <th>0</th>\n",
       "      <td>554</td>\n",
       "      <td>12</td>\n",
       "      <td>566</td>\n",
       "    </tr>\n",
       "    <tr>\n",
       "      <th>1</th>\n",
       "      <td>22</td>\n",
       "      <td>79</td>\n",
       "      <td>101</td>\n",
       "    </tr>\n",
       "    <tr>\n",
       "      <th>All</th>\n",
       "      <td>576</td>\n",
       "      <td>91</td>\n",
       "      <td>667</td>\n",
       "    </tr>\n",
       "  </tbody>\n",
       "</table>\n",
       "</div>"
      ],
      "text/plain": [
       "Predicted    0   1  All\n",
       "Actual                 \n",
       "0          554  12  566\n",
       "1           22  79  101\n",
       "All        576  91  667"
      ]
     },
     "execution_count": 301,
     "metadata": {},
     "output_type": "execute_result"
    }
   ],
   "source": [
    "pd.crosstab(ytest, testp, rownames=['Actual'], colnames=['Predicted'], margins=True)"
   ]
  },
  {
   "cell_type": "code",
   "execution_count": 302,
   "metadata": {},
   "outputs": [
    {
     "data": {
      "text/plain": [
       "Index(['nummailmes', 'tdmin', 'tdchar', 'temin', 'tnmin', 'timin', 'tical',\n",
       "       'ncsc', 'intplan_yes'],\n",
       "      dtype='object')"
      ]
     },
     "execution_count": 302,
     "metadata": {},
     "output_type": "execute_result"
    }
   ],
   "source": [
    "impcols"
   ]
  },
  {
   "cell_type": "code",
   "execution_count": 303,
   "metadata": {},
   "outputs": [],
   "source": [
    "#grid1={\"max_depth\" : list(range(5,30))}\n",
    "#grid2={ \"max_depth\": list(range(5,30)),\"min_samples_split\":list(range(5,30))}\n",
    "#grid3={ \"min_samples_leaf\" : list(range(5,30)),\"min_samples_split\" :list(range(5,30))}\n",
    "#paramgrid=[grid1,grid2,grid3]\n",
    "#obj=model_selection.GridSearchCV(estimator=tree.DecisionTreeClassifier(random_state=42), param_grid=paramgrid, cv=10 , scoring=\"recall\",n_jobs=-1)\n",
    "#obj.fit(Xtrain[impcols],ytrain)"
   ]
  },
  {
   "cell_type": "code",
   "execution_count": 304,
   "metadata": {},
   "outputs": [],
   "source": [
    "#obj.best_params_{'max_depth': 17}"
   ]
  },
  {
   "cell_type": "code",
   "execution_count": 305,
   "metadata": {},
   "outputs": [],
   "source": [
    "#obj.best_score_0.7513495276653172"
   ]
  },
  {
   "cell_type": "code",
   "execution_count": 306,
   "metadata": {},
   "outputs": [],
   "source": [
    "#grid1={\"max_depth\" : list(range(5,30))}\n",
    "#grid2={ \"max_depth\": list(range(5,30)),\"min_samples_split\":list(range(5,30))}\n",
    "#grid3={ \"min_samples_leaf\" : list(range(5,30)),\"min_samples_split\" :list(range(5,30))}\n",
    "#paramgrid=[grid3]\n",
    "#obj=model_selection.GridSearchCV(estimator=tree.DecisionTreeClassifier(random_state=42), param_grid=paramgrid, cv=10 , scoring=\"recall\",n_jobs=-1)\n",
    "#obj.fit(Xtrain[impcols],ytrain)"
   ]
  },
  {
   "cell_type": "code",
   "execution_count": 307,
   "metadata": {},
   "outputs": [],
   "source": [
    "#obj.best_params_{'min_samples_leaf': 9, 'min_samples_split': 5}"
   ]
  },
  {
   "cell_type": "code",
   "execution_count": 308,
   "metadata": {},
   "outputs": [],
   "source": [
    "#obj.best_score_0.7224021592442645"
   ]
  },
  {
   "cell_type": "code",
   "execution_count": 309,
   "metadata": {},
   "outputs": [],
   "source": [
    "#grid2={ \"max_depth\": list(range(5,30)),\"min_samples_split\":list(range(5,30))}\n",
    "#paramgrid=[grid2]\n",
    "#obj=model_selection.GridSearchCV(estimator=tree.DecisionTreeClassifier(random_state=42), param_grid=paramgrid, cv=10 , scoring=\"recall\",n_jobs=-1)\n",
    "#obj.fit(Xtrain[impcols],ytrain)\n",
    "#obj.best_params_{'max_depth': 13, 'min_samples_split': 5}"
   ]
  },
  {
   "cell_type": "code",
   "execution_count": null,
   "metadata": {},
   "outputs": [],
   "source": []
  },
  {
   "cell_type": "code",
   "execution_count": 310,
   "metadata": {},
   "outputs": [
    {
     "data": {
      "text/plain": [
       "DecisionTreeClassifier(max_depth=12, random_state=42)"
      ]
     },
     "execution_count": 310,
     "metadata": {},
     "output_type": "execute_result"
    }
   ],
   "source": [
    "model=tree.DecisionTreeClassifier(random_state=42,max_depth= 12)\n",
    "model.fit(Xtrain[impcols],ytrain) # Model with only max_depth=12 and 9 cols"
   ]
  },
  {
   "cell_type": "code",
   "execution_count": 311,
   "metadata": {},
   "outputs": [],
   "source": [
    "trainp=model.predict(Xtrain[impcols])\n",
    "testp=model.predict(Xtest[impcols])"
   ]
  },
  {
   "cell_type": "code",
   "execution_count": 312,
   "metadata": {},
   "outputs": [
    {
     "name": "stdout",
     "output_type": "stream",
     "text": [
      "AUC: 0.9450261780104712\n",
      "accuracy: 0.9842460615153789\n",
      "recall  : 0.8900523560209425\n",
      "precision : 1.0\n",
      "f1-score :  0.9418282548476455\n"
     ]
    }
   ],
   "source": [
    "printscores(ytrain,trainp)"
   ]
  },
  {
   "cell_type": "code",
   "execution_count": 313,
   "metadata": {},
   "outputs": [
    {
     "name": "stdout",
     "output_type": "stream",
     "text": [
      "AUC: 0.8840219711017039\n",
      "accuracy: 0.9550224887556222\n",
      "recall  : 0.7821782178217822\n",
      "precision : 0.9080459770114943\n",
      "f1-score :  0.8404255319148937\n"
     ]
    }
   ],
   "source": [
    "printscores(ytest,testp)"
   ]
  },
  {
   "cell_type": "code",
   "execution_count": 314,
   "metadata": {},
   "outputs": [
    {
     "data": {
      "text/plain": [
       "Index(['acclen', 'nummailmes', 'tdmin', 'tdchar', 'temin', 'tnmin', 'tnchar',\n",
       "       'timin', 'tical', 'ncsc', 'intplan_yes'],\n",
       "      dtype='object')"
      ]
     },
     "execution_count": 314,
     "metadata": {},
     "output_type": "execute_result"
    }
   ],
   "source": [
    "from sklearn import feature_selection\n",
    "rfeobj=feature_selection.RFE(tree.DecisionTreeClassifier(random_state=42),n_features_to_select=11)\n",
    "rfeobj.fit(Xtrain,ytrain)\n",
    "impcols=Xtrain.columns[rfeobj.support_] \n",
    "impcols"
   ]
  },
  {
   "cell_type": "code",
   "execution_count": 315,
   "metadata": {},
   "outputs": [
    {
     "data": {
      "text/plain": [
       "DecisionTreeClassifier(max_depth=10, random_state=42)"
      ]
     },
     "execution_count": 315,
     "metadata": {},
     "output_type": "execute_result"
    }
   ],
   "source": [
    "model=tree.DecisionTreeClassifier(random_state=42,max_depth= 10)\n",
    "model.fit(Xtrain[impcols],ytrain) # Model with only max_depth=14 and 9 cols"
   ]
  },
  {
   "cell_type": "code",
   "execution_count": 316,
   "metadata": {},
   "outputs": [],
   "source": [
    "trainp=model.predict(Xtrain[impcols])\n",
    "testp=model.predict(Xtest[impcols])"
   ]
  },
  {
   "cell_type": "code",
   "execution_count": 317,
   "metadata": {},
   "outputs": [
    {
     "name": "stdout",
     "output_type": "stream",
     "text": [
      "AUC: 0.9402238196972338\n",
      "accuracy: 0.9816204051012754\n",
      "recall  : 0.8821989528795812\n",
      "precision : 0.9882697947214076\n",
      "f1-score :  0.9322268326417703\n"
     ]
    }
   ],
   "source": [
    "printscores(ytrain,trainp)"
   ]
  },
  {
   "cell_type": "code",
   "execution_count": 318,
   "metadata": {},
   "outputs": [
    {
     "name": "stdout",
     "output_type": "stream",
     "text": [
      "AUC: 0.8633365986775355\n",
      "accuracy: 0.9475262368815592\n",
      "recall  : 0.7425742574257426\n",
      "precision : 0.8928571428571429\n",
      "f1-score :  0.8108108108108107\n"
     ]
    }
   ],
   "source": [
    "printscores(ytest,testp)"
   ]
  },
  {
   "cell_type": "code",
   "execution_count": 319,
   "metadata": {},
   "outputs": [
    {
     "data": {
      "text/plain": [
       "Index(['acclen', 'nummailmes', 'tdmin', 'tdchar', 'temin', 'tecahr', 'tnmin',\n",
       "       'tnchar', 'timin', 'tical', 'tichar', 'ncsc', 'intplan_yes'],\n",
       "      dtype='object')"
      ]
     },
     "execution_count": 319,
     "metadata": {},
     "output_type": "execute_result"
    }
   ],
   "source": [
    "from sklearn import feature_selection\n",
    "rfeobj=feature_selection.RFE(tree.DecisionTreeClassifier(random_state=42),n_features_to_select=13)\n",
    "rfeobj.fit(Xtrain,ytrain)\n",
    "impcols=Xtrain.columns[rfeobj.support_] \n",
    "impcols"
   ]
  },
  {
   "cell_type": "code",
   "execution_count": 320,
   "metadata": {},
   "outputs": [
    {
     "data": {
      "text/plain": [
       "DecisionTreeClassifier(max_depth=10, random_state=42)"
      ]
     },
     "execution_count": 320,
     "metadata": {},
     "output_type": "execute_result"
    }
   ],
   "source": [
    "model=tree.DecisionTreeClassifier(random_state=42,max_depth= 10)\n",
    "model.fit(Xtrain[impcols],ytrain) # Model with only max_depth=14 and 9 cols"
   ]
  },
  {
   "cell_type": "code",
   "execution_count": 321,
   "metadata": {},
   "outputs": [],
   "source": [
    "trainp=model.predict(Xtrain[impcols])\n",
    "testp=model.predict(Xtest[impcols])"
   ]
  },
  {
   "cell_type": "code",
   "execution_count": 322,
   "metadata": {},
   "outputs": [
    {
     "name": "stdout",
     "output_type": "stream",
     "text": [
      "AUC: 0.9402238196972338\n",
      "accuracy: 0.9816204051012754\n",
      "recall  : 0.8821989528795812\n",
      "precision : 0.9882697947214076\n",
      "f1-score :  0.9322268326417703\n"
     ]
    }
   ],
   "source": [
    "printscores(ytrain,trainp)"
   ]
  },
  {
   "cell_type": "code",
   "execution_count": 323,
   "metadata": {},
   "outputs": [
    {
     "name": "stdout",
     "output_type": "stream",
     "text": [
      "AUC: 0.8682870937270406\n",
      "accuracy: 0.9490254872563718\n",
      "recall  : 0.7524752475247525\n",
      "precision : 0.8941176470588236\n",
      "f1-score :  0.8172043010752688\n"
     ]
    }
   ],
   "source": [
    "printscores(ytest,testp)"
   ]
  },
  {
   "cell_type": "code",
   "execution_count": 324,
   "metadata": {},
   "outputs": [
    {
     "data": {
      "text/plain": [
       "DecisionTreeClassifier(max_depth=11, random_state=42)"
      ]
     },
     "execution_count": 324,
     "metadata": {},
     "output_type": "execute_result"
    }
   ],
   "source": [
    "model=tree.DecisionTreeClassifier(random_state=42,max_depth= 11)\n",
    "model.fit(Xtrain[impcols],ytrain) # Model with only max_depth=14 and 9 cols"
   ]
  },
  {
   "cell_type": "code",
   "execution_count": 325,
   "metadata": {},
   "outputs": [],
   "source": [
    "trainp=model.predict(Xtrain[impcols])\n",
    "testp=model.predict(Xtest[impcols])"
   ]
  },
  {
   "cell_type": "code",
   "execution_count": 326,
   "metadata": {},
   "outputs": [
    {
     "name": "stdout",
     "output_type": "stream",
     "text": [
      "AUC: 0.9450261780104712\n",
      "accuracy: 0.9842460615153789\n",
      "recall  : 0.8900523560209425\n",
      "precision : 1.0\n",
      "f1-score :  0.9418282548476455\n"
     ]
    }
   ],
   "source": [
    "printscores(ytrain,trainp)"
   ]
  },
  {
   "cell_type": "code",
   "execution_count": 327,
   "metadata": {},
   "outputs": [
    {
     "name": "stdout",
     "output_type": "stream",
     "text": [
      "AUC: 0.8781880838260504\n",
      "accuracy: 0.952023988005997\n",
      "recall  : 0.7722772277227723\n",
      "precision : 0.896551724137931\n",
      "f1-score :  0.8297872340425532\n"
     ]
    }
   ],
   "source": [
    "printscores(ytest,testp)"
   ]
  },
  {
   "cell_type": "code",
   "execution_count": 328,
   "metadata": {},
   "outputs": [
    {
     "data": {
      "text/plain": [
       "Index(['tdmin', 'tdchar', 'temin', 'tnmin', 'timin', 'tical', 'ncsc',\n",
       "       'intplan_yes'],\n",
       "      dtype='object')"
      ]
     },
     "execution_count": 328,
     "metadata": {},
     "output_type": "execute_result"
    }
   ],
   "source": [
    "from sklearn import feature_selection\n",
    "rfeobj=feature_selection.RFE(tree.DecisionTreeClassifier(random_state=42),n_features_to_select=8)\n",
    "rfeobj.fit(Xtrain,ytrain)\n",
    "impcols=Xtrain.columns[rfeobj.support_] \n",
    "impcols"
   ]
  },
  {
   "cell_type": "code",
   "execution_count": 329,
   "metadata": {},
   "outputs": [],
   "source": [
    "#grid1={\"max_depth\" : list(range(5,30))}\n",
    "#grid2={ \"max_depth\": list(range(5,30)),\"min_samples_split\":list(range(5,30))}\n",
    "#grid3={ \"min_samples_leaf\" : list(range(5,30)),\"min_samples_split\" :list(range(5,30))}\n",
    "#paramgrid=[grid1,grid2,grid3]\n",
    "#obj=model_selection.GridSearchCV(estimator=tree.DecisionTreeClassifier(random_state=42), param_grid=paramgrid, cv=10 , scoring=\"recall\",n_jobs=-1)\n",
    "#obj.fit(Xtrain[impcols],ytrain)"
   ]
  },
  {
   "cell_type": "code",
   "execution_count": 330,
   "metadata": {},
   "outputs": [],
   "source": [
    "#obj.best_params_{'min_samples_leaf': 8, 'min_samples_split': 27}"
   ]
  },
  {
   "cell_type": "code",
   "execution_count": 331,
   "metadata": {},
   "outputs": [],
   "source": [
    "#obj.best_score_0.7040485829959514"
   ]
  },
  {
   "cell_type": "code",
   "execution_count": 332,
   "metadata": {},
   "outputs": [],
   "source": [
    "#len(impcols)"
   ]
  },
  {
   "cell_type": "code",
   "execution_count": 333,
   "metadata": {},
   "outputs": [
    {
     "data": {
      "text/plain": [
       "DecisionTreeClassifier(min_samples_leaf=8, min_samples_split=27,\n",
       "                       random_state=42)"
      ]
     },
     "execution_count": 333,
     "metadata": {},
     "output_type": "execute_result"
    }
   ],
   "source": [
    "model=tree.DecisionTreeClassifier(random_state=42,min_samples_leaf= 8,min_samples_split=27)\n",
    "model.fit(Xtrain[impcols],ytrain) # Model with min_samples_leaf= 8,min_samples_split=27 and 8 cols"
   ]
  },
  {
   "cell_type": "code",
   "execution_count": 334,
   "metadata": {},
   "outputs": [],
   "source": [
    "trainp=model.predict(Xtrain[impcols])\n",
    "testp=model.predict(Xtest[impcols])"
   ]
  },
  {
   "cell_type": "code",
   "execution_count": 335,
   "metadata": {},
   "outputs": [
    {
     "name": "stdout",
     "output_type": "stream",
     "text": [
      "AUC: 0.8690824401023279\n",
      "accuracy: 0.9512378094523631\n",
      "recall  : 0.7539267015706806\n",
      "precision : 0.8888888888888888\n",
      "f1-score :  0.8158640226628895\n"
     ]
    }
   ],
   "source": [
    "printscores(ytrain,trainp)"
   ]
  },
  {
   "cell_type": "code",
   "execution_count": 336,
   "metadata": {},
   "outputs": [
    {
     "name": "stdout",
     "output_type": "stream",
     "text": [
      "AUC: 0.8175488926984572\n",
      "accuracy: 0.9250374812593704\n",
      "recall  : 0.6633663366336634\n",
      "precision : 0.8072289156626506\n",
      "f1-score :  0.7282608695652175\n"
     ]
    }
   ],
   "source": [
    "printscores(ytest,testp)"
   ]
  },
  {
   "cell_type": "code",
   "execution_count": 337,
   "metadata": {},
   "outputs": [
    {
     "data": {
      "text/plain": [
       "Index(['nummailmes', 'tdmin', 'tdchar', 'temin', 'tnmin', 'tnchar', 'timin',\n",
       "       'tical', 'ncsc', 'intplan_yes'],\n",
       "      dtype='object')"
      ]
     },
     "execution_count": 337,
     "metadata": {},
     "output_type": "execute_result"
    }
   ],
   "source": [
    "from sklearn import feature_selection\n",
    "rfeobj=feature_selection.RFE(tree.DecisionTreeClassifier(random_state=42),n_features_to_select=10)\n",
    "rfeobj.fit(Xtrain,ytrain)\n",
    "impcols=Xtrain.columns[rfeobj.support_] \n",
    "impcols"
   ]
  },
  {
   "cell_type": "code",
   "execution_count": 338,
   "metadata": {},
   "outputs": [],
   "source": [
    "#grid1={\"max_depth\" : list(range(5,30))}\n",
    "#grid2={ \"max_depth\": list(range(5,30)),\"min_samples_split\":list(range(5,30))}\n",
    "#grid3={ \"min_samples_leaf\" : list(range(5,30)),\"min_samples_split\" :list(range(5,30))}\n",
    "#paramgrid=[grid1,grid2,grid3]\n",
    "#obj=model_selection.GridSearchCV(estimator=tree.DecisionTreeClassifier(random_state=42), param_grid=paramgrid, cv=10 , scoring=\"recall\",n_jobs=-1)\n",
    "#obj.fit(Xtrain[impcols],ytrain)\n",
    "#obj.best_params_{'max_depth': 20}"
   ]
  },
  {
   "cell_type": "code",
   "execution_count": 339,
   "metadata": {},
   "outputs": [],
   "source": [
    "#obj.best_score_0.7540485829959515"
   ]
  },
  {
   "cell_type": "code",
   "execution_count": 340,
   "metadata": {},
   "outputs": [
    {
     "data": {
      "text/plain": [
       "DecisionTreeClassifier(max_depth=10, random_state=42)"
      ]
     },
     "execution_count": 340,
     "metadata": {},
     "output_type": "execute_result"
    }
   ],
   "source": [
    "model=tree.DecisionTreeClassifier(random_state=42,max_depth= 10)\n",
    "model.fit(Xtrain[impcols],ytrain) # Model with max_depth=20 and 10 cols"
   ]
  },
  {
   "cell_type": "code",
   "execution_count": 341,
   "metadata": {},
   "outputs": [],
   "source": [
    "trainp=model.predict(Xtrain[impcols])\n",
    "testp=model.predict(Xtest[impcols])"
   ]
  },
  {
   "cell_type": "code",
   "execution_count": 342,
   "metadata": {},
   "outputs": [
    {
     "name": "stdout",
     "output_type": "stream",
     "text": [
      "AUC: 0.936297118126553\n",
      "accuracy: 0.9804951237809453\n",
      "recall  : 0.8743455497382199\n",
      "precision : 0.9881656804733728\n",
      "f1-score :  0.9277777777777777\n"
     ]
    }
   ],
   "source": [
    "printscores(ytrain,trainp)"
   ]
  },
  {
   "cell_type": "code",
   "execution_count": 343,
   "metadata": {},
   "outputs": [
    {
     "name": "stdout",
     "output_type": "stream",
     "text": [
      "AUC: 0.8790714760521988\n",
      "accuracy: 0.9535232383808095\n",
      "recall  : 0.7722772277227723\n",
      "precision : 0.9069767441860465\n",
      "f1-score :  0.8342245989304812\n"
     ]
    }
   ],
   "source": [
    "printscores(ytest,testp)"
   ]
  },
  {
   "cell_type": "code",
   "execution_count": null,
   "metadata": {},
   "outputs": [],
   "source": []
  },
  {
   "cell_type": "code",
   "execution_count": null,
   "metadata": {},
   "outputs": [],
   "source": []
  },
  {
   "cell_type": "markdown",
   "metadata": {},
   "source": [
    "## Conclusion:Best model with decision tree is found with max_depth=12"
   ]
  },
  {
   "cell_type": "markdown",
   "metadata": {},
   "source": [
    "## Fitting data into a Random Forest model with all columns"
   ]
  },
  {
   "cell_type": "code",
   "execution_count": 344,
   "metadata": {},
   "outputs": [
    {
     "data": {
      "text/plain": [
       "(2666, 69)"
      ]
     },
     "execution_count": 344,
     "metadata": {},
     "output_type": "execute_result"
    }
   ],
   "source": [
    "Xtrain.shape"
   ]
  },
  {
   "cell_type": "code",
   "execution_count": 345,
   "metadata": {},
   "outputs": [
    {
     "data": {
      "text/plain": [
       "(667, 69)"
      ]
     },
     "execution_count": 345,
     "metadata": {},
     "output_type": "execute_result"
    }
   ],
   "source": [
    "Xtest.shape"
   ]
  },
  {
   "cell_type": "code",
   "execution_count": 346,
   "metadata": {},
   "outputs": [],
   "source": [
    "from sklearn import ensemble"
   ]
  },
  {
   "cell_type": "code",
   "execution_count": 347,
   "metadata": {},
   "outputs": [],
   "source": [
    "rf=ensemble.RandomForestClassifier(random_state=100,n_estimators=100,max_depth=20,oob_score=True) "
   ]
  },
  {
   "cell_type": "code",
   "execution_count": 348,
   "metadata": {},
   "outputs": [
    {
     "data": {
      "text/plain": [
       "RandomForestClassifier(max_depth=20, oob_score=True, random_state=100)"
      ]
     },
     "execution_count": 348,
     "metadata": {},
     "output_type": "execute_result"
    }
   ],
   "source": [
    "rf.fit(Xtrain,ytrain) # model with max_depth=20"
   ]
  },
  {
   "cell_type": "code",
   "execution_count": 349,
   "metadata": {},
   "outputs": [],
   "source": [
    "testpred=rf.predict(Xtest)\n",
    "trainpred=rf.predict(Xtrain)"
   ]
  },
  {
   "cell_type": "code",
   "execution_count": 350,
   "metadata": {},
   "outputs": [
    {
     "name": "stdout",
     "output_type": "stream",
     "text": [
      "AUC: 0.993455497382199\n",
      "accuracy: 0.9981245311327832\n",
      "recall  : 0.9869109947643979\n",
      "precision : 1.0\n",
      "f1-score :  0.9934123847167325\n"
     ]
    }
   ],
   "source": [
    "printscores(ytrain,trainpred)"
   ]
  },
  {
   "cell_type": "code",
   "execution_count": 351,
   "metadata": {},
   "outputs": [
    {
     "name": "stdout",
     "output_type": "stream",
     "text": [
      "AUC: 0.7993300213413568\n",
      "accuracy: 0.9355322338830585\n",
      "recall  : 0.6039603960396039\n",
      "precision : 0.953125\n",
      "f1-score :  0.7393939393939394\n"
     ]
    }
   ],
   "source": [
    "printscores(ytest,testpred)"
   ]
  },
  {
   "cell_type": "code",
   "execution_count": 352,
   "metadata": {},
   "outputs": [
    {
     "data": {
      "text/html": [
       "<div>\n",
       "<style scoped>\n",
       "    .dataframe tbody tr th:only-of-type {\n",
       "        vertical-align: middle;\n",
       "    }\n",
       "\n",
       "    .dataframe tbody tr th {\n",
       "        vertical-align: top;\n",
       "    }\n",
       "\n",
       "    .dataframe thead th {\n",
       "        text-align: right;\n",
       "    }\n",
       "</style>\n",
       "<table border=\"1\" class=\"dataframe\">\n",
       "  <thead>\n",
       "    <tr style=\"text-align: right;\">\n",
       "      <th>Predicted</th>\n",
       "      <th>0</th>\n",
       "      <th>1</th>\n",
       "      <th>All</th>\n",
       "    </tr>\n",
       "    <tr>\n",
       "      <th>Actual</th>\n",
       "      <th></th>\n",
       "      <th></th>\n",
       "      <th></th>\n",
       "    </tr>\n",
       "  </thead>\n",
       "  <tbody>\n",
       "    <tr>\n",
       "      <th>0</th>\n",
       "      <td>563</td>\n",
       "      <td>3</td>\n",
       "      <td>566</td>\n",
       "    </tr>\n",
       "    <tr>\n",
       "      <th>1</th>\n",
       "      <td>40</td>\n",
       "      <td>61</td>\n",
       "      <td>101</td>\n",
       "    </tr>\n",
       "    <tr>\n",
       "      <th>All</th>\n",
       "      <td>603</td>\n",
       "      <td>64</td>\n",
       "      <td>667</td>\n",
       "    </tr>\n",
       "  </tbody>\n",
       "</table>\n",
       "</div>"
      ],
      "text/plain": [
       "Predicted    0   1  All\n",
       "Actual                 \n",
       "0          563   3  566\n",
       "1           40  61  101\n",
       "All        603  64  667"
      ]
     },
     "execution_count": 352,
     "metadata": {},
     "output_type": "execute_result"
    }
   ],
   "source": [
    "pd.crosstab(ytest, testpred, rownames=['Actual'], colnames=['Predicted'], margins=True)"
   ]
  },
  {
   "cell_type": "code",
   "execution_count": 353,
   "metadata": {},
   "outputs": [],
   "source": [
    "rf=ensemble.RandomForestClassifier(random_state=100,n_estimators=100,max_depth=18,oob_score=True) "
   ]
  },
  {
   "cell_type": "code",
   "execution_count": 354,
   "metadata": {},
   "outputs": [
    {
     "data": {
      "text/plain": [
       "RandomForestClassifier(max_depth=18, oob_score=True, random_state=100)"
      ]
     },
     "execution_count": 354,
     "metadata": {},
     "output_type": "execute_result"
    }
   ],
   "source": [
    "rf.fit(Xtrain,ytrain) # model with max_depth=18"
   ]
  },
  {
   "cell_type": "code",
   "execution_count": 355,
   "metadata": {},
   "outputs": [],
   "source": [
    "testpred=rf.predict(Xtest)\n",
    "trainpred=rf.predict(Xtrain)"
   ]
  },
  {
   "cell_type": "code",
   "execution_count": 356,
   "metadata": {},
   "outputs": [
    {
     "name": "stdout",
     "output_type": "stream",
     "text": [
      "AUC: 0.9751308900523561\n",
      "accuracy: 0.9928732183045762\n",
      "recall  : 0.9502617801047121\n",
      "precision : 1.0\n",
      "f1-score :  0.974496644295302\n"
     ]
    }
   ],
   "source": [
    "printscores(ytrain,trainpred)"
   ]
  },
  {
   "cell_type": "code",
   "execution_count": 357,
   "metadata": {},
   "outputs": [
    {
     "name": "stdout",
     "output_type": "stream",
     "text": [
      "AUC: 0.820015393765525\n",
      "accuracy: 0.9430284857571214\n",
      "recall  : 0.6435643564356436\n",
      "precision : 0.9701492537313433\n",
      "f1-score :  0.7738095238095238\n"
     ]
    }
   ],
   "source": [
    "printscores(ytest,testpred)"
   ]
  },
  {
   "cell_type": "code",
   "execution_count": 358,
   "metadata": {},
   "outputs": [
    {
     "data": {
      "text/html": [
       "<div>\n",
       "<style scoped>\n",
       "    .dataframe tbody tr th:only-of-type {\n",
       "        vertical-align: middle;\n",
       "    }\n",
       "\n",
       "    .dataframe tbody tr th {\n",
       "        vertical-align: top;\n",
       "    }\n",
       "\n",
       "    .dataframe thead th {\n",
       "        text-align: right;\n",
       "    }\n",
       "</style>\n",
       "<table border=\"1\" class=\"dataframe\">\n",
       "  <thead>\n",
       "    <tr style=\"text-align: right;\">\n",
       "      <th>Predicted</th>\n",
       "      <th>0</th>\n",
       "      <th>1</th>\n",
       "      <th>All</th>\n",
       "    </tr>\n",
       "    <tr>\n",
       "      <th>Actual</th>\n",
       "      <th></th>\n",
       "      <th></th>\n",
       "      <th></th>\n",
       "    </tr>\n",
       "  </thead>\n",
       "  <tbody>\n",
       "    <tr>\n",
       "      <th>0</th>\n",
       "      <td>564</td>\n",
       "      <td>2</td>\n",
       "      <td>566</td>\n",
       "    </tr>\n",
       "    <tr>\n",
       "      <th>1</th>\n",
       "      <td>36</td>\n",
       "      <td>65</td>\n",
       "      <td>101</td>\n",
       "    </tr>\n",
       "    <tr>\n",
       "      <th>All</th>\n",
       "      <td>600</td>\n",
       "      <td>67</td>\n",
       "      <td>667</td>\n",
       "    </tr>\n",
       "  </tbody>\n",
       "</table>\n",
       "</div>"
      ],
      "text/plain": [
       "Predicted    0   1  All\n",
       "Actual                 \n",
       "0          564   2  566\n",
       "1           36  65  101\n",
       "All        600  67  667"
      ]
     },
     "execution_count": 358,
     "metadata": {},
     "output_type": "execute_result"
    }
   ],
   "source": [
    "pd.crosstab(ytest, testpred, rownames=['Actual'], colnames=['Predicted'], margins=True)"
   ]
  },
  {
   "cell_type": "markdown",
   "metadata": {},
   "source": [
    "### The best model found with max_depth=18"
   ]
  },
  {
   "cell_type": "code",
   "execution_count": 359,
   "metadata": {},
   "outputs": [],
   "source": [
    "rf=ensemble.RandomForestClassifier(random_state=100,n_estimators=100,max_depth=16,oob_score=True) "
   ]
  },
  {
   "cell_type": "code",
   "execution_count": 360,
   "metadata": {},
   "outputs": [
    {
     "data": {
      "text/plain": [
       "RandomForestClassifier(max_depth=16, oob_score=True, random_state=100)"
      ]
     },
     "execution_count": 360,
     "metadata": {},
     "output_type": "execute_result"
    }
   ],
   "source": [
    "rf.fit(Xtrain,ytrain) # model with max_depth=16"
   ]
  },
  {
   "cell_type": "code",
   "execution_count": 361,
   "metadata": {},
   "outputs": [],
   "source": [
    "testpred=rf.predict(Xtest)\n",
    "trainpred=rf.predict(Xtrain)"
   ]
  },
  {
   "cell_type": "code",
   "execution_count": 362,
   "metadata": {},
   "outputs": [
    {
     "name": "stdout",
     "output_type": "stream",
     "text": [
      "AUC: 0.9554973821989529\n",
      "accuracy: 0.9872468117029257\n",
      "recall  : 0.9109947643979057\n",
      "precision : 1.0\n",
      "f1-score :  0.9534246575342465\n"
     ]
    }
   ],
   "source": [
    "printscores(ytrain,trainpred)"
   ]
  },
  {
   "cell_type": "code",
   "execution_count": 363,
   "metadata": {},
   "outputs": [
    {
     "name": "stdout",
     "output_type": "stream",
     "text": [
      "AUC: 0.8042805163908617\n",
      "accuracy: 0.9370314842578711\n",
      "recall  : 0.6138613861386139\n",
      "precision : 0.9538461538461539\n",
      "f1-score :  0.746987951807229\n"
     ]
    }
   ],
   "source": [
    "printscores(ytest,testpred)"
   ]
  },
  {
   "cell_type": "code",
   "execution_count": 364,
   "metadata": {},
   "outputs": [
    {
     "data": {
      "text/html": [
       "<div>\n",
       "<style scoped>\n",
       "    .dataframe tbody tr th:only-of-type {\n",
       "        vertical-align: middle;\n",
       "    }\n",
       "\n",
       "    .dataframe tbody tr th {\n",
       "        vertical-align: top;\n",
       "    }\n",
       "\n",
       "    .dataframe thead th {\n",
       "        text-align: right;\n",
       "    }\n",
       "</style>\n",
       "<table border=\"1\" class=\"dataframe\">\n",
       "  <thead>\n",
       "    <tr style=\"text-align: right;\">\n",
       "      <th>Predicted</th>\n",
       "      <th>0</th>\n",
       "      <th>1</th>\n",
       "      <th>All</th>\n",
       "    </tr>\n",
       "    <tr>\n",
       "      <th>Actual</th>\n",
       "      <th></th>\n",
       "      <th></th>\n",
       "      <th></th>\n",
       "    </tr>\n",
       "  </thead>\n",
       "  <tbody>\n",
       "    <tr>\n",
       "      <th>0</th>\n",
       "      <td>563</td>\n",
       "      <td>3</td>\n",
       "      <td>566</td>\n",
       "    </tr>\n",
       "    <tr>\n",
       "      <th>1</th>\n",
       "      <td>39</td>\n",
       "      <td>62</td>\n",
       "      <td>101</td>\n",
       "    </tr>\n",
       "    <tr>\n",
       "      <th>All</th>\n",
       "      <td>602</td>\n",
       "      <td>65</td>\n",
       "      <td>667</td>\n",
       "    </tr>\n",
       "  </tbody>\n",
       "</table>\n",
       "</div>"
      ],
      "text/plain": [
       "Predicted    0   1  All\n",
       "Actual                 \n",
       "0          563   3  566\n",
       "1           39  62  101\n",
       "All        602  65  667"
      ]
     },
     "execution_count": 364,
     "metadata": {},
     "output_type": "execute_result"
    }
   ],
   "source": [
    "pd.crosstab(ytest, testpred, rownames=['Actual'], colnames=['Predicted'], margins=True)"
   ]
  },
  {
   "cell_type": "code",
   "execution_count": 365,
   "metadata": {},
   "outputs": [],
   "source": [
    "rf=ensemble.RandomForestClassifier(random_state=100,n_estimators=100,max_depth=12,oob_score=True) "
   ]
  },
  {
   "cell_type": "code",
   "execution_count": 366,
   "metadata": {},
   "outputs": [
    {
     "data": {
      "text/plain": [
       "RandomForestClassifier(max_depth=12, oob_score=True, random_state=100)"
      ]
     },
     "execution_count": 366,
     "metadata": {},
     "output_type": "execute_result"
    }
   ],
   "source": [
    "rf.fit(Xtrain,ytrain) # model with max_depth=12"
   ]
  },
  {
   "cell_type": "code",
   "execution_count": 367,
   "metadata": {},
   "outputs": [],
   "source": [
    "testpred=rf.predict(Xtest)\n",
    "trainpred=rf.predict(Xtrain)"
   ]
  },
  {
   "cell_type": "code",
   "execution_count": 368,
   "metadata": {},
   "outputs": [
    {
     "name": "stdout",
     "output_type": "stream",
     "text": [
      "AUC: 0.918848167539267\n",
      "accuracy: 0.9767441860465116\n",
      "recall  : 0.837696335078534\n",
      "precision : 1.0\n",
      "f1-score :  0.9116809116809117\n"
     ]
    }
   ],
   "source": [
    "printscores(ytrain,trainpred)"
   ]
  },
  {
   "cell_type": "code",
   "execution_count": 369,
   "metadata": {},
   "outputs": [
    {
     "name": "stdout",
     "output_type": "stream",
     "text": [
      "AUC: 0.7786446489171885\n",
      "accuracy: 0.9280359820089955\n",
      "recall  : 0.5643564356435643\n",
      "precision : 0.9344262295081968\n",
      "f1-score :  0.7037037037037036\n"
     ]
    }
   ],
   "source": [
    "printscores(ytest,testpred)"
   ]
  },
  {
   "cell_type": "code",
   "execution_count": 370,
   "metadata": {},
   "outputs": [
    {
     "data": {
      "text/plain": [
       "Index(['tdmin', 'tdchar', 'temin', 'tecahr', 'tnmin', 'tical', 'tichar',\n",
       "       'ncsc', 'intplan_yes'],\n",
       "      dtype='object')"
      ]
     },
     "execution_count": 370,
     "metadata": {},
     "output_type": "execute_result"
    }
   ],
   "source": [
    "rfeobj=feature_selection.RFE(ensemble.RandomForestClassifier(random_state=42),n_features_to_select=9)\n",
    "rfeobj.fit(Xtrain,ytrain)\n",
    "impcols=Xtrain.columns[rfeobj.support_] \n",
    "impcols"
   ]
  },
  {
   "cell_type": "code",
   "execution_count": 371,
   "metadata": {},
   "outputs": [
    {
     "data": {
      "text/plain": [
       "array([ 7,  6,  1,  4,  1,  1,  8,  1,  1,  5,  3,  2,  1,  1,  1, 53, 21,\n",
       "       43, 27, 42, 28, 22, 51, 48, 47, 61, 58, 44, 46, 26, 25, 49, 30, 41,\n",
       "       20, 18, 24, 19, 60, 14, 16, 23, 56, 35, 57, 13, 38, 29, 36, 15, 52,\n",
       "       33, 34, 54, 17, 45, 59, 12, 39, 37, 55, 40, 32, 50, 31,  1,  9, 11,\n",
       "       10])"
      ]
     },
     "execution_count": 371,
     "metadata": {},
     "output_type": "execute_result"
    }
   ],
   "source": [
    "rfeobj.ranking_"
   ]
  },
  {
   "cell_type": "code",
   "execution_count": 372,
   "metadata": {},
   "outputs": [],
   "source": [
    "rf=ensemble.RandomForestClassifier(random_state=42,n_estimators=100,max_depth=15,min_samples_split=8,oob_score=True) \n",
    "rf.fit(Xtrain[impcols],ytrain)\n",
    "trainpred=rf.predict(Xtrain[impcols])\n",
    "testpred=rf.predict(Xtest[impcols])"
   ]
  },
  {
   "cell_type": "code",
   "execution_count": 373,
   "metadata": {},
   "outputs": [
    {
     "name": "stdout",
     "output_type": "stream",
     "text": [
      "AUC: 0.9208046414391946\n",
      "accuracy: 0.9744936234058514\n",
      "recall  : 0.8455497382198953\n",
      "precision : 0.9728915662650602\n",
      "f1-score :  0.9047619047619048\n"
     ]
    }
   ],
   "source": [
    "printscores(ytrain,trainpred)"
   ]
  },
  {
   "cell_type": "code",
   "execution_count": 374,
   "metadata": {},
   "outputs": [
    {
     "name": "stdout",
     "output_type": "stream",
     "text": [
      "AUC: 0.8580362453206452\n",
      "accuracy: 0.9385307346326837\n",
      "recall  : 0.7425742574257426\n",
      "precision : 0.8333333333333334\n",
      "f1-score :  0.7853403141361257\n"
     ]
    }
   ],
   "source": [
    "printscores(ytest,testpred)"
   ]
  },
  {
   "cell_type": "code",
   "execution_count": 375,
   "metadata": {},
   "outputs": [
    {
     "data": {
      "text/html": [
       "<div>\n",
       "<style scoped>\n",
       "    .dataframe tbody tr th:only-of-type {\n",
       "        vertical-align: middle;\n",
       "    }\n",
       "\n",
       "    .dataframe tbody tr th {\n",
       "        vertical-align: top;\n",
       "    }\n",
       "\n",
       "    .dataframe thead th {\n",
       "        text-align: right;\n",
       "    }\n",
       "</style>\n",
       "<table border=\"1\" class=\"dataframe\">\n",
       "  <thead>\n",
       "    <tr style=\"text-align: right;\">\n",
       "      <th>Predicted</th>\n",
       "      <th>0</th>\n",
       "      <th>1</th>\n",
       "      <th>All</th>\n",
       "    </tr>\n",
       "    <tr>\n",
       "      <th>Actual</th>\n",
       "      <th></th>\n",
       "      <th></th>\n",
       "      <th></th>\n",
       "    </tr>\n",
       "  </thead>\n",
       "  <tbody>\n",
       "    <tr>\n",
       "      <th>0</th>\n",
       "      <td>551</td>\n",
       "      <td>15</td>\n",
       "      <td>566</td>\n",
       "    </tr>\n",
       "    <tr>\n",
       "      <th>1</th>\n",
       "      <td>26</td>\n",
       "      <td>75</td>\n",
       "      <td>101</td>\n",
       "    </tr>\n",
       "    <tr>\n",
       "      <th>All</th>\n",
       "      <td>577</td>\n",
       "      <td>90</td>\n",
       "      <td>667</td>\n",
       "    </tr>\n",
       "  </tbody>\n",
       "</table>\n",
       "</div>"
      ],
      "text/plain": [
       "Predicted    0   1  All\n",
       "Actual                 \n",
       "0          551  15  566\n",
       "1           26  75  101\n",
       "All        577  90  667"
      ]
     },
     "execution_count": 375,
     "metadata": {},
     "output_type": "execute_result"
    }
   ],
   "source": [
    "pd.crosstab(ytest, testpred, rownames=['Actual'], colnames=['Predicted'], margins=True)"
   ]
  },
  {
   "cell_type": "code",
   "execution_count": null,
   "metadata": {},
   "outputs": [],
   "source": []
  },
  {
   "cell_type": "markdown",
   "metadata": {},
   "source": [
    "## Conclusion : Best model found with max_depth= 15,min_samples_split=8 and 9 columns using Random Forest \n"
   ]
  },
  {
   "cell_type": "code",
   "execution_count": null,
   "metadata": {},
   "outputs": [],
   "source": []
  },
  {
   "cell_type": "markdown",
   "metadata": {},
   "source": [
    "# Naive Bayes"
   ]
  },
  {
   "cell_type": "code",
   "execution_count": 376,
   "metadata": {},
   "outputs": [],
   "source": [
    "from sklearn import naive_bayes\n",
    "nb=naive_bayes.GaussianNB() # creating a naive bayes model object\n",
    "nb.fit(Xtrain,ytrain)\n",
    "testpred=nb.predict(Xtest)\n",
    "trainpred=nb.predict(Xtrain)"
   ]
  },
  {
   "cell_type": "code",
   "execution_count": 377,
   "metadata": {},
   "outputs": [],
   "source": [
    "nb=naive_bayes.GaussianNB() # creating a naive bayes model object"
   ]
  },
  {
   "cell_type": "code",
   "execution_count": 378,
   "metadata": {},
   "outputs": [],
   "source": [
    "from sklearn import naive_bayes\n",
    "nb=naive_bayes.GaussianNB() # creating a naive bayes model object\n",
    "nb.fit(Xtrain,ytrain)\n",
    "testpred=nb.predict(Xtest)\n",
    "trainpred=nb.predict(Xtrain)"
   ]
  },
  {
   "cell_type": "code",
   "execution_count": 379,
   "metadata": {},
   "outputs": [],
   "source": [
    "testpred=nb.predict(Xtest)\n",
    "trainpred=nb.predict(Xtrain)"
   ]
  },
  {
   "cell_type": "code",
   "execution_count": 380,
   "metadata": {},
   "outputs": [
    {
     "name": "stdout",
     "output_type": "stream",
     "text": [
      "AUC: 0.658802184098807\n",
      "accuracy: 0.6301575393848462\n",
      "recall  : 0.6989528795811518\n",
      "precision : 0.23462214411247803\n",
      "f1-score :  0.3513157894736842\n"
     ]
    }
   ],
   "source": [
    "printscores(ytrain,trainpred)"
   ]
  },
  {
   "cell_type": "code",
   "execution_count": 381,
   "metadata": {},
   "outputs": [
    {
     "name": "stdout",
     "output_type": "stream",
     "text": [
      "AUC: 0.5701640835461639\n",
      "accuracy: 0.5742128935532234\n",
      "recall  : 0.5643564356435643\n",
      "precision : 0.1919191919191919\n",
      "f1-score :  0.28643216080402006\n"
     ]
    }
   ],
   "source": [
    "printscores(ytest,testpred)"
   ]
  },
  {
   "cell_type": "code",
   "execution_count": 382,
   "metadata": {},
   "outputs": [
    {
     "data": {
      "text/html": [
       "<div>\n",
       "<style scoped>\n",
       "    .dataframe tbody tr th:only-of-type {\n",
       "        vertical-align: middle;\n",
       "    }\n",
       "\n",
       "    .dataframe tbody tr th {\n",
       "        vertical-align: top;\n",
       "    }\n",
       "\n",
       "    .dataframe thead th {\n",
       "        text-align: right;\n",
       "    }\n",
       "</style>\n",
       "<table border=\"1\" class=\"dataframe\">\n",
       "  <thead>\n",
       "    <tr style=\"text-align: right;\">\n",
       "      <th>Predicted</th>\n",
       "      <th>0</th>\n",
       "      <th>1</th>\n",
       "      <th>All</th>\n",
       "    </tr>\n",
       "    <tr>\n",
       "      <th>Actual</th>\n",
       "      <th></th>\n",
       "      <th></th>\n",
       "      <th></th>\n",
       "    </tr>\n",
       "  </thead>\n",
       "  <tbody>\n",
       "    <tr>\n",
       "      <th>0</th>\n",
       "      <td>326</td>\n",
       "      <td>240</td>\n",
       "      <td>566</td>\n",
       "    </tr>\n",
       "    <tr>\n",
       "      <th>1</th>\n",
       "      <td>44</td>\n",
       "      <td>57</td>\n",
       "      <td>101</td>\n",
       "    </tr>\n",
       "    <tr>\n",
       "      <th>All</th>\n",
       "      <td>370</td>\n",
       "      <td>297</td>\n",
       "      <td>667</td>\n",
       "    </tr>\n",
       "  </tbody>\n",
       "</table>\n",
       "</div>"
      ],
      "text/plain": [
       "Predicted    0    1  All\n",
       "Actual                  \n",
       "0          326  240  566\n",
       "1           44   57  101\n",
       "All        370  297  667"
      ]
     },
     "execution_count": 382,
     "metadata": {},
     "output_type": "execute_result"
    }
   ],
   "source": [
    "pd.crosstab(ytest, testpred, rownames=['Actual'], colnames=['Predicted'], margins=True)"
   ]
  },
  {
   "cell_type": "code",
   "execution_count": null,
   "metadata": {},
   "outputs": [],
   "source": []
  },
  {
   "cell_type": "markdown",
   "metadata": {},
   "source": [
    "\n"
   ]
  },
  {
   "cell_type": "markdown",
   "metadata": {},
   "source": [
    "# KNN\n"
   ]
  },
  {
   "cell_type": "code",
   "execution_count": 383,
   "metadata": {},
   "outputs": [],
   "source": [
    "from sklearn import neighbors\n",
    "\n",
    "model=neighbors.KNeighborsClassifier(n_neighbors=7) \n",
    "\n",
    "model.fit(Xtrain,ytrain) # fitting data with n_neighbors=7\n",
    "\n",
    "testpred=model.predict(Xtest)"
   ]
  },
  {
   "cell_type": "code",
   "execution_count": 387,
   "metadata": {},
   "outputs": [
    {
     "name": "stdout",
     "output_type": "stream",
     "text": [
      "AUC: 0.6228789840114753\n",
      "accuracy: 0.8845577211394303\n",
      "recall  : 0.24752475247524752\n",
      "precision : 0.9615384615384616\n",
      "f1-score :  0.3937007874015748\n"
     ]
    }
   ],
   "source": [
    "printscores(ytest,testpred)"
   ]
  },
  {
   "cell_type": "code",
   "execution_count": 388,
   "metadata": {},
   "outputs": [
    {
     "data": {
      "text/html": [
       "<div>\n",
       "<style scoped>\n",
       "    .dataframe tbody tr th:only-of-type {\n",
       "        vertical-align: middle;\n",
       "    }\n",
       "\n",
       "    .dataframe tbody tr th {\n",
       "        vertical-align: top;\n",
       "    }\n",
       "\n",
       "    .dataframe thead th {\n",
       "        text-align: right;\n",
       "    }\n",
       "</style>\n",
       "<table border=\"1\" class=\"dataframe\">\n",
       "  <thead>\n",
       "    <tr style=\"text-align: right;\">\n",
       "      <th>Predicted</th>\n",
       "      <th>0</th>\n",
       "      <th>1</th>\n",
       "      <th>All</th>\n",
       "    </tr>\n",
       "    <tr>\n",
       "      <th>Actual</th>\n",
       "      <th></th>\n",
       "      <th></th>\n",
       "      <th></th>\n",
       "    </tr>\n",
       "  </thead>\n",
       "  <tbody>\n",
       "    <tr>\n",
       "      <th>0</th>\n",
       "      <td>565</td>\n",
       "      <td>1</td>\n",
       "      <td>566</td>\n",
       "    </tr>\n",
       "    <tr>\n",
       "      <th>1</th>\n",
       "      <td>76</td>\n",
       "      <td>25</td>\n",
       "      <td>101</td>\n",
       "    </tr>\n",
       "    <tr>\n",
       "      <th>All</th>\n",
       "      <td>641</td>\n",
       "      <td>26</td>\n",
       "      <td>667</td>\n",
       "    </tr>\n",
       "  </tbody>\n",
       "</table>\n",
       "</div>"
      ],
      "text/plain": [
       "Predicted    0   1  All\n",
       "Actual                 \n",
       "0          565   1  566\n",
       "1           76  25  101\n",
       "All        641  26  667"
      ]
     },
     "execution_count": 388,
     "metadata": {},
     "output_type": "execute_result"
    }
   ],
   "source": [
    "pd.crosstab(ytest, testpred, rownames=['Actual'], colnames=['Predicted'], margins=True)"
   ]
  },
  {
   "cell_type": "code",
   "execution_count": 389,
   "metadata": {},
   "outputs": [],
   "source": [
    "model=neighbors.KNeighborsClassifier(n_neighbors=11)  # fitting data with n_neighbors=11"
   ]
  },
  {
   "cell_type": "code",
   "execution_count": 390,
   "metadata": {},
   "outputs": [
    {
     "data": {
      "text/plain": [
       "KNeighborsClassifier(n_neighbors=11)"
      ]
     },
     "execution_count": 390,
     "metadata": {},
     "output_type": "execute_result"
    }
   ],
   "source": [
    "model.fit(Xtrain,ytrain)"
   ]
  },
  {
   "cell_type": "code",
   "execution_count": 391,
   "metadata": {},
   "outputs": [],
   "source": [
    "testpred=model.predict(Xtest)"
   ]
  },
  {
   "cell_type": "code",
   "execution_count": 392,
   "metadata": {},
   "outputs": [
    {
     "name": "stdout",
     "output_type": "stream",
     "text": [
      "AUC: 0.5931760137144456\n",
      "accuracy: 0.8755622188905547\n",
      "recall  : 0.18811881188118812\n",
      "precision : 0.95\n",
      "f1-score :  0.3140495867768595\n"
     ]
    }
   ],
   "source": [
    "printscores(ytest,testpred)"
   ]
  },
  {
   "cell_type": "code",
   "execution_count": 393,
   "metadata": {},
   "outputs": [
    {
     "data": {
      "text/html": [
       "<div>\n",
       "<style scoped>\n",
       "    .dataframe tbody tr th:only-of-type {\n",
       "        vertical-align: middle;\n",
       "    }\n",
       "\n",
       "    .dataframe tbody tr th {\n",
       "        vertical-align: top;\n",
       "    }\n",
       "\n",
       "    .dataframe thead th {\n",
       "        text-align: right;\n",
       "    }\n",
       "</style>\n",
       "<table border=\"1\" class=\"dataframe\">\n",
       "  <thead>\n",
       "    <tr style=\"text-align: right;\">\n",
       "      <th>Predicted</th>\n",
       "      <th>0</th>\n",
       "      <th>1</th>\n",
       "      <th>All</th>\n",
       "    </tr>\n",
       "    <tr>\n",
       "      <th>Actual</th>\n",
       "      <th></th>\n",
       "      <th></th>\n",
       "      <th></th>\n",
       "    </tr>\n",
       "  </thead>\n",
       "  <tbody>\n",
       "    <tr>\n",
       "      <th>0</th>\n",
       "      <td>565</td>\n",
       "      <td>1</td>\n",
       "      <td>566</td>\n",
       "    </tr>\n",
       "    <tr>\n",
       "      <th>1</th>\n",
       "      <td>82</td>\n",
       "      <td>19</td>\n",
       "      <td>101</td>\n",
       "    </tr>\n",
       "    <tr>\n",
       "      <th>All</th>\n",
       "      <td>647</td>\n",
       "      <td>20</td>\n",
       "      <td>667</td>\n",
       "    </tr>\n",
       "  </tbody>\n",
       "</table>\n",
       "</div>"
      ],
      "text/plain": [
       "Predicted    0   1  All\n",
       "Actual                 \n",
       "0          565   1  566\n",
       "1           82  19  101\n",
       "All        647  20  667"
      ]
     },
     "execution_count": 393,
     "metadata": {},
     "output_type": "execute_result"
    }
   ],
   "source": [
    "pd.crosstab(ytest, testpred, rownames=['Actual'], colnames=['Predicted'], margins=True)"
   ]
  },
  {
   "cell_type": "code",
   "execution_count": 394,
   "metadata": {},
   "outputs": [],
   "source": [
    "# model with n_neighbors=11 is not better than model with n_neighbors=7 "
   ]
  },
  {
   "cell_type": "code",
   "execution_count": 395,
   "metadata": {},
   "outputs": [],
   "source": [
    "# using GridSearchCV to find the best n_neighbors value within the range 1-5"
   ]
  },
  {
   "cell_type": "code",
   "execution_count": 396,
   "metadata": {},
   "outputs": [],
   "source": [
    "#d={\"n_neighbors\": list(range(1,5))}\n",
    "#obj=model_selection.GridSearchCV(estimator=neighbors.KNeighborsClassifier(),param_grid=d, cv=10 ,scoring=\"recall\",return_train_score=True)\n",
    "#obj.fit(Xtrain,ytrain)"
   ]
  },
  {
   "cell_type": "code",
   "execution_count": 397,
   "metadata": {},
   "outputs": [],
   "source": [
    "#obj.best_params_"
   ]
  },
  {
   "cell_type": "code",
   "execution_count": 398,
   "metadata": {},
   "outputs": [],
   "source": [
    "#obj.best_score_"
   ]
  },
  {
   "cell_type": "code",
   "execution_count": 399,
   "metadata": {},
   "outputs": [],
   "source": [
    "# using GridSearchCV to find the best n_neighbors value within the range 5-30"
   ]
  },
  {
   "cell_type": "code",
   "execution_count": 400,
   "metadata": {},
   "outputs": [],
   "source": [
    "#d={\"n_neighbors\": list(range(5,30))}\n",
    "#obj=model_selection.GridSearchCV(estimator=neighbors.KNeighborsClassifier(),param_grid=d, cv=10 ,scoring=\"recall\",return_train_score=True)\n",
    "#obj.fit(Xtrain,ytrain)"
   ]
  },
  {
   "cell_type": "code",
   "execution_count": 401,
   "metadata": {},
   "outputs": [],
   "source": [
    "#obj.best_params_"
   ]
  },
  {
   "cell_type": "code",
   "execution_count": 402,
   "metadata": {},
   "outputs": [],
   "source": [
    "#obj.best_score_"
   ]
  },
  {
   "cell_type": "code",
   "execution_count": 403,
   "metadata": {},
   "outputs": [],
   "source": [
    "model=neighbors.KNeighborsClassifier(n_neighbors=3) # fitting data with n_neighbors=3"
   ]
  },
  {
   "cell_type": "code",
   "execution_count": 404,
   "metadata": {},
   "outputs": [
    {
     "data": {
      "text/plain": [
       "KNeighborsClassifier(n_neighbors=3)"
      ]
     },
     "execution_count": 404,
     "metadata": {},
     "output_type": "execute_result"
    }
   ],
   "source": [
    "model.fit(Xtrain,ytrain)"
   ]
  },
  {
   "cell_type": "code",
   "execution_count": 405,
   "metadata": {},
   "outputs": [],
   "source": [
    "testpred=model.predict(Xtest)"
   ]
  },
  {
   "cell_type": "code",
   "execution_count": 406,
   "metadata": {
    "scrolled": true
   },
   "outputs": [
    {
     "name": "stdout",
     "output_type": "stream",
     "text": [
      "AUC: 0.688652345799951\n",
      "accuracy: 0.8995502248875562\n",
      "recall  : 0.38613861386138615\n",
      "precision : 0.8863636363636364\n",
      "f1-score :  0.5379310344827587\n"
     ]
    }
   ],
   "source": [
    "printscores(ytest,testpred)"
   ]
  },
  {
   "cell_type": "code",
   "execution_count": 407,
   "metadata": {},
   "outputs": [
    {
     "data": {
      "text/html": [
       "<div>\n",
       "<style scoped>\n",
       "    .dataframe tbody tr th:only-of-type {\n",
       "        vertical-align: middle;\n",
       "    }\n",
       "\n",
       "    .dataframe tbody tr th {\n",
       "        vertical-align: top;\n",
       "    }\n",
       "\n",
       "    .dataframe thead th {\n",
       "        text-align: right;\n",
       "    }\n",
       "</style>\n",
       "<table border=\"1\" class=\"dataframe\">\n",
       "  <thead>\n",
       "    <tr style=\"text-align: right;\">\n",
       "      <th>Predicted</th>\n",
       "      <th>0</th>\n",
       "      <th>1</th>\n",
       "      <th>All</th>\n",
       "    </tr>\n",
       "    <tr>\n",
       "      <th>Actual</th>\n",
       "      <th></th>\n",
       "      <th></th>\n",
       "      <th></th>\n",
       "    </tr>\n",
       "  </thead>\n",
       "  <tbody>\n",
       "    <tr>\n",
       "      <th>0</th>\n",
       "      <td>561</td>\n",
       "      <td>5</td>\n",
       "      <td>566</td>\n",
       "    </tr>\n",
       "    <tr>\n",
       "      <th>1</th>\n",
       "      <td>62</td>\n",
       "      <td>39</td>\n",
       "      <td>101</td>\n",
       "    </tr>\n",
       "    <tr>\n",
       "      <th>All</th>\n",
       "      <td>623</td>\n",
       "      <td>44</td>\n",
       "      <td>667</td>\n",
       "    </tr>\n",
       "  </tbody>\n",
       "</table>\n",
       "</div>"
      ],
      "text/plain": [
       "Predicted    0   1  All\n",
       "Actual                 \n",
       "0          561   5  566\n",
       "1           62  39  101\n",
       "All        623  44  667"
      ]
     },
     "execution_count": 407,
     "metadata": {},
     "output_type": "execute_result"
    }
   ],
   "source": [
    "pd.crosstab(ytest, testpred, rownames=['Actual'], colnames=['Predicted'], margins=True)"
   ]
  },
  {
   "cell_type": "code",
   "execution_count": 408,
   "metadata": {},
   "outputs": [],
   "source": [
    "model=neighbors.KNeighborsClassifier(n_neighbors=5) # fitting data with n_neighbors=5"
   ]
  },
  {
   "cell_type": "code",
   "execution_count": 409,
   "metadata": {},
   "outputs": [
    {
     "data": {
      "text/plain": [
       "KNeighborsClassifier()"
      ]
     },
     "execution_count": 409,
     "metadata": {},
     "output_type": "execute_result"
    }
   ],
   "source": [
    "model.fit(Xtrain,ytrain)"
   ]
  },
  {
   "cell_type": "code",
   "execution_count": 410,
   "metadata": {},
   "outputs": [],
   "source": [
    "testpred=model.predict(Xtest)"
   ]
  },
  {
   "cell_type": "code",
   "execution_count": 411,
   "metadata": {},
   "outputs": [
    {
     "name": "stdout",
     "output_type": "stream",
     "text": [
      "AUC: 0.6647832627785747\n",
      "accuracy: 0.8935532233883059\n",
      "recall  : 0.33663366336633666\n",
      "precision : 0.8947368421052632\n",
      "f1-score :  0.4892086330935252\n"
     ]
    }
   ],
   "source": [
    "printscores(ytest,testpred)"
   ]
  },
  {
   "cell_type": "code",
   "execution_count": 412,
   "metadata": {},
   "outputs": [
    {
     "data": {
      "text/html": [
       "<div>\n",
       "<style scoped>\n",
       "    .dataframe tbody tr th:only-of-type {\n",
       "        vertical-align: middle;\n",
       "    }\n",
       "\n",
       "    .dataframe tbody tr th {\n",
       "        vertical-align: top;\n",
       "    }\n",
       "\n",
       "    .dataframe thead th {\n",
       "        text-align: right;\n",
       "    }\n",
       "</style>\n",
       "<table border=\"1\" class=\"dataframe\">\n",
       "  <thead>\n",
       "    <tr style=\"text-align: right;\">\n",
       "      <th>Predicted</th>\n",
       "      <th>0</th>\n",
       "      <th>1</th>\n",
       "      <th>All</th>\n",
       "    </tr>\n",
       "    <tr>\n",
       "      <th>Actual</th>\n",
       "      <th></th>\n",
       "      <th></th>\n",
       "      <th></th>\n",
       "    </tr>\n",
       "  </thead>\n",
       "  <tbody>\n",
       "    <tr>\n",
       "      <th>0</th>\n",
       "      <td>562</td>\n",
       "      <td>4</td>\n",
       "      <td>566</td>\n",
       "    </tr>\n",
       "    <tr>\n",
       "      <th>1</th>\n",
       "      <td>67</td>\n",
       "      <td>34</td>\n",
       "      <td>101</td>\n",
       "    </tr>\n",
       "    <tr>\n",
       "      <th>All</th>\n",
       "      <td>629</td>\n",
       "      <td>38</td>\n",
       "      <td>667</td>\n",
       "    </tr>\n",
       "  </tbody>\n",
       "</table>\n",
       "</div>"
      ],
      "text/plain": [
       "Predicted    0   1  All\n",
       "Actual                 \n",
       "0          562   4  566\n",
       "1           67  34  101\n",
       "All        629  38  667"
      ]
     },
     "execution_count": 412,
     "metadata": {},
     "output_type": "execute_result"
    }
   ],
   "source": [
    "pd.crosstab(ytest, testpred, rownames=['Actual'], colnames=['Predicted'], margins=True)"
   ]
  },
  {
   "cell_type": "code",
   "execution_count": 413,
   "metadata": {},
   "outputs": [],
   "source": [
    "# model with n_neighbors=5 is not better than model with n_neighbors=3"
   ]
  },
  {
   "cell_type": "code",
   "execution_count": 414,
   "metadata": {},
   "outputs": [],
   "source": [
    "model=neighbors.KNeighborsClassifier(n_neighbors=1) # fitting data with n_neighbors=1"
   ]
  },
  {
   "cell_type": "code",
   "execution_count": 415,
   "metadata": {},
   "outputs": [
    {
     "data": {
      "text/plain": [
       "KNeighborsClassifier(n_neighbors=1)"
      ]
     },
     "execution_count": 415,
     "metadata": {},
     "output_type": "execute_result"
    }
   ],
   "source": [
    "model.fit(Xtrain,ytrain)"
   ]
  },
  {
   "cell_type": "code",
   "execution_count": 416,
   "metadata": {},
   "outputs": [],
   "source": [
    "testpred=model.predict(Xtest)"
   ]
  },
  {
   "cell_type": "code",
   "execution_count": 417,
   "metadata": {},
   "outputs": [
    {
     "name": "stdout",
     "output_type": "stream",
     "text": [
      "AUC: 0.7021043977189239\n",
      "accuracy: 0.8740629685157422\n",
      "recall  : 0.45544554455445546\n",
      "precision : 0.6133333333333333\n",
      "f1-score :  0.5227272727272728\n"
     ]
    }
   ],
   "source": [
    "printscores(ytest,testpred)"
   ]
  },
  {
   "cell_type": "code",
   "execution_count": 418,
   "metadata": {},
   "outputs": [
    {
     "data": {
      "text/html": [
       "<div>\n",
       "<style scoped>\n",
       "    .dataframe tbody tr th:only-of-type {\n",
       "        vertical-align: middle;\n",
       "    }\n",
       "\n",
       "    .dataframe tbody tr th {\n",
       "        vertical-align: top;\n",
       "    }\n",
       "\n",
       "    .dataframe thead th {\n",
       "        text-align: right;\n",
       "    }\n",
       "</style>\n",
       "<table border=\"1\" class=\"dataframe\">\n",
       "  <thead>\n",
       "    <tr style=\"text-align: right;\">\n",
       "      <th>Predicted</th>\n",
       "      <th>0</th>\n",
       "      <th>1</th>\n",
       "      <th>All</th>\n",
       "    </tr>\n",
       "    <tr>\n",
       "      <th>Actual</th>\n",
       "      <th></th>\n",
       "      <th></th>\n",
       "      <th></th>\n",
       "    </tr>\n",
       "  </thead>\n",
       "  <tbody>\n",
       "    <tr>\n",
       "      <th>0</th>\n",
       "      <td>537</td>\n",
       "      <td>29</td>\n",
       "      <td>566</td>\n",
       "    </tr>\n",
       "    <tr>\n",
       "      <th>1</th>\n",
       "      <td>55</td>\n",
       "      <td>46</td>\n",
       "      <td>101</td>\n",
       "    </tr>\n",
       "    <tr>\n",
       "      <th>All</th>\n",
       "      <td>592</td>\n",
       "      <td>75</td>\n",
       "      <td>667</td>\n",
       "    </tr>\n",
       "  </tbody>\n",
       "</table>\n",
       "</div>"
      ],
      "text/plain": [
       "Predicted    0   1  All\n",
       "Actual                 \n",
       "0          537  29  566\n",
       "1           55  46  101\n",
       "All        592  75  667"
      ]
     },
     "execution_count": 418,
     "metadata": {},
     "output_type": "execute_result"
    }
   ],
   "source": [
    "pd.crosstab(ytest, testpred, rownames=['Actual'], colnames=['Predicted'], margins=True)"
   ]
  },
  {
   "cell_type": "markdown",
   "metadata": {},
   "source": [
    "## Conclusion : Best model found with n_neighbors=1 using KNN"
   ]
  },
  {
   "cell_type": "code",
   "execution_count": 419,
   "metadata": {},
   "outputs": [],
   "source": [
    "from sklearn import linear_model\n",
    "from sklearn import model_selection\n",
    "from sklearn import utils \n",
    "from  sklearn import metrics \n",
    "from sklearn import tree\n",
    "from sklearn.feature_selection import RFECV\n",
    "from sklearn import feature_selection \n",
    "from sklearn import naive_bayes \n",
    "from sklearn import neighbors\n",
    "from sklearn import ensemble\n",
    "def modelstats1(Xtrain,Xtest,ytrain,ytest):\n",
    "    stats=[] \n",
    "    modelnames=[\"LR\",\"DecisionTree\",\"KNN\",\"NB\",\"RF\"]\n",
    "    models=list()\n",
    "    models.append(linear_model.LogisticRegression())\n",
    "    models.append(tree.DecisionTreeClassifier())\n",
    "    models.append(neighbors.KNeighborsClassifier())\n",
    "    models.append(naive_bayes.GaussianNB())\n",
    "    models.append(ensemble.RandomForestClassifier())\n",
    "    for name,model in zip(modelnames,models): \n",
    "        if name==\"KNN\":\n",
    "            k=[l for l in range(5,17,2)]\n",
    "            grid={\"n_neighbors\":k} \n",
    "            grid_obj=model_selection.GridSearchCV(estimator=model,param_grid=grid,scoring=\"f1\") \n",
    "            grid_fit=grid_obj.fit(Xtrain,ytrain) \n",
    "            model =grid_fit.best_estimator_\n",
    "            model.fit(Xtrain,ytrain)\n",
    "            name=name+\"(\"+str(grid_fit.best_params_[\"n_neighbors\"])+\")\"\n",
    "        else:\n",
    "            model.fit(Xtrain,ytrain)\n",
    "            trainprediction=model.predict(Xtrain)\n",
    "            testprediction=model.predict(Xtest)\n",
    "        scores=list() \n",
    "        scores.append(name+\"-train\")\n",
    "        scores.append(metrics.accuracy_score(ytrain,trainprediction))\n",
    "        scores.append(metrics.precision_score(ytrain,trainprediction))\n",
    "        scores.append(metrics.recall_score(ytrain,trainprediction))\n",
    "        scores.append(metrics.roc_auc_score(ytrain,trainprediction))\n",
    "        stats.append(scores)\n",
    "        scores=list()\n",
    "        scores.append(name+\"-test\")\n",
    "        scores.append(metrics.accuracy_score(ytest,testprediction))\n",
    "        scores.append(metrics.precision_score(ytest,testprediction))\n",
    "        scores.append(metrics.recall_score(ytest,testprediction))\n",
    "        scores.append(metrics.roc_auc_score(ytest,testprediction))\n",
    "        stats.append(scores)\n",
    "    colnames=[\"MODELNAME\",\"ACCURACY\",\"PRECISION\",\"RECALL\",\"AUC\"]\n",
    "    return pd.DataFrame(stats,columns=colnames)\n"
   ]
  },
  {
   "cell_type": "code",
   "execution_count": 420,
   "metadata": {},
   "outputs": [
    {
     "data": {
      "text/html": [
       "<div>\n",
       "<style scoped>\n",
       "    .dataframe tbody tr th:only-of-type {\n",
       "        vertical-align: middle;\n",
       "    }\n",
       "\n",
       "    .dataframe tbody tr th {\n",
       "        vertical-align: top;\n",
       "    }\n",
       "\n",
       "    .dataframe thead th {\n",
       "        text-align: right;\n",
       "    }\n",
       "</style>\n",
       "<table border=\"1\" class=\"dataframe\">\n",
       "  <thead>\n",
       "    <tr style=\"text-align: right;\">\n",
       "      <th></th>\n",
       "      <th>acclen</th>\n",
       "      <th>nummailmes</th>\n",
       "      <th>tdmin</th>\n",
       "      <th>tdcal</th>\n",
       "      <th>tdchar</th>\n",
       "      <th>temin</th>\n",
       "      <th>tecal</th>\n",
       "      <th>tecahr</th>\n",
       "      <th>tnmin</th>\n",
       "      <th>tncal</th>\n",
       "      <th>...</th>\n",
       "      <th>st_VA</th>\n",
       "      <th>st_VT</th>\n",
       "      <th>st_WA</th>\n",
       "      <th>st_WI</th>\n",
       "      <th>st_WV</th>\n",
       "      <th>st_WY</th>\n",
       "      <th>intplan_yes</th>\n",
       "      <th>voice_yes</th>\n",
       "      <th>arcode_415</th>\n",
       "      <th>arcode_510</th>\n",
       "    </tr>\n",
       "  </thead>\n",
       "  <tbody>\n",
       "    <tr>\n",
       "      <th>817</th>\n",
       "      <td>3.601382</td>\n",
       "      <td>-0.584936</td>\n",
       "      <td>-1.547653</td>\n",
       "      <td>-0.429657</td>\n",
       "      <td>-1.547170</td>\n",
       "      <td>-0.729987</td>\n",
       "      <td>-1.840891</td>\n",
       "      <td>-0.731087</td>\n",
       "      <td>1.255804</td>\n",
       "      <td>0.925634</td>\n",
       "      <td>...</td>\n",
       "      <td>0</td>\n",
       "      <td>0</td>\n",
       "      <td>0</td>\n",
       "      <td>0</td>\n",
       "      <td>0</td>\n",
       "      <td>0</td>\n",
       "      <td>0</td>\n",
       "      <td>0</td>\n",
       "      <td>0</td>\n",
       "      <td>1</td>\n",
       "    </tr>\n",
       "    <tr>\n",
       "      <th>1373</th>\n",
       "      <td>0.184951</td>\n",
       "      <td>-0.584936</td>\n",
       "      <td>-1.244014</td>\n",
       "      <td>0.224176</td>\n",
       "      <td>-1.244071</td>\n",
       "      <td>-0.138082</td>\n",
       "      <td>0.499864</td>\n",
       "      <td>-0.139179</td>\n",
       "      <td>0.165090</td>\n",
       "      <td>-0.353704</td>\n",
       "      <td>...</td>\n",
       "      <td>0</td>\n",
       "      <td>0</td>\n",
       "      <td>0</td>\n",
       "      <td>0</td>\n",
       "      <td>0</td>\n",
       "      <td>0</td>\n",
       "      <td>0</td>\n",
       "      <td>0</td>\n",
       "      <td>1</td>\n",
       "      <td>0</td>\n",
       "    </tr>\n",
       "    <tr>\n",
       "      <th>679</th>\n",
       "      <td>-0.650176</td>\n",
       "      <td>-0.584936</td>\n",
       "      <td>0.787609</td>\n",
       "      <td>-1.133785</td>\n",
       "      <td>0.787772</td>\n",
       "      <td>2.491952</td>\n",
       "      <td>0.549667</td>\n",
       "      <td>2.493068</td>\n",
       "      <td>0.147339</td>\n",
       "      <td>0.209205</td>\n",
       "      <td>...</td>\n",
       "      <td>0</td>\n",
       "      <td>0</td>\n",
       "      <td>0</td>\n",
       "      <td>0</td>\n",
       "      <td>0</td>\n",
       "      <td>0</td>\n",
       "      <td>1</td>\n",
       "      <td>0</td>\n",
       "      <td>1</td>\n",
       "      <td>0</td>\n",
       "    </tr>\n",
       "    <tr>\n",
       "      <th>56</th>\n",
       "      <td>1.020079</td>\n",
       "      <td>-0.584936</td>\n",
       "      <td>-0.969818</td>\n",
       "      <td>-0.127888</td>\n",
       "      <td>-0.970200</td>\n",
       "      <td>-0.408385</td>\n",
       "      <td>-1.890695</td>\n",
       "      <td>-0.408439</td>\n",
       "      <td>-1.178086</td>\n",
       "      <td>1.437368</td>\n",
       "      <td>...</td>\n",
       "      <td>0</td>\n",
       "      <td>0</td>\n",
       "      <td>0</td>\n",
       "      <td>0</td>\n",
       "      <td>0</td>\n",
       "      <td>0</td>\n",
       "      <td>0</td>\n",
       "      <td>0</td>\n",
       "      <td>1</td>\n",
       "      <td>0</td>\n",
       "    </tr>\n",
       "    <tr>\n",
       "      <th>1993</th>\n",
       "      <td>-0.371801</td>\n",
       "      <td>-0.584936</td>\n",
       "      <td>0.675354</td>\n",
       "      <td>-0.228477</td>\n",
       "      <td>0.675192</td>\n",
       "      <td>1.294330</td>\n",
       "      <td>-1.143645</td>\n",
       "      <td>1.295326</td>\n",
       "      <td>0.265680</td>\n",
       "      <td>0.516246</td>\n",
       "      <td>...</td>\n",
       "      <td>0</td>\n",
       "      <td>0</td>\n",
       "      <td>0</td>\n",
       "      <td>0</td>\n",
       "      <td>0</td>\n",
       "      <td>0</td>\n",
       "      <td>0</td>\n",
       "      <td>0</td>\n",
       "      <td>0</td>\n",
       "      <td>1</td>\n",
       "    </tr>\n",
       "  </tbody>\n",
       "</table>\n",
       "<p>5 rows × 69 columns</p>\n",
       "</div>"
      ],
      "text/plain": [
       "        acclen  nummailmes     tdmin     tdcal    tdchar     temin     tecal  \\\n",
       "817   3.601382   -0.584936 -1.547653 -0.429657 -1.547170 -0.729987 -1.840891   \n",
       "1373  0.184951   -0.584936 -1.244014  0.224176 -1.244071 -0.138082  0.499864   \n",
       "679  -0.650176   -0.584936  0.787609 -1.133785  0.787772  2.491952  0.549667   \n",
       "56    1.020079   -0.584936 -0.969818 -0.127888 -0.970200 -0.408385 -1.890695   \n",
       "1993 -0.371801   -0.584936  0.675354 -0.228477  0.675192  1.294330 -1.143645   \n",
       "\n",
       "        tecahr     tnmin     tncal  ...  st_VA  st_VT  st_WA  st_WI  st_WV  \\\n",
       "817  -0.731087  1.255804  0.925634  ...      0      0      0      0      0   \n",
       "1373 -0.139179  0.165090 -0.353704  ...      0      0      0      0      0   \n",
       "679   2.493068  0.147339  0.209205  ...      0      0      0      0      0   \n",
       "56   -0.408439 -1.178086  1.437368  ...      0      0      0      0      0   \n",
       "1993  1.295326  0.265680  0.516246  ...      0      0      0      0      0   \n",
       "\n",
       "      st_WY  intplan_yes  voice_yes  arcode_415  arcode_510  \n",
       "817       0            0          0           0           1  \n",
       "1373      0            0          0           1           0  \n",
       "679       0            1          0           1           0  \n",
       "56        0            0          0           1           0  \n",
       "1993      0            0          0           0           1  \n",
       "\n",
       "[5 rows x 69 columns]"
      ]
     },
     "execution_count": 420,
     "metadata": {},
     "output_type": "execute_result"
    }
   ],
   "source": [
    "Xtrain[ :5]"
   ]
  },
  {
   "cell_type": "code",
   "execution_count": 421,
   "metadata": {},
   "outputs": [
    {
     "data": {
      "text/html": [
       "<div>\n",
       "<style scoped>\n",
       "    .dataframe tbody tr th:only-of-type {\n",
       "        vertical-align: middle;\n",
       "    }\n",
       "\n",
       "    .dataframe tbody tr th {\n",
       "        vertical-align: top;\n",
       "    }\n",
       "\n",
       "    .dataframe thead th {\n",
       "        text-align: right;\n",
       "    }\n",
       "</style>\n",
       "<table border=\"1\" class=\"dataframe\">\n",
       "  <thead>\n",
       "    <tr style=\"text-align: right;\">\n",
       "      <th></th>\n",
       "      <th>MODELNAME</th>\n",
       "      <th>ACCURACY</th>\n",
       "      <th>PRECISION</th>\n",
       "      <th>RECALL</th>\n",
       "      <th>AUC</th>\n",
       "    </tr>\n",
       "  </thead>\n",
       "  <tbody>\n",
       "    <tr>\n",
       "      <th>0</th>\n",
       "      <td>LR-train</td>\n",
       "      <td>0.872093</td>\n",
       "      <td>0.632258</td>\n",
       "      <td>0.256545</td>\n",
       "      <td>0.615794</td>\n",
       "    </tr>\n",
       "    <tr>\n",
       "      <th>1</th>\n",
       "      <td>LR-test</td>\n",
       "      <td>0.853073</td>\n",
       "      <td>0.545455</td>\n",
       "      <td>0.178218</td>\n",
       "      <td>0.575858</td>\n",
       "    </tr>\n",
       "    <tr>\n",
       "      <th>2</th>\n",
       "      <td>DecisionTree-train</td>\n",
       "      <td>1.000000</td>\n",
       "      <td>1.000000</td>\n",
       "      <td>1.000000</td>\n",
       "      <td>1.000000</td>\n",
       "    </tr>\n",
       "    <tr>\n",
       "      <th>3</th>\n",
       "      <td>DecisionTree-test</td>\n",
       "      <td>0.925037</td>\n",
       "      <td>0.757576</td>\n",
       "      <td>0.742574</td>\n",
       "      <td>0.850086</td>\n",
       "    </tr>\n",
       "    <tr>\n",
       "      <th>4</th>\n",
       "      <td>KNN(5)-train</td>\n",
       "      <td>1.000000</td>\n",
       "      <td>1.000000</td>\n",
       "      <td>1.000000</td>\n",
       "      <td>1.000000</td>\n",
       "    </tr>\n",
       "    <tr>\n",
       "      <th>5</th>\n",
       "      <td>KNN(5)-test</td>\n",
       "      <td>0.925037</td>\n",
       "      <td>0.757576</td>\n",
       "      <td>0.742574</td>\n",
       "      <td>0.850086</td>\n",
       "    </tr>\n",
       "    <tr>\n",
       "      <th>6</th>\n",
       "      <td>NB-train</td>\n",
       "      <td>0.630158</td>\n",
       "      <td>0.234622</td>\n",
       "      <td>0.698953</td>\n",
       "      <td>0.658802</td>\n",
       "    </tr>\n",
       "    <tr>\n",
       "      <th>7</th>\n",
       "      <td>NB-test</td>\n",
       "      <td>0.574213</td>\n",
       "      <td>0.191919</td>\n",
       "      <td>0.564356</td>\n",
       "      <td>0.570164</td>\n",
       "    </tr>\n",
       "    <tr>\n",
       "      <th>8</th>\n",
       "      <td>RF-train</td>\n",
       "      <td>1.000000</td>\n",
       "      <td>1.000000</td>\n",
       "      <td>1.000000</td>\n",
       "      <td>1.000000</td>\n",
       "    </tr>\n",
       "    <tr>\n",
       "      <th>9</th>\n",
       "      <td>RF-test</td>\n",
       "      <td>0.940030</td>\n",
       "      <td>0.955224</td>\n",
       "      <td>0.633663</td>\n",
       "      <td>0.814182</td>\n",
       "    </tr>\n",
       "  </tbody>\n",
       "</table>\n",
       "</div>"
      ],
      "text/plain": [
       "            MODELNAME  ACCURACY  PRECISION    RECALL       AUC\n",
       "0            LR-train  0.872093   0.632258  0.256545  0.615794\n",
       "1             LR-test  0.853073   0.545455  0.178218  0.575858\n",
       "2  DecisionTree-train  1.000000   1.000000  1.000000  1.000000\n",
       "3   DecisionTree-test  0.925037   0.757576  0.742574  0.850086\n",
       "4        KNN(5)-train  1.000000   1.000000  1.000000  1.000000\n",
       "5         KNN(5)-test  0.925037   0.757576  0.742574  0.850086\n",
       "6            NB-train  0.630158   0.234622  0.698953  0.658802\n",
       "7             NB-test  0.574213   0.191919  0.564356  0.570164\n",
       "8            RF-train  1.000000   1.000000  1.000000  1.000000\n",
       "9             RF-test  0.940030   0.955224  0.633663  0.814182"
      ]
     },
     "execution_count": 421,
     "metadata": {},
     "output_type": "execute_result"
    }
   ],
   "source": [
    "modelstats1(Xtrain,Xtest,ytrain,ytest)"
   ]
  },
  {
   "cell_type": "code",
   "execution_count": 422,
   "metadata": {},
   "outputs": [],
   "source": [
    "#from sklearn import feature_selection\n",
    "#rfeobj=feature_selection.RFE(estimator=tree.DecisionTreeClassifier(max_depth=12,random_state=42))\n",
    "#grid={\"n_features_to_select\":list(range(29,41,2))}\n",
    "#gridobj=model_selection.GridSearchCV(estimator=rfeobj,param_grid=grid,cv=5,scoring=\"recall\",return_train_score=True,n_jobs=-1)\n",
    "#gridobj.fit(Xtrain,ytrain)"
   ]
  },
  {
   "cell_type": "code",
   "execution_count": 423,
   "metadata": {},
   "outputs": [],
   "source": [
    "#cvdf1=pd.DataFrame(gridobj.cv_results_)\n",
    "#cvdf1[[\"params\",\"mean_train_score\",\"mean_test_score\"]]"
   ]
  },
  {
   "cell_type": "code",
   "execution_count": 424,
   "metadata": {},
   "outputs": [],
   "source": [
    "#gridobj.best_params_"
   ]
  },
  {
   "cell_type": "code",
   "execution_count": null,
   "metadata": {},
   "outputs": [],
   "source": []
  },
  {
   "cell_type": "code",
   "execution_count": null,
   "metadata": {},
   "outputs": [],
   "source": []
  }
 ],
 "metadata": {
  "kernelspec": {
   "display_name": "Python 3",
   "language": "python",
   "name": "python3"
  },
  "language_info": {
   "codemirror_mode": {
    "name": "ipython",
    "version": 3
   },
   "file_extension": ".py",
   "mimetype": "text/x-python",
   "name": "python",
   "nbconvert_exporter": "python",
   "pygments_lexer": "ipython3",
   "version": "3.8.5"
  }
 },
 "nbformat": 4,
 "nbformat_minor": 4
}
