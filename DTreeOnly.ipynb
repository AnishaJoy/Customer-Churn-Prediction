{
 "cells": [
  {
   "cell_type": "code",
   "execution_count": 1,
   "metadata": {},
   "outputs": [],
   "source": [
    "import numpy as np\n",
    "import pandas as pd\n",
    "import seaborn as sns\n",
    "from sklearn import metrics\n",
    "import matplotlib.pyplot as plt\n",
    "from sklearn import linear_model\n",
    "from sklearn import preprocessing\n",
    "from sklearn import model_selection\n",
    "from sklearn import feature_selection"
   ]
  },
  {
   "cell_type": "code",
   "execution_count": 2,
   "metadata": {},
   "outputs": [],
   "source": [
    "df=pd.read_csv(\"churn_train.csv\")"
   ]
  },
  {
   "cell_type": "code",
   "execution_count": 3,
   "metadata": {},
   "outputs": [
    {
     "data": {
      "text/html": [
       "<div>\n",
       "<style scoped>\n",
       "    .dataframe tbody tr th:only-of-type {\n",
       "        vertical-align: middle;\n",
       "    }\n",
       "\n",
       "    .dataframe tbody tr th {\n",
       "        vertical-align: top;\n",
       "    }\n",
       "\n",
       "    .dataframe thead th {\n",
       "        text-align: right;\n",
       "    }\n",
       "</style>\n",
       "<table border=\"1\" class=\"dataframe\">\n",
       "  <thead>\n",
       "    <tr style=\"text-align: right;\">\n",
       "      <th></th>\n",
       "      <th>st</th>\n",
       "      <th>acclen</th>\n",
       "      <th>arcode</th>\n",
       "      <th>phnum</th>\n",
       "      <th>intplan</th>\n",
       "      <th>voice</th>\n",
       "      <th>nummailmes</th>\n",
       "      <th>tdmin</th>\n",
       "      <th>tdcal</th>\n",
       "      <th>tdchar</th>\n",
       "      <th>...</th>\n",
       "      <th>tecal</th>\n",
       "      <th>tecahr</th>\n",
       "      <th>tnmin</th>\n",
       "      <th>tncal</th>\n",
       "      <th>tnchar</th>\n",
       "      <th>timin</th>\n",
       "      <th>tical</th>\n",
       "      <th>tichar</th>\n",
       "      <th>ncsc</th>\n",
       "      <th>label</th>\n",
       "    </tr>\n",
       "  </thead>\n",
       "  <tbody>\n",
       "    <tr>\n",
       "      <th>0</th>\n",
       "      <td>KS</td>\n",
       "      <td>128</td>\n",
       "      <td>415</td>\n",
       "      <td>382-4657</td>\n",
       "      <td>no</td>\n",
       "      <td>yes</td>\n",
       "      <td>25</td>\n",
       "      <td>265.1</td>\n",
       "      <td>110</td>\n",
       "      <td>45.07</td>\n",
       "      <td>...</td>\n",
       "      <td>99</td>\n",
       "      <td>16.78</td>\n",
       "      <td>244.7</td>\n",
       "      <td>91</td>\n",
       "      <td>11.01</td>\n",
       "      <td>10.0</td>\n",
       "      <td>3</td>\n",
       "      <td>2.70</td>\n",
       "      <td>1</td>\n",
       "      <td>False.</td>\n",
       "    </tr>\n",
       "    <tr>\n",
       "      <th>1</th>\n",
       "      <td>OH</td>\n",
       "      <td>107</td>\n",
       "      <td>415</td>\n",
       "      <td>371-7191</td>\n",
       "      <td>no</td>\n",
       "      <td>yes</td>\n",
       "      <td>26</td>\n",
       "      <td>161.6</td>\n",
       "      <td>123</td>\n",
       "      <td>27.47</td>\n",
       "      <td>...</td>\n",
       "      <td>103</td>\n",
       "      <td>16.62</td>\n",
       "      <td>254.4</td>\n",
       "      <td>103</td>\n",
       "      <td>11.45</td>\n",
       "      <td>13.7</td>\n",
       "      <td>3</td>\n",
       "      <td>3.70</td>\n",
       "      <td>1</td>\n",
       "      <td>False.</td>\n",
       "    </tr>\n",
       "    <tr>\n",
       "      <th>2</th>\n",
       "      <td>NJ</td>\n",
       "      <td>137</td>\n",
       "      <td>415</td>\n",
       "      <td>358-1921</td>\n",
       "      <td>no</td>\n",
       "      <td>no</td>\n",
       "      <td>0</td>\n",
       "      <td>243.4</td>\n",
       "      <td>114</td>\n",
       "      <td>41.38</td>\n",
       "      <td>...</td>\n",
       "      <td>110</td>\n",
       "      <td>10.30</td>\n",
       "      <td>162.6</td>\n",
       "      <td>104</td>\n",
       "      <td>7.32</td>\n",
       "      <td>12.2</td>\n",
       "      <td>5</td>\n",
       "      <td>3.29</td>\n",
       "      <td>0</td>\n",
       "      <td>False.</td>\n",
       "    </tr>\n",
       "    <tr>\n",
       "      <th>3</th>\n",
       "      <td>OH</td>\n",
       "      <td>84</td>\n",
       "      <td>408</td>\n",
       "      <td>375-9999</td>\n",
       "      <td>yes</td>\n",
       "      <td>no</td>\n",
       "      <td>0</td>\n",
       "      <td>299.4</td>\n",
       "      <td>71</td>\n",
       "      <td>50.90</td>\n",
       "      <td>...</td>\n",
       "      <td>88</td>\n",
       "      <td>5.26</td>\n",
       "      <td>196.9</td>\n",
       "      <td>89</td>\n",
       "      <td>8.86</td>\n",
       "      <td>6.6</td>\n",
       "      <td>7</td>\n",
       "      <td>1.78</td>\n",
       "      <td>2</td>\n",
       "      <td>False.</td>\n",
       "    </tr>\n",
       "    <tr>\n",
       "      <th>4</th>\n",
       "      <td>OK</td>\n",
       "      <td>75</td>\n",
       "      <td>415</td>\n",
       "      <td>330-6626</td>\n",
       "      <td>yes</td>\n",
       "      <td>no</td>\n",
       "      <td>0</td>\n",
       "      <td>166.7</td>\n",
       "      <td>113</td>\n",
       "      <td>28.34</td>\n",
       "      <td>...</td>\n",
       "      <td>122</td>\n",
       "      <td>12.61</td>\n",
       "      <td>186.9</td>\n",
       "      <td>121</td>\n",
       "      <td>8.41</td>\n",
       "      <td>10.1</td>\n",
       "      <td>3</td>\n",
       "      <td>2.73</td>\n",
       "      <td>3</td>\n",
       "      <td>False.</td>\n",
       "    </tr>\n",
       "  </tbody>\n",
       "</table>\n",
       "<p>5 rows × 21 columns</p>\n",
       "</div>"
      ],
      "text/plain": [
       "   st  acclen  arcode     phnum intplan voice  nummailmes  tdmin  tdcal  \\\n",
       "0  KS     128     415  382-4657      no   yes          25  265.1    110   \n",
       "1  OH     107     415  371-7191      no   yes          26  161.6    123   \n",
       "2  NJ     137     415  358-1921      no    no           0  243.4    114   \n",
       "3  OH      84     408  375-9999     yes    no           0  299.4     71   \n",
       "4  OK      75     415  330-6626     yes    no           0  166.7    113   \n",
       "\n",
       "   tdchar  ...  tecal  tecahr  tnmin  tncal  tnchar  timin  tical  tichar  \\\n",
       "0   45.07  ...     99   16.78  244.7     91   11.01   10.0      3    2.70   \n",
       "1   27.47  ...    103   16.62  254.4    103   11.45   13.7      3    3.70   \n",
       "2   41.38  ...    110   10.30  162.6    104    7.32   12.2      5    3.29   \n",
       "3   50.90  ...     88    5.26  196.9     89    8.86    6.6      7    1.78   \n",
       "4   28.34  ...    122   12.61  186.9    121    8.41   10.1      3    2.73   \n",
       "\n",
       "   ncsc   label  \n",
       "0     1  False.  \n",
       "1     1  False.  \n",
       "2     0  False.  \n",
       "3     2  False.  \n",
       "4     3  False.  \n",
       "\n",
       "[5 rows x 21 columns]"
      ]
     },
     "execution_count": 3,
     "metadata": {},
     "output_type": "execute_result"
    }
   ],
   "source": [
    "df[ :5]"
   ]
  },
  {
   "cell_type": "code",
   "execution_count": 4,
   "metadata": {},
   "outputs": [],
   "source": [
    "df[\"label\"]=(df[\"label\"]==\"True.\").astype(np.int) ### Changing label to 0 and 1\n",
    "df[\"intplan\"].replace({\"yes\":1,\"no\":0},inplace=True)\n",
    "df[\"voice\"].replace({\"yes\":1,\"no\":0},inplace=True)"
   ]
  },
  {
   "cell_type": "code",
   "execution_count": 6,
   "metadata": {},
   "outputs": [],
   "source": [
    "df1=pd.DataFrame(df)"
   ]
  },
  {
   "cell_type": "code",
   "execution_count": 7,
   "metadata": {},
   "outputs": [
    {
     "data": {
      "text/html": [
       "<div>\n",
       "<style scoped>\n",
       "    .dataframe tbody tr th:only-of-type {\n",
       "        vertical-align: middle;\n",
       "    }\n",
       "\n",
       "    .dataframe tbody tr th {\n",
       "        vertical-align: top;\n",
       "    }\n",
       "\n",
       "    .dataframe thead th {\n",
       "        text-align: right;\n",
       "    }\n",
       "</style>\n",
       "<table border=\"1\" class=\"dataframe\">\n",
       "  <thead>\n",
       "    <tr style=\"text-align: right;\">\n",
       "      <th></th>\n",
       "      <th>st</th>\n",
       "      <th>acclen</th>\n",
       "      <th>arcode</th>\n",
       "      <th>phnum</th>\n",
       "      <th>intplan</th>\n",
       "      <th>voice</th>\n",
       "      <th>nummailmes</th>\n",
       "      <th>tdmin</th>\n",
       "      <th>tdcal</th>\n",
       "      <th>tdchar</th>\n",
       "      <th>...</th>\n",
       "      <th>tecal</th>\n",
       "      <th>tecahr</th>\n",
       "      <th>tnmin</th>\n",
       "      <th>tncal</th>\n",
       "      <th>tnchar</th>\n",
       "      <th>timin</th>\n",
       "      <th>tical</th>\n",
       "      <th>tichar</th>\n",
       "      <th>ncsc</th>\n",
       "      <th>label</th>\n",
       "    </tr>\n",
       "  </thead>\n",
       "  <tbody>\n",
       "    <tr>\n",
       "      <th>0</th>\n",
       "      <td>KS</td>\n",
       "      <td>128</td>\n",
       "      <td>415</td>\n",
       "      <td>382-4657</td>\n",
       "      <td>0</td>\n",
       "      <td>1</td>\n",
       "      <td>25</td>\n",
       "      <td>265.1</td>\n",
       "      <td>110</td>\n",
       "      <td>45.07</td>\n",
       "      <td>...</td>\n",
       "      <td>99</td>\n",
       "      <td>16.78</td>\n",
       "      <td>244.7</td>\n",
       "      <td>91</td>\n",
       "      <td>11.01</td>\n",
       "      <td>10.0</td>\n",
       "      <td>3</td>\n",
       "      <td>2.7</td>\n",
       "      <td>1</td>\n",
       "      <td>0</td>\n",
       "    </tr>\n",
       "    <tr>\n",
       "      <th>1</th>\n",
       "      <td>OH</td>\n",
       "      <td>107</td>\n",
       "      <td>415</td>\n",
       "      <td>371-7191</td>\n",
       "      <td>0</td>\n",
       "      <td>1</td>\n",
       "      <td>26</td>\n",
       "      <td>161.6</td>\n",
       "      <td>123</td>\n",
       "      <td>27.47</td>\n",
       "      <td>...</td>\n",
       "      <td>103</td>\n",
       "      <td>16.62</td>\n",
       "      <td>254.4</td>\n",
       "      <td>103</td>\n",
       "      <td>11.45</td>\n",
       "      <td>13.7</td>\n",
       "      <td>3</td>\n",
       "      <td>3.7</td>\n",
       "      <td>1</td>\n",
       "      <td>0</td>\n",
       "    </tr>\n",
       "  </tbody>\n",
       "</table>\n",
       "<p>2 rows × 21 columns</p>\n",
       "</div>"
      ],
      "text/plain": [
       "   st  acclen  arcode     phnum  intplan  voice  nummailmes  tdmin  tdcal  \\\n",
       "0  KS     128     415  382-4657        0      1          25  265.1    110   \n",
       "1  OH     107     415  371-7191        0      1          26  161.6    123   \n",
       "\n",
       "   tdchar  ...  tecal  tecahr  tnmin  tncal  tnchar  timin  tical  tichar  \\\n",
       "0   45.07  ...     99   16.78  244.7     91   11.01   10.0      3     2.7   \n",
       "1   27.47  ...    103   16.62  254.4    103   11.45   13.7      3     3.7   \n",
       "\n",
       "   ncsc  label  \n",
       "0     1      0  \n",
       "1     1      0  \n",
       "\n",
       "[2 rows x 21 columns]"
      ]
     },
     "execution_count": 7,
     "metadata": {},
     "output_type": "execute_result"
    }
   ],
   "source": [
    "df1[ :2]"
   ]
  },
  {
   "cell_type": "code",
   "execution_count": 8,
   "metadata": {},
   "outputs": [
    {
     "data": {
      "text/plain": [
       "pandas.core.frame.DataFrame"
      ]
     },
     "execution_count": 8,
     "metadata": {},
     "output_type": "execute_result"
    }
   ],
   "source": [
    "type(df1)"
   ]
  },
  {
   "cell_type": "code",
   "execution_count": 9,
   "metadata": {},
   "outputs": [
    {
     "name": "stdout",
     "output_type": "stream",
     "text": [
      "st              int32\n",
      "acclen          int64\n",
      "arcode          int64\n",
      "phnum          object\n",
      "intplan         int64\n",
      "voice           int64\n",
      "nummailmes      int64\n",
      "tdmin         float64\n",
      "tdcal           int64\n",
      "tdchar        float64\n",
      "temin         float64\n",
      "tecal           int64\n",
      "tecahr        float64\n",
      "tnmin         float64\n",
      "tncal           int64\n",
      "tnchar        float64\n",
      "timin         float64\n",
      "tical           int64\n",
      "tichar        float64\n",
      "ncsc            int64\n",
      "label           int32\n",
      "dtype: object\n"
     ]
    }
   ],
   "source": [
    "label_encoder = preprocessing.LabelEncoder()\n",
    "df1[\"st\"] = label_encoder.fit_transform(df1[\"st\"])\n",
    "print (df1.dtypes)"
   ]
  },
  {
   "cell_type": "code",
   "execution_count": 10,
   "metadata": {},
   "outputs": [],
   "source": [
    "X=df1.drop({\"phnum\",\"label\"}, axis=1)"
   ]
  },
  {
   "cell_type": "code",
   "execution_count": 11,
   "metadata": {},
   "outputs": [],
   "source": [
    "y=df1[\"label\"]"
   ]
  },
  {
   "cell_type": "code",
   "execution_count": 12,
   "metadata": {},
   "outputs": [
    {
     "data": {
      "text/plain": [
       "(2666, 19)"
      ]
     },
     "execution_count": 12,
     "metadata": {},
     "output_type": "execute_result"
    }
   ],
   "source": [
    "# Splitting into train and test data\n",
    "Xtrain,Xtest,ytrain,ytest=model_selection.train_test_split(X,y,test_size=.2,random_state=42)\n",
    "Xtrain.shape"
   ]
  },
  {
   "cell_type": "code",
   "execution_count": 13,
   "metadata": {},
   "outputs": [
    {
     "data": {
      "text/html": [
       "<div>\n",
       "<style scoped>\n",
       "    .dataframe tbody tr th:only-of-type {\n",
       "        vertical-align: middle;\n",
       "    }\n",
       "\n",
       "    .dataframe tbody tr th {\n",
       "        vertical-align: top;\n",
       "    }\n",
       "\n",
       "    .dataframe thead th {\n",
       "        text-align: right;\n",
       "    }\n",
       "</style>\n",
       "<table border=\"1\" class=\"dataframe\">\n",
       "  <thead>\n",
       "    <tr style=\"text-align: right;\">\n",
       "      <th></th>\n",
       "      <th>st</th>\n",
       "      <th>acclen</th>\n",
       "      <th>arcode</th>\n",
       "      <th>intplan</th>\n",
       "      <th>voice</th>\n",
       "      <th>nummailmes</th>\n",
       "      <th>tdmin</th>\n",
       "      <th>tdcal</th>\n",
       "      <th>tdchar</th>\n",
       "      <th>temin</th>\n",
       "      <th>tecal</th>\n",
       "      <th>tecahr</th>\n",
       "      <th>tnmin</th>\n",
       "      <th>tncal</th>\n",
       "      <th>tnchar</th>\n",
       "      <th>timin</th>\n",
       "      <th>tical</th>\n",
       "      <th>tichar</th>\n",
       "      <th>ncsc</th>\n",
       "    </tr>\n",
       "  </thead>\n",
       "  <tbody>\n",
       "    <tr>\n",
       "      <th>817</th>\n",
       "      <td>44</td>\n",
       "      <td>243</td>\n",
       "      <td>510</td>\n",
       "      <td>0</td>\n",
       "      <td>0</td>\n",
       "      <td>0</td>\n",
       "      <td>95.5</td>\n",
       "      <td>92</td>\n",
       "      <td>16.24</td>\n",
       "      <td>163.7</td>\n",
       "      <td>63</td>\n",
       "      <td>13.91</td>\n",
       "      <td>264.2</td>\n",
       "      <td>118</td>\n",
       "      <td>11.89</td>\n",
       "      <td>6.6</td>\n",
       "      <td>6</td>\n",
       "      <td>1.78</td>\n",
       "      <td>2</td>\n",
       "    </tr>\n",
       "    <tr>\n",
       "      <th>1373</th>\n",
       "      <td>40</td>\n",
       "      <td>108</td>\n",
       "      <td>415</td>\n",
       "      <td>0</td>\n",
       "      <td>0</td>\n",
       "      <td>0</td>\n",
       "      <td>112.0</td>\n",
       "      <td>105</td>\n",
       "      <td>19.04</td>\n",
       "      <td>193.7</td>\n",
       "      <td>110</td>\n",
       "      <td>16.46</td>\n",
       "      <td>208.9</td>\n",
       "      <td>93</td>\n",
       "      <td>9.40</td>\n",
       "      <td>4.1</td>\n",
       "      <td>4</td>\n",
       "      <td>1.11</td>\n",
       "      <td>4</td>\n",
       "    </tr>\n",
       "    <tr>\n",
       "      <th>679</th>\n",
       "      <td>43</td>\n",
       "      <td>75</td>\n",
       "      <td>415</td>\n",
       "      <td>1</td>\n",
       "      <td>0</td>\n",
       "      <td>0</td>\n",
       "      <td>222.4</td>\n",
       "      <td>78</td>\n",
       "      <td>37.81</td>\n",
       "      <td>327.0</td>\n",
       "      <td>111</td>\n",
       "      <td>27.80</td>\n",
       "      <td>208.0</td>\n",
       "      <td>104</td>\n",
       "      <td>9.36</td>\n",
       "      <td>8.7</td>\n",
       "      <td>9</td>\n",
       "      <td>2.35</td>\n",
       "      <td>1</td>\n",
       "    </tr>\n",
       "    <tr>\n",
       "      <th>56</th>\n",
       "      <td>5</td>\n",
       "      <td>141</td>\n",
       "      <td>415</td>\n",
       "      <td>0</td>\n",
       "      <td>0</td>\n",
       "      <td>0</td>\n",
       "      <td>126.9</td>\n",
       "      <td>98</td>\n",
       "      <td>21.57</td>\n",
       "      <td>180.0</td>\n",
       "      <td>62</td>\n",
       "      <td>15.30</td>\n",
       "      <td>140.8</td>\n",
       "      <td>128</td>\n",
       "      <td>6.34</td>\n",
       "      <td>8.0</td>\n",
       "      <td>2</td>\n",
       "      <td>2.16</td>\n",
       "      <td>1</td>\n",
       "    </tr>\n",
       "    <tr>\n",
       "      <th>1993</th>\n",
       "      <td>15</td>\n",
       "      <td>86</td>\n",
       "      <td>510</td>\n",
       "      <td>0</td>\n",
       "      <td>0</td>\n",
       "      <td>0</td>\n",
       "      <td>216.3</td>\n",
       "      <td>96</td>\n",
       "      <td>36.77</td>\n",
       "      <td>266.3</td>\n",
       "      <td>77</td>\n",
       "      <td>22.64</td>\n",
       "      <td>214.0</td>\n",
       "      <td>110</td>\n",
       "      <td>9.63</td>\n",
       "      <td>4.5</td>\n",
       "      <td>3</td>\n",
       "      <td>1.22</td>\n",
       "      <td>0</td>\n",
       "    </tr>\n",
       "  </tbody>\n",
       "</table>\n",
       "</div>"
      ],
      "text/plain": [
       "      st  acclen  arcode  intplan  voice  nummailmes  tdmin  tdcal  tdchar  \\\n",
       "817   44     243     510        0      0           0   95.5     92   16.24   \n",
       "1373  40     108     415        0      0           0  112.0    105   19.04   \n",
       "679   43      75     415        1      0           0  222.4     78   37.81   \n",
       "56     5     141     415        0      0           0  126.9     98   21.57   \n",
       "1993  15      86     510        0      0           0  216.3     96   36.77   \n",
       "\n",
       "      temin  tecal  tecahr  tnmin  tncal  tnchar  timin  tical  tichar  ncsc  \n",
       "817   163.7     63   13.91  264.2    118   11.89    6.6      6    1.78     2  \n",
       "1373  193.7    110   16.46  208.9     93    9.40    4.1      4    1.11     4  \n",
       "679   327.0    111   27.80  208.0    104    9.36    8.7      9    2.35     1  \n",
       "56    180.0     62   15.30  140.8    128    6.34    8.0      2    2.16     1  \n",
       "1993  266.3     77   22.64  214.0    110    9.63    4.5      3    1.22     0  "
      ]
     },
     "execution_count": 13,
     "metadata": {},
     "output_type": "execute_result"
    }
   ],
   "source": [
    "Xtrain[ :5]"
   ]
  },
  {
   "cell_type": "code",
   "execution_count": 14,
   "metadata": {},
   "outputs": [],
   "source": [
    "def printscores(actual,pred):\n",
    "    print(\"AUC:\",metrics.roc_auc_score(actual,pred))\n",
    "    print(\"accuracy:\",metrics.accuracy_score(actual,pred))\n",
    "    print(\"recall  :\",metrics.recall_score(actual,pred))\n",
    "    print(\"precision :\",metrics.precision_score(actual,pred))\n",
    "    print(\"f1-score : \",metrics.f1_score(actual,pred))"
   ]
  },
  {
   "cell_type": "code",
   "execution_count": 15,
   "metadata": {},
   "outputs": [
    {
     "data": {
      "text/plain": [
       "DecisionTreeClassifier(random_state=42)"
      ]
     },
     "execution_count": 15,
     "metadata": {},
     "output_type": "execute_result"
    }
   ],
   "source": [
    "from sklearn import tree\n",
    "model=tree.DecisionTreeClassifier(random_state=42) #unconstrained model \n",
    "model.fit(Xtrain,ytrain)"
   ]
  },
  {
   "cell_type": "code",
   "execution_count": 16,
   "metadata": {},
   "outputs": [],
   "source": [
    "trainp=model.predict(Xtrain)\n",
    "testp=model.predict(Xtest)"
   ]
  },
  {
   "cell_type": "code",
   "execution_count": 17,
   "metadata": {},
   "outputs": [
    {
     "name": "stdout",
     "output_type": "stream",
     "text": [
      "AUC: 1.0\n",
      "accuracy: 1.0\n",
      "recall  : 1.0\n",
      "precision : 1.0\n",
      "f1-score :  1.0\n"
     ]
    }
   ],
   "source": [
    "printscores(ytrain,trainp) # model works perfect with train data as it is not constrained."
   ]
  },
  {
   "cell_type": "code",
   "execution_count": 18,
   "metadata": {},
   "outputs": [
    {
     "name": "stdout",
     "output_type": "stream",
     "text": [
      "AUC: 0.8546863520274289\n",
      "accuracy: 0.9190404797601199\n",
      "recall  : 0.7623762376237624\n",
      "precision : 0.719626168224299\n",
      "f1-score :  0.7403846153846154\n"
     ]
    }
   ],
   "source": [
    "printscores(ytest,testp)"
   ]
  },
  {
   "cell_type": "code",
   "execution_count": 19,
   "metadata": {},
   "outputs": [
    {
     "data": {
      "text/plain": [
       "(2666, 19)"
      ]
     },
     "execution_count": 19,
     "metadata": {},
     "output_type": "execute_result"
    }
   ],
   "source": [
    "Xtrain.shape"
   ]
  },
  {
   "cell_type": "code",
   "execution_count": 20,
   "metadata": {},
   "outputs": [
    {
     "data": {
      "text/plain": [
       "Index(['acclen', 'intplan', 'voice', 'tdmin', 'tdcal', 'tdchar', 'temin',\n",
       "       'tecal', 'tecahr', 'tnmin', 'tncal', 'tnchar', 'tical', 'tichar',\n",
       "       'ncsc'],\n",
       "      dtype='object')"
      ]
     },
     "execution_count": 20,
     "metadata": {},
     "output_type": "execute_result"
    }
   ],
   "source": [
    "from sklearn import feature_selection\n",
    "rfeobj=feature_selection.RFE(tree.DecisionTreeClassifier(random_state=42),n_features_to_select=15)\n",
    "rfeobj.fit(Xtrain,ytrain)\n",
    "impcols=Xtrain.columns[rfeobj.support_] \n",
    "impcols"
   ]
  },
  {
   "cell_type": "code",
   "execution_count": 21,
   "metadata": {},
   "outputs": [
    {
     "data": {
      "text/plain": [
       "GridSearchCV(cv=5, estimator=DecisionTreeClassifier(random_state=42), n_jobs=-1,\n",
       "             param_grid=[{'max_depth': [5, 6, 7, 8, 9, 10, 11, 12, 13, 14, 15,\n",
       "                                        16, 17, 18, 19, 20, 21, 22, 23, 24, 25,\n",
       "                                        26, 27, 28, 29]},\n",
       "                         {'max_depth': [5, 6, 7, 8, 9, 10, 11, 12, 13, 14, 15,\n",
       "                                        16, 17, 18, 19, 20, 21, 22, 23, 24, 25,\n",
       "                                        26, 27, 28, 29],\n",
       "                          'min_samples_split': [5, 6, 7, 8, 9, 10, 11, 12, 13,\n",
       "                                                14, 15, 16, 17, 18, 19, 20, 21,\n",
       "                                                22, 23, 24, 25, 26, 27, 28,\n",
       "                                                29]},\n",
       "                         {'min_samples_leaf': [5, 6, 7, 8, 9, 10, 11, 12, 13,\n",
       "                                               14, 15, 16, 17, 18, 19, 20, 21,\n",
       "                                               22, 23, 24, 25, 26, 27, 28, 29],\n",
       "                          'min_samples_split': [5, 6, 7, 8, 9, 10, 11, 12, 13,\n",
       "                                                14, 15, 16, 17, 18, 19, 20, 21,\n",
       "                                                22, 23, 24, 25, 26, 27, 28,\n",
       "                                                29]}],\n",
       "             scoring='recall')"
      ]
     },
     "execution_count": 21,
     "metadata": {},
     "output_type": "execute_result"
    }
   ],
   "source": [
    "grid1={\"max_depth\" : list(range(5,30))}\n",
    "grid2={ \"max_depth\": list(range(5,30)),\"min_samples_split\":list(range(5,30))}\n",
    "grid3={ \"min_samples_leaf\" : list(range(5,30)),\"min_samples_split\" :list(range(5,30))}\n",
    "paramgrid=[grid1,grid2,grid3]\n",
    "obj=model_selection.GridSearchCV(estimator=tree.DecisionTreeClassifier(random_state=42), param_grid=paramgrid, cv=5 , scoring=\"recall\",n_jobs=-1)\n",
    "obj.fit(Xtrain[impcols],ytrain)"
   ]
  },
  {
   "cell_type": "code",
   "execution_count": 22,
   "metadata": {},
   "outputs": [
    {
     "data": {
      "text/plain": [
       "{'max_depth': 20}"
      ]
     },
     "execution_count": 22,
     "metadata": {},
     "output_type": "execute_result"
    }
   ],
   "source": [
    "obj.best_params_"
   ]
  },
  {
   "cell_type": "code",
   "execution_count": 23,
   "metadata": {},
   "outputs": [
    {
     "data": {
      "text/plain": [
       "0.7093643198906356"
      ]
     },
     "execution_count": 23,
     "metadata": {},
     "output_type": "execute_result"
    }
   ],
   "source": [
    "obj.best_score_"
   ]
  },
  {
   "cell_type": "code",
   "execution_count": 24,
   "metadata": {},
   "outputs": [
    {
     "data": {
      "text/plain": [
       "DecisionTreeClassifier(max_depth=20, random_state=42)"
      ]
     },
     "execution_count": 24,
     "metadata": {},
     "output_type": "execute_result"
    }
   ],
   "source": [
    "model=tree.DecisionTreeClassifier(random_state=42,max_depth= 20)\n",
    "model.fit(Xtrain[impcols],ytrain) # Model with only max_depth=20 and 15 cols"
   ]
  },
  {
   "cell_type": "code",
   "execution_count": 25,
   "metadata": {},
   "outputs": [],
   "source": [
    "trainp=model.predict(Xtrain[impcols])\n",
    "testp=model.predict(Xtest[impcols])"
   ]
  },
  {
   "cell_type": "code",
   "execution_count": 26,
   "metadata": {},
   "outputs": [
    {
     "name": "stdout",
     "output_type": "stream",
     "text": [
      "AUC: 0.9908376963350785\n",
      "accuracy: 0.9973743435858965\n",
      "recall  : 0.981675392670157\n",
      "precision : 1.0\n",
      "f1-score :  0.9907529722589168\n"
     ]
    }
   ],
   "source": [
    "printscores(ytrain,trainp)"
   ]
  },
  {
   "cell_type": "code",
   "execution_count": 27,
   "metadata": {},
   "outputs": [
    {
     "name": "stdout",
     "output_type": "stream",
     "text": [
      "AUC: 0.8509691075114579\n",
      "accuracy: 0.9265367316341829\n",
      "recall  : 0.7425742574257426\n",
      "precision : 0.7653061224489796\n",
      "f1-score :  0.7537688442211056\n"
     ]
    }
   ],
   "source": [
    "printscores(ytest,testp)"
   ]
  },
  {
   "cell_type": "code",
   "execution_count": 28,
   "metadata": {},
   "outputs": [
    {
     "data": {
      "text/plain": [
       "Index(['acclen', 'intplan', 'voice', 'tdmin', 'tdcal', 'tdchar', 'temin',\n",
       "       'tecal', 'tecahr', 'tnmin', 'tnchar', 'tical', 'tichar', 'ncsc'],\n",
       "      dtype='object')"
      ]
     },
     "execution_count": 28,
     "metadata": {},
     "output_type": "execute_result"
    }
   ],
   "source": [
    "from sklearn import feature_selection\n",
    "rfeobj=feature_selection.RFE(tree.DecisionTreeClassifier(random_state=42),n_features_to_select=14)\n",
    "rfeobj.fit(Xtrain,ytrain)\n",
    "impcols=Xtrain.columns[rfeobj.support_] \n",
    "impcols"
   ]
  },
  {
   "cell_type": "code",
   "execution_count": 29,
   "metadata": {},
   "outputs": [
    {
     "data": {
      "text/plain": [
       "GridSearchCV(cv=5, estimator=DecisionTreeClassifier(random_state=42), n_jobs=-1,\n",
       "             param_grid=[{'max_depth': [5, 6, 7, 8, 9, 10, 11, 12, 13, 14, 15,\n",
       "                                        16, 17, 18, 19, 20, 21, 22, 23, 24, 25,\n",
       "                                        26, 27, 28, 29]},\n",
       "                         {'max_depth': [5, 6, 7, 8, 9, 10, 11, 12, 13, 14, 15,\n",
       "                                        16, 17, 18, 19, 20, 21, 22, 23, 24, 25,\n",
       "                                        26, 27, 28, 29],\n",
       "                          'min_samples_split': [5, 6, 7, 8, 9, 10, 11, 12, 13,\n",
       "                                                14, 15, 16, 17, 18, 19, 20, 21,\n",
       "                                                22, 23, 24, 25, 26, 27, 28,\n",
       "                                                29]},\n",
       "                         {'min_samples_leaf': [5, 6, 7, 8, 9, 10, 11, 12, 13,\n",
       "                                               14, 15, 16, 17, 18, 19, 20, 21,\n",
       "                                               22, 23, 24, 25, 26, 27, 28, 29],\n",
       "                          'min_samples_split': [5, 6, 7, 8, 9, 10, 11, 12, 13,\n",
       "                                                14, 15, 16, 17, 18, 19, 20, 21,\n",
       "                                                22, 23, 24, 25, 26, 27, 28,\n",
       "                                                29]}],\n",
       "             scoring='recall')"
      ]
     },
     "execution_count": 29,
     "metadata": {},
     "output_type": "execute_result"
    }
   ],
   "source": [
    "grid1={\"max_depth\" : list(range(5,30))}\n",
    "grid2={ \"max_depth\": list(range(5,30)),\"min_samples_split\":list(range(5,30))}\n",
    "grid3={ \"min_samples_leaf\" : list(range(5,30)),\"min_samples_split\" :list(range(5,30))}\n",
    "paramgrid=[grid1,grid2,grid3]\n",
    "obj=model_selection.GridSearchCV(estimator=tree.DecisionTreeClassifier(random_state=42), param_grid=paramgrid, cv=5 , scoring=\"recall\",n_jobs=-1)\n",
    "obj.fit(Xtrain[impcols],ytrain)"
   ]
  },
  {
   "cell_type": "code",
   "execution_count": 30,
   "metadata": {},
   "outputs": [
    {
     "data": {
      "text/plain": [
       "Index(['acclen', 'intplan', 'voice', 'tdmin', 'tdcal', 'tdchar', 'temin',\n",
       "       'tecal', 'tecahr', 'tnmin', 'tnchar', 'tical', 'tichar', 'ncsc'],\n",
       "      dtype='object')"
      ]
     },
     "execution_count": 30,
     "metadata": {},
     "output_type": "execute_result"
    }
   ],
   "source": [
    "impcols"
   ]
  },
  {
   "cell_type": "code",
   "execution_count": 31,
   "metadata": {},
   "outputs": [
    {
     "data": {
      "text/plain": [
       "{'max_depth': 8, 'min_samples_split': 11}"
      ]
     },
     "execution_count": 31,
     "metadata": {},
     "output_type": "execute_result"
    }
   ],
   "source": [
    "obj.best_params_"
   ]
  },
  {
   "cell_type": "code",
   "execution_count": 32,
   "metadata": {},
   "outputs": [
    {
     "data": {
      "text/plain": [
       "0.7197197539302802"
      ]
     },
     "execution_count": 32,
     "metadata": {},
     "output_type": "execute_result"
    }
   ],
   "source": [
    "obj.best_score_"
   ]
  },
  {
   "cell_type": "code",
   "execution_count": 33,
   "metadata": {},
   "outputs": [
    {
     "data": {
      "text/plain": [
       "DecisionTreeClassifier(max_depth=8, min_samples_split=11, random_state=42)"
      ]
     },
     "execution_count": 33,
     "metadata": {},
     "output_type": "execute_result"
    }
   ],
   "source": [
    "model=tree.DecisionTreeClassifier(random_state=42,max_depth= 8,min_samples_split=11)\n",
    "model.fit(Xtrain[impcols],ytrain) # Model with only max_depth=8,min_samples_split=11 and 14 cols"
   ]
  },
  {
   "cell_type": "code",
   "execution_count": 34,
   "metadata": {},
   "outputs": [],
   "source": [
    "trainp=model.predict(Xtrain[impcols])\n",
    "testp=model.predict(Xtest[impcols])"
   ]
  },
  {
   "cell_type": "code",
   "execution_count": 35,
   "metadata": {},
   "outputs": [
    {
     "name": "stdout",
     "output_type": "stream",
     "text": [
      "AUC: 0.8954977031202721\n",
      "accuracy: 0.9666166541635409\n",
      "recall  : 0.7958115183246073\n",
      "precision : 0.9650793650793651\n",
      "f1-score :  0.8723098995695839\n"
     ]
    }
   ],
   "source": [
    "printscores(ytrain,trainp)"
   ]
  },
  {
   "cell_type": "code",
   "execution_count": 36,
   "metadata": {},
   "outputs": [
    {
     "name": "stdout",
     "output_type": "stream",
     "text": [
      "AUC: 0.8525522163523773\n",
      "accuracy: 0.9430284857571214\n",
      "recall  : 0.7227722772277227\n",
      "precision : 0.8795180722891566\n",
      "f1-score :  0.7934782608695651\n"
     ]
    }
   ],
   "source": [
    "printscores(ytest,testp)"
   ]
  },
  {
   "cell_type": "code",
   "execution_count": 37,
   "metadata": {},
   "outputs": [
    {
     "data": {
      "text/plain": [
       "Index(['acclen', 'intplan', 'voice', 'tdmin', 'tdcal', 'tdchar', 'temin',\n",
       "       'tecahr', 'tnmin', 'tnchar', 'tical', 'tichar', 'ncsc'],\n",
       "      dtype='object')"
      ]
     },
     "execution_count": 37,
     "metadata": {},
     "output_type": "execute_result"
    }
   ],
   "source": [
    "from sklearn import feature_selection\n",
    "rfeobj=feature_selection.RFE(tree.DecisionTreeClassifier(random_state=42),n_features_to_select=13)\n",
    "rfeobj.fit(Xtrain,ytrain)\n",
    "impcols=Xtrain.columns[rfeobj.support_] \n",
    "impcols"
   ]
  },
  {
   "cell_type": "code",
   "execution_count": 38,
   "metadata": {},
   "outputs": [
    {
     "data": {
      "text/plain": [
       "GridSearchCV(cv=5, estimator=DecisionTreeClassifier(random_state=42), n_jobs=-1,\n",
       "             param_grid=[{'max_depth': [5, 6, 7, 8, 9, 10, 11, 12, 13, 14, 15,\n",
       "                                        16, 17, 18, 19, 20, 21, 22, 23, 24, 25,\n",
       "                                        26, 27, 28, 29]},\n",
       "                         {'max_depth': [5, 6, 7, 8, 9, 10, 11, 12, 13, 14, 15,\n",
       "                                        16, 17, 18, 19, 20, 21, 22, 23, 24, 25,\n",
       "                                        26, 27, 28, 29],\n",
       "                          'min_samples_split': [5, 6, 7, 8, 9, 10, 11, 12, 13,\n",
       "                                                14, 15, 16, 17, 18, 19, 20, 21,\n",
       "                                                22, 23, 24, 25, 26, 27, 28,\n",
       "                                                29]},\n",
       "                         {'min_samples_leaf': [5, 6, 7, 8, 9, 10, 11, 12, 13,\n",
       "                                               14, 15, 16, 17, 18, 19, 20, 21,\n",
       "                                               22, 23, 24, 25, 26, 27, 28, 29],\n",
       "                          'min_samples_split': [5, 6, 7, 8, 9, 10, 11, 12, 13,\n",
       "                                                14, 15, 16, 17, 18, 19, 20, 21,\n",
       "                                                22, 23, 24, 25, 26, 27, 28,\n",
       "                                                29]}],\n",
       "             scoring='recall')"
      ]
     },
     "execution_count": 38,
     "metadata": {},
     "output_type": "execute_result"
    }
   ],
   "source": [
    "grid1={\"max_depth\" : list(range(5,30))}\n",
    "grid2={ \"max_depth\": list(range(5,30)),\"min_samples_split\":list(range(5,30))}\n",
    "grid3={ \"min_samples_leaf\" : list(range(5,30)),\"min_samples_split\" :list(range(5,30))}\n",
    "paramgrid=[grid1,grid2,grid3]\n",
    "obj=model_selection.GridSearchCV(estimator=tree.DecisionTreeClassifier(random_state=42), param_grid=paramgrid, cv=5 , scoring=\"recall\",n_jobs=-1)\n",
    "obj.fit(Xtrain[impcols],ytrain)"
   ]
  },
  {
   "cell_type": "code",
   "execution_count": 39,
   "metadata": {},
   "outputs": [
    {
     "data": {
      "text/plain": [
       "{'max_depth': 13}"
      ]
     },
     "execution_count": 39,
     "metadata": {},
     "output_type": "execute_result"
    }
   ],
   "source": [
    "obj.best_params_"
   ]
  },
  {
   "cell_type": "code",
   "execution_count": 40,
   "metadata": {},
   "outputs": [
    {
     "data": {
      "text/plain": [
       "0.7302118933697881"
      ]
     },
     "execution_count": 40,
     "metadata": {},
     "output_type": "execute_result"
    }
   ],
   "source": [
    "obj.best_score_"
   ]
  },
  {
   "cell_type": "code",
   "execution_count": 41,
   "metadata": {},
   "outputs": [
    {
     "data": {
      "text/plain": [
       "DecisionTreeClassifier(max_depth=13, random_state=42)"
      ]
     },
     "execution_count": 41,
     "metadata": {},
     "output_type": "execute_result"
    }
   ],
   "source": [
    "model=tree.DecisionTreeClassifier(random_state=42,max_depth= 13)\n",
    "model.fit(Xtrain[impcols],ytrain) # Model with only max_depth=13 and 13 cols"
   ]
  },
  {
   "cell_type": "code",
   "execution_count": 42,
   "metadata": {},
   "outputs": [],
   "source": [
    "trainp=model.predict(Xtrain[impcols])\n",
    "testp=model.predict(Xtest[impcols])"
   ]
  },
  {
   "cell_type": "code",
   "execution_count": 43,
   "metadata": {},
   "outputs": [
    {
     "name": "stdout",
     "output_type": "stream",
     "text": [
      "AUC: 0.9528795811518325\n",
      "accuracy: 0.986496624156039\n",
      "recall  : 0.9057591623036649\n",
      "precision : 1.0\n",
      "f1-score :  0.9505494505494505\n"
     ]
    }
   ],
   "source": [
    "printscores(ytrain,trainp)"
   ]
  },
  {
   "cell_type": "code",
   "execution_count": 44,
   "metadata": {},
   "outputs": [
    {
     "name": "stdout",
     "output_type": "stream",
     "text": [
      "AUC: 0.8530857502711402\n",
      "accuracy: 0.9370314842578711\n",
      "recall  : 0.7326732673267327\n",
      "precision : 0.8314606741573034\n",
      "f1-score :  0.7789473684210527\n"
     ]
    }
   ],
   "source": [
    "printscores(ytest,testp)"
   ]
  },
  {
   "cell_type": "code",
   "execution_count": 45,
   "metadata": {},
   "outputs": [
    {
     "data": {
      "text/plain": [
       "Index(['intplan', 'voice', 'tdmin', 'tdcal', 'tdchar', 'temin', 'tecahr',\n",
       "       'tnmin', 'tnchar', 'tical', 'tichar', 'ncsc'],\n",
       "      dtype='object')"
      ]
     },
     "execution_count": 45,
     "metadata": {},
     "output_type": "execute_result"
    }
   ],
   "source": [
    "from sklearn import feature_selection\n",
    "rfeobj=feature_selection.RFE(tree.DecisionTreeClassifier(random_state=42),n_features_to_select=12)\n",
    "rfeobj.fit(Xtrain,ytrain)\n",
    "impcols=Xtrain.columns[rfeobj.support_] \n",
    "impcols"
   ]
  },
  {
   "cell_type": "code",
   "execution_count": 46,
   "metadata": {},
   "outputs": [
    {
     "data": {
      "text/plain": [
       "GridSearchCV(cv=5, estimator=DecisionTreeClassifier(random_state=42), n_jobs=-1,\n",
       "             param_grid=[{'max_depth': [5, 6, 7, 8, 9, 10, 11, 12, 13, 14, 15,\n",
       "                                        16, 17, 18, 19, 20, 21, 22, 23, 24, 25,\n",
       "                                        26, 27, 28, 29]},\n",
       "                         {'max_depth': [5, 6, 7, 8, 9, 10, 11, 12, 13, 14, 15,\n",
       "                                        16, 17, 18, 19, 20, 21, 22, 23, 24, 25,\n",
       "                                        26, 27, 28, 29],\n",
       "                          'min_samples_split': [5, 6, 7, 8, 9, 10, 11, 12, 13,\n",
       "                                                14, 15, 16, 17, 18, 19, 20, 21,\n",
       "                                                22, 23, 24, 25, 26, 27, 28,\n",
       "                                                29]},\n",
       "                         {'min_samples_leaf': [5, 6, 7, 8, 9, 10, 11, 12, 13,\n",
       "                                               14, 15, 16, 17, 18, 19, 20, 21,\n",
       "                                               22, 23, 24, 25, 26, 27, 28, 29],\n",
       "                          'min_samples_split': [5, 6, 7, 8, 9, 10, 11, 12, 13,\n",
       "                                                14, 15, 16, 17, 18, 19, 20, 21,\n",
       "                                                22, 23, 24, 25, 26, 27, 28,\n",
       "                                                29]}],\n",
       "             scoring='recall')"
      ]
     },
     "execution_count": 46,
     "metadata": {},
     "output_type": "execute_result"
    }
   ],
   "source": [
    "grid1={\"max_depth\" : list(range(5,30))}\n",
    "grid2={ \"max_depth\": list(range(5,30)),\"min_samples_split\":list(range(5,30))}\n",
    "grid3={ \"min_samples_leaf\" : list(range(5,30)),\"min_samples_split\" :list(range(5,30))}\n",
    "paramgrid=[grid1,grid2,grid3]\n",
    "obj=model_selection.GridSearchCV(estimator=tree.DecisionTreeClassifier(random_state=42), param_grid=paramgrid, cv=5 , scoring=\"recall\",n_jobs=-1)\n",
    "obj.fit(Xtrain[impcols],ytrain)"
   ]
  },
  {
   "cell_type": "code",
   "execution_count": 47,
   "metadata": {},
   "outputs": [
    {
     "data": {
      "text/plain": [
       "{'max_depth': 14, 'min_samples_split': 7}"
      ]
     },
     "execution_count": 47,
     "metadata": {},
     "output_type": "execute_result"
    }
   ],
   "source": [
    "obj.best_params_"
   ]
  },
  {
   "cell_type": "code",
   "execution_count": 48,
   "metadata": {},
   "outputs": [
    {
     "data": {
      "text/plain": [
       "0.738004101161996"
      ]
     },
     "execution_count": 48,
     "metadata": {},
     "output_type": "execute_result"
    }
   ],
   "source": [
    "obj.best_score_"
   ]
  },
  {
   "cell_type": "code",
   "execution_count": 49,
   "metadata": {},
   "outputs": [
    {
     "data": {
      "text/plain": [
       "DecisionTreeClassifier(max_depth=14, min_samples_split=7, random_state=42)"
      ]
     },
     "execution_count": 49,
     "metadata": {},
     "output_type": "execute_result"
    }
   ],
   "source": [
    "model=tree.DecisionTreeClassifier(random_state=42,max_depth= 14,min_samples_split=7)\n",
    "model.fit(Xtrain[impcols],ytrain) # Model with only max_depth=14,min_samples_split=7 and 12 cols"
   ]
  },
  {
   "cell_type": "code",
   "execution_count": 50,
   "metadata": {},
   "outputs": [],
   "source": [
    "trainp=model.predict(Xtrain[impcols])\n",
    "testp=model.predict(Xtest[impcols])"
   ]
  },
  {
   "cell_type": "code",
   "execution_count": 51,
   "metadata": {},
   "outputs": [
    {
     "name": "stdout",
     "output_type": "stream",
     "text": [
      "AUC: 0.9170968540541532\n",
      "accuracy: 0.9737434358589647\n",
      "recall  : 0.837696335078534\n",
      "precision : 0.975609756097561\n",
      "f1-score :  0.9014084507042254\n"
     ]
    }
   ],
   "source": [
    "printscores(ytrain,trainp)"
   ]
  },
  {
   "cell_type": "code",
   "execution_count": 52,
   "metadata": {},
   "outputs": [
    {
     "name": "stdout",
     "output_type": "stream",
     "text": [
      "AUC: 0.8674037015008921\n",
      "accuracy: 0.9475262368815592\n",
      "recall  : 0.7524752475247525\n",
      "precision : 0.8837209302325582\n",
      "f1-score :  0.8128342245989305\n"
     ]
    }
   ],
   "source": [
    "printscores(ytest,testp)"
   ]
  },
  {
   "cell_type": "code",
   "execution_count": 53,
   "metadata": {},
   "outputs": [
    {
     "data": {
      "text/plain": [
       "Index(['intplan', 'voice', 'tdmin', 'tdchar', 'temin', 'tecahr', 'tnmin',\n",
       "       'tnchar', 'tical', 'tichar', 'ncsc'],\n",
       "      dtype='object')"
      ]
     },
     "execution_count": 53,
     "metadata": {},
     "output_type": "execute_result"
    }
   ],
   "source": [
    "from sklearn import feature_selection\n",
    "rfeobj=feature_selection.RFE(tree.DecisionTreeClassifier(random_state=42),n_features_to_select=11)\n",
    "rfeobj.fit(Xtrain,ytrain)\n",
    "impcols=Xtrain.columns[rfeobj.support_] \n",
    "impcols"
   ]
  },
  {
   "cell_type": "code",
   "execution_count": 54,
   "metadata": {},
   "outputs": [
    {
     "data": {
      "text/plain": [
       "GridSearchCV(cv=5, estimator=DecisionTreeClassifier(random_state=42), n_jobs=-1,\n",
       "             param_grid=[{'max_depth': [5, 6, 7, 8, 9, 10, 11, 12, 13, 14, 15,\n",
       "                                        16, 17, 18, 19, 20, 21, 22, 23, 24, 25,\n",
       "                                        26, 27, 28, 29]},\n",
       "                         {'max_depth': [5, 6, 7, 8, 9, 10, 11, 12, 13, 14, 15,\n",
       "                                        16, 17, 18, 19, 20, 21, 22, 23, 24, 25,\n",
       "                                        26, 27, 28, 29],\n",
       "                          'min_samples_split': [5, 6, 7, 8, 9, 10, 11, 12, 13,\n",
       "                                                14, 15, 16, 17, 18, 19, 20, 21,\n",
       "                                                22, 23, 24, 25, 26, 27, 28,\n",
       "                                                29]},\n",
       "                         {'min_samples_leaf': [5, 6, 7, 8, 9, 10, 11, 12, 13,\n",
       "                                               14, 15, 16, 17, 18, 19, 20, 21,\n",
       "                                               22, 23, 24, 25, 26, 27, 28, 29],\n",
       "                          'min_samples_split': [5, 6, 7, 8, 9, 10, 11, 12, 13,\n",
       "                                                14, 15, 16, 17, 18, 19, 20, 21,\n",
       "                                                22, 23, 24, 25, 26, 27, 28,\n",
       "                                                29]}],\n",
       "             scoring='recall')"
      ]
     },
     "execution_count": 54,
     "metadata": {},
     "output_type": "execute_result"
    }
   ],
   "source": [
    "grid1={\"max_depth\" : list(range(5,30))}\n",
    "grid2={ \"max_depth\": list(range(5,30)),\"min_samples_split\":list(range(5,30))}\n",
    "grid3={ \"min_samples_leaf\" : list(range(5,30)),\"min_samples_split\" :list(range(5,30))}\n",
    "paramgrid=[grid1,grid2,grid3]\n",
    "obj=model_selection.GridSearchCV(estimator=tree.DecisionTreeClassifier(random_state=42), param_grid=paramgrid, cv=5 , scoring=\"recall\",n_jobs=-1)\n",
    "obj.fit(Xtrain[impcols],ytrain)"
   ]
  },
  {
   "cell_type": "code",
   "execution_count": 55,
   "metadata": {},
   "outputs": [
    {
     "data": {
      "text/plain": [
       "{'max_depth': 22, 'min_samples_split': 7}"
      ]
     },
     "execution_count": 55,
     "metadata": {},
     "output_type": "execute_result"
    }
   ],
   "source": [
    "obj.best_params_"
   ]
  },
  {
   "cell_type": "code",
   "execution_count": 56,
   "metadata": {},
   "outputs": [
    {
     "data": {
      "text/plain": [
       "0.7379699248120302"
      ]
     },
     "execution_count": 56,
     "metadata": {},
     "output_type": "execute_result"
    }
   ],
   "source": [
    "obj.best_score_"
   ]
  },
  {
   "cell_type": "code",
   "execution_count": 57,
   "metadata": {},
   "outputs": [
    {
     "data": {
      "text/plain": [
       "DecisionTreeClassifier(max_depth=22, min_samples_split=7, random_state=42)"
      ]
     },
     "execution_count": 57,
     "metadata": {},
     "output_type": "execute_result"
    }
   ],
   "source": [
    "model=tree.DecisionTreeClassifier(random_state=42,max_depth=22,min_samples_split=7)\n",
    "model.fit(Xtrain[impcols],ytrain) # Model with only max_depth=22,min_samples_split=7 and 11 cols"
   ]
  },
  {
   "cell_type": "code",
   "execution_count": 58,
   "metadata": {},
   "outputs": [],
   "source": [
    "trainp=model.predict(Xtrain[impcols])\n",
    "testp=model.predict(Xtest[impcols])"
   ]
  },
  {
   "cell_type": "code",
   "execution_count": 59,
   "metadata": {},
   "outputs": [
    {
     "name": "stdout",
     "output_type": "stream",
     "text": [
      "AUC: 0.9301858592897553\n",
      "accuracy: 0.9774943735933983\n",
      "recall  : 0.8638743455497382\n",
      "precision : 0.9763313609467456\n",
      "f1-score :  0.9166666666666667\n"
     ]
    }
   ],
   "source": [
    "printscores(ytrain,trainp)"
   ]
  },
  {
   "cell_type": "code",
   "execution_count": 60,
   "metadata": {},
   "outputs": [
    {
     "name": "stdout",
     "output_type": "stream",
     "text": [
      "AUC: 0.8656369170485954\n",
      "accuracy: 0.9445277361319341\n",
      "recall  : 0.7524752475247525\n",
      "precision : 0.8636363636363636\n",
      "f1-score :  0.8042328042328043\n"
     ]
    }
   ],
   "source": [
    "printscores(ytest,testp)"
   ]
  },
  {
   "cell_type": "code",
   "execution_count": 61,
   "metadata": {},
   "outputs": [
    {
     "data": {
      "text/plain": [
       "Index(['intplan', 'voice', 'tdmin', 'tdchar', 'temin', 'tecahr', 'tnmin',\n",
       "       'tical', 'tichar', 'ncsc'],\n",
       "      dtype='object')"
      ]
     },
     "execution_count": 61,
     "metadata": {},
     "output_type": "execute_result"
    }
   ],
   "source": [
    "from sklearn import feature_selection\n",
    "rfeobj=feature_selection.RFE(tree.DecisionTreeClassifier(random_state=42),n_features_to_select=10)\n",
    "rfeobj.fit(Xtrain,ytrain)\n",
    "impcols=Xtrain.columns[rfeobj.support_] \n",
    "impcols"
   ]
  },
  {
   "cell_type": "code",
   "execution_count": 62,
   "metadata": {},
   "outputs": [
    {
     "data": {
      "text/plain": [
       "GridSearchCV(cv=5, estimator=DecisionTreeClassifier(random_state=42), n_jobs=-1,\n",
       "             param_grid=[{'max_depth': [5, 6, 7, 8, 9, 10, 11, 12, 13, 14, 15,\n",
       "                                        16, 17, 18, 19, 20, 21, 22, 23, 24, 25,\n",
       "                                        26, 27, 28, 29]},\n",
       "                         {'max_depth': [5, 6, 7, 8, 9, 10, 11, 12, 13, 14, 15,\n",
       "                                        16, 17, 18, 19, 20, 21, 22, 23, 24, 25,\n",
       "                                        26, 27, 28, 29],\n",
       "                          'min_samples_split': [5, 6, 7, 8, 9, 10, 11, 12, 13,\n",
       "                                                14, 15, 16, 17, 18, 19, 20, 21,\n",
       "                                                22, 23, 24, 25, 26, 27, 28,\n",
       "                                                29]},\n",
       "                         {'min_samples_leaf': [5, 6, 7, 8, 9, 10, 11, 12, 13,\n",
       "                                               14, 15, 16, 17, 18, 19, 20, 21,\n",
       "                                               22, 23, 24, 25, 26, 27, 28, 29],\n",
       "                          'min_samples_split': [5, 6, 7, 8, 9, 10, 11, 12, 13,\n",
       "                                                14, 15, 16, 17, 18, 19, 20, 21,\n",
       "                                                22, 23, 24, 25, 26, 27, 28,\n",
       "                                                29]}],\n",
       "             scoring='recall')"
      ]
     },
     "execution_count": 62,
     "metadata": {},
     "output_type": "execute_result"
    }
   ],
   "source": [
    "grid1={\"max_depth\" : list(range(5,30))}\n",
    "grid2={ \"max_depth\": list(range(5,30)),\"min_samples_split\":list(range(5,30))}\n",
    "grid3={ \"min_samples_leaf\" : list(range(5,30)),\"min_samples_split\" :list(range(5,30))}\n",
    "paramgrid=[grid1,grid2,grid3]\n",
    "obj=model_selection.GridSearchCV(estimator=tree.DecisionTreeClassifier(random_state=42), param_grid=paramgrid, cv=5, scoring=\"recall\",n_jobs=-1)\n",
    "obj.fit(Xtrain[impcols],ytrain)"
   ]
  },
  {
   "cell_type": "code",
   "execution_count": 63,
   "metadata": {},
   "outputs": [
    {
     "data": {
      "text/plain": [
       "{'max_depth': 22, 'min_samples_split': 6}"
      ]
     },
     "execution_count": 63,
     "metadata": {},
     "output_type": "execute_result"
    }
   ],
   "source": [
    "obj.best_params_"
   ]
  },
  {
   "cell_type": "code",
   "execution_count": 64,
   "metadata": {},
   "outputs": [
    {
     "data": {
      "text/plain": [
       "0.7405673274094328"
      ]
     },
     "execution_count": 64,
     "metadata": {},
     "output_type": "execute_result"
    }
   ],
   "source": [
    "obj.best_score_"
   ]
  },
  {
   "cell_type": "code",
   "execution_count": 65,
   "metadata": {},
   "outputs": [
    {
     "data": {
      "text/plain": [
       "DecisionTreeClassifier(max_depth=22, min_samples_split=6, random_state=42)"
      ]
     },
     "execution_count": 65,
     "metadata": {},
     "output_type": "execute_result"
    }
   ],
   "source": [
    "model=tree.DecisionTreeClassifier(random_state=42,max_depth=22,min_samples_split= 6)\n",
    "model.fit(Xtrain[impcols],ytrain) # Model with only max_depth=22,min_samples_split= 6 and 10 cols"
   ]
  },
  {
   "cell_type": "code",
   "execution_count": 66,
   "metadata": {},
   "outputs": [],
   "source": [
    "trainp=model.predict(Xtrain[impcols])\n",
    "testp=model.predict(Xtest[impcols])"
   ]
  },
  {
   "cell_type": "code",
   "execution_count": 67,
   "metadata": {},
   "outputs": [
    {
     "name": "stdout",
     "output_type": "stream",
     "text": [
      "AUC: 0.9622516298218428\n",
      "accuracy: 0.9857464366091523\n",
      "recall  : 0.9293193717277487\n",
      "precision : 0.9699453551912568\n",
      "f1-score :  0.9491978609625669\n"
     ]
    }
   ],
   "source": [
    "printscores(ytrain,trainp)"
   ]
  },
  {
   "cell_type": "code",
   "execution_count": 68,
   "metadata": {},
   "outputs": [
    {
     "name": "stdout",
     "output_type": "stream",
     "text": [
      "AUC: 0.8580362453206452\n",
      "accuracy: 0.9385307346326837\n",
      "recall  : 0.7425742574257426\n",
      "precision : 0.8333333333333334\n",
      "f1-score :  0.7853403141361257\n"
     ]
    }
   ],
   "source": [
    "printscores(ytest,testp)"
   ]
  },
  {
   "cell_type": "code",
   "execution_count": 69,
   "metadata": {},
   "outputs": [
    {
     "data": {
      "text/plain": [
       "Index(['intplan', 'voice', 'tdmin', 'tdchar', 'temin', 'tnmin', 'tical',\n",
       "       'tichar', 'ncsc'],\n",
       "      dtype='object')"
      ]
     },
     "execution_count": 69,
     "metadata": {},
     "output_type": "execute_result"
    }
   ],
   "source": [
    "from sklearn import feature_selection\n",
    "rfeobj=feature_selection.RFE(tree.DecisionTreeClassifier(random_state=42),n_features_to_select=9)\n",
    "rfeobj.fit(Xtrain,ytrain)\n",
    "impcols=Xtrain.columns[rfeobj.support_] \n",
    "impcols"
   ]
  },
  {
   "cell_type": "code",
   "execution_count": 70,
   "metadata": {},
   "outputs": [
    {
     "data": {
      "text/plain": [
       "GridSearchCV(cv=5, estimator=DecisionTreeClassifier(random_state=42), n_jobs=-1,\n",
       "             param_grid=[{'max_depth': [5, 6, 7, 8, 9, 10, 11, 12, 13, 14, 15,\n",
       "                                        16, 17, 18, 19, 20, 21, 22, 23, 24, 25,\n",
       "                                        26, 27, 28, 29, 30, 31, 32, 33, 34, ...]},\n",
       "                         {'max_depth': [5, 6, 7, 8, 9, 10, 11, 12, 13, 14, 15,\n",
       "                                        16, 17, 18, 19, 20, 21, 22, 23, 24, 25,\n",
       "                                        26, 27, 28, 29, 30, 31, 32, 33, 34, ...],\n",
       "                          'min_samples_split': [5, 6, 7, 8, 9, 10, 11, 12, 13,\n",
       "                                                14, 15, 16, 17, 18, 19, 20, 21,\n",
       "                                                22, 23, 24, 25, 26, 27, 28, 29,\n",
       "                                                30, 31, 32, 33, 34, ...]},\n",
       "                         {'min_samples_leaf': [5, 6, 7, 8, 9, 10, 11, 12, 13,\n",
       "                                               14, 15, 16, 17, 18, 19, 20, 21,\n",
       "                                               22, 23, 24, 25, 26, 27, 28, 29,\n",
       "                                               30, 31, 32, 33, 34, ...],\n",
       "                          'min_samples_split': [5, 6, 7, 8, 9, 10, 11, 12, 13,\n",
       "                                                14, 15, 16, 17, 18, 19, 20, 21,\n",
       "                                                22, 23, 24, 25, 26, 27, 28, 29,\n",
       "                                                30, 31, 32, 33, 34, ...]}],\n",
       "             scoring='recall')"
      ]
     },
     "execution_count": 70,
     "metadata": {},
     "output_type": "execute_result"
    }
   ],
   "source": [
    "grid1={\"max_depth\" : list(range(5,40))}\n",
    "grid2={ \"max_depth\": list(range(5,40)),\"min_samples_split\":list(range(5,40))}\n",
    "grid3={ \"min_samples_leaf\" : list(range(5,40)),\"min_samples_split\" :list(range(5,40))}\n",
    "paramgrid=[grid1,grid2,grid3]\n",
    "obj=model_selection.GridSearchCV(estimator=tree.DecisionTreeClassifier(random_state=42), param_grid=paramgrid, cv=5 , scoring=\"recall\",n_jobs=-1)\n",
    "obj.fit(Xtrain[impcols],ytrain)"
   ]
  },
  {
   "cell_type": "code",
   "execution_count": 71,
   "metadata": {},
   "outputs": [
    {
     "data": {
      "text/plain": [
       "{'max_depth': 25, 'min_samples_split': 5}"
      ]
     },
     "execution_count": 71,
     "metadata": {},
     "output_type": "execute_result"
    }
   ],
   "source": [
    "obj.best_params_"
   ]
  },
  {
   "cell_type": "code",
   "execution_count": 72,
   "metadata": {},
   "outputs": [
    {
     "data": {
      "text/plain": [
       "0.7380382775119617"
      ]
     },
     "execution_count": 72,
     "metadata": {},
     "output_type": "execute_result"
    }
   ],
   "source": [
    "obj.best_score_"
   ]
  },
  {
   "cell_type": "code",
   "execution_count": 73,
   "metadata": {},
   "outputs": [
    {
     "data": {
      "text/plain": [
       "DecisionTreeClassifier(max_depth=25, min_samples_split=5, random_state=42)"
      ]
     },
     "execution_count": 73,
     "metadata": {},
     "output_type": "execute_result"
    }
   ],
   "source": [
    "model=tree.DecisionTreeClassifier(random_state=42,max_depth=25,min_samples_split=5)\n",
    "model.fit(Xtrain[impcols],ytrain) # Model with only max_depth=25,min_samples_split=5 and 9 cols"
   ]
  },
  {
   "cell_type": "code",
   "execution_count": 74,
   "metadata": {},
   "outputs": [],
   "source": [
    "trainp=model.predict(Xtrain[impcols])\n",
    "testp=model.predict(Xtest[impcols])"
   ]
  },
  {
   "cell_type": "code",
   "execution_count": 75,
   "metadata": {},
   "outputs": [
    {
     "name": "stdout",
     "output_type": "stream",
     "text": [
      "AUC: 0.9729417481959638\n",
      "accuracy: 0.9891222805701425\n",
      "recall  : 0.9502617801047121\n",
      "precision : 0.9731903485254692\n",
      "f1-score :  0.9615894039735098\n"
     ]
    }
   ],
   "source": [
    "printscores(ytrain,trainp)"
   ]
  },
  {
   "cell_type": "code",
   "execution_count": 76,
   "metadata": {},
   "outputs": [
    {
     "name": "stdout",
     "output_type": "stream",
     "text": [
      "AUC: 0.8638701325962985\n",
      "accuracy: 0.9415292353823088\n",
      "recall  : 0.7524752475247525\n",
      "precision : 0.8444444444444444\n",
      "f1-score :  0.7958115183246073\n"
     ]
    }
   ],
   "source": [
    "printscores(ytest,testp)"
   ]
  },
  {
   "cell_type": "code",
   "execution_count": 77,
   "metadata": {},
   "outputs": [
    {
     "data": {
      "text/plain": [
       "Index(['intplan', 'tdmin', 'tdchar', 'temin', 'tnmin', 'tical', 'tichar',\n",
       "       'ncsc'],\n",
       "      dtype='object')"
      ]
     },
     "execution_count": 77,
     "metadata": {},
     "output_type": "execute_result"
    }
   ],
   "source": [
    "from sklearn import feature_selection\n",
    "rfeobj=feature_selection.RFE(tree.DecisionTreeClassifier(random_state=42),n_features_to_select=8)\n",
    "rfeobj.fit(Xtrain,ytrain)\n",
    "impcols=Xtrain.columns[rfeobj.support_] \n",
    "impcols"
   ]
  },
  {
   "cell_type": "code",
   "execution_count": 78,
   "metadata": {},
   "outputs": [
    {
     "data": {
      "text/plain": [
       "GridSearchCV(cv=5, estimator=DecisionTreeClassifier(random_state=42), n_jobs=-1,\n",
       "             param_grid=[{'max_depth': [5, 6, 7, 8, 9, 10, 11, 12, 13, 14, 15,\n",
       "                                        16, 17, 18, 19, 20, 21, 22, 23, 24, 25,\n",
       "                                        26, 27, 28, 29, 30, 31, 32, 33, 34, ...]},\n",
       "                         {'max_depth': [5, 6, 7, 8, 9, 10, 11, 12, 13, 14, 15,\n",
       "                                        16, 17, 18, 19, 20, 21, 22, 23, 24, 25,\n",
       "                                        26, 27, 28, 29, 30, 31, 32, 33, 34, ...],\n",
       "                          'min_samples_split': [5, 6, 7, 8, 9, 10, 11, 12, 13,\n",
       "                                                14, 15, 16, 17, 18, 19, 20, 21,\n",
       "                                                22, 23, 24, 25, 26, 27, 28, 29,\n",
       "                                                30, 31, 32, 33, 34, ...]},\n",
       "                         {'min_samples_leaf': [5, 6, 7, 8, 9, 10, 11, 12, 13,\n",
       "                                               14, 15, 16, 17, 18, 19, 20, 21,\n",
       "                                               22, 23, 24, 25, 26, 27, 28, 29,\n",
       "                                               30, 31, 32, 33, 34, ...],\n",
       "                          'min_samples_split': [5, 6, 7, 8, 9, 10, 11, 12, 13,\n",
       "                                                14, 15, 16, 17, 18, 19, 20, 21,\n",
       "                                                22, 23, 24, 25, 26, 27, 28, 29,\n",
       "                                                30, 31, 32, 33, 34, ...]}],\n",
       "             scoring='recall')"
      ]
     },
     "execution_count": 78,
     "metadata": {},
     "output_type": "execute_result"
    }
   ],
   "source": [
    "grid1={\"max_depth\" : list(range(5,40))}\n",
    "grid2={ \"max_depth\": list(range(5,40)),\"min_samples_split\":list(range(5,40))}\n",
    "grid3={ \"min_samples_leaf\" : list(range(5,40)),\"min_samples_split\" :list(range(5,40))}\n",
    "paramgrid=[grid1,grid2,grid3]\n",
    "obj=model_selection.GridSearchCV(estimator=tree.DecisionTreeClassifier(random_state=42), param_grid=paramgrid, cv=5 , scoring=\"recall\",n_jobs=-1)\n",
    "obj.fit(Xtrain[impcols],ytrain)"
   ]
  },
  {
   "cell_type": "code",
   "execution_count": 79,
   "metadata": {},
   "outputs": [
    {
     "data": {
      "text/plain": [
       "{'min_samples_leaf': 5, 'min_samples_split': 5}"
      ]
     },
     "execution_count": 79,
     "metadata": {},
     "output_type": "execute_result"
    }
   ],
   "source": [
    "obj.best_params_"
   ]
  },
  {
   "cell_type": "code",
   "execution_count": 80,
   "metadata": {},
   "outputs": [
    {
     "data": {
      "text/plain": [
       "0.6934723171565278"
      ]
     },
     "execution_count": 80,
     "metadata": {},
     "output_type": "execute_result"
    }
   ],
   "source": [
    "obj.best_score_"
   ]
  },
  {
   "cell_type": "code",
   "execution_count": 81,
   "metadata": {},
   "outputs": [
    {
     "data": {
      "text/plain": [
       "DecisionTreeClassifier(min_samples_leaf=5, min_samples_split=5, random_state=42)"
      ]
     },
     "execution_count": 81,
     "metadata": {},
     "output_type": "execute_result"
    }
   ],
   "source": [
    "model=tree.DecisionTreeClassifier(random_state=42,min_samples_leaf=5,min_samples_split=5)\n",
    "model.fit(Xtrain[impcols],ytrain) # Model with only min_samples_leaf=5,min_samples_split=5 and 8 cols"
   ]
  },
  {
   "cell_type": "code",
   "execution_count": 82,
   "metadata": {},
   "outputs": [],
   "source": [
    "trainp=model.predict(Xtrain[impcols])\n",
    "testp=model.predict(Xtest[impcols])"
   ]
  },
  {
   "cell_type": "code",
   "execution_count": 83,
   "metadata": {},
   "outputs": [
    {
     "name": "stdout",
     "output_type": "stream",
     "text": [
      "AUC: 0.8765071840529611\n",
      "accuracy: 0.9564891222805701\n",
      "recall  : 0.7643979057591623\n",
      "precision : 0.9182389937106918\n",
      "f1-score :  0.8342857142857143\n"
     ]
    }
   ],
   "source": [
    "printscores(ytrain,trainp)"
   ]
  },
  {
   "cell_type": "code",
   "execution_count": 84,
   "metadata": {},
   "outputs": [
    {
     "name": "stdout",
     "output_type": "stream",
     "text": [
      "AUC: 0.8134817898751007\n",
      "accuracy: 0.9250374812593704\n",
      "recall  : 0.6534653465346535\n",
      "precision : 0.8148148148148148\n",
      "f1-score :  0.7252747252747253\n"
     ]
    }
   ],
   "source": [
    "printscores(ytest,testp)"
   ]
  },
  {
   "cell_type": "code",
   "execution_count": 85,
   "metadata": {},
   "outputs": [
    {
     "data": {
      "text/plain": [
       "Index(['tdmin', 'tdchar', 'temin', 'tnmin', 'tical', 'tichar', 'ncsc'], dtype='object')"
      ]
     },
     "execution_count": 85,
     "metadata": {},
     "output_type": "execute_result"
    }
   ],
   "source": [
    "from sklearn import feature_selection\n",
    "rfeobj=feature_selection.RFE(tree.DecisionTreeClassifier(random_state=42),n_features_to_select=7)\n",
    "rfeobj.fit(Xtrain,ytrain)\n",
    "impcols=Xtrain.columns[rfeobj.support_] \n",
    "impcols"
   ]
  },
  {
   "cell_type": "code",
   "execution_count": 86,
   "metadata": {},
   "outputs": [
    {
     "data": {
      "text/plain": [
       "GridSearchCV(cv=5, estimator=DecisionTreeClassifier(random_state=42), n_jobs=-1,\n",
       "             param_grid=[{'max_depth': [5, 6, 7, 8, 9, 10, 11, 12, 13, 14, 15,\n",
       "                                        16, 17, 18, 19, 20, 21, 22, 23, 24, 25,\n",
       "                                        26, 27, 28, 29, 30, 31, 32, 33, 34, ...]},\n",
       "                         {'max_depth': [5, 6, 7, 8, 9, 10, 11, 12, 13, 14, 15,\n",
       "                                        16, 17, 18, 19, 20, 21, 22, 23, 24, 25,\n",
       "                                        26, 27, 28, 29, 30, 31, 32, 33, 34, ...],\n",
       "                          'min_samples_split': [5, 6, 7, 8, 9, 10, 11, 12, 13,\n",
       "                                                14, 15, 16, 17, 18, 19, 20, 21,\n",
       "                                                22, 23, 24, 25, 26, 27, 28, 29,\n",
       "                                                30, 31, 32, 33, 34, ...]},\n",
       "                         {'min_samples_leaf': [5, 6, 7, 8, 9, 10, 11, 12, 13,\n",
       "                                               14, 15, 16, 17, 18, 19, 20, 21,\n",
       "                                               22, 23, 24, 25, 26, 27, 28, 29,\n",
       "                                               30, 31, 32, 33, 34, ...],\n",
       "                          'min_samples_split': [5, 6, 7, 8, 9, 10, 11, 12, 13,\n",
       "                                                14, 15, 16, 17, 18, 19, 20, 21,\n",
       "                                                22, 23, 24, 25, 26, 27, 28, 29,\n",
       "                                                30, 31, 32, 33, 34, ...]}],\n",
       "             scoring='recall')"
      ]
     },
     "execution_count": 86,
     "metadata": {},
     "output_type": "execute_result"
    }
   ],
   "source": [
    "grid1={\"max_depth\" : list(range(5,40))}\n",
    "grid2={ \"max_depth\": list(range(5,40)),\"min_samples_split\":list(range(5,40))}\n",
    "grid3={ \"min_samples_leaf\" : list(range(5,40)),\"min_samples_split\" :list(range(5,40))}\n",
    "paramgrid=[grid1,grid2,grid3]\n",
    "obj=model_selection.GridSearchCV(estimator=tree.DecisionTreeClassifier(random_state=42), param_grid=paramgrid, cv=5 , scoring=\"recall\",n_jobs=-1)\n",
    "obj.fit(Xtrain[impcols],ytrain)"
   ]
  },
  {
   "cell_type": "code",
   "execution_count": 87,
   "metadata": {},
   "outputs": [
    {
     "data": {
      "text/plain": [
       "{'max_depth': 22}"
      ]
     },
     "execution_count": 87,
     "metadata": {},
     "output_type": "execute_result"
    }
   ],
   "source": [
    "obj.best_params_"
   ]
  },
  {
   "cell_type": "code",
   "execution_count": 88,
   "metadata": {},
   "outputs": [
    {
     "data": {
      "text/plain": [
       "0.5571428571428572"
      ]
     },
     "execution_count": 88,
     "metadata": {},
     "output_type": "execute_result"
    }
   ],
   "source": [
    "obj.best_score_"
   ]
  },
  {
   "cell_type": "code",
   "execution_count": 89,
   "metadata": {},
   "outputs": [
    {
     "data": {
      "text/plain": [
       "DecisionTreeClassifier(max_depth=22, random_state=42)"
      ]
     },
     "execution_count": 89,
     "metadata": {},
     "output_type": "execute_result"
    }
   ],
   "source": [
    "model=tree.DecisionTreeClassifier(random_state=42,max_depth= 22)\n",
    "model.fit(Xtrain[impcols],ytrain) # Model with only max_depth=22 and 7 cols"
   ]
  },
  {
   "cell_type": "code",
   "execution_count": 90,
   "metadata": {},
   "outputs": [],
   "source": [
    "trainp=model.predict(Xtrain[impcols])\n",
    "testp=model.predict(Xtest[impcols])"
   ]
  },
  {
   "cell_type": "code",
   "execution_count": 91,
   "metadata": {},
   "outputs": [
    {
     "name": "stdout",
     "output_type": "stream",
     "text": [
      "AUC: 0.9947643979057592\n",
      "accuracy: 0.9984996249062266\n",
      "recall  : 0.9895287958115183\n",
      "precision : 1.0\n",
      "f1-score :  0.9947368421052631\n"
     ]
    }
   ],
   "source": [
    "printscores(ytrain,trainp)"
   ]
  },
  {
   "cell_type": "code",
   "execution_count": 92,
   "metadata": {},
   "outputs": [
    {
     "name": "stdout",
     "output_type": "stream",
     "text": [
      "AUC: 0.7079557779099465\n",
      "accuracy: 0.8425787106446777\n",
      "recall  : 0.5148514851485149\n",
      "precision : 0.48148148148148145\n",
      "f1-score :  0.4976076555023924\n"
     ]
    }
   ],
   "source": [
    "printscores(ytest,testp)"
   ]
  },
  {
   "cell_type": "code",
   "execution_count": null,
   "metadata": {},
   "outputs": [],
   "source": []
  },
  {
   "cell_type": "code",
   "execution_count": 93,
   "metadata": {},
   "outputs": [
    {
     "data": {
      "text/html": [
       "<div>\n",
       "<style scoped>\n",
       "    .dataframe tbody tr th:only-of-type {\n",
       "        vertical-align: middle;\n",
       "    }\n",
       "\n",
       "    .dataframe tbody tr th {\n",
       "        vertical-align: top;\n",
       "    }\n",
       "\n",
       "    .dataframe thead th {\n",
       "        text-align: right;\n",
       "    }\n",
       "</style>\n",
       "<table border=\"1\" class=\"dataframe\">\n",
       "  <thead>\n",
       "    <tr style=\"text-align: right;\">\n",
       "      <th></th>\n",
       "      <th>params</th>\n",
       "      <th>mean_train_score</th>\n",
       "      <th>mean_test_score</th>\n",
       "    </tr>\n",
       "  </thead>\n",
       "  <tbody>\n",
       "    <tr>\n",
       "      <th>0</th>\n",
       "      <td>{'n_features_to_select': 5}</td>\n",
       "      <td>0.675313</td>\n",
       "      <td>0.489747</td>\n",
       "    </tr>\n",
       "    <tr>\n",
       "      <th>1</th>\n",
       "      <td>{'n_features_to_select': 6}</td>\n",
       "      <td>0.773509</td>\n",
       "      <td>0.620130</td>\n",
       "    </tr>\n",
       "    <tr>\n",
       "      <th>2</th>\n",
       "      <td>{'n_features_to_select': 7}</td>\n",
       "      <td>0.795778</td>\n",
       "      <td>0.672386</td>\n",
       "    </tr>\n",
       "    <tr>\n",
       "      <th>3</th>\n",
       "      <td>{'n_features_to_select': 8}</td>\n",
       "      <td>0.797739</td>\n",
       "      <td>0.696104</td>\n",
       "    </tr>\n",
       "    <tr>\n",
       "      <th>4</th>\n",
       "      <td>{'n_features_to_select': 9}</td>\n",
       "      <td>0.799051</td>\n",
       "      <td>0.706596</td>\n",
       "    </tr>\n",
       "    <tr>\n",
       "      <th>5</th>\n",
       "      <td>{'n_features_to_select': 10}</td>\n",
       "      <td>0.799706</td>\n",
       "      <td>0.698701</td>\n",
       "    </tr>\n",
       "    <tr>\n",
       "      <th>6</th>\n",
       "      <td>{'n_features_to_select': 11}</td>\n",
       "      <td>0.799059</td>\n",
       "      <td>0.693541</td>\n",
       "    </tr>\n",
       "    <tr>\n",
       "      <th>7</th>\n",
       "      <td>{'n_features_to_select': 12}</td>\n",
       "      <td>0.798406</td>\n",
       "      <td>0.672727</td>\n",
       "    </tr>\n",
       "    <tr>\n",
       "      <th>8</th>\n",
       "      <td>{'n_features_to_select': 13}</td>\n",
       "      <td>0.797752</td>\n",
       "      <td>0.696275</td>\n",
       "    </tr>\n",
       "    <tr>\n",
       "      <th>9</th>\n",
       "      <td>{'n_features_to_select': 14}</td>\n",
       "      <td>0.798404</td>\n",
       "      <td>0.656972</td>\n",
       "    </tr>\n",
       "  </tbody>\n",
       "</table>\n",
       "</div>"
      ],
      "text/plain": [
       "                         params  mean_train_score  mean_test_score\n",
       "0   {'n_features_to_select': 5}          0.675313         0.489747\n",
       "1   {'n_features_to_select': 6}          0.773509         0.620130\n",
       "2   {'n_features_to_select': 7}          0.795778         0.672386\n",
       "3   {'n_features_to_select': 8}          0.797739         0.696104\n",
       "4   {'n_features_to_select': 9}          0.799051         0.706596\n",
       "5  {'n_features_to_select': 10}          0.799706         0.698701\n",
       "6  {'n_features_to_select': 11}          0.799059         0.693541\n",
       "7  {'n_features_to_select': 12}          0.798406         0.672727\n",
       "8  {'n_features_to_select': 13}          0.797752         0.696275\n",
       "9  {'n_features_to_select': 14}          0.798404         0.656972"
      ]
     },
     "execution_count": 93,
     "metadata": {},
     "output_type": "execute_result"
    }
   ],
   "source": [
    "from sklearn import feature_selection\n",
    "rfeobj=feature_selection.RFE(estimator=tree.DecisionTreeClassifier(max_depth=7,random_state=42))\n",
    "grid={\"n_features_to_select\":list(range(5,15))}\n",
    "gridobj=model_selection.GridSearchCV(estimator=rfeobj,param_grid=grid,cv=5,scoring=\"recall\",return_train_score=True,n_jobs=-1)\n",
    "gridobj.fit(Xtrain,ytrain)\n",
    "cvdf1=pd.DataFrame(gridobj.cv_results_)\n",
    "cvdf1[[\"params\",\"mean_train_score\",\"mean_test_score\"]]"
   ]
  },
  {
   "cell_type": "code",
   "execution_count": 94,
   "metadata": {},
   "outputs": [
    {
     "data": {
      "text/plain": [
       "{'n_features_to_select': 9}"
      ]
     },
     "execution_count": 94,
     "metadata": {},
     "output_type": "execute_result"
    }
   ],
   "source": [
    "gridobj.best_params_"
   ]
  },
  {
   "cell_type": "code",
   "execution_count": 95,
   "metadata": {},
   "outputs": [
    {
     "data": {
      "text/html": [
       "<div>\n",
       "<style scoped>\n",
       "    .dataframe tbody tr th:only-of-type {\n",
       "        vertical-align: middle;\n",
       "    }\n",
       "\n",
       "    .dataframe tbody tr th {\n",
       "        vertical-align: top;\n",
       "    }\n",
       "\n",
       "    .dataframe thead th {\n",
       "        text-align: right;\n",
       "    }\n",
       "</style>\n",
       "<table border=\"1\" class=\"dataframe\">\n",
       "  <thead>\n",
       "    <tr style=\"text-align: right;\">\n",
       "      <th></th>\n",
       "      <th>params</th>\n",
       "      <th>mean_train_score</th>\n",
       "      <th>mean_test_score</th>\n",
       "    </tr>\n",
       "  </thead>\n",
       "  <tbody>\n",
       "    <tr>\n",
       "      <th>0</th>\n",
       "      <td>{'n_features_to_select': 5}</td>\n",
       "      <td>0.654428</td>\n",
       "      <td>0.447573</td>\n",
       "    </tr>\n",
       "    <tr>\n",
       "      <th>1</th>\n",
       "      <td>{'n_features_to_select': 6}</td>\n",
       "      <td>0.772258</td>\n",
       "      <td>0.596446</td>\n",
       "    </tr>\n",
       "    <tr>\n",
       "      <th>2</th>\n",
       "      <td>{'n_features_to_select': 7}</td>\n",
       "      <td>0.796479</td>\n",
       "      <td>0.656664</td>\n",
       "    </tr>\n",
       "    <tr>\n",
       "      <th>3</th>\n",
       "      <td>{'n_features_to_select': 8}</td>\n",
       "      <td>0.837038</td>\n",
       "      <td>0.701230</td>\n",
       "    </tr>\n",
       "    <tr>\n",
       "      <th>4</th>\n",
       "      <td>{'n_features_to_select': 9}</td>\n",
       "      <td>0.840960</td>\n",
       "      <td>0.703896</td>\n",
       "    </tr>\n",
       "    <tr>\n",
       "      <th>5</th>\n",
       "      <td>{'n_features_to_select': 10}</td>\n",
       "      <td>0.840304</td>\n",
       "      <td>0.709091</td>\n",
       "    </tr>\n",
       "    <tr>\n",
       "      <th>6</th>\n",
       "      <td>{'n_features_to_select': 11}</td>\n",
       "      <td>0.842923</td>\n",
       "      <td>0.706630</td>\n",
       "    </tr>\n",
       "    <tr>\n",
       "      <th>7</th>\n",
       "      <td>{'n_features_to_select': 12}</td>\n",
       "      <td>0.837041</td>\n",
       "      <td>0.690943</td>\n",
       "    </tr>\n",
       "    <tr>\n",
       "      <th>8</th>\n",
       "      <td>{'n_features_to_select': 13}</td>\n",
       "      <td>0.839661</td>\n",
       "      <td>0.685612</td>\n",
       "    </tr>\n",
       "    <tr>\n",
       "      <th>9</th>\n",
       "      <td>{'n_features_to_select': 14}</td>\n",
       "      <td>0.839008</td>\n",
       "      <td>0.680485</td>\n",
       "    </tr>\n",
       "  </tbody>\n",
       "</table>\n",
       "</div>"
      ],
      "text/plain": [
       "                         params  mean_train_score  mean_test_score\n",
       "0   {'n_features_to_select': 5}          0.654428         0.447573\n",
       "1   {'n_features_to_select': 6}          0.772258         0.596446\n",
       "2   {'n_features_to_select': 7}          0.796479         0.656664\n",
       "3   {'n_features_to_select': 8}          0.837038         0.701230\n",
       "4   {'n_features_to_select': 9}          0.840960         0.703896\n",
       "5  {'n_features_to_select': 10}          0.840304         0.709091\n",
       "6  {'n_features_to_select': 11}          0.842923         0.706630\n",
       "7  {'n_features_to_select': 12}          0.837041         0.690943\n",
       "8  {'n_features_to_select': 13}          0.839661         0.685612\n",
       "9  {'n_features_to_select': 14}          0.839008         0.680485"
      ]
     },
     "execution_count": 95,
     "metadata": {},
     "output_type": "execute_result"
    }
   ],
   "source": [
    "from sklearn import feature_selection\n",
    "rfeobj=feature_selection.RFE(estimator=tree.DecisionTreeClassifier(max_depth=8,random_state=42))\n",
    "grid={\"n_features_to_select\":list(range(5,15))}\n",
    "gridobj=model_selection.GridSearchCV(estimator=rfeobj,param_grid=grid,cv=5,scoring=\"recall\",return_train_score=True,n_jobs=-1)\n",
    "gridobj.fit(Xtrain,ytrain)\n",
    "cvdf1=pd.DataFrame(gridobj.cv_results_)\n",
    "cvdf1[[\"params\",\"mean_train_score\",\"mean_test_score\"]]"
   ]
  },
  {
   "cell_type": "code",
   "execution_count": 96,
   "metadata": {},
   "outputs": [
    {
     "data": {
      "text/plain": [
       "{'n_features_to_select': 10}"
      ]
     },
     "execution_count": 96,
     "metadata": {},
     "output_type": "execute_result"
    }
   ],
   "source": [
    "gridobj.best_params_"
   ]
  },
  {
   "cell_type": "code",
   "execution_count": 97,
   "metadata": {},
   "outputs": [
    {
     "data": {
      "text/html": [
       "<div>\n",
       "<style scoped>\n",
       "    .dataframe tbody tr th:only-of-type {\n",
       "        vertical-align: middle;\n",
       "    }\n",
       "\n",
       "    .dataframe tbody tr th {\n",
       "        vertical-align: top;\n",
       "    }\n",
       "\n",
       "    .dataframe thead th {\n",
       "        text-align: right;\n",
       "    }\n",
       "</style>\n",
       "<table border=\"1\" class=\"dataframe\">\n",
       "  <thead>\n",
       "    <tr style=\"text-align: right;\">\n",
       "      <th></th>\n",
       "      <th>params</th>\n",
       "      <th>mean_train_score</th>\n",
       "      <th>mean_test_score</th>\n",
       "    </tr>\n",
       "  </thead>\n",
       "  <tbody>\n",
       "    <tr>\n",
       "      <th>0</th>\n",
       "      <td>{'n_features_to_select': 5}</td>\n",
       "      <td>0.695635</td>\n",
       "      <td>0.457997</td>\n",
       "    </tr>\n",
       "    <tr>\n",
       "      <th>1</th>\n",
       "      <td>{'n_features_to_select': 6}</td>\n",
       "      <td>0.753215</td>\n",
       "      <td>0.518250</td>\n",
       "    </tr>\n",
       "    <tr>\n",
       "      <th>2</th>\n",
       "      <td>{'n_features_to_select': 7}</td>\n",
       "      <td>0.817364</td>\n",
       "      <td>0.607382</td>\n",
       "    </tr>\n",
       "    <tr>\n",
       "      <th>3</th>\n",
       "      <td>{'n_features_to_select': 8}</td>\n",
       "      <td>0.838337</td>\n",
       "      <td>0.664696</td>\n",
       "    </tr>\n",
       "    <tr>\n",
       "      <th>4</th>\n",
       "      <td>{'n_features_to_select': 9}</td>\n",
       "      <td>0.852097</td>\n",
       "      <td>0.690602</td>\n",
       "    </tr>\n",
       "    <tr>\n",
       "      <th>5</th>\n",
       "      <td>{'n_features_to_select': 10}</td>\n",
       "      <td>0.861903</td>\n",
       "      <td>0.716986</td>\n",
       "    </tr>\n",
       "    <tr>\n",
       "      <th>6</th>\n",
       "      <td>{'n_features_to_select': 11}</td>\n",
       "      <td>0.865171</td>\n",
       "      <td>0.714388</td>\n",
       "    </tr>\n",
       "    <tr>\n",
       "      <th>7</th>\n",
       "      <td>{'n_features_to_select': 12}</td>\n",
       "      <td>0.863862</td>\n",
       "      <td>0.714422</td>\n",
       "    </tr>\n",
       "    <tr>\n",
       "      <th>8</th>\n",
       "      <td>{'n_features_to_select': 13}</td>\n",
       "      <td>0.866480</td>\n",
       "      <td>0.711859</td>\n",
       "    </tr>\n",
       "    <tr>\n",
       "      <th>9</th>\n",
       "      <td>{'n_features_to_select': 14}</td>\n",
       "      <td>0.867134</td>\n",
       "      <td>0.696138</td>\n",
       "    </tr>\n",
       "  </tbody>\n",
       "</table>\n",
       "</div>"
      ],
      "text/plain": [
       "                         params  mean_train_score  mean_test_score\n",
       "0   {'n_features_to_select': 5}          0.695635         0.457997\n",
       "1   {'n_features_to_select': 6}          0.753215         0.518250\n",
       "2   {'n_features_to_select': 7}          0.817364         0.607382\n",
       "3   {'n_features_to_select': 8}          0.838337         0.664696\n",
       "4   {'n_features_to_select': 9}          0.852097         0.690602\n",
       "5  {'n_features_to_select': 10}          0.861903         0.716986\n",
       "6  {'n_features_to_select': 11}          0.865171         0.714388\n",
       "7  {'n_features_to_select': 12}          0.863862         0.714422\n",
       "8  {'n_features_to_select': 13}          0.866480         0.711859\n",
       "9  {'n_features_to_select': 14}          0.867134         0.696138"
      ]
     },
     "execution_count": 97,
     "metadata": {},
     "output_type": "execute_result"
    }
   ],
   "source": [
    "from sklearn import feature_selection\n",
    "rfeobj=feature_selection.RFE(estimator=tree.DecisionTreeClassifier(max_depth=9,random_state=42))\n",
    "grid={\"n_features_to_select\":list(range(5,15))}\n",
    "gridobj=model_selection.GridSearchCV(estimator=rfeobj,param_grid=grid,cv=5,scoring=\"recall\",return_train_score=True,n_jobs=-1)\n",
    "gridobj.fit(Xtrain,ytrain)\n",
    "cvdf1=pd.DataFrame(gridobj.cv_results_)\n",
    "cvdf1[[\"params\",\"mean_train_score\",\"mean_test_score\"]]"
   ]
  },
  {
   "cell_type": "code",
   "execution_count": 98,
   "metadata": {},
   "outputs": [
    {
     "data": {
      "text/plain": [
       "{'n_features_to_select': 10}"
      ]
     },
     "execution_count": 98,
     "metadata": {},
     "output_type": "execute_result"
    }
   ],
   "source": [
    "gridobj.best_params_"
   ]
  },
  {
   "cell_type": "code",
   "execution_count": 99,
   "metadata": {},
   "outputs": [
    {
     "data": {
      "text/html": [
       "<div>\n",
       "<style scoped>\n",
       "    .dataframe tbody tr th:only-of-type {\n",
       "        vertical-align: middle;\n",
       "    }\n",
       "\n",
       "    .dataframe tbody tr th {\n",
       "        vertical-align: top;\n",
       "    }\n",
       "\n",
       "    .dataframe thead th {\n",
       "        text-align: right;\n",
       "    }\n",
       "</style>\n",
       "<table border=\"1\" class=\"dataframe\">\n",
       "  <thead>\n",
       "    <tr style=\"text-align: right;\">\n",
       "      <th></th>\n",
       "      <th>params</th>\n",
       "      <th>mean_train_score</th>\n",
       "      <th>mean_test_score</th>\n",
       "    </tr>\n",
       "  </thead>\n",
       "  <tbody>\n",
       "    <tr>\n",
       "      <th>0</th>\n",
       "      <td>{'n_features_to_select': 5}</td>\n",
       "      <td>0.753254</td>\n",
       "      <td>0.504990</td>\n",
       "    </tr>\n",
       "    <tr>\n",
       "      <th>1</th>\n",
       "      <td>{'n_features_to_select': 6}</td>\n",
       "      <td>0.819340</td>\n",
       "      <td>0.554853</td>\n",
       "    </tr>\n",
       "    <tr>\n",
       "      <th>2</th>\n",
       "      <td>{'n_features_to_select': 7}</td>\n",
       "      <td>0.858633</td>\n",
       "      <td>0.651504</td>\n",
       "    </tr>\n",
       "    <tr>\n",
       "      <th>3</th>\n",
       "      <td>{'n_features_to_select': 8}</td>\n",
       "      <td>0.867140</td>\n",
       "      <td>0.688175</td>\n",
       "    </tr>\n",
       "    <tr>\n",
       "      <th>4</th>\n",
       "      <td>{'n_features_to_select': 9}</td>\n",
       "      <td>0.871068</td>\n",
       "      <td>0.690738</td>\n",
       "    </tr>\n",
       "    <tr>\n",
       "      <th>5</th>\n",
       "      <td>{'n_features_to_select': 10}</td>\n",
       "      <td>0.872375</td>\n",
       "      <td>0.716951</td>\n",
       "    </tr>\n",
       "    <tr>\n",
       "      <th>6</th>\n",
       "      <td>{'n_features_to_select': 11}</td>\n",
       "      <td>0.871068</td>\n",
       "      <td>0.701333</td>\n",
       "    </tr>\n",
       "    <tr>\n",
       "      <th>7</th>\n",
       "      <td>{'n_features_to_select': 12}</td>\n",
       "      <td>0.878918</td>\n",
       "      <td>0.704067</td>\n",
       "    </tr>\n",
       "    <tr>\n",
       "      <th>8</th>\n",
       "      <td>{'n_features_to_select': 13}</td>\n",
       "      <td>0.882190</td>\n",
       "      <td>0.704135</td>\n",
       "    </tr>\n",
       "    <tr>\n",
       "      <th>9</th>\n",
       "      <td>{'n_features_to_select': 14}</td>\n",
       "      <td>0.880229</td>\n",
       "      <td>0.698872</td>\n",
       "    </tr>\n",
       "  </tbody>\n",
       "</table>\n",
       "</div>"
      ],
      "text/plain": [
       "                         params  mean_train_score  mean_test_score\n",
       "0   {'n_features_to_select': 5}          0.753254         0.504990\n",
       "1   {'n_features_to_select': 6}          0.819340         0.554853\n",
       "2   {'n_features_to_select': 7}          0.858633         0.651504\n",
       "3   {'n_features_to_select': 8}          0.867140         0.688175\n",
       "4   {'n_features_to_select': 9}          0.871068         0.690738\n",
       "5  {'n_features_to_select': 10}          0.872375         0.716951\n",
       "6  {'n_features_to_select': 11}          0.871068         0.701333\n",
       "7  {'n_features_to_select': 12}          0.878918         0.704067\n",
       "8  {'n_features_to_select': 13}          0.882190         0.704135\n",
       "9  {'n_features_to_select': 14}          0.880229         0.698872"
      ]
     },
     "execution_count": 99,
     "metadata": {},
     "output_type": "execute_result"
    }
   ],
   "source": [
    "from sklearn import feature_selection\n",
    "rfeobj=feature_selection.RFE(estimator=tree.DecisionTreeClassifier(max_depth=10,random_state=42))\n",
    "grid={\"n_features_to_select\":list(range(5,15))}\n",
    "gridobj=model_selection.GridSearchCV(estimator=rfeobj,param_grid=grid,cv=5,scoring=\"recall\",return_train_score=True,n_jobs=-1)\n",
    "gridobj.fit(Xtrain,ytrain)\n",
    "cvdf=pd.DataFrame(gridobj.cv_results_)\n",
    "cvdf[[\"params\",\"mean_train_score\",\"mean_test_score\"]]"
   ]
  },
  {
   "cell_type": "code",
   "execution_count": 100,
   "metadata": {},
   "outputs": [
    {
     "data": {
      "text/plain": [
       "{'n_features_to_select': 10}"
      ]
     },
     "execution_count": 100,
     "metadata": {},
     "output_type": "execute_result"
    }
   ],
   "source": [
    "gridobj.best_params_"
   ]
  },
  {
   "cell_type": "code",
   "execution_count": 101,
   "metadata": {},
   "outputs": [
    {
     "data": {
      "text/html": [
       "<div>\n",
       "<style scoped>\n",
       "    .dataframe tbody tr th:only-of-type {\n",
       "        vertical-align: middle;\n",
       "    }\n",
       "\n",
       "    .dataframe tbody tr th {\n",
       "        vertical-align: top;\n",
       "    }\n",
       "\n",
       "    .dataframe thead th {\n",
       "        text-align: right;\n",
       "    }\n",
       "</style>\n",
       "<table border=\"1\" class=\"dataframe\">\n",
       "  <thead>\n",
       "    <tr style=\"text-align: right;\">\n",
       "      <th></th>\n",
       "      <th>params</th>\n",
       "      <th>mean_train_score</th>\n",
       "      <th>mean_test_score</th>\n",
       "    </tr>\n",
       "  </thead>\n",
       "  <tbody>\n",
       "    <tr>\n",
       "      <th>0</th>\n",
       "      <td>{'n_features_to_select': 5}</td>\n",
       "      <td>0.811437</td>\n",
       "      <td>0.536671</td>\n",
       "    </tr>\n",
       "    <tr>\n",
       "      <th>1</th>\n",
       "      <td>{'n_features_to_select': 6}</td>\n",
       "      <td>0.847468</td>\n",
       "      <td>0.565584</td>\n",
       "    </tr>\n",
       "    <tr>\n",
       "      <th>2</th>\n",
       "      <td>{'n_features_to_select': 7}</td>\n",
       "      <td>0.882846</td>\n",
       "      <td>0.651743</td>\n",
       "    </tr>\n",
       "    <tr>\n",
       "      <th>3</th>\n",
       "      <td>{'n_features_to_select': 8}</td>\n",
       "      <td>0.884155</td>\n",
       "      <td>0.701299</td>\n",
       "    </tr>\n",
       "    <tr>\n",
       "      <th>4</th>\n",
       "      <td>{'n_features_to_select': 9}</td>\n",
       "      <td>0.886120</td>\n",
       "      <td>0.698633</td>\n",
       "    </tr>\n",
       "    <tr>\n",
       "      <th>5</th>\n",
       "      <td>{'n_features_to_select': 10}</td>\n",
       "      <td>0.886774</td>\n",
       "      <td>0.719651</td>\n",
       "    </tr>\n",
       "    <tr>\n",
       "      <th>6</th>\n",
       "      <td>{'n_features_to_select': 11}</td>\n",
       "      <td>0.892005</td>\n",
       "      <td>0.711791</td>\n",
       "    </tr>\n",
       "    <tr>\n",
       "      <th>7</th>\n",
       "      <td>{'n_features_to_select': 12}</td>\n",
       "      <td>0.891351</td>\n",
       "      <td>0.703999</td>\n",
       "    </tr>\n",
       "    <tr>\n",
       "      <th>8</th>\n",
       "      <td>{'n_features_to_select': 13}</td>\n",
       "      <td>0.894628</td>\n",
       "      <td>0.709296</td>\n",
       "    </tr>\n",
       "    <tr>\n",
       "      <th>9</th>\n",
       "      <td>{'n_features_to_select': 14}</td>\n",
       "      <td>0.899859</td>\n",
       "      <td>0.701504</td>\n",
       "    </tr>\n",
       "  </tbody>\n",
       "</table>\n",
       "</div>"
      ],
      "text/plain": [
       "                         params  mean_train_score  mean_test_score\n",
       "0   {'n_features_to_select': 5}          0.811437         0.536671\n",
       "1   {'n_features_to_select': 6}          0.847468         0.565584\n",
       "2   {'n_features_to_select': 7}          0.882846         0.651743\n",
       "3   {'n_features_to_select': 8}          0.884155         0.701299\n",
       "4   {'n_features_to_select': 9}          0.886120         0.698633\n",
       "5  {'n_features_to_select': 10}          0.886774         0.719651\n",
       "6  {'n_features_to_select': 11}          0.892005         0.711791\n",
       "7  {'n_features_to_select': 12}          0.891351         0.703999\n",
       "8  {'n_features_to_select': 13}          0.894628         0.709296\n",
       "9  {'n_features_to_select': 14}          0.899859         0.701504"
      ]
     },
     "execution_count": 101,
     "metadata": {},
     "output_type": "execute_result"
    }
   ],
   "source": [
    "from sklearn import feature_selection\n",
    "rfeobj=feature_selection.RFE(estimator=tree.DecisionTreeClassifier(max_depth=11,random_state=42))\n",
    "grid={\"n_features_to_select\":list(range(5,15))}\n",
    "gridobj=model_selection.GridSearchCV(estimator=rfeobj,param_grid=grid,cv=5,scoring=\"recall\",return_train_score=True,n_jobs=-1)\n",
    "gridobj.fit(Xtrain,ytrain)\n",
    "cvdf=pd.DataFrame(gridobj.cv_results_)\n",
    "cvdf[[\"params\",\"mean_train_score\",\"mean_test_score\"]]"
   ]
  },
  {
   "cell_type": "code",
   "execution_count": 102,
   "metadata": {},
   "outputs": [
    {
     "data": {
      "text/plain": [
       "{'n_features_to_select': 10}"
      ]
     },
     "execution_count": 102,
     "metadata": {},
     "output_type": "execute_result"
    }
   ],
   "source": [
    "gridobj.best_params_"
   ]
  },
  {
   "cell_type": "code",
   "execution_count": 103,
   "metadata": {},
   "outputs": [
    {
     "data": {
      "text/html": [
       "<div>\n",
       "<style scoped>\n",
       "    .dataframe tbody tr th:only-of-type {\n",
       "        vertical-align: middle;\n",
       "    }\n",
       "\n",
       "    .dataframe tbody tr th {\n",
       "        vertical-align: top;\n",
       "    }\n",
       "\n",
       "    .dataframe thead th {\n",
       "        text-align: right;\n",
       "    }\n",
       "</style>\n",
       "<table border=\"1\" class=\"dataframe\">\n",
       "  <thead>\n",
       "    <tr style=\"text-align: right;\">\n",
       "      <th></th>\n",
       "      <th>params</th>\n",
       "      <th>mean_train_score</th>\n",
       "      <th>mean_test_score</th>\n",
       "    </tr>\n",
       "  </thead>\n",
       "  <tbody>\n",
       "    <tr>\n",
       "      <th>0</th>\n",
       "      <td>{'n_features_to_select': 5}</td>\n",
       "      <td>0.840249</td>\n",
       "      <td>0.499795</td>\n",
       "    </tr>\n",
       "    <tr>\n",
       "      <th>1</th>\n",
       "      <td>{'n_features_to_select': 6}</td>\n",
       "      <td>0.893940</td>\n",
       "      <td>0.560390</td>\n",
       "    </tr>\n",
       "    <tr>\n",
       "      <th>2</th>\n",
       "      <td>{'n_features_to_select': 7}</td>\n",
       "      <td>0.901155</td>\n",
       "      <td>0.662235</td>\n",
       "    </tr>\n",
       "    <tr>\n",
       "      <th>3</th>\n",
       "      <td>{'n_features_to_select': 8}</td>\n",
       "      <td>0.907710</td>\n",
       "      <td>0.682878</td>\n",
       "    </tr>\n",
       "    <tr>\n",
       "      <th>4</th>\n",
       "      <td>{'n_features_to_select': 9}</td>\n",
       "      <td>0.903789</td>\n",
       "      <td>0.696070</td>\n",
       "    </tr>\n",
       "    <tr>\n",
       "      <th>5</th>\n",
       "      <td>{'n_features_to_select': 10}</td>\n",
       "      <td>0.903789</td>\n",
       "      <td>0.717088</td>\n",
       "    </tr>\n",
       "    <tr>\n",
       "      <th>6</th>\n",
       "      <td>{'n_features_to_select': 11}</td>\n",
       "      <td>0.905096</td>\n",
       "      <td>0.727546</td>\n",
       "    </tr>\n",
       "    <tr>\n",
       "      <th>7</th>\n",
       "      <td>{'n_features_to_select': 12}</td>\n",
       "      <td>0.905754</td>\n",
       "      <td>0.696241</td>\n",
       "    </tr>\n",
       "    <tr>\n",
       "      <th>8</th>\n",
       "      <td>{'n_features_to_select': 13}</td>\n",
       "      <td>0.909022</td>\n",
       "      <td>0.696172</td>\n",
       "    </tr>\n",
       "    <tr>\n",
       "      <th>9</th>\n",
       "      <td>{'n_features_to_select': 14}</td>\n",
       "      <td>0.912948</td>\n",
       "      <td>0.685748</td>\n",
       "    </tr>\n",
       "  </tbody>\n",
       "</table>\n",
       "</div>"
      ],
      "text/plain": [
       "                         params  mean_train_score  mean_test_score\n",
       "0   {'n_features_to_select': 5}          0.840249         0.499795\n",
       "1   {'n_features_to_select': 6}          0.893940         0.560390\n",
       "2   {'n_features_to_select': 7}          0.901155         0.662235\n",
       "3   {'n_features_to_select': 8}          0.907710         0.682878\n",
       "4   {'n_features_to_select': 9}          0.903789         0.696070\n",
       "5  {'n_features_to_select': 10}          0.903789         0.717088\n",
       "6  {'n_features_to_select': 11}          0.905096         0.727546\n",
       "7  {'n_features_to_select': 12}          0.905754         0.696241\n",
       "8  {'n_features_to_select': 13}          0.909022         0.696172\n",
       "9  {'n_features_to_select': 14}          0.912948         0.685748"
      ]
     },
     "execution_count": 103,
     "metadata": {},
     "output_type": "execute_result"
    }
   ],
   "source": [
    "from sklearn import feature_selection\n",
    "rfeobj=feature_selection.RFE(estimator=tree.DecisionTreeClassifier(max_depth=12,random_state=42))\n",
    "grid={\"n_features_to_select\":list(range(5,15))}\n",
    "gridobj=model_selection.GridSearchCV(estimator=rfeobj,param_grid=grid,cv=5,scoring=\"recall\",return_train_score=True,n_jobs=-1)\n",
    "gridobj.fit(Xtrain,ytrain)\n",
    "cvdf=pd.DataFrame(gridobj.cv_results_)\n",
    "cvdf[[\"params\",\"mean_train_score\",\"mean_test_score\"]]"
   ]
  },
  {
   "cell_type": "code",
   "execution_count": 104,
   "metadata": {},
   "outputs": [
    {
     "data": {
      "text/plain": [
       "{'n_features_to_select': 11}"
      ]
     },
     "execution_count": 104,
     "metadata": {},
     "output_type": "execute_result"
    }
   ],
   "source": [
    "gridobj.best_params_"
   ]
  },
  {
   "cell_type": "code",
   "execution_count": 105,
   "metadata": {},
   "outputs": [
    {
     "data": {
      "text/html": [
       "<div>\n",
       "<style scoped>\n",
       "    .dataframe tbody tr th:only-of-type {\n",
       "        vertical-align: middle;\n",
       "    }\n",
       "\n",
       "    .dataframe tbody tr th {\n",
       "        vertical-align: top;\n",
       "    }\n",
       "\n",
       "    .dataframe thead th {\n",
       "        text-align: right;\n",
       "    }\n",
       "</style>\n",
       "<table border=\"1\" class=\"dataframe\">\n",
       "  <thead>\n",
       "    <tr style=\"text-align: right;\">\n",
       "      <th></th>\n",
       "      <th>params</th>\n",
       "      <th>mean_train_score</th>\n",
       "      <th>mean_test_score</th>\n",
       "    </tr>\n",
       "  </thead>\n",
       "  <tbody>\n",
       "    <tr>\n",
       "      <th>0</th>\n",
       "      <td>{'n_features_to_select': 5}</td>\n",
       "      <td>0.883527</td>\n",
       "      <td>0.518250</td>\n",
       "    </tr>\n",
       "    <tr>\n",
       "      <th>1</th>\n",
       "      <td>{'n_features_to_select': 6}</td>\n",
       "      <td>0.901843</td>\n",
       "      <td>0.601470</td>\n",
       "    </tr>\n",
       "    <tr>\n",
       "      <th>2</th>\n",
       "      <td>{'n_features_to_select': 7}</td>\n",
       "      <td>0.924067</td>\n",
       "      <td>0.635475</td>\n",
       "    </tr>\n",
       "    <tr>\n",
       "      <th>3</th>\n",
       "      <td>{'n_features_to_select': 8}</td>\n",
       "      <td>0.921451</td>\n",
       "      <td>0.677649</td>\n",
       "    </tr>\n",
       "    <tr>\n",
       "      <th>4</th>\n",
       "      <td>{'n_features_to_select': 9}</td>\n",
       "      <td>0.920144</td>\n",
       "      <td>0.701299</td>\n",
       "    </tr>\n",
       "    <tr>\n",
       "      <th>5</th>\n",
       "      <td>{'n_features_to_select': 10}</td>\n",
       "      <td>0.923414</td>\n",
       "      <td>0.730212</td>\n",
       "    </tr>\n",
       "    <tr>\n",
       "      <th>6</th>\n",
       "      <td>{'n_features_to_select': 11}</td>\n",
       "      <td>0.921451</td>\n",
       "      <td>0.719651</td>\n",
       "    </tr>\n",
       "    <tr>\n",
       "      <th>7</th>\n",
       "      <td>{'n_features_to_select': 12}</td>\n",
       "      <td>0.923416</td>\n",
       "      <td>0.727512</td>\n",
       "    </tr>\n",
       "    <tr>\n",
       "      <th>8</th>\n",
       "      <td>{'n_features_to_select': 13}</td>\n",
       "      <td>0.920150</td>\n",
       "      <td>0.706664</td>\n",
       "    </tr>\n",
       "    <tr>\n",
       "      <th>9</th>\n",
       "      <td>{'n_features_to_select': 14}</td>\n",
       "      <td>0.928649</td>\n",
       "      <td>0.706596</td>\n",
       "    </tr>\n",
       "  </tbody>\n",
       "</table>\n",
       "</div>"
      ],
      "text/plain": [
       "                         params  mean_train_score  mean_test_score\n",
       "0   {'n_features_to_select': 5}          0.883527         0.518250\n",
       "1   {'n_features_to_select': 6}          0.901843         0.601470\n",
       "2   {'n_features_to_select': 7}          0.924067         0.635475\n",
       "3   {'n_features_to_select': 8}          0.921451         0.677649\n",
       "4   {'n_features_to_select': 9}          0.920144         0.701299\n",
       "5  {'n_features_to_select': 10}          0.923414         0.730212\n",
       "6  {'n_features_to_select': 11}          0.921451         0.719651\n",
       "7  {'n_features_to_select': 12}          0.923416         0.727512\n",
       "8  {'n_features_to_select': 13}          0.920150         0.706664\n",
       "9  {'n_features_to_select': 14}          0.928649         0.706596"
      ]
     },
     "execution_count": 105,
     "metadata": {},
     "output_type": "execute_result"
    }
   ],
   "source": [
    "from sklearn import feature_selection\n",
    "rfeobj=feature_selection.RFE(estimator=tree.DecisionTreeClassifier(max_depth=13,random_state=42))\n",
    "grid={\"n_features_to_select\":list(range(5,15))}\n",
    "gridobj=model_selection.GridSearchCV(estimator=rfeobj,param_grid=grid,cv=5,scoring=\"recall\",return_train_score=True,n_jobs=-1)\n",
    "gridobj.fit(Xtrain,ytrain)\n",
    "cvdf=pd.DataFrame(gridobj.cv_results_)\n",
    "cvdf[[\"params\",\"mean_train_score\",\"mean_test_score\"]]"
   ]
  },
  {
   "cell_type": "code",
   "execution_count": 106,
   "metadata": {},
   "outputs": [
    {
     "data": {
      "text/plain": [
       "{'n_features_to_select': 10}"
      ]
     },
     "execution_count": 106,
     "metadata": {},
     "output_type": "execute_result"
    }
   ],
   "source": [
    "gridobj.best_params_"
   ]
  },
  {
   "cell_type": "code",
   "execution_count": 107,
   "metadata": {},
   "outputs": [
    {
     "data": {
      "text/html": [
       "<div>\n",
       "<style scoped>\n",
       "    .dataframe tbody tr th:only-of-type {\n",
       "        vertical-align: middle;\n",
       "    }\n",
       "\n",
       "    .dataframe tbody tr th {\n",
       "        vertical-align: top;\n",
       "    }\n",
       "\n",
       "    .dataframe thead th {\n",
       "        text-align: right;\n",
       "    }\n",
       "</style>\n",
       "<table border=\"1\" class=\"dataframe\">\n",
       "  <thead>\n",
       "    <tr style=\"text-align: right;\">\n",
       "      <th></th>\n",
       "      <th>params</th>\n",
       "      <th>mean_train_score</th>\n",
       "      <th>mean_test_score</th>\n",
       "    </tr>\n",
       "  </thead>\n",
       "  <tbody>\n",
       "    <tr>\n",
       "      <th>0</th>\n",
       "      <td>{'n_features_to_select': 5}</td>\n",
       "      <td>0.910970</td>\n",
       "      <td>0.507553</td>\n",
       "    </tr>\n",
       "    <tr>\n",
       "      <th>1</th>\n",
       "      <td>{'n_features_to_select': 6}</td>\n",
       "      <td>0.927372</td>\n",
       "      <td>0.552051</td>\n",
       "    </tr>\n",
       "    <tr>\n",
       "      <th>2</th>\n",
       "      <td>{'n_features_to_select': 7}</td>\n",
       "      <td>0.936492</td>\n",
       "      <td>0.640943</td>\n",
       "    </tr>\n",
       "    <tr>\n",
       "      <th>3</th>\n",
       "      <td>{'n_features_to_select': 8}</td>\n",
       "      <td>0.937799</td>\n",
       "      <td>0.680280</td>\n",
       "    </tr>\n",
       "    <tr>\n",
       "      <th>4</th>\n",
       "      <td>{'n_features_to_select': 9}</td>\n",
       "      <td>0.931917</td>\n",
       "      <td>0.714422</td>\n",
       "    </tr>\n",
       "    <tr>\n",
       "      <th>5</th>\n",
       "      <td>{'n_features_to_select': 10}</td>\n",
       "      <td>0.931263</td>\n",
       "      <td>0.730212</td>\n",
       "    </tr>\n",
       "    <tr>\n",
       "      <th>6</th>\n",
       "      <td>{'n_features_to_select': 11}</td>\n",
       "      <td>0.934544</td>\n",
       "      <td>0.714422</td>\n",
       "    </tr>\n",
       "    <tr>\n",
       "      <th>7</th>\n",
       "      <td>{'n_features_to_select': 12}</td>\n",
       "      <td>0.929313</td>\n",
       "      <td>0.706733</td>\n",
       "    </tr>\n",
       "    <tr>\n",
       "      <th>8</th>\n",
       "      <td>{'n_features_to_select': 13}</td>\n",
       "      <td>0.933893</td>\n",
       "      <td>0.711962</td>\n",
       "    </tr>\n",
       "    <tr>\n",
       "      <th>9</th>\n",
       "      <td>{'n_features_to_select': 14}</td>\n",
       "      <td>0.935849</td>\n",
       "      <td>0.693643</td>\n",
       "    </tr>\n",
       "  </tbody>\n",
       "</table>\n",
       "</div>"
      ],
      "text/plain": [
       "                         params  mean_train_score  mean_test_score\n",
       "0   {'n_features_to_select': 5}          0.910970         0.507553\n",
       "1   {'n_features_to_select': 6}          0.927372         0.552051\n",
       "2   {'n_features_to_select': 7}          0.936492         0.640943\n",
       "3   {'n_features_to_select': 8}          0.937799         0.680280\n",
       "4   {'n_features_to_select': 9}          0.931917         0.714422\n",
       "5  {'n_features_to_select': 10}          0.931263         0.730212\n",
       "6  {'n_features_to_select': 11}          0.934544         0.714422\n",
       "7  {'n_features_to_select': 12}          0.929313         0.706733\n",
       "8  {'n_features_to_select': 13}          0.933893         0.711962\n",
       "9  {'n_features_to_select': 14}          0.935849         0.693643"
      ]
     },
     "execution_count": 107,
     "metadata": {},
     "output_type": "execute_result"
    }
   ],
   "source": [
    "from sklearn import feature_selection\n",
    "rfeobj=feature_selection.RFE(estimator=tree.DecisionTreeClassifier(max_depth=14,random_state=42))\n",
    "grid={\"n_features_to_select\":list(range(5,15))}\n",
    "gridobj=model_selection.GridSearchCV(estimator=rfeobj,param_grid=grid,cv=5,scoring=\"recall\",return_train_score=True,n_jobs=-1)\n",
    "gridobj.fit(Xtrain,ytrain)\n",
    "cvdf=pd.DataFrame(gridobj.cv_results_)\n",
    "cvdf[[\"params\",\"mean_train_score\",\"mean_test_score\"]]"
   ]
  },
  {
   "cell_type": "code",
   "execution_count": 108,
   "metadata": {},
   "outputs": [
    {
     "data": {
      "text/plain": [
       "{'n_features_to_select': 10}"
      ]
     },
     "execution_count": 108,
     "metadata": {},
     "output_type": "execute_result"
    }
   ],
   "source": [
    "gridobj.best_params_"
   ]
  },
  {
   "cell_type": "code",
   "execution_count": 109,
   "metadata": {},
   "outputs": [
    {
     "data": {
      "text/html": [
       "<div>\n",
       "<style scoped>\n",
       "    .dataframe tbody tr th:only-of-type {\n",
       "        vertical-align: middle;\n",
       "    }\n",
       "\n",
       "    .dataframe tbody tr th {\n",
       "        vertical-align: top;\n",
       "    }\n",
       "\n",
       "    .dataframe thead th {\n",
       "        text-align: right;\n",
       "    }\n",
       "</style>\n",
       "<table border=\"1\" class=\"dataframe\">\n",
       "  <thead>\n",
       "    <tr style=\"text-align: right;\">\n",
       "      <th></th>\n",
       "      <th>params</th>\n",
       "      <th>mean_train_score</th>\n",
       "      <th>mean_test_score</th>\n",
       "    </tr>\n",
       "  </thead>\n",
       "  <tbody>\n",
       "    <tr>\n",
       "      <th>0</th>\n",
       "      <td>{'n_features_to_select': 5}</td>\n",
       "      <td>0.912963</td>\n",
       "      <td>0.541661</td>\n",
       "    </tr>\n",
       "    <tr>\n",
       "      <th>1</th>\n",
       "      <td>{'n_features_to_select': 6}</td>\n",
       "      <td>0.955457</td>\n",
       "      <td>0.578195</td>\n",
       "    </tr>\n",
       "    <tr>\n",
       "      <th>2</th>\n",
       "      <td>{'n_features_to_select': 7}</td>\n",
       "      <td>0.957450</td>\n",
       "      <td>0.609706</td>\n",
       "    </tr>\n",
       "    <tr>\n",
       "      <th>3</th>\n",
       "      <td>{'n_features_to_select': 8}</td>\n",
       "      <td>0.941078</td>\n",
       "      <td>0.717020</td>\n",
       "    </tr>\n",
       "    <tr>\n",
       "      <th>4</th>\n",
       "      <td>{'n_features_to_select': 9}</td>\n",
       "      <td>0.941080</td>\n",
       "      <td>0.709228</td>\n",
       "    </tr>\n",
       "    <tr>\n",
       "      <th>5</th>\n",
       "      <td>{'n_features_to_select': 10}</td>\n",
       "      <td>0.937158</td>\n",
       "      <td>0.727580</td>\n",
       "    </tr>\n",
       "    <tr>\n",
       "      <th>6</th>\n",
       "      <td>{'n_features_to_select': 11}</td>\n",
       "      <td>0.940424</td>\n",
       "      <td>0.724949</td>\n",
       "    </tr>\n",
       "    <tr>\n",
       "      <th>7</th>\n",
       "      <td>{'n_features_to_select': 12}</td>\n",
       "      <td>0.939115</td>\n",
       "      <td>0.717054</td>\n",
       "    </tr>\n",
       "    <tr>\n",
       "      <th>8</th>\n",
       "      <td>{'n_features_to_select': 13}</td>\n",
       "      <td>0.941740</td>\n",
       "      <td>0.714422</td>\n",
       "    </tr>\n",
       "    <tr>\n",
       "      <th>9</th>\n",
       "      <td>{'n_features_to_select': 14}</td>\n",
       "      <td>0.948278</td>\n",
       "      <td>0.701367</td>\n",
       "    </tr>\n",
       "  </tbody>\n",
       "</table>\n",
       "</div>"
      ],
      "text/plain": [
       "                         params  mean_train_score  mean_test_score\n",
       "0   {'n_features_to_select': 5}          0.912963         0.541661\n",
       "1   {'n_features_to_select': 6}          0.955457         0.578195\n",
       "2   {'n_features_to_select': 7}          0.957450         0.609706\n",
       "3   {'n_features_to_select': 8}          0.941078         0.717020\n",
       "4   {'n_features_to_select': 9}          0.941080         0.709228\n",
       "5  {'n_features_to_select': 10}          0.937158         0.727580\n",
       "6  {'n_features_to_select': 11}          0.940424         0.724949\n",
       "7  {'n_features_to_select': 12}          0.939115         0.717054\n",
       "8  {'n_features_to_select': 13}          0.941740         0.714422\n",
       "9  {'n_features_to_select': 14}          0.948278         0.701367"
      ]
     },
     "execution_count": 109,
     "metadata": {},
     "output_type": "execute_result"
    }
   ],
   "source": [
    "from sklearn import feature_selection\n",
    "rfeobj=feature_selection.RFE(estimator=tree.DecisionTreeClassifier(max_depth=15,random_state=42))\n",
    "grid={\"n_features_to_select\":list(range(5,15))}\n",
    "gridobj=model_selection.GridSearchCV(estimator=rfeobj,param_grid=grid,cv=5,scoring=\"recall\",return_train_score=True,n_jobs=-1)\n",
    "gridobj.fit(Xtrain,ytrain)\n",
    "cvdf=pd.DataFrame(gridobj.cv_results_)\n",
    "cvdf[[\"params\",\"mean_train_score\",\"mean_test_score\"]]"
   ]
  },
  {
   "cell_type": "code",
   "execution_count": 110,
   "metadata": {},
   "outputs": [
    {
     "data": {
      "text/plain": [
       "{'n_features_to_select': 10}"
      ]
     },
     "execution_count": 110,
     "metadata": {},
     "output_type": "execute_result"
    }
   ],
   "source": [
    "gridobj.best_params_"
   ]
  },
  {
   "cell_type": "code",
   "execution_count": 111,
   "metadata": {},
   "outputs": [
    {
     "data": {
      "text/html": [
       "<div>\n",
       "<style scoped>\n",
       "    .dataframe tbody tr th:only-of-type {\n",
       "        vertical-align: middle;\n",
       "    }\n",
       "\n",
       "    .dataframe tbody tr th {\n",
       "        vertical-align: top;\n",
       "    }\n",
       "\n",
       "    .dataframe thead th {\n",
       "        text-align: right;\n",
       "    }\n",
       "</style>\n",
       "<table border=\"1\" class=\"dataframe\">\n",
       "  <thead>\n",
       "    <tr style=\"text-align: right;\">\n",
       "      <th></th>\n",
       "      <th>params</th>\n",
       "      <th>mean_train_score</th>\n",
       "      <th>mean_test_score</th>\n",
       "    </tr>\n",
       "  </thead>\n",
       "  <tbody>\n",
       "    <tr>\n",
       "      <th>0</th>\n",
       "      <td>{'n_features_to_select': 5}</td>\n",
       "      <td>0.908996</td>\n",
       "      <td>0.544361</td>\n",
       "    </tr>\n",
       "    <tr>\n",
       "      <th>1</th>\n",
       "      <td>{'n_features_to_select': 6}</td>\n",
       "      <td>0.967927</td>\n",
       "      <td>0.515482</td>\n",
       "    </tr>\n",
       "    <tr>\n",
       "      <th>2</th>\n",
       "      <td>{'n_features_to_select': 7}</td>\n",
       "      <td>0.966598</td>\n",
       "      <td>0.601777</td>\n",
       "    </tr>\n",
       "    <tr>\n",
       "      <th>3</th>\n",
       "      <td>{'n_features_to_select': 8}</td>\n",
       "      <td>0.949587</td>\n",
       "      <td>0.693370</td>\n",
       "    </tr>\n",
       "    <tr>\n",
       "      <th>4</th>\n",
       "      <td>{'n_features_to_select': 9}</td>\n",
       "      <td>0.946980</td>\n",
       "      <td>0.685509</td>\n",
       "    </tr>\n",
       "    <tr>\n",
       "      <th>5</th>\n",
       "      <td>{'n_features_to_select': 10}</td>\n",
       "      <td>0.951555</td>\n",
       "      <td>0.727683</td>\n",
       "    </tr>\n",
       "    <tr>\n",
       "      <th>6</th>\n",
       "      <td>{'n_features_to_select': 11}</td>\n",
       "      <td>0.954829</td>\n",
       "      <td>0.711893</td>\n",
       "    </tr>\n",
       "    <tr>\n",
       "      <th>7</th>\n",
       "      <td>{'n_features_to_select': 12}</td>\n",
       "      <td>0.954173</td>\n",
       "      <td>0.717088</td>\n",
       "    </tr>\n",
       "    <tr>\n",
       "      <th>8</th>\n",
       "      <td>{'n_features_to_select': 13}</td>\n",
       "      <td>0.958751</td>\n",
       "      <td>0.706596</td>\n",
       "    </tr>\n",
       "    <tr>\n",
       "      <th>9</th>\n",
       "      <td>{'n_features_to_select': 14}</td>\n",
       "      <td>0.960716</td>\n",
       "      <td>0.706699</td>\n",
       "    </tr>\n",
       "  </tbody>\n",
       "</table>\n",
       "</div>"
      ],
      "text/plain": [
       "                         params  mean_train_score  mean_test_score\n",
       "0   {'n_features_to_select': 5}          0.908996         0.544361\n",
       "1   {'n_features_to_select': 6}          0.967927         0.515482\n",
       "2   {'n_features_to_select': 7}          0.966598         0.601777\n",
       "3   {'n_features_to_select': 8}          0.949587         0.693370\n",
       "4   {'n_features_to_select': 9}          0.946980         0.685509\n",
       "5  {'n_features_to_select': 10}          0.951555         0.727683\n",
       "6  {'n_features_to_select': 11}          0.954829         0.711893\n",
       "7  {'n_features_to_select': 12}          0.954173         0.717088\n",
       "8  {'n_features_to_select': 13}          0.958751         0.706596\n",
       "9  {'n_features_to_select': 14}          0.960716         0.706699"
      ]
     },
     "execution_count": 111,
     "metadata": {},
     "output_type": "execute_result"
    }
   ],
   "source": [
    "from sklearn import feature_selection\n",
    "rfeobj=feature_selection.RFE(estimator=tree.DecisionTreeClassifier(max_depth=16,random_state=42))\n",
    "grid={\"n_features_to_select\":list(range(5,15))}\n",
    "gridobj=model_selection.GridSearchCV(estimator=rfeobj,param_grid=grid,cv=5,scoring=\"recall\",return_train_score=True,n_jobs=-1)\n",
    "gridobj.fit(Xtrain,ytrain)\n",
    "cvdf=pd.DataFrame(gridobj.cv_results_)\n",
    "cvdf[[\"params\",\"mean_train_score\",\"mean_test_score\"]]"
   ]
  },
  {
   "cell_type": "code",
   "execution_count": 112,
   "metadata": {},
   "outputs": [
    {
     "data": {
      "text/plain": [
       "{'n_features_to_select': 10}"
      ]
     },
     "execution_count": 112,
     "metadata": {},
     "output_type": "execute_result"
    }
   ],
   "source": [
    "gridobj.best_params_"
   ]
  },
  {
   "cell_type": "code",
   "execution_count": 113,
   "metadata": {},
   "outputs": [
    {
     "data": {
      "text/html": [
       "<div>\n",
       "<style scoped>\n",
       "    .dataframe tbody tr th:only-of-type {\n",
       "        vertical-align: middle;\n",
       "    }\n",
       "\n",
       "    .dataframe tbody tr th {\n",
       "        vertical-align: top;\n",
       "    }\n",
       "\n",
       "    .dataframe thead th {\n",
       "        text-align: right;\n",
       "    }\n",
       "</style>\n",
       "<table border=\"1\" class=\"dataframe\">\n",
       "  <thead>\n",
       "    <tr style=\"text-align: right;\">\n",
       "      <th></th>\n",
       "      <th>params</th>\n",
       "      <th>mean_train_score</th>\n",
       "      <th>mean_test_score</th>\n",
       "    </tr>\n",
       "  </thead>\n",
       "  <tbody>\n",
       "    <tr>\n",
       "      <th>0</th>\n",
       "      <td>{'n_features_to_select': 5}</td>\n",
       "      <td>0.960060</td>\n",
       "      <td>0.486535</td>\n",
       "    </tr>\n",
       "    <tr>\n",
       "      <th>1</th>\n",
       "      <td>{'n_features_to_select': 6}</td>\n",
       "      <td>0.965940</td>\n",
       "      <td>0.562406</td>\n",
       "    </tr>\n",
       "    <tr>\n",
       "      <th>2</th>\n",
       "      <td>{'n_features_to_select': 7}</td>\n",
       "      <td>0.971210</td>\n",
       "      <td>0.602016</td>\n",
       "    </tr>\n",
       "    <tr>\n",
       "      <th>3</th>\n",
       "      <td>{'n_features_to_select': 8}</td>\n",
       "      <td>0.961374</td>\n",
       "      <td>0.677751</td>\n",
       "    </tr>\n",
       "    <tr>\n",
       "      <th>4</th>\n",
       "      <td>{'n_features_to_select': 9}</td>\n",
       "      <td>0.955491</td>\n",
       "      <td>0.730144</td>\n",
       "    </tr>\n",
       "    <tr>\n",
       "      <th>5</th>\n",
       "      <td>{'n_features_to_select': 10}</td>\n",
       "      <td>0.953524</td>\n",
       "      <td>0.714491</td>\n",
       "    </tr>\n",
       "    <tr>\n",
       "      <th>6</th>\n",
       "      <td>{'n_features_to_select': 11}</td>\n",
       "      <td>0.962012</td>\n",
       "      <td>0.717122</td>\n",
       "    </tr>\n",
       "    <tr>\n",
       "      <th>7</th>\n",
       "      <td>{'n_features_to_select': 12}</td>\n",
       "      <td>0.967907</td>\n",
       "      <td>0.709330</td>\n",
       "    </tr>\n",
       "    <tr>\n",
       "      <th>8</th>\n",
       "      <td>{'n_features_to_select': 13}</td>\n",
       "      <td>0.981020</td>\n",
       "      <td>0.698770</td>\n",
       "    </tr>\n",
       "    <tr>\n",
       "      <th>9</th>\n",
       "      <td>{'n_features_to_select': 14}</td>\n",
       "      <td>0.975138</td>\n",
       "      <td>0.693609</td>\n",
       "    </tr>\n",
       "  </tbody>\n",
       "</table>\n",
       "</div>"
      ],
      "text/plain": [
       "                         params  mean_train_score  mean_test_score\n",
       "0   {'n_features_to_select': 5}          0.960060         0.486535\n",
       "1   {'n_features_to_select': 6}          0.965940         0.562406\n",
       "2   {'n_features_to_select': 7}          0.971210         0.602016\n",
       "3   {'n_features_to_select': 8}          0.961374         0.677751\n",
       "4   {'n_features_to_select': 9}          0.955491         0.730144\n",
       "5  {'n_features_to_select': 10}          0.953524         0.714491\n",
       "6  {'n_features_to_select': 11}          0.962012         0.717122\n",
       "7  {'n_features_to_select': 12}          0.967907         0.709330\n",
       "8  {'n_features_to_select': 13}          0.981020         0.698770\n",
       "9  {'n_features_to_select': 14}          0.975138         0.693609"
      ]
     },
     "execution_count": 113,
     "metadata": {},
     "output_type": "execute_result"
    }
   ],
   "source": [
    "from sklearn import feature_selection\n",
    "rfeobj=feature_selection.RFE(estimator=tree.DecisionTreeClassifier(max_depth=17,random_state=42))\n",
    "grid={\"n_features_to_select\":list(range(5,15))}\n",
    "gridobj=model_selection.GridSearchCV(estimator=rfeobj,param_grid=grid,cv=5,scoring=\"recall\",return_train_score=True,n_jobs=-1)\n",
    "gridobj.fit(Xtrain,ytrain)\n",
    "cvdf=pd.DataFrame(gridobj.cv_results_)\n",
    "cvdf[[\"params\",\"mean_train_score\",\"mean_test_score\"]]"
   ]
  },
  {
   "cell_type": "code",
   "execution_count": 114,
   "metadata": {},
   "outputs": [
    {
     "data": {
      "text/plain": [
       "{'n_features_to_select': 9}"
      ]
     },
     "execution_count": 114,
     "metadata": {},
     "output_type": "execute_result"
    }
   ],
   "source": [
    "gridobj.best_params_"
   ]
  },
  {
   "cell_type": "code",
   "execution_count": 115,
   "metadata": {},
   "outputs": [
    {
     "data": {
      "text/html": [
       "<div>\n",
       "<style scoped>\n",
       "    .dataframe tbody tr th:only-of-type {\n",
       "        vertical-align: middle;\n",
       "    }\n",
       "\n",
       "    .dataframe tbody tr th {\n",
       "        vertical-align: top;\n",
       "    }\n",
       "\n",
       "    .dataframe thead th {\n",
       "        text-align: right;\n",
       "    }\n",
       "</style>\n",
       "<table border=\"1\" class=\"dataframe\">\n",
       "  <thead>\n",
       "    <tr style=\"text-align: right;\">\n",
       "      <th></th>\n",
       "      <th>params</th>\n",
       "      <th>mean_train_score</th>\n",
       "      <th>mean_test_score</th>\n",
       "    </tr>\n",
       "  </thead>\n",
       "  <tbody>\n",
       "    <tr>\n",
       "      <th>0</th>\n",
       "      <td>{'n_features_to_select': 5}</td>\n",
       "      <td>0.936488</td>\n",
       "      <td>0.523479</td>\n",
       "    </tr>\n",
       "    <tr>\n",
       "      <th>1</th>\n",
       "      <td>{'n_features_to_select': 6}</td>\n",
       "      <td>0.974443</td>\n",
       "      <td>0.546890</td>\n",
       "    </tr>\n",
       "    <tr>\n",
       "      <th>2</th>\n",
       "      <td>{'n_features_to_select': 7}</td>\n",
       "      <td>0.967912</td>\n",
       "      <td>0.591627</td>\n",
       "    </tr>\n",
       "    <tr>\n",
       "      <th>3</th>\n",
       "      <td>{'n_features_to_select': 8}</td>\n",
       "      <td>0.982338</td>\n",
       "      <td>0.638619</td>\n",
       "    </tr>\n",
       "    <tr>\n",
       "      <th>4</th>\n",
       "      <td>{'n_features_to_select': 9}</td>\n",
       "      <td>0.971850</td>\n",
       "      <td>0.717122</td>\n",
       "    </tr>\n",
       "    <tr>\n",
       "      <th>5</th>\n",
       "      <td>{'n_features_to_select': 10}</td>\n",
       "      <td>0.960090</td>\n",
       "      <td>0.727512</td>\n",
       "    </tr>\n",
       "    <tr>\n",
       "      <th>6</th>\n",
       "      <td>{'n_features_to_select': 11}</td>\n",
       "      <td>0.962049</td>\n",
       "      <td>0.717122</td>\n",
       "    </tr>\n",
       "    <tr>\n",
       "      <th>7</th>\n",
       "      <td>{'n_features_to_select': 12}</td>\n",
       "      <td>0.969242</td>\n",
       "      <td>0.701401</td>\n",
       "    </tr>\n",
       "    <tr>\n",
       "      <th>8</th>\n",
       "      <td>{'n_features_to_select': 13}</td>\n",
       "      <td>0.974467</td>\n",
       "      <td>0.709228</td>\n",
       "    </tr>\n",
       "    <tr>\n",
       "      <th>9</th>\n",
       "      <td>{'n_features_to_select': 14}</td>\n",
       "      <td>0.973813</td>\n",
       "      <td>0.690943</td>\n",
       "    </tr>\n",
       "  </tbody>\n",
       "</table>\n",
       "</div>"
      ],
      "text/plain": [
       "                         params  mean_train_score  mean_test_score\n",
       "0   {'n_features_to_select': 5}          0.936488         0.523479\n",
       "1   {'n_features_to_select': 6}          0.974443         0.546890\n",
       "2   {'n_features_to_select': 7}          0.967912         0.591627\n",
       "3   {'n_features_to_select': 8}          0.982338         0.638619\n",
       "4   {'n_features_to_select': 9}          0.971850         0.717122\n",
       "5  {'n_features_to_select': 10}          0.960090         0.727512\n",
       "6  {'n_features_to_select': 11}          0.962049         0.717122\n",
       "7  {'n_features_to_select': 12}          0.969242         0.701401\n",
       "8  {'n_features_to_select': 13}          0.974467         0.709228\n",
       "9  {'n_features_to_select': 14}          0.973813         0.690943"
      ]
     },
     "execution_count": 115,
     "metadata": {},
     "output_type": "execute_result"
    }
   ],
   "source": [
    "from sklearn import feature_selection\n",
    "rfeobj=feature_selection.RFE(estimator=tree.DecisionTreeClassifier(max_depth=18,random_state=42))\n",
    "grid={\"n_features_to_select\":list(range(5,15))}\n",
    "gridobj=model_selection.GridSearchCV(estimator=rfeobj,param_grid=grid,cv=5,scoring=\"recall\",return_train_score=True,n_jobs=-1)\n",
    "gridobj.fit(Xtrain,ytrain)\n",
    "cvdf=pd.DataFrame(gridobj.cv_results_)\n",
    "cvdf[[\"params\",\"mean_train_score\",\"mean_test_score\"]]"
   ]
  },
  {
   "cell_type": "code",
   "execution_count": 116,
   "metadata": {},
   "outputs": [
    {
     "data": {
      "text/plain": [
       "{'n_features_to_select': 10}"
      ]
     },
     "execution_count": 116,
     "metadata": {},
     "output_type": "execute_result"
    }
   ],
   "source": [
    "gridobj.best_params_"
   ]
  },
  {
   "cell_type": "code",
   "execution_count": 117,
   "metadata": {},
   "outputs": [
    {
     "data": {
      "text/html": [
       "<div>\n",
       "<style scoped>\n",
       "    .dataframe tbody tr th:only-of-type {\n",
       "        vertical-align: middle;\n",
       "    }\n",
       "\n",
       "    .dataframe tbody tr th {\n",
       "        vertical-align: top;\n",
       "    }\n",
       "\n",
       "    .dataframe thead th {\n",
       "        text-align: right;\n",
       "    }\n",
       "</style>\n",
       "<table border=\"1\" class=\"dataframe\">\n",
       "  <thead>\n",
       "    <tr style=\"text-align: right;\">\n",
       "      <th></th>\n",
       "      <th>params</th>\n",
       "      <th>mean_train_score</th>\n",
       "      <th>mean_test_score</th>\n",
       "    </tr>\n",
       "  </thead>\n",
       "  <tbody>\n",
       "    <tr>\n",
       "      <th>0</th>\n",
       "      <td>{'n_features_to_select': 5}</td>\n",
       "      <td>0.956160</td>\n",
       "      <td>0.460185</td>\n",
       "    </tr>\n",
       "    <tr>\n",
       "      <th>1</th>\n",
       "      <td>{'n_features_to_select': 6}</td>\n",
       "      <td>0.988863</td>\n",
       "      <td>0.525837</td>\n",
       "    </tr>\n",
       "    <tr>\n",
       "      <th>2</th>\n",
       "      <td>{'n_features_to_select': 7}</td>\n",
       "      <td>0.972504</td>\n",
       "      <td>0.604204</td>\n",
       "    </tr>\n",
       "    <tr>\n",
       "      <th>3</th>\n",
       "      <td>{'n_features_to_select': 8}</td>\n",
       "      <td>0.971853</td>\n",
       "      <td>0.648770</td>\n",
       "    </tr>\n",
       "    <tr>\n",
       "      <th>4</th>\n",
       "      <td>{'n_features_to_select': 9}</td>\n",
       "      <td>0.967937</td>\n",
       "      <td>0.693404</td>\n",
       "    </tr>\n",
       "    <tr>\n",
       "      <th>5</th>\n",
       "      <td>{'n_features_to_select': 10}</td>\n",
       "      <td>0.965323</td>\n",
       "      <td>0.719651</td>\n",
       "    </tr>\n",
       "    <tr>\n",
       "      <th>6</th>\n",
       "      <td>{'n_features_to_select': 11}</td>\n",
       "      <td>0.975800</td>\n",
       "      <td>0.735509</td>\n",
       "    </tr>\n",
       "    <tr>\n",
       "      <th>7</th>\n",
       "      <td>{'n_features_to_select': 12}</td>\n",
       "      <td>0.981029</td>\n",
       "      <td>0.727546</td>\n",
       "    </tr>\n",
       "    <tr>\n",
       "      <th>8</th>\n",
       "      <td>{'n_features_to_select': 13}</td>\n",
       "      <td>0.977094</td>\n",
       "      <td>0.719788</td>\n",
       "    </tr>\n",
       "    <tr>\n",
       "      <th>9</th>\n",
       "      <td>{'n_features_to_select': 14}</td>\n",
       "      <td>0.988874</td>\n",
       "      <td>0.688278</td>\n",
       "    </tr>\n",
       "  </tbody>\n",
       "</table>\n",
       "</div>"
      ],
      "text/plain": [
       "                         params  mean_train_score  mean_test_score\n",
       "0   {'n_features_to_select': 5}          0.956160         0.460185\n",
       "1   {'n_features_to_select': 6}          0.988863         0.525837\n",
       "2   {'n_features_to_select': 7}          0.972504         0.604204\n",
       "3   {'n_features_to_select': 8}          0.971853         0.648770\n",
       "4   {'n_features_to_select': 9}          0.967937         0.693404\n",
       "5  {'n_features_to_select': 10}          0.965323         0.719651\n",
       "6  {'n_features_to_select': 11}          0.975800         0.735509\n",
       "7  {'n_features_to_select': 12}          0.981029         0.727546\n",
       "8  {'n_features_to_select': 13}          0.977094         0.719788\n",
       "9  {'n_features_to_select': 14}          0.988874         0.688278"
      ]
     },
     "execution_count": 117,
     "metadata": {},
     "output_type": "execute_result"
    }
   ],
   "source": [
    "from sklearn import feature_selection\n",
    "rfeobj=feature_selection.RFE(estimator=tree.DecisionTreeClassifier(max_depth=19,random_state=42))\n",
    "grid={\"n_features_to_select\":list(range(5,15))}\n",
    "gridobj=model_selection.GridSearchCV(estimator=rfeobj,param_grid=grid,cv=5,scoring=\"recall\",return_train_score=True,n_jobs=-1)\n",
    "gridobj.fit(Xtrain,ytrain)\n",
    "cvdf=pd.DataFrame(gridobj.cv_results_)\n",
    "cvdf[[\"params\",\"mean_train_score\",\"mean_test_score\"]]"
   ]
  },
  {
   "cell_type": "code",
   "execution_count": 118,
   "metadata": {},
   "outputs": [
    {
     "data": {
      "text/plain": [
       "{'n_features_to_select': 11}"
      ]
     },
     "execution_count": 118,
     "metadata": {},
     "output_type": "execute_result"
    }
   ],
   "source": [
    "gridobj.best_params_"
   ]
  },
  {
   "cell_type": "code",
   "execution_count": 119,
   "metadata": {},
   "outputs": [
    {
     "data": {
      "text/html": [
       "<div>\n",
       "<style scoped>\n",
       "    .dataframe tbody tr th:only-of-type {\n",
       "        vertical-align: middle;\n",
       "    }\n",
       "\n",
       "    .dataframe tbody tr th {\n",
       "        vertical-align: top;\n",
       "    }\n",
       "\n",
       "    .dataframe thead th {\n",
       "        text-align: right;\n",
       "    }\n",
       "</style>\n",
       "<table border=\"1\" class=\"dataframe\">\n",
       "  <thead>\n",
       "    <tr style=\"text-align: right;\">\n",
       "      <th></th>\n",
       "      <th>params</th>\n",
       "      <th>mean_train_score</th>\n",
       "      <th>mean_test_score</th>\n",
       "    </tr>\n",
       "  </thead>\n",
       "  <tbody>\n",
       "    <tr>\n",
       "      <th>0</th>\n",
       "      <td>{'n_features_to_select': 5}</td>\n",
       "      <td>0.990820</td>\n",
       "      <td>0.549658</td>\n",
       "    </tr>\n",
       "    <tr>\n",
       "      <th>1</th>\n",
       "      <td>{'n_features_to_select': 6}</td>\n",
       "      <td>0.990164</td>\n",
       "      <td>0.557211</td>\n",
       "    </tr>\n",
       "    <tr>\n",
       "      <th>2</th>\n",
       "      <td>{'n_features_to_select': 7}</td>\n",
       "      <td>0.994113</td>\n",
       "      <td>0.630759</td>\n",
       "    </tr>\n",
       "    <tr>\n",
       "      <th>3</th>\n",
       "      <td>{'n_features_to_select': 8}</td>\n",
       "      <td>0.977101</td>\n",
       "      <td>0.706528</td>\n",
       "    </tr>\n",
       "    <tr>\n",
       "      <th>4</th>\n",
       "      <td>{'n_features_to_select': 9}</td>\n",
       "      <td>0.977758</td>\n",
       "      <td>0.698633</td>\n",
       "    </tr>\n",
       "    <tr>\n",
       "      <th>5</th>\n",
       "      <td>{'n_features_to_select': 10}</td>\n",
       "      <td>0.977758</td>\n",
       "      <td>0.722351</td>\n",
       "    </tr>\n",
       "    <tr>\n",
       "      <th>6</th>\n",
       "      <td>{'n_features_to_select': 11}</td>\n",
       "      <td>0.982332</td>\n",
       "      <td>0.727614</td>\n",
       "    </tr>\n",
       "    <tr>\n",
       "      <th>7</th>\n",
       "      <td>{'n_features_to_select': 12}</td>\n",
       "      <td>0.985610</td>\n",
       "      <td>0.704101</td>\n",
       "    </tr>\n",
       "    <tr>\n",
       "      <th>8</th>\n",
       "      <td>{'n_features_to_select': 13}</td>\n",
       "      <td>0.986255</td>\n",
       "      <td>0.701504</td>\n",
       "    </tr>\n",
       "    <tr>\n",
       "      <th>9</th>\n",
       "      <td>{'n_features_to_select': 14}</td>\n",
       "      <td>0.989521</td>\n",
       "      <td>0.701470</td>\n",
       "    </tr>\n",
       "  </tbody>\n",
       "</table>\n",
       "</div>"
      ],
      "text/plain": [
       "                         params  mean_train_score  mean_test_score\n",
       "0   {'n_features_to_select': 5}          0.990820         0.549658\n",
       "1   {'n_features_to_select': 6}          0.990164         0.557211\n",
       "2   {'n_features_to_select': 7}          0.994113         0.630759\n",
       "3   {'n_features_to_select': 8}          0.977101         0.706528\n",
       "4   {'n_features_to_select': 9}          0.977758         0.698633\n",
       "5  {'n_features_to_select': 10}          0.977758         0.722351\n",
       "6  {'n_features_to_select': 11}          0.982332         0.727614\n",
       "7  {'n_features_to_select': 12}          0.985610         0.704101\n",
       "8  {'n_features_to_select': 13}          0.986255         0.701504\n",
       "9  {'n_features_to_select': 14}          0.989521         0.701470"
      ]
     },
     "execution_count": 119,
     "metadata": {},
     "output_type": "execute_result"
    }
   ],
   "source": [
    "from sklearn import feature_selection\n",
    "rfeobj=feature_selection.RFE(estimator=tree.DecisionTreeClassifier(max_depth=20,random_state=42))\n",
    "grid={\"n_features_to_select\":list(range(5,15))}\n",
    "gridobj=model_selection.GridSearchCV(estimator=rfeobj,param_grid=grid,cv=5,scoring=\"recall\",return_train_score=True,n_jobs=-1)\n",
    "gridobj.fit(Xtrain,ytrain)\n",
    "cvdf=pd.DataFrame(gridobj.cv_results_)\n",
    "cvdf[[\"params\",\"mean_train_score\",\"mean_test_score\"]]"
   ]
  },
  {
   "cell_type": "code",
   "execution_count": 120,
   "metadata": {},
   "outputs": [
    {
     "data": {
      "text/plain": [
       "{'n_features_to_select': 11}"
      ]
     },
     "execution_count": 120,
     "metadata": {},
     "output_type": "execute_result"
    }
   ],
   "source": [
    "gridobj.best_params_"
   ]
  },
  {
   "cell_type": "code",
   "execution_count": 121,
   "metadata": {},
   "outputs": [
    {
     "data": {
      "text/html": [
       "<div>\n",
       "<style scoped>\n",
       "    .dataframe tbody tr th:only-of-type {\n",
       "        vertical-align: middle;\n",
       "    }\n",
       "\n",
       "    .dataframe tbody tr th {\n",
       "        vertical-align: top;\n",
       "    }\n",
       "\n",
       "    .dataframe thead th {\n",
       "        text-align: right;\n",
       "    }\n",
       "</style>\n",
       "<table border=\"1\" class=\"dataframe\">\n",
       "  <thead>\n",
       "    <tr style=\"text-align: right;\">\n",
       "      <th></th>\n",
       "      <th>params</th>\n",
       "      <th>mean_train_score</th>\n",
       "      <th>mean_test_score</th>\n",
       "    </tr>\n",
       "  </thead>\n",
       "  <tbody>\n",
       "    <tr>\n",
       "      <th>0</th>\n",
       "      <td>{'n_features_to_select': 5}</td>\n",
       "      <td>0.981026</td>\n",
       "      <td>0.515653</td>\n",
       "    </tr>\n",
       "    <tr>\n",
       "      <th>1</th>\n",
       "      <td>{'n_features_to_select': 6}</td>\n",
       "      <td>0.997381</td>\n",
       "      <td>0.520643</td>\n",
       "    </tr>\n",
       "    <tr>\n",
       "      <th>2</th>\n",
       "      <td>{'n_features_to_select': 7}</td>\n",
       "      <td>0.998689</td>\n",
       "      <td>0.559809</td>\n",
       "    </tr>\n",
       "    <tr>\n",
       "      <th>3</th>\n",
       "      <td>{'n_features_to_select': 8}</td>\n",
       "      <td>0.989540</td>\n",
       "      <td>0.638380</td>\n",
       "    </tr>\n",
       "    <tr>\n",
       "      <th>4</th>\n",
       "      <td>{'n_features_to_select': 9}</td>\n",
       "      <td>0.988887</td>\n",
       "      <td>0.698667</td>\n",
       "    </tr>\n",
       "    <tr>\n",
       "      <th>5</th>\n",
       "      <td>{'n_features_to_select': 10}</td>\n",
       "      <td>0.986264</td>\n",
       "      <td>0.727546</td>\n",
       "    </tr>\n",
       "    <tr>\n",
       "      <th>6</th>\n",
       "      <td>{'n_features_to_select': 11}</td>\n",
       "      <td>0.994771</td>\n",
       "      <td>0.725051</td>\n",
       "    </tr>\n",
       "    <tr>\n",
       "      <th>7</th>\n",
       "      <td>{'n_features_to_select': 12}</td>\n",
       "      <td>0.994118</td>\n",
       "      <td>0.701470</td>\n",
       "    </tr>\n",
       "    <tr>\n",
       "      <th>8</th>\n",
       "      <td>{'n_features_to_select': 13}</td>\n",
       "      <td>0.994771</td>\n",
       "      <td>0.701470</td>\n",
       "    </tr>\n",
       "    <tr>\n",
       "      <th>9</th>\n",
       "      <td>{'n_features_to_select': 14}</td>\n",
       "      <td>0.998039</td>\n",
       "      <td>0.691046</td>\n",
       "    </tr>\n",
       "  </tbody>\n",
       "</table>\n",
       "</div>"
      ],
      "text/plain": [
       "                         params  mean_train_score  mean_test_score\n",
       "0   {'n_features_to_select': 5}          0.981026         0.515653\n",
       "1   {'n_features_to_select': 6}          0.997381         0.520643\n",
       "2   {'n_features_to_select': 7}          0.998689         0.559809\n",
       "3   {'n_features_to_select': 8}          0.989540         0.638380\n",
       "4   {'n_features_to_select': 9}          0.988887         0.698667\n",
       "5  {'n_features_to_select': 10}          0.986264         0.727546\n",
       "6  {'n_features_to_select': 11}          0.994771         0.725051\n",
       "7  {'n_features_to_select': 12}          0.994118         0.701470\n",
       "8  {'n_features_to_select': 13}          0.994771         0.701470\n",
       "9  {'n_features_to_select': 14}          0.998039         0.691046"
      ]
     },
     "execution_count": 121,
     "metadata": {},
     "output_type": "execute_result"
    }
   ],
   "source": [
    "from sklearn import feature_selection\n",
    "rfeobj=feature_selection.RFE(estimator=tree.DecisionTreeClassifier(max_depth=22,random_state=42))\n",
    "grid={\"n_features_to_select\":list(range(5,15))}\n",
    "gridobj=model_selection.GridSearchCV(estimator=rfeobj,param_grid=grid,cv=5,scoring=\"recall\",return_train_score=True,n_jobs=-1)\n",
    "gridobj.fit(Xtrain,ytrain)\n",
    "cvdf=pd.DataFrame(gridobj.cv_results_)\n",
    "cvdf[[\"params\",\"mean_train_score\",\"mean_test_score\"]]"
   ]
  },
  {
   "cell_type": "code",
   "execution_count": 122,
   "metadata": {},
   "outputs": [
    {
     "data": {
      "text/plain": [
       "{'n_features_to_select': 10}"
      ]
     },
     "execution_count": 122,
     "metadata": {},
     "output_type": "execute_result"
    }
   ],
   "source": [
    "gridobj.best_params_"
   ]
  },
  {
   "cell_type": "code",
   "execution_count": 123,
   "metadata": {},
   "outputs": [
    {
     "data": {
      "text/html": [
       "<div>\n",
       "<style scoped>\n",
       "    .dataframe tbody tr th:only-of-type {\n",
       "        vertical-align: middle;\n",
       "    }\n",
       "\n",
       "    .dataframe tbody tr th {\n",
       "        vertical-align: top;\n",
       "    }\n",
       "\n",
       "    .dataframe thead th {\n",
       "        text-align: right;\n",
       "    }\n",
       "</style>\n",
       "<table border=\"1\" class=\"dataframe\">\n",
       "  <thead>\n",
       "    <tr style=\"text-align: right;\">\n",
       "      <th></th>\n",
       "      <th>params</th>\n",
       "      <th>mean_train_score</th>\n",
       "      <th>mean_test_score</th>\n",
       "    </tr>\n",
       "  </thead>\n",
       "  <tbody>\n",
       "    <tr>\n",
       "      <th>0</th>\n",
       "      <td>{'n_features_to_select': 5}</td>\n",
       "      <td>0.999346</td>\n",
       "      <td>0.523377</td>\n",
       "    </tr>\n",
       "    <tr>\n",
       "      <th>1</th>\n",
       "      <td>{'n_features_to_select': 6}</td>\n",
       "      <td>1.000000</td>\n",
       "      <td>0.515482</td>\n",
       "    </tr>\n",
       "    <tr>\n",
       "      <th>2</th>\n",
       "      <td>{'n_features_to_select': 7}</td>\n",
       "      <td>1.000000</td>\n",
       "      <td>0.625256</td>\n",
       "    </tr>\n",
       "    <tr>\n",
       "      <th>3</th>\n",
       "      <td>{'n_features_to_select': 8}</td>\n",
       "      <td>0.994118</td>\n",
       "      <td>0.683049</td>\n",
       "    </tr>\n",
       "    <tr>\n",
       "      <th>4</th>\n",
       "      <td>{'n_features_to_select': 9}</td>\n",
       "      <td>0.994118</td>\n",
       "      <td>0.727614</td>\n",
       "    </tr>\n",
       "    <tr>\n",
       "      <th>5</th>\n",
       "      <td>{'n_features_to_select': 10}</td>\n",
       "      <td>0.994118</td>\n",
       "      <td>0.719686</td>\n",
       "    </tr>\n",
       "    <tr>\n",
       "      <th>6</th>\n",
       "      <td>{'n_features_to_select': 11}</td>\n",
       "      <td>0.999346</td>\n",
       "      <td>0.709262</td>\n",
       "    </tr>\n",
       "    <tr>\n",
       "      <th>7</th>\n",
       "      <td>{'n_features_to_select': 12}</td>\n",
       "      <td>1.000000</td>\n",
       "      <td>0.701470</td>\n",
       "    </tr>\n",
       "    <tr>\n",
       "      <th>8</th>\n",
       "      <td>{'n_features_to_select': 13}</td>\n",
       "      <td>1.000000</td>\n",
       "      <td>0.717259</td>\n",
       "    </tr>\n",
       "    <tr>\n",
       "      <th>9</th>\n",
       "      <td>{'n_features_to_select': 14}</td>\n",
       "      <td>1.000000</td>\n",
       "      <td>0.685783</td>\n",
       "    </tr>\n",
       "  </tbody>\n",
       "</table>\n",
       "</div>"
      ],
      "text/plain": [
       "                         params  mean_train_score  mean_test_score\n",
       "0   {'n_features_to_select': 5}          0.999346         0.523377\n",
       "1   {'n_features_to_select': 6}          1.000000         0.515482\n",
       "2   {'n_features_to_select': 7}          1.000000         0.625256\n",
       "3   {'n_features_to_select': 8}          0.994118         0.683049\n",
       "4   {'n_features_to_select': 9}          0.994118         0.727614\n",
       "5  {'n_features_to_select': 10}          0.994118         0.719686\n",
       "6  {'n_features_to_select': 11}          0.999346         0.709262\n",
       "7  {'n_features_to_select': 12}          1.000000         0.701470\n",
       "8  {'n_features_to_select': 13}          1.000000         0.717259\n",
       "9  {'n_features_to_select': 14}          1.000000         0.685783"
      ]
     },
     "execution_count": 123,
     "metadata": {},
     "output_type": "execute_result"
    }
   ],
   "source": [
    "from sklearn import feature_selection\n",
    "rfeobj=feature_selection.RFE(estimator=tree.DecisionTreeClassifier(max_depth=25,random_state=42))\n",
    "grid={\"n_features_to_select\":list(range(5,15))}\n",
    "gridobj=model_selection.GridSearchCV(estimator=rfeobj,param_grid=grid,cv=5,scoring=\"recall\",return_train_score=True,n_jobs=-1)\n",
    "gridobj.fit(Xtrain,ytrain)\n",
    "cvdf=pd.DataFrame(gridobj.cv_results_)\n",
    "cvdf[[\"params\",\"mean_train_score\",\"mean_test_score\"]]"
   ]
  },
  {
   "cell_type": "code",
   "execution_count": 124,
   "metadata": {},
   "outputs": [
    {
     "data": {
      "text/plain": [
       "{'n_features_to_select': 9}"
      ]
     },
     "execution_count": 124,
     "metadata": {},
     "output_type": "execute_result"
    }
   ],
   "source": [
    "gridobj.best_params_"
   ]
  },
  {
   "cell_type": "code",
   "execution_count": 125,
   "metadata": {},
   "outputs": [
    {
     "data": {
      "text/html": [
       "<div>\n",
       "<style scoped>\n",
       "    .dataframe tbody tr th:only-of-type {\n",
       "        vertical-align: middle;\n",
       "    }\n",
       "\n",
       "    .dataframe tbody tr th {\n",
       "        vertical-align: top;\n",
       "    }\n",
       "\n",
       "    .dataframe thead th {\n",
       "        text-align: right;\n",
       "    }\n",
       "</style>\n",
       "<table border=\"1\" class=\"dataframe\">\n",
       "  <thead>\n",
       "    <tr style=\"text-align: right;\">\n",
       "      <th></th>\n",
       "      <th>params</th>\n",
       "      <th>mean_train_score</th>\n",
       "      <th>mean_test_score</th>\n",
       "    </tr>\n",
       "  </thead>\n",
       "  <tbody>\n",
       "    <tr>\n",
       "      <th>0</th>\n",
       "      <td>{'n_features_to_select': 5}</td>\n",
       "      <td>0.998039</td>\n",
       "      <td>0.539166</td>\n",
       "    </tr>\n",
       "    <tr>\n",
       "      <th>1</th>\n",
       "      <td>{'n_features_to_select': 6}</td>\n",
       "      <td>1.000000</td>\n",
       "      <td>0.507587</td>\n",
       "    </tr>\n",
       "    <tr>\n",
       "      <th>2</th>\n",
       "      <td>{'n_features_to_select': 7}</td>\n",
       "      <td>1.000000</td>\n",
       "      <td>0.619993</td>\n",
       "    </tr>\n",
       "    <tr>\n",
       "      <th>3</th>\n",
       "      <td>{'n_features_to_select': 8}</td>\n",
       "      <td>0.996078</td>\n",
       "      <td>0.693575</td>\n",
       "    </tr>\n",
       "    <tr>\n",
       "      <th>4</th>\n",
       "      <td>{'n_features_to_select': 9}</td>\n",
       "      <td>0.996078</td>\n",
       "      <td>0.719720</td>\n",
       "    </tr>\n",
       "    <tr>\n",
       "      <th>5</th>\n",
       "      <td>{'n_features_to_select': 10}</td>\n",
       "      <td>0.999346</td>\n",
       "      <td>0.717054</td>\n",
       "    </tr>\n",
       "    <tr>\n",
       "      <th>6</th>\n",
       "      <td>{'n_features_to_select': 11}</td>\n",
       "      <td>0.999346</td>\n",
       "      <td>0.709262</td>\n",
       "    </tr>\n",
       "    <tr>\n",
       "      <th>7</th>\n",
       "      <td>{'n_features_to_select': 12}</td>\n",
       "      <td>1.000000</td>\n",
       "      <td>0.701470</td>\n",
       "    </tr>\n",
       "    <tr>\n",
       "      <th>8</th>\n",
       "      <td>{'n_features_to_select': 13}</td>\n",
       "      <td>1.000000</td>\n",
       "      <td>0.717259</td>\n",
       "    </tr>\n",
       "    <tr>\n",
       "      <th>9</th>\n",
       "      <td>{'n_features_to_select': 14}</td>\n",
       "      <td>1.000000</td>\n",
       "      <td>0.685783</td>\n",
       "    </tr>\n",
       "  </tbody>\n",
       "</table>\n",
       "</div>"
      ],
      "text/plain": [
       "                         params  mean_train_score  mean_test_score\n",
       "0   {'n_features_to_select': 5}          0.998039         0.539166\n",
       "1   {'n_features_to_select': 6}          1.000000         0.507587\n",
       "2   {'n_features_to_select': 7}          1.000000         0.619993\n",
       "3   {'n_features_to_select': 8}          0.996078         0.693575\n",
       "4   {'n_features_to_select': 9}          0.996078         0.719720\n",
       "5  {'n_features_to_select': 10}          0.999346         0.717054\n",
       "6  {'n_features_to_select': 11}          0.999346         0.709262\n",
       "7  {'n_features_to_select': 12}          1.000000         0.701470\n",
       "8  {'n_features_to_select': 13}          1.000000         0.717259\n",
       "9  {'n_features_to_select': 14}          1.000000         0.685783"
      ]
     },
     "execution_count": 125,
     "metadata": {},
     "output_type": "execute_result"
    }
   ],
   "source": [
    "from sklearn import feature_selection\n",
    "rfeobj=feature_selection.RFE(estimator=tree.DecisionTreeClassifier(max_depth=26,random_state=42))\n",
    "grid={\"n_features_to_select\":list(range(5,15))}\n",
    "gridobj=model_selection.GridSearchCV(estimator=rfeobj,param_grid=grid,cv=5,scoring=\"recall\",return_train_score=True,n_jobs=-1)\n",
    "gridobj.fit(Xtrain,ytrain)\n",
    "cvdf=pd.DataFrame(gridobj.cv_results_)\n",
    "cvdf[[\"params\",\"mean_train_score\",\"mean_test_score\"]]"
   ]
  },
  {
   "cell_type": "code",
   "execution_count": 126,
   "metadata": {},
   "outputs": [
    {
     "data": {
      "text/plain": [
       "{'n_features_to_select': 9}"
      ]
     },
     "execution_count": 126,
     "metadata": {},
     "output_type": "execute_result"
    }
   ],
   "source": [
    "gridobj.best_params_"
   ]
  },
  {
   "cell_type": "markdown",
   "metadata": {},
   "source": [
    "# Best model using decision tree found with 10 columns\n",
    "## - max_depth=10\n",
    "## - max_depth=10,min_sample_split=3"
   ]
  },
  {
   "cell_type": "code",
   "execution_count": 127,
   "metadata": {},
   "outputs": [
    {
     "data": {
      "text/plain": [
       "Index(['intplan', 'voice', 'tdmin', 'tdchar', 'temin', 'tnmin', 'tical',\n",
       "       'tichar', 'ncsc'],\n",
       "      dtype='object')"
      ]
     },
     "execution_count": 127,
     "metadata": {},
     "output_type": "execute_result"
    }
   ],
   "source": [
    "from sklearn import feature_selection\n",
    "rfeobj=feature_selection.RFE(tree.DecisionTreeClassifier(random_state=42),n_features_to_select=9)\n",
    "rfeobj.fit(Xtrain,ytrain)\n",
    "impcols=Xtrain.columns[rfeobj.support_] \n",
    "impcols"
   ]
  },
  {
   "cell_type": "code",
   "execution_count": 128,
   "metadata": {},
   "outputs": [
    {
     "data": {
      "text/plain": [
       "DecisionTreeClassifier(max_depth=10, random_state=42)"
      ]
     },
     "execution_count": 128,
     "metadata": {},
     "output_type": "execute_result"
    }
   ],
   "source": [
    "model=tree.DecisionTreeClassifier(random_state=42,max_depth=10)\n",
    "model.fit(Xtrain[impcols],ytrain) # Model with max_depth=10 and 9 cols"
   ]
  },
  {
   "cell_type": "code",
   "execution_count": 129,
   "metadata": {},
   "outputs": [],
   "source": [
    "trainp=model.predict(Xtrain[impcols])\n",
    "testp=model.predict(Xtest[impcols])"
   ]
  },
  {
   "cell_type": "code",
   "execution_count": 130,
   "metadata": {},
   "outputs": [
    {
     "name": "stdout",
     "output_type": "stream",
     "text": [
      "AUC: 0.9325893307415116\n",
      "accuracy: 0.9797449362340586\n",
      "recall  : 0.8664921465968587\n",
      "precision : 0.9910179640718563\n",
      "f1-score :  0.9245810055865922\n"
     ]
    }
   ],
   "source": [
    "printscores(ytrain,trainp)"
   ]
  },
  {
   "cell_type": "code",
   "execution_count": 131,
   "metadata": {},
   "outputs": [
    {
     "name": "stdout",
     "output_type": "stream",
     "text": [
      "AUC: 0.8849053633278523\n",
      "accuracy: 0.9565217391304348\n",
      "recall  : 0.7821782178217822\n",
      "precision : 0.9186046511627907\n",
      "f1-score :  0.8449197860962566\n"
     ]
    }
   ],
   "source": [
    "printscores(ytest,testp)"
   ]
  },
  {
   "cell_type": "code",
   "execution_count": 132,
   "metadata": {},
   "outputs": [
    {
     "data": {
      "text/html": [
       "<div>\n",
       "<style scoped>\n",
       "    .dataframe tbody tr th:only-of-type {\n",
       "        vertical-align: middle;\n",
       "    }\n",
       "\n",
       "    .dataframe tbody tr th {\n",
       "        vertical-align: top;\n",
       "    }\n",
       "\n",
       "    .dataframe thead th {\n",
       "        text-align: right;\n",
       "    }\n",
       "</style>\n",
       "<table border=\"1\" class=\"dataframe\">\n",
       "  <thead>\n",
       "    <tr style=\"text-align: right;\">\n",
       "      <th>Predicted</th>\n",
       "      <th>0</th>\n",
       "      <th>1</th>\n",
       "      <th>All</th>\n",
       "    </tr>\n",
       "    <tr>\n",
       "      <th>Actual</th>\n",
       "      <th></th>\n",
       "      <th></th>\n",
       "      <th></th>\n",
       "    </tr>\n",
       "  </thead>\n",
       "  <tbody>\n",
       "    <tr>\n",
       "      <th>0</th>\n",
       "      <td>559</td>\n",
       "      <td>7</td>\n",
       "      <td>566</td>\n",
       "    </tr>\n",
       "    <tr>\n",
       "      <th>1</th>\n",
       "      <td>22</td>\n",
       "      <td>79</td>\n",
       "      <td>101</td>\n",
       "    </tr>\n",
       "    <tr>\n",
       "      <th>All</th>\n",
       "      <td>581</td>\n",
       "      <td>86</td>\n",
       "      <td>667</td>\n",
       "    </tr>\n",
       "  </tbody>\n",
       "</table>\n",
       "</div>"
      ],
      "text/plain": [
       "Predicted    0   1  All\n",
       "Actual                 \n",
       "0          559   7  566\n",
       "1           22  79  101\n",
       "All        581  86  667"
      ]
     },
     "execution_count": 132,
     "metadata": {},
     "output_type": "execute_result"
    }
   ],
   "source": [
    "pd.crosstab(ytest, testp, rownames=['Actual'], colnames=['Predicted'], margins=True)"
   ]
  },
  {
   "cell_type": "code",
   "execution_count": 133,
   "metadata": {},
   "outputs": [
    {
     "data": {
      "text/plain": [
       "DecisionTreeClassifier(max_depth=10, min_samples_split=3, random_state=42)"
      ]
     },
     "execution_count": 133,
     "metadata": {},
     "output_type": "execute_result"
    }
   ],
   "source": [
    "model=tree.DecisionTreeClassifier(random_state=42,max_depth=10,min_samples_split=3)\n",
    "model.fit(Xtrain[impcols],ytrain) # Model with max_depth=10,min_sample_split=3 and 9 cols"
   ]
  },
  {
   "cell_type": "code",
   "execution_count": 134,
   "metadata": {},
   "outputs": [],
   "source": [
    "trainp=model.predict(Xtrain[impcols])\n",
    "testp=model.predict(Xtest[impcols])"
   ]
  },
  {
   "cell_type": "code",
   "execution_count": 135,
   "metadata": {},
   "outputs": [
    {
     "name": "stdout",
     "output_type": "stream",
     "text": [
      "AUC: 0.9286626291708311\n",
      "accuracy: 0.9786196549137285\n",
      "recall  : 0.8586387434554974\n",
      "precision : 0.9909365558912386\n",
      "f1-score :  0.9200561009817672\n"
     ]
    }
   ],
   "source": [
    "printscores(ytrain,trainp)"
   ]
  },
  {
   "cell_type": "code",
   "execution_count": 136,
   "metadata": {},
   "outputs": [
    {
     "name": "stdout",
     "output_type": "stream",
     "text": [
      "AUC: 0.8758877654549908\n",
      "accuracy: 0.9550224887556222\n",
      "recall  : 0.7623762376237624\n",
      "precision : 0.927710843373494\n",
      "f1-score :  0.8369565217391305\n"
     ]
    }
   ],
   "source": [
    "printscores(ytest,testp)"
   ]
  },
  {
   "cell_type": "code",
   "execution_count": 137,
   "metadata": {},
   "outputs": [
    {
     "data": {
      "text/html": [
       "<div>\n",
       "<style scoped>\n",
       "    .dataframe tbody tr th:only-of-type {\n",
       "        vertical-align: middle;\n",
       "    }\n",
       "\n",
       "    .dataframe tbody tr th {\n",
       "        vertical-align: top;\n",
       "    }\n",
       "\n",
       "    .dataframe thead th {\n",
       "        text-align: right;\n",
       "    }\n",
       "</style>\n",
       "<table border=\"1\" class=\"dataframe\">\n",
       "  <thead>\n",
       "    <tr style=\"text-align: right;\">\n",
       "      <th>Predicted</th>\n",
       "      <th>0</th>\n",
       "      <th>1</th>\n",
       "      <th>All</th>\n",
       "    </tr>\n",
       "    <tr>\n",
       "      <th>Actual</th>\n",
       "      <th></th>\n",
       "      <th></th>\n",
       "      <th></th>\n",
       "    </tr>\n",
       "  </thead>\n",
       "  <tbody>\n",
       "    <tr>\n",
       "      <th>0</th>\n",
       "      <td>560</td>\n",
       "      <td>6</td>\n",
       "      <td>566</td>\n",
       "    </tr>\n",
       "    <tr>\n",
       "      <th>1</th>\n",
       "      <td>24</td>\n",
       "      <td>77</td>\n",
       "      <td>101</td>\n",
       "    </tr>\n",
       "    <tr>\n",
       "      <th>All</th>\n",
       "      <td>584</td>\n",
       "      <td>83</td>\n",
       "      <td>667</td>\n",
       "    </tr>\n",
       "  </tbody>\n",
       "</table>\n",
       "</div>"
      ],
      "text/plain": [
       "Predicted    0   1  All\n",
       "Actual                 \n",
       "0          560   6  566\n",
       "1           24  77  101\n",
       "All        584  83  667"
      ]
     },
     "execution_count": 137,
     "metadata": {},
     "output_type": "execute_result"
    }
   ],
   "source": [
    "pd.crosstab(ytest, testp, rownames=['Actual'], colnames=['Predicted'], margins=True)"
   ]
  },
  {
   "cell_type": "code",
   "execution_count": 138,
   "metadata": {},
   "outputs": [
    {
     "data": {
      "text/plain": [
       "DecisionTreeClassifier(max_depth=10, min_samples_split=6, random_state=42)"
      ]
     },
     "execution_count": 138,
     "metadata": {},
     "output_type": "execute_result"
    }
   ],
   "source": [
    "model=tree.DecisionTreeClassifier(random_state=42,max_depth=10,min_samples_split=6)\n",
    "model.fit(Xtrain[impcols],ytrain) # Model with max_depth=10,min_samples_split=6 and 9 cols"
   ]
  },
  {
   "cell_type": "code",
   "execution_count": 139,
   "metadata": {},
   "outputs": [],
   "source": [
    "trainp=model.predict(Xtrain[impcols])\n",
    "testp=model.predict(Xtest[impcols])"
   ]
  },
  {
   "cell_type": "code",
   "execution_count": 140,
   "metadata": {},
   "outputs": [
    {
     "name": "stdout",
     "output_type": "stream",
     "text": [
      "AUC: 0.920152483472552\n",
      "accuracy: 0.9752438109527382\n",
      "recall  : 0.8429319371727748\n",
      "precision : 0.9817073170731707\n",
      "f1-score :  0.9070422535211267\n"
     ]
    }
   ],
   "source": [
    "printscores(ytrain,trainp)"
   ]
  },
  {
   "cell_type": "code",
   "execution_count": 141,
   "metadata": {},
   "outputs": [
    {
     "name": "stdout",
     "output_type": "stream",
     "text": [
      "AUC: 0.8700538781793373\n",
      "accuracy: 0.952023988005997\n",
      "recall  : 0.7524752475247525\n",
      "precision : 0.9156626506024096\n",
      "f1-score :  0.826086956521739\n"
     ]
    }
   ],
   "source": [
    "printscores(ytest,testp)"
   ]
  },
  {
   "cell_type": "code",
   "execution_count": 142,
   "metadata": {},
   "outputs": [
    {
     "data": {
      "text/plain": [
       "DecisionTreeClassifier(max_depth=8, min_samples_split=7, random_state=42)"
      ]
     },
     "execution_count": 142,
     "metadata": {},
     "output_type": "execute_result"
    }
   ],
   "source": [
    "model=tree.DecisionTreeClassifier(random_state=42,max_depth=8,min_samples_split=7)\n",
    "model.fit(Xtrain[impcols],ytrain) # Model with max_depth=8,min_samples_split=7 and 9 cols"
   ]
  },
  {
   "cell_type": "code",
   "execution_count": 143,
   "metadata": {},
   "outputs": [],
   "source": [
    "trainp=model.predict(Xtrain[impcols])\n",
    "testp=model.predict(Xtest[impcols])"
   ]
  },
  {
   "cell_type": "code",
   "execution_count": 144,
   "metadata": {},
   "outputs": [
    {
     "name": "stdout",
     "output_type": "stream",
     "text": [
      "AUC: 0.9003000614335096\n",
      "accuracy: 0.9692423105776444\n",
      "recall  : 0.8036649214659686\n",
      "precision : 0.9777070063694268\n",
      "f1-score :  0.882183908045977\n"
     ]
    }
   ],
   "source": [
    "printscores(ytrain,trainp)"
   ]
  },
  {
   "cell_type": "code",
   "execution_count": 145,
   "metadata": {},
   "outputs": [
    {
     "name": "stdout",
     "output_type": "stream",
     "text": [
      "AUC: 0.8566193191757339\n",
      "accuracy: 0.9430284857571214\n",
      "recall  : 0.7326732673267327\n",
      "precision : 0.8705882352941177\n",
      "f1-score :  0.7956989247311828\n"
     ]
    }
   ],
   "source": [
    "printscores(ytest,testp)"
   ]
  },
  {
   "cell_type": "code",
   "execution_count": 146,
   "metadata": {},
   "outputs": [
    {
     "data": {
      "text/plain": [
       "DecisionTreeClassifier(max_depth=11, min_samples_split=5, random_state=42)"
      ]
     },
     "execution_count": 146,
     "metadata": {},
     "output_type": "execute_result"
    }
   ],
   "source": [
    "model=tree.DecisionTreeClassifier(random_state=42,max_depth=11,min_samples_split=5)\n",
    "model.fit(Xtrain[impcols],ytrain) # Model with max_depth=11,min_samples_split=5 and 9 cols"
   ]
  },
  {
   "cell_type": "code",
   "execution_count": 147,
   "metadata": {},
   "outputs": [],
   "source": [
    "trainp=model.predict(Xtrain[impcols])\n",
    "testp=model.predict(Xtest[impcols])"
   ]
  },
  {
   "cell_type": "code",
   "execution_count": 148,
   "metadata": {},
   "outputs": [
    {
     "name": "stdout",
     "output_type": "stream",
     "text": [
      "AUC: 0.9256069997524321\n",
      "accuracy: 0.977119279819955\n",
      "recall  : 0.8534031413612565\n",
      "precision : 0.9848942598187311\n",
      "f1-score :  0.914446002805049\n"
     ]
    }
   ],
   "source": [
    "printscores(ytrain,trainp)"
   ]
  },
  {
   "cell_type": "code",
   "execution_count": 149,
   "metadata": {},
   "outputs": [
    {
     "name": "stdout",
     "output_type": "stream",
     "text": [
      "AUC: 0.8651033831298325\n",
      "accuracy: 0.9505247376311844\n",
      "recall  : 0.7425742574257426\n",
      "precision : 0.9146341463414634\n",
      "f1-score :  0.819672131147541\n"
     ]
    }
   ],
   "source": [
    "printscores(ytest,testp)"
   ]
  },
  {
   "cell_type": "code",
   "execution_count": 150,
   "metadata": {},
   "outputs": [
    {
     "data": {
      "text/plain": [
       "9"
      ]
     },
     "execution_count": 150,
     "metadata": {},
     "output_type": "execute_result"
    }
   ],
   "source": [
    "len(impcols)"
   ]
  },
  {
   "cell_type": "code",
   "execution_count": 151,
   "metadata": {},
   "outputs": [
    {
     "data": {
      "text/plain": [
       "GridSearchCV(cv=5, estimator=DecisionTreeClassifier(random_state=42),\n",
       "             param_grid={'max_depth': [5, 6, 7, 8, 9, 10, 11, 12, 13, 14],\n",
       "                         'min_samples_split': [5, 6, 7, 8, 9, 10, 11, 12, 13,\n",
       "                                               14]},\n",
       "             scoring='recall')"
      ]
     },
     "execution_count": 151,
     "metadata": {},
     "output_type": "execute_result"
    }
   ],
   "source": [
    "maxdepthvalues=list(range(5,15))\n",
    "minsamplessplit=list(range(5,15))\n",
    "d={\"max_depth\": maxdepthvalues,\"min_samples_split\":minsamplessplit}\n",
    "obj=model_selection.GridSearchCV(estimator=tree.DecisionTreeClassifier(random_state=42), param_grid=d, cv=5 , scoring=\"recall\")\n",
    "obj.fit(Xtrain[impcols],ytrain)"
   ]
  },
  {
   "cell_type": "code",
   "execution_count": 152,
   "metadata": {},
   "outputs": [
    {
     "data": {
      "text/plain": [
       "{'max_depth': 8, 'min_samples_split': 7}"
      ]
     },
     "execution_count": 152,
     "metadata": {},
     "output_type": "execute_result"
    }
   ],
   "source": [
    "obj.best_params_ #{'max_depth': 8, 'min_samples_split': 7}"
   ]
  },
  {
   "cell_type": "code",
   "execution_count": 153,
   "metadata": {},
   "outputs": [
    {
     "data": {
      "text/plain": [
       "{'min_samples_split': 6}"
      ]
     },
     "execution_count": 153,
     "metadata": {},
     "output_type": "execute_result"
    }
   ],
   "source": [
    "minsamplessplit=list(range(5,15))\n",
    "d={\"min_samples_split\":minsamplessplit}\n",
    "obj=model_selection.GridSearchCV(estimator=tree.DecisionTreeClassifier(random_state=42), param_grid=d, cv=5 , scoring=\"recall\")\n",
    "obj.fit(Xtrain[impcols],ytrain)\n",
    "obj.best_params_ #{'min_samples_split': 6}"
   ]
  },
  {
   "cell_type": "code",
   "execution_count": 154,
   "metadata": {},
   "outputs": [
    {
     "data": {
      "text/plain": [
       "Index(['intplan', 'voice', 'tdmin', 'tdchar', 'temin', 'tecahr', 'tnmin',\n",
       "       'tical', 'tichar', 'ncsc'],\n",
       "      dtype='object')"
      ]
     },
     "execution_count": 154,
     "metadata": {},
     "output_type": "execute_result"
    }
   ],
   "source": [
    "from sklearn import feature_selection\n",
    "rfeobj=feature_selection.RFE(tree.DecisionTreeClassifier(random_state=42),n_features_to_select=10)\n",
    "rfeobj.fit(Xtrain,ytrain)\n",
    "impcols=Xtrain.columns[rfeobj.support_] \n",
    "impcols"
   ]
  },
  {
   "cell_type": "code",
   "execution_count": 155,
   "metadata": {},
   "outputs": [
    {
     "data": {
      "text/plain": [
       "{'min_samples_split': 5}"
      ]
     },
     "execution_count": 155,
     "metadata": {},
     "output_type": "execute_result"
    }
   ],
   "source": [
    "minsamplessplit=list(range(5,15))\n",
    "d={\"min_samples_split\":minsamplessplit}\n",
    "obj=model_selection.GridSearchCV(estimator=tree.DecisionTreeClassifier(random_state=42), param_grid=d, cv=5 , scoring=\"recall\")\n",
    "obj.fit(Xtrain[impcols],ytrain)\n",
    "obj.best_params_ #{'min_samples_split': 5}"
   ]
  },
  {
   "cell_type": "code",
   "execution_count": 156,
   "metadata": {},
   "outputs": [
    {
     "data": {
      "text/plain": [
       "{'max_depth': 13, 'min_samples_split': 8}"
      ]
     },
     "execution_count": 156,
     "metadata": {},
     "output_type": "execute_result"
    }
   ],
   "source": [
    "maxdepthvalues=list(range(5,15))\n",
    "minsamplessplit=list(range(5,15))\n",
    "d={\"max_depth\": maxdepthvalues,\"min_samples_split\":minsamplessplit}\n",
    "obj=model_selection.GridSearchCV(estimator=tree.DecisionTreeClassifier(random_state=42), param_grid=d, cv=5, scoring=\"recall\")\n",
    "obj.fit(Xtrain[impcols],ytrain)\n",
    "obj.best_params_ #{'max_depth': 13, 'min_samples_split': 8}"
   ]
  },
  {
   "cell_type": "code",
   "execution_count": 157,
   "metadata": {},
   "outputs": [
    {
     "data": {
      "text/plain": [
       "DecisionTreeClassifier(max_depth=10, min_samples_split=5, random_state=42)"
      ]
     },
     "execution_count": 157,
     "metadata": {},
     "output_type": "execute_result"
    }
   ],
   "source": [
    "model=tree.DecisionTreeClassifier(random_state=42,max_depth=10,min_samples_split=5)\n",
    "model.fit(Xtrain[impcols],ytrain) # Model with max_depth=10,min_samples_split=5 and 10 cols"
   ]
  },
  {
   "cell_type": "code",
   "execution_count": 158,
   "metadata": {},
   "outputs": [],
   "source": [
    "trainp=model.predict(Xtrain[impcols])\n",
    "testp=model.predict(Xtest[impcols])"
   ]
  },
  {
   "cell_type": "code",
   "execution_count": 159,
   "metadata": {},
   "outputs": [
    {
     "name": "stdout",
     "output_type": "stream",
     "text": [
      "AUC: 0.9214613839961123\n",
      "accuracy: 0.9756189047261815\n",
      "recall  : 0.8455497382198953\n",
      "precision : 0.9817629179331308\n",
      "f1-score :  0.9085794655414909\n"
     ]
    }
   ],
   "source": [
    "printscores(ytrain,trainp)"
   ]
  },
  {
   "cell_type": "code",
   "execution_count": 160,
   "metadata": {},
   "outputs": [
    {
     "name": "stdout",
     "output_type": "stream",
     "text": [
      "AUC: 0.8651033831298325\n",
      "accuracy: 0.9505247376311844\n",
      "recall  : 0.7425742574257426\n",
      "precision : 0.9146341463414634\n",
      "f1-score :  0.819672131147541\n"
     ]
    }
   ],
   "source": [
    "printscores(ytest,testp)"
   ]
  },
  {
   "cell_type": "markdown",
   "metadata": {},
   "source": []
  },
  {
   "cell_type": "code",
   "execution_count": 161,
   "metadata": {},
   "outputs": [
    {
     "data": {
      "text/plain": [
       "DecisionTreeClassifier(max_depth=10, min_samples_split=3, random_state=42)"
      ]
     },
     "execution_count": 161,
     "metadata": {},
     "output_type": "execute_result"
    }
   ],
   "source": [
    "model=tree.DecisionTreeClassifier(random_state=42,max_depth=10,min_samples_split=3)\n",
    "model.fit(Xtrain[impcols],ytrain) # Model with max_depth=10,min_samples_split=3 and 10 cols"
   ]
  },
  {
   "cell_type": "code",
   "execution_count": 162,
   "metadata": {},
   "outputs": [],
   "source": [
    "trainp=model.predict(Xtrain[impcols])\n",
    "testp=model.predict(Xtest[impcols])"
   ]
  },
  {
   "cell_type": "code",
   "execution_count": 163,
   "metadata": {},
   "outputs": [
    {
     "name": "stdout",
     "output_type": "stream",
     "text": [
      "AUC: 0.9286626291708311\n",
      "accuracy: 0.9786196549137285\n",
      "recall  : 0.8586387434554974\n",
      "precision : 0.9909365558912386\n",
      "f1-score :  0.9200561009817672\n"
     ]
    }
   ],
   "source": [
    "printscores(ytrain,trainp)"
   ]
  },
  {
   "cell_type": "code",
   "execution_count": 164,
   "metadata": {},
   "outputs": [
    {
     "name": "stdout",
     "output_type": "stream",
     "text": [
      "AUC: 0.8758877654549908\n",
      "accuracy: 0.9550224887556222\n",
      "recall  : 0.7623762376237624\n",
      "precision : 0.927710843373494\n",
      "f1-score :  0.8369565217391305\n"
     ]
    }
   ],
   "source": [
    "printscores(ytest,testp)"
   ]
  },
  {
   "cell_type": "code",
   "execution_count": 165,
   "metadata": {},
   "outputs": [
    {
     "data": {
      "text/plain": [
       "DecisionTreeClassifier(max_depth=13, min_samples_split=8, random_state=42)"
      ]
     },
     "execution_count": 165,
     "metadata": {},
     "output_type": "execute_result"
    }
   ],
   "source": [
    "model=tree.DecisionTreeClassifier(random_state=42,max_depth=13,min_samples_split=8)\n",
    "model.fit(Xtrain[impcols],ytrain) # Model with max_depth=14,min_samples_split=6 and 10 cols"
   ]
  },
  {
   "cell_type": "code",
   "execution_count": 166,
   "metadata": {},
   "outputs": [],
   "source": [
    "trainp=model.predict(Xtrain[impcols])\n",
    "testp=model.predict(Xtest[impcols])"
   ]
  },
  {
   "cell_type": "code",
   "execution_count": 167,
   "metadata": {},
   "outputs": [
    {
     "name": "stdout",
     "output_type": "stream",
     "text": [
      "AUC: 0.9105523514363522\n",
      "accuracy: 0.9718679669917479\n",
      "recall  : 0.824607329842932\n",
      "precision : 0.9752321981424149\n",
      "f1-score :  0.8936170212765957\n"
     ]
    }
   ],
   "source": [
    "printscores(ytrain,trainp)"
   ]
  },
  {
   "cell_type": "code",
   "execution_count": 168,
   "metadata": {},
   "outputs": [
    {
     "name": "stdout",
     "output_type": "stream",
     "text": [
      "AUC: 0.8624532064513871\n",
      "accuracy: 0.9460269865067467\n",
      "recall  : 0.7425742574257426\n",
      "precision : 0.8823529411764706\n",
      "f1-score :  0.8064516129032258\n"
     ]
    }
   ],
   "source": [
    "printscores(ytest,testp)"
   ]
  },
  {
   "cell_type": "code",
   "execution_count": 169,
   "metadata": {},
   "outputs": [
    {
     "data": {
      "text/plain": [
       "DecisionTreeClassifier(max_depth=10, random_state=42)"
      ]
     },
     "execution_count": 169,
     "metadata": {},
     "output_type": "execute_result"
    }
   ],
   "source": [
    "model=tree.DecisionTreeClassifier(random_state=42,max_depth=10)\n",
    "model.fit(Xtrain[impcols],ytrain) # Model with max_depth=10 and 10 cols"
   ]
  },
  {
   "cell_type": "code",
   "execution_count": 170,
   "metadata": {},
   "outputs": [],
   "source": [
    "trainp=model.predict(Xtrain[impcols])\n",
    "testp=model.predict(Xtest[impcols])"
   ]
  },
  {
   "cell_type": "code",
   "execution_count": 171,
   "metadata": {},
   "outputs": [
    {
     "name": "stdout",
     "output_type": "stream",
     "text": [
      "AUC: 0.9325893307415116\n",
      "accuracy: 0.9797449362340586\n",
      "recall  : 0.8664921465968587\n",
      "precision : 0.9910179640718563\n",
      "f1-score :  0.9245810055865922\n"
     ]
    }
   ],
   "source": [
    "printscores(ytrain,trainp)"
   ]
  },
  {
   "cell_type": "code",
   "execution_count": 172,
   "metadata": {},
   "outputs": [
    {
     "name": "stdout",
     "output_type": "stream",
     "text": [
      "AUC: 0.8799548682783472\n",
      "accuracy: 0.9550224887556222\n",
      "recall  : 0.7722772277227723\n",
      "precision : 0.9176470588235294\n",
      "f1-score :  0.8387096774193548\n"
     ]
    }
   ],
   "source": [
    "printscores(ytest,testp)"
   ]
  },
  {
   "cell_type": "code",
   "execution_count": 173,
   "metadata": {},
   "outputs": [
    {
     "data": {
      "text/plain": [
       "Index(['intplan', 'voice', 'tdmin', 'tdchar', 'temin', 'tecahr', 'tnmin',\n",
       "       'tnchar', 'tical', 'tichar', 'ncsc'],\n",
       "      dtype='object')"
      ]
     },
     "execution_count": 173,
     "metadata": {},
     "output_type": "execute_result"
    }
   ],
   "source": [
    "from sklearn import feature_selection\n",
    "rfeobj=feature_selection.RFE(tree.DecisionTreeClassifier(random_state=42),n_features_to_select=11)\n",
    "rfeobj.fit(Xtrain,ytrain)\n",
    "impcols=Xtrain.columns[rfeobj.support_] \n",
    "impcols"
   ]
  },
  {
   "cell_type": "code",
   "execution_count": 174,
   "metadata": {},
   "outputs": [
    {
     "data": {
      "text/plain": [
       "{'max_depth': 14, 'min_samples_split': 8}"
      ]
     },
     "execution_count": 174,
     "metadata": {},
     "output_type": "execute_result"
    }
   ],
   "source": [
    "maxdepthvalues=list(range(5,15))\n",
    "minsamplessplit=list(range(5,15))\n",
    "d={\"max_depth\": maxdepthvalues,\"min_samples_split\":minsamplessplit}\n",
    "obj=model_selection.GridSearchCV(estimator=tree.DecisionTreeClassifier(random_state=42), param_grid=d, cv=5, scoring=\"recall\")\n",
    "obj.fit(Xtrain[impcols],ytrain)\n",
    "obj.best_params_ "
   ]
  },
  {
   "cell_type": "code",
   "execution_count": 175,
   "metadata": {},
   "outputs": [
    {
     "data": {
      "text/plain": [
       "{'min_samples_split': 7}"
      ]
     },
     "execution_count": 175,
     "metadata": {},
     "output_type": "execute_result"
    }
   ],
   "source": [
    "minsamplessplit=list(range(5,15))\n",
    "d={\"min_samples_split\":minsamplessplit}\n",
    "obj=model_selection.GridSearchCV(estimator=tree.DecisionTreeClassifier(random_state=42), param_grid=d, cv=5 , scoring=\"recall\")\n",
    "obj.fit(Xtrain[impcols],ytrain)\n",
    "obj.best_params_ "
   ]
  },
  {
   "cell_type": "code",
   "execution_count": 176,
   "metadata": {},
   "outputs": [
    {
     "data": {
      "text/plain": [
       "DecisionTreeClassifier(max_depth=9, random_state=42)"
      ]
     },
     "execution_count": 176,
     "metadata": {},
     "output_type": "execute_result"
    }
   ],
   "source": [
    "model=tree.DecisionTreeClassifier(random_state=42,max_depth=9)\n",
    "model.fit(Xtrain[impcols],ytrain) # Model with max_depth=9 and 11 cols"
   ]
  },
  {
   "cell_type": "code",
   "execution_count": 177,
   "metadata": {},
   "outputs": [],
   "source": [
    "trainp=model.predict(Xtrain[impcols])\n",
    "testp=model.predict(Xtest[impcols])"
   ]
  },
  {
   "cell_type": "code",
   "execution_count": 178,
   "metadata": {},
   "outputs": [
    {
     "name": "stdout",
     "output_type": "stream",
     "text": [
      "AUC: 0.9277915570185493\n",
      "accuracy: 0.9789947486871718\n",
      "recall  : 0.856020942408377\n",
      "precision : 0.9969512195121951\n",
      "f1-score :  0.9211267605633803\n"
     ]
    }
   ],
   "source": [
    "printscores(ytrain,trainp)"
   ]
  },
  {
   "cell_type": "code",
   "execution_count": 179,
   "metadata": {},
   "outputs": [
    {
     "name": "stdout",
     "output_type": "stream",
     "text": [
      "AUC: 0.8691704859531889\n",
      "accuracy: 0.9505247376311844\n",
      "recall  : 0.7524752475247525\n",
      "precision : 0.9047619047619048\n",
      "f1-score :  0.8216216216216216\n"
     ]
    }
   ],
   "source": [
    "printscores(ytest,testp)"
   ]
  },
  {
   "cell_type": "code",
   "execution_count": 180,
   "metadata": {},
   "outputs": [
    {
     "data": {
      "text/plain": [
       "DecisionTreeClassifier(max_depth=9, min_samples_split=7, random_state=42)"
      ]
     },
     "execution_count": 180,
     "metadata": {},
     "output_type": "execute_result"
    }
   ],
   "source": [
    "model=tree.DecisionTreeClassifier(random_state=42,max_depth=9,min_samples_split=7)\n",
    "model.fit(Xtrain[impcols],ytrain) # Model with max_depth=9,min_samples_split=7 and 11 cols"
   ]
  },
  {
   "cell_type": "code",
   "execution_count": 181,
   "metadata": {},
   "outputs": [],
   "source": [
    "trainp=model.predict(Xtrain[impcols])\n",
    "testp=model.predict(Xtest[impcols])"
   ]
  },
  {
   "cell_type": "code",
   "execution_count": 182,
   "metadata": {},
   "outputs": [
    {
     "name": "stdout",
     "output_type": "stream",
     "text": [
      "AUC: 0.9048835055611081\n",
      "accuracy: 0.9714928732183046\n",
      "recall  : 0.8115183246073299\n",
      "precision : 0.9872611464968153\n",
      "f1-score :  0.8908045977011495\n"
     ]
    }
   ],
   "source": [
    "printscores(ytrain,trainp)"
   ]
  },
  {
   "cell_type": "code",
   "execution_count": 183,
   "metadata": {},
   "outputs": [
    {
     "name": "stdout",
     "output_type": "stream",
     "text": [
      "AUC: 0.854319000804674\n",
      "accuracy: 0.9460269865067467\n",
      "recall  : 0.7227722772277227\n",
      "precision : 0.9012345679012346\n",
      "f1-score :  0.8021978021978022\n"
     ]
    }
   ],
   "source": [
    "printscores(ytest,testp)"
   ]
  },
  {
   "cell_type": "code",
   "execution_count": 184,
   "metadata": {},
   "outputs": [
    {
     "data": {
      "text/plain": [
       "DecisionTreeClassifier(max_depth=14, min_samples_split=8, random_state=42)"
      ]
     },
     "execution_count": 184,
     "metadata": {},
     "output_type": "execute_result"
    }
   ],
   "source": [
    "model=tree.DecisionTreeClassifier(random_state=42,max_depth=14,min_samples_split=8)\n",
    "model.fit(Xtrain[impcols],ytrain) # Model with max_depth=18,min_samples_split=6 and 11 cols"
   ]
  },
  {
   "cell_type": "code",
   "execution_count": 185,
   "metadata": {},
   "outputs": [],
   "source": [
    "trainp=model.predict(Xtrain[impcols])\n",
    "testp=model.predict(Xtest[impcols])"
   ]
  },
  {
   "cell_type": "code",
   "execution_count": 186,
   "metadata": {},
   "outputs": [
    {
     "name": "stdout",
     "output_type": "stream",
     "text": [
      "AUC: 0.9116423377742732\n",
      "accuracy: 0.9718679669917479\n",
      "recall  : 0.8272251308900523\n",
      "precision : 0.9723076923076923\n",
      "f1-score :  0.8939179632248939\n"
     ]
    }
   ],
   "source": [
    "printscores(ytrain,trainp)"
   ]
  },
  {
   "cell_type": "code",
   "execution_count": 187,
   "metadata": {},
   "outputs": [
    {
     "name": "stdout",
     "output_type": "stream",
     "text": [
      "AUC: 0.8633365986775355\n",
      "accuracy: 0.9475262368815592\n",
      "recall  : 0.7425742574257426\n",
      "precision : 0.8928571428571429\n",
      "f1-score :  0.8108108108108107\n"
     ]
    }
   ],
   "source": [
    "printscores(ytest,testp)"
   ]
  },
  {
   "cell_type": "code",
   "execution_count": 188,
   "metadata": {},
   "outputs": [
    {
     "data": {
      "text/plain": [
       "11"
      ]
     },
     "execution_count": 188,
     "metadata": {},
     "output_type": "execute_result"
    }
   ],
   "source": [
    "len(impcols)"
   ]
  },
  {
   "cell_type": "code",
   "execution_count": null,
   "metadata": {},
   "outputs": [],
   "source": []
  },
  {
   "cell_type": "code",
   "execution_count": null,
   "metadata": {},
   "outputs": [],
   "source": []
  },
  {
   "cell_type": "code",
   "execution_count": null,
   "metadata": {},
   "outputs": [],
   "source": []
  },
  {
   "cell_type": "code",
   "execution_count": null,
   "metadata": {},
   "outputs": [],
   "source": []
  }
 ],
 "metadata": {
  "kernelspec": {
   "display_name": "Python 3",
   "language": "python",
   "name": "python3"
  },
  "language_info": {
   "codemirror_mode": {
    "name": "ipython",
    "version": 3
   },
   "file_extension": ".py",
   "mimetype": "text/x-python",
   "name": "python",
   "nbconvert_exporter": "python",
   "pygments_lexer": "ipython3",
   "version": "3.8.5"
  }
 },
 "nbformat": 4,
 "nbformat_minor": 4
}
