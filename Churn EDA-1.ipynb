{
 "cells": [
  {
   "cell_type": "code",
   "execution_count": 1,
   "metadata": {},
   "outputs": [],
   "source": [
    "import numpy as np\n",
    "import pandas as pd\n",
    "import matplotlib.pyplot as plt\n",
    "import seaborn as sns"
   ]
  },
  {
   "cell_type": "code",
   "execution_count": 2,
   "metadata": {},
   "outputs": [],
   "source": [
    "df=pd.read_csv(\"churn_train.csv\")"
   ]
  },
  {
   "cell_type": "code",
   "execution_count": 3,
   "metadata": {},
   "outputs": [
    {
     "data": {
      "text/html": [
       "<div>\n",
       "<style scoped>\n",
       "    .dataframe tbody tr th:only-of-type {\n",
       "        vertical-align: middle;\n",
       "    }\n",
       "\n",
       "    .dataframe tbody tr th {\n",
       "        vertical-align: top;\n",
       "    }\n",
       "\n",
       "    .dataframe thead th {\n",
       "        text-align: right;\n",
       "    }\n",
       "</style>\n",
       "<table border=\"1\" class=\"dataframe\">\n",
       "  <thead>\n",
       "    <tr style=\"text-align: right;\">\n",
       "      <th></th>\n",
       "      <th>st</th>\n",
       "      <th>acclen</th>\n",
       "      <th>arcode</th>\n",
       "      <th>phnum</th>\n",
       "      <th>intplan</th>\n",
       "      <th>voice</th>\n",
       "      <th>nummailmes</th>\n",
       "      <th>tdmin</th>\n",
       "      <th>tdcal</th>\n",
       "      <th>tdchar</th>\n",
       "      <th>...</th>\n",
       "      <th>tecal</th>\n",
       "      <th>tecahr</th>\n",
       "      <th>tnmin</th>\n",
       "      <th>tncal</th>\n",
       "      <th>tnchar</th>\n",
       "      <th>timin</th>\n",
       "      <th>tical</th>\n",
       "      <th>tichar</th>\n",
       "      <th>ncsc</th>\n",
       "      <th>label</th>\n",
       "    </tr>\n",
       "  </thead>\n",
       "  <tbody>\n",
       "    <tr>\n",
       "      <th>0</th>\n",
       "      <td>KS</td>\n",
       "      <td>128</td>\n",
       "      <td>415</td>\n",
       "      <td>382-4657</td>\n",
       "      <td>no</td>\n",
       "      <td>yes</td>\n",
       "      <td>25</td>\n",
       "      <td>265.1</td>\n",
       "      <td>110</td>\n",
       "      <td>45.07</td>\n",
       "      <td>...</td>\n",
       "      <td>99</td>\n",
       "      <td>16.78</td>\n",
       "      <td>244.7</td>\n",
       "      <td>91</td>\n",
       "      <td>11.01</td>\n",
       "      <td>10.0</td>\n",
       "      <td>3</td>\n",
       "      <td>2.70</td>\n",
       "      <td>1</td>\n",
       "      <td>False.</td>\n",
       "    </tr>\n",
       "    <tr>\n",
       "      <th>1</th>\n",
       "      <td>OH</td>\n",
       "      <td>107</td>\n",
       "      <td>415</td>\n",
       "      <td>371-7191</td>\n",
       "      <td>no</td>\n",
       "      <td>yes</td>\n",
       "      <td>26</td>\n",
       "      <td>161.6</td>\n",
       "      <td>123</td>\n",
       "      <td>27.47</td>\n",
       "      <td>...</td>\n",
       "      <td>103</td>\n",
       "      <td>16.62</td>\n",
       "      <td>254.4</td>\n",
       "      <td>103</td>\n",
       "      <td>11.45</td>\n",
       "      <td>13.7</td>\n",
       "      <td>3</td>\n",
       "      <td>3.70</td>\n",
       "      <td>1</td>\n",
       "      <td>False.</td>\n",
       "    </tr>\n",
       "    <tr>\n",
       "      <th>2</th>\n",
       "      <td>NJ</td>\n",
       "      <td>137</td>\n",
       "      <td>415</td>\n",
       "      <td>358-1921</td>\n",
       "      <td>no</td>\n",
       "      <td>no</td>\n",
       "      <td>0</td>\n",
       "      <td>243.4</td>\n",
       "      <td>114</td>\n",
       "      <td>41.38</td>\n",
       "      <td>...</td>\n",
       "      <td>110</td>\n",
       "      <td>10.30</td>\n",
       "      <td>162.6</td>\n",
       "      <td>104</td>\n",
       "      <td>7.32</td>\n",
       "      <td>12.2</td>\n",
       "      <td>5</td>\n",
       "      <td>3.29</td>\n",
       "      <td>0</td>\n",
       "      <td>False.</td>\n",
       "    </tr>\n",
       "  </tbody>\n",
       "</table>\n",
       "<p>3 rows × 21 columns</p>\n",
       "</div>"
      ],
      "text/plain": [
       "   st  acclen  arcode     phnum intplan voice  nummailmes  tdmin  tdcal  \\\n",
       "0  KS     128     415  382-4657      no   yes          25  265.1    110   \n",
       "1  OH     107     415  371-7191      no   yes          26  161.6    123   \n",
       "2  NJ     137     415  358-1921      no    no           0  243.4    114   \n",
       "\n",
       "   tdchar  ...  tecal  tecahr  tnmin  tncal  tnchar  timin  tical  tichar  \\\n",
       "0   45.07  ...     99   16.78  244.7     91   11.01   10.0      3    2.70   \n",
       "1   27.47  ...    103   16.62  254.4    103   11.45   13.7      3    3.70   \n",
       "2   41.38  ...    110   10.30  162.6    104    7.32   12.2      5    3.29   \n",
       "\n",
       "   ncsc   label  \n",
       "0     1  False.  \n",
       "1     1  False.  \n",
       "2     0  False.  \n",
       "\n",
       "[3 rows x 21 columns]"
      ]
     },
     "execution_count": 3,
     "metadata": {},
     "output_type": "execute_result"
    }
   ],
   "source": [
    "df[:3]"
   ]
  },
  {
   "cell_type": "code",
   "execution_count": 4,
   "metadata": {},
   "outputs": [
    {
     "data": {
      "text/plain": [
       "st            0\n",
       "acclen        0\n",
       "arcode        0\n",
       "phnum         0\n",
       "intplan       0\n",
       "voice         0\n",
       "nummailmes    0\n",
       "tdmin         0\n",
       "tdcal         0\n",
       "tdchar        0\n",
       "temin         0\n",
       "tecal         0\n",
       "tecahr        0\n",
       "tnmin         0\n",
       "tncal         0\n",
       "tnchar        0\n",
       "timin         0\n",
       "tical         0\n",
       "tichar        0\n",
       "ncsc          0\n",
       "label         0\n",
       "dtype: int64"
      ]
     },
     "execution_count": 4,
     "metadata": {},
     "output_type": "execute_result"
    }
   ],
   "source": [
    "df.isna().sum()"
   ]
  },
  {
   "cell_type": "code",
   "execution_count": 5,
   "metadata": {},
   "outputs": [
    {
     "name": "stdout",
     "output_type": "stream",
     "text": [
      "<class 'pandas.core.frame.DataFrame'>\n",
      "RangeIndex: 3333 entries, 0 to 3332\n",
      "Data columns (total 21 columns):\n",
      " #   Column      Non-Null Count  Dtype  \n",
      "---  ------      --------------  -----  \n",
      " 0   st          3333 non-null   object \n",
      " 1   acclen      3333 non-null   int64  \n",
      " 2   arcode      3333 non-null   int64  \n",
      " 3   phnum       3333 non-null   object \n",
      " 4   intplan     3333 non-null   object \n",
      " 5   voice       3333 non-null   object \n",
      " 6   nummailmes  3333 non-null   int64  \n",
      " 7   tdmin       3333 non-null   float64\n",
      " 8   tdcal       3333 non-null   int64  \n",
      " 9   tdchar      3333 non-null   float64\n",
      " 10  temin       3333 non-null   float64\n",
      " 11  tecal       3333 non-null   int64  \n",
      " 12  tecahr      3333 non-null   float64\n",
      " 13  tnmin       3333 non-null   float64\n",
      " 14  tncal       3333 non-null   int64  \n",
      " 15  tnchar      3333 non-null   float64\n",
      " 16  timin       3333 non-null   float64\n",
      " 17  tical       3333 non-null   int64  \n",
      " 18  tichar      3333 non-null   float64\n",
      " 19  ncsc        3333 non-null   int64  \n",
      " 20  label       3333 non-null   object \n",
      "dtypes: float64(8), int64(8), object(5)\n",
      "memory usage: 546.9+ KB\n"
     ]
    }
   ],
   "source": [
    "df.info()"
   ]
  },
  {
   "cell_type": "code",
   "execution_count": 6,
   "metadata": {},
   "outputs": [
    {
     "name": "stdout",
     "output_type": "stream",
     "text": [
      "st  :  51\n",
      "acclen  :  212\n",
      "arcode  :  3\n",
      "phnum  :  3333\n",
      "intplan  :  2\n",
      "voice  :  2\n",
      "nummailmes  :  46\n",
      "tdmin  :  1667\n",
      "tdcal  :  119\n",
      "tdchar  :  1667\n",
      "temin  :  1611\n",
      "tecal  :  123\n",
      "tecahr  :  1440\n",
      "tnmin  :  1591\n",
      "tncal  :  120\n",
      "tnchar  :  933\n",
      "timin  :  162\n",
      "tical  :  21\n",
      "tichar  :  162\n",
      "ncsc  :  10\n",
      "label  :  2\n"
     ]
    }
   ],
   "source": [
    "for col in df:\n",
    "    print(col,\" : \",df[col].nunique())"
   ]
  },
  {
   "cell_type": "code",
   "execution_count": 7,
   "metadata": {},
   "outputs": [
    {
     "name": "stdout",
     "output_type": "stream",
     "text": [
      "st  :  count     3333\n",
      "unique      51\n",
      "top         WV\n",
      "freq       106\n",
      "Name: st, dtype: object\n",
      "\n",
      "acclen  :  count    3333.000000\n",
      "mean      101.064806\n",
      "std        39.822106\n",
      "min         1.000000\n",
      "25%        74.000000\n",
      "50%       101.000000\n",
      "75%       127.000000\n",
      "max       243.000000\n",
      "Name: acclen, dtype: float64\n",
      "\n",
      "arcode  :  count    3333.000000\n",
      "mean      437.182418\n",
      "std        42.371290\n",
      "min       408.000000\n",
      "25%       408.000000\n",
      "50%       415.000000\n",
      "75%       510.000000\n",
      "max       510.000000\n",
      "Name: arcode, dtype: float64\n",
      "\n",
      "phnum  :  count         3333\n",
      "unique        3333\n",
      "top       370-9116\n",
      "freq             1\n",
      "Name: phnum, dtype: object\n",
      "\n",
      "intplan  :  count     3333\n",
      "unique       2\n",
      "top         no\n",
      "freq      3010\n",
      "Name: intplan, dtype: object\n",
      "\n",
      "voice  :  count     3333\n",
      "unique       2\n",
      "top         no\n",
      "freq      2411\n",
      "Name: voice, dtype: object\n",
      "\n",
      "nummailmes  :  count    3333.000000\n",
      "mean        8.099010\n",
      "std        13.688365\n",
      "min         0.000000\n",
      "25%         0.000000\n",
      "50%         0.000000\n",
      "75%        20.000000\n",
      "max        51.000000\n",
      "Name: nummailmes, dtype: float64\n",
      "\n",
      "tdmin  :  count    3333.000000\n",
      "mean      179.775098\n",
      "std        54.467389\n",
      "min         0.000000\n",
      "25%       143.700000\n",
      "50%       179.400000\n",
      "75%       216.400000\n",
      "max       350.800000\n",
      "Name: tdmin, dtype: float64\n",
      "\n",
      "tdcal  :  count    3333.000000\n",
      "mean      100.435644\n",
      "std        20.069084\n",
      "min         0.000000\n",
      "25%        87.000000\n",
      "50%       101.000000\n",
      "75%       114.000000\n",
      "max       165.000000\n",
      "Name: tdcal, dtype: float64\n",
      "\n",
      "tdchar  :  count    3333.000000\n",
      "mean       30.562307\n",
      "std         9.259435\n",
      "min         0.000000\n",
      "25%        24.430000\n",
      "50%        30.500000\n",
      "75%        36.790000\n",
      "max        59.640000\n",
      "Name: tdchar, dtype: float64\n",
      "\n",
      "temin  :  count    3333.000000\n",
      "mean      200.980348\n",
      "std        50.713844\n",
      "min         0.000000\n",
      "25%       166.600000\n",
      "50%       201.400000\n",
      "75%       235.300000\n",
      "max       363.700000\n",
      "Name: temin, dtype: float64\n",
      "\n",
      "tecal  :  count    3333.000000\n",
      "mean      100.114311\n",
      "std        19.922625\n",
      "min         0.000000\n",
      "25%        87.000000\n",
      "50%       100.000000\n",
      "75%       114.000000\n",
      "max       170.000000\n",
      "Name: tecal, dtype: float64\n",
      "\n",
      "tecahr  :  count    3333.000000\n",
      "mean       17.083540\n",
      "std         4.310668\n",
      "min         0.000000\n",
      "25%        14.160000\n",
      "50%        17.120000\n",
      "75%        20.000000\n",
      "max        30.910000\n",
      "Name: tecahr, dtype: float64\n",
      "\n",
      "tnmin  :  count    3333.000000\n",
      "mean      200.872037\n",
      "std        50.573847\n",
      "min        23.200000\n",
      "25%       167.000000\n",
      "50%       201.200000\n",
      "75%       235.300000\n",
      "max       395.000000\n",
      "Name: tnmin, dtype: float64\n",
      "\n",
      "tncal  :  count    3333.000000\n",
      "mean      100.107711\n",
      "std        19.568609\n",
      "min        33.000000\n",
      "25%        87.000000\n",
      "50%       100.000000\n",
      "75%       113.000000\n",
      "max       175.000000\n",
      "Name: tncal, dtype: float64\n",
      "\n",
      "tnchar  :  count    3333.000000\n",
      "mean        9.039325\n",
      "std         2.275873\n",
      "min         1.040000\n",
      "25%         7.520000\n",
      "50%         9.050000\n",
      "75%        10.590000\n",
      "max        17.770000\n",
      "Name: tnchar, dtype: float64\n",
      "\n",
      "timin  :  count    3333.000000\n",
      "mean       10.237294\n",
      "std         2.791840\n",
      "min         0.000000\n",
      "25%         8.500000\n",
      "50%        10.300000\n",
      "75%        12.100000\n",
      "max        20.000000\n",
      "Name: timin, dtype: float64\n",
      "\n",
      "tical  :  count    3333.000000\n",
      "mean        4.479448\n",
      "std         2.461214\n",
      "min         0.000000\n",
      "25%         3.000000\n",
      "50%         4.000000\n",
      "75%         6.000000\n",
      "max        20.000000\n",
      "Name: tical, dtype: float64\n",
      "\n",
      "tichar  :  count    3333.000000\n",
      "mean        2.764581\n",
      "std         0.753773\n",
      "min         0.000000\n",
      "25%         2.300000\n",
      "50%         2.780000\n",
      "75%         3.270000\n",
      "max         5.400000\n",
      "Name: tichar, dtype: float64\n",
      "\n",
      "ncsc  :  count    3333.000000\n",
      "mean        1.562856\n",
      "std         1.315491\n",
      "min         0.000000\n",
      "25%         1.000000\n",
      "50%         1.000000\n",
      "75%         2.000000\n",
      "max         9.000000\n",
      "Name: ncsc, dtype: float64\n",
      "\n",
      "label  :  count       3333\n",
      "unique         2\n",
      "top       False.\n",
      "freq        2850\n",
      "Name: label, dtype: object\n",
      "\n"
     ]
    }
   ],
   "source": [
    "for col in df:\n",
    "    print(col,\" : \",df[col].describe())\n",
    "    print()"
   ]
  },
  {
   "cell_type": "code",
   "execution_count": 8,
   "metadata": {},
   "outputs": [
    {
     "name": "stdout",
     "output_type": "stream",
     "text": [
      "st  :  WV    0.03\n",
      "MN    0.03\n",
      "NY    0.02\n",
      "AL    0.02\n",
      "WI    0.02\n",
      "OR    0.02\n",
      "OH    0.02\n",
      "VA    0.02\n",
      "WY    0.02\n",
      "CT    0.02\n",
      "MI    0.02\n",
      "VT    0.02\n",
      "ID    0.02\n",
      "UT    0.02\n",
      "TX    0.02\n",
      "IN    0.02\n",
      "MD    0.02\n",
      "KS    0.02\n",
      "MT    0.02\n",
      "NJ    0.02\n",
      "NC    0.02\n",
      "WA    0.02\n",
      "NV    0.02\n",
      "CO    0.02\n",
      "MS    0.02\n",
      "RI    0.02\n",
      "MA    0.02\n",
      "AZ    0.02\n",
      "FL    0.02\n",
      "MO    0.02\n",
      "NM    0.02\n",
      "ND    0.02\n",
      "ME    0.02\n",
      "DE    0.02\n",
      "OK    0.02\n",
      "NE    0.02\n",
      "SC    0.02\n",
      "SD    0.02\n",
      "KY    0.02\n",
      "IL    0.02\n",
      "NH    0.02\n",
      "AR    0.02\n",
      "DC    0.02\n",
      "GA    0.02\n",
      "TN    0.02\n",
      "HI    0.02\n",
      "AK    0.02\n",
      "LA    0.02\n",
      "PA    0.01\n",
      "IA    0.01\n",
      "CA    0.01\n",
      "Name: st, dtype: float64\n",
      "\n",
      "acclen  :  105    0.01\n",
      "87     0.01\n",
      "93     0.01\n",
      "101    0.01\n",
      "90     0.01\n",
      "       ... \n",
      "191    0.00\n",
      "199    0.00\n",
      "215    0.00\n",
      "221    0.00\n",
      "2      0.00\n",
      "Name: acclen, Length: 212, dtype: float64\n",
      "\n",
      "arcode  :  415    0.50\n",
      "510    0.25\n",
      "408    0.25\n",
      "Name: arcode, dtype: float64\n",
      "\n",
      "phnum  :  370-9116    0.0\n",
      "380-3311    0.0\n",
      "381-8593    0.0\n",
      "332-6934    0.0\n",
      "330-6436    0.0\n",
      "           ... \n",
      "353-2391    0.0\n",
      "383-4061    0.0\n",
      "367-2056    0.0\n",
      "329-8788    0.0\n",
      "405-9864    0.0\n",
      "Name: phnum, Length: 3333, dtype: float64\n",
      "\n",
      "intplan  :  no     0.9\n",
      "yes    0.1\n",
      "Name: intplan, dtype: float64\n",
      "\n",
      "voice  :  no     0.72\n",
      "yes    0.28\n",
      "Name: voice, dtype: float64\n",
      "\n",
      "nummailmes  :  0     0.72\n",
      "31    0.02\n",
      "29    0.02\n",
      "28    0.02\n",
      "33    0.01\n",
      "27    0.01\n",
      "30    0.01\n",
      "24    0.01\n",
      "26    0.01\n",
      "32    0.01\n",
      "25    0.01\n",
      "23    0.01\n",
      "36    0.01\n",
      "35    0.01\n",
      "22    0.01\n",
      "39    0.01\n",
      "37    0.01\n",
      "34    0.01\n",
      "21    0.01\n",
      "38    0.01\n",
      "20    0.01\n",
      "19    0.01\n",
      "40    0.00\n",
      "42    0.00\n",
      "17    0.00\n",
      "41    0.00\n",
      "16    0.00\n",
      "43    0.00\n",
      "15    0.00\n",
      "18    0.00\n",
      "44    0.00\n",
      "14    0.00\n",
      "45    0.00\n",
      "12    0.00\n",
      "46    0.00\n",
      "13    0.00\n",
      "47    0.00\n",
      "8     0.00\n",
      "48    0.00\n",
      "50    0.00\n",
      "9     0.00\n",
      "11    0.00\n",
      "49    0.00\n",
      "10    0.00\n",
      "4     0.00\n",
      "51    0.00\n",
      "Name: nummailmes, dtype: float64\n",
      "\n",
      "tdmin  :  174.5    0.0\n",
      "159.5    0.0\n",
      "154.0    0.0\n",
      "175.4    0.0\n",
      "162.3    0.0\n",
      "        ... \n",
      "199.9    0.0\n",
      "105.8    0.0\n",
      "125.6    0.0\n",
      "179.8    0.0\n",
      "270.8    0.0\n",
      "Name: tdmin, Length: 1667, dtype: float64\n",
      "\n",
      "tdcal  :  102    0.02\n",
      "105    0.02\n",
      "107    0.02\n",
      "95     0.02\n",
      "104    0.02\n",
      "       ... \n",
      "149    0.00\n",
      "157    0.00\n",
      "36     0.00\n",
      "30     0.00\n",
      "165    0.00\n",
      "Name: tdcal, Length: 119, dtype: float64\n",
      "\n",
      "tdchar  :  27.12    0.0\n",
      "26.18    0.0\n",
      "29.67    0.0\n",
      "31.18    0.0\n",
      "27.59    0.0\n",
      "        ... \n",
      "19.36    0.0\n",
      "16.95    0.0\n",
      "34.12    0.0\n",
      "48.35    0.0\n",
      "13.28    0.0\n",
      "Name: tdchar, Length: 1667, dtype: float64\n",
      "\n",
      "temin  :  169.9    0.0\n",
      "230.9    0.0\n",
      "209.4    0.0\n",
      "201.0    0.0\n",
      "220.6    0.0\n",
      "        ... \n",
      "335.0    0.0\n",
      "258.9    0.0\n",
      "134.7    0.0\n",
      "318.8    0.0\n",
      "317.2    0.0\n",
      "Name: temin, Length: 1611, dtype: float64\n",
      "\n",
      "tecal  :  105    0.02\n",
      "94     0.02\n",
      "108    0.02\n",
      "97     0.02\n",
      "102    0.02\n",
      "       ... \n",
      "45     0.00\n",
      "49     0.00\n",
      "145    0.00\n",
      "153    0.00\n",
      "0      0.00\n",
      "Name: tecal, Length: 123, dtype: float64\n",
      "\n",
      "tecahr  :  14.25    0.0\n",
      "16.12    0.0\n",
      "15.90    0.0\n",
      "18.62    0.0\n",
      "14.44    0.0\n",
      "        ... \n",
      "12.64    0.0\n",
      "13.83    0.0\n",
      "11.39    0.0\n",
      "28.03    0.0\n",
      "20.53    0.0\n",
      "Name: tecahr, Length: 1440, dtype: float64\n",
      "\n",
      "tnmin  :  210.0    0.0\n",
      "214.6    0.0\n",
      "197.4    0.0\n",
      "191.4    0.0\n",
      "188.2    0.0\n",
      "        ... \n",
      "132.3    0.0\n",
      "306.2    0.0\n",
      "293.5    0.0\n",
      "271.7    0.0\n",
      "182.6    0.0\n",
      "Name: tnmin, Length: 1591, dtype: float64\n",
      "\n",
      "tncal  :  105    0.03\n",
      "104    0.02\n",
      "91     0.02\n",
      "102    0.02\n",
      "100    0.02\n",
      "       ... \n",
      "164    0.00\n",
      "166    0.00\n",
      "33     0.00\n",
      "149    0.00\n",
      "36     0.00\n",
      "Name: tncal, Length: 120, dtype: float64\n",
      "\n",
      "tnchar  :  9.66     0.0\n",
      "9.45     0.0\n",
      "8.88     0.0\n",
      "8.47     0.0\n",
      "7.69     0.0\n",
      "        ... \n",
      "14.65    0.0\n",
      "6.46     0.0\n",
      "3.94     0.0\n",
      "15.74    0.0\n",
      "6.14     0.0\n",
      "Name: tnchar, Length: 933, dtype: float64\n",
      "\n",
      "timin  :  10.0    0.02\n",
      "11.3    0.02\n",
      "9.8     0.02\n",
      "10.9    0.02\n",
      "10.1    0.02\n",
      "        ... \n",
      "18.9    0.00\n",
      "1.3     0.00\n",
      "2.7     0.00\n",
      "2.6     0.00\n",
      "3.1     0.00\n",
      "Name: timin, Length: 162, dtype: float64\n",
      "\n",
      "tical  :  3     0.20\n",
      "4     0.19\n",
      "2     0.15\n",
      "5     0.14\n",
      "6     0.10\n",
      "7     0.07\n",
      "1     0.05\n",
      "8     0.03\n",
      "9     0.03\n",
      "10    0.02\n",
      "11    0.01\n",
      "0     0.01\n",
      "12    0.00\n",
      "13    0.00\n",
      "15    0.00\n",
      "14    0.00\n",
      "18    0.00\n",
      "16    0.00\n",
      "19    0.00\n",
      "17    0.00\n",
      "20    0.00\n",
      "Name: tical, dtype: float64\n",
      "\n",
      "tichar  :  2.70    0.02\n",
      "3.05    0.02\n",
      "2.65    0.02\n",
      "2.94    0.02\n",
      "2.73    0.02\n",
      "        ... \n",
      "0.68    0.00\n",
      "4.83    0.00\n",
      "0.84    0.00\n",
      "0.30    0.00\n",
      "5.40    0.00\n",
      "Name: tichar, Length: 162, dtype: float64\n",
      "\n",
      "ncsc  :  1    0.35\n",
      "2    0.23\n",
      "0    0.21\n",
      "3    0.13\n",
      "4    0.05\n",
      "5    0.02\n",
      "6    0.01\n",
      "7    0.00\n",
      "9    0.00\n",
      "8    0.00\n",
      "Name: ncsc, dtype: float64\n",
      "\n",
      "label  :  False.    0.86\n",
      "True.     0.14\n",
      "Name: label, dtype: float64\n",
      "\n"
     ]
    }
   ],
   "source": [
    "for col in df:\n",
    "    print(col,\" : \",round(df[col].value_counts()/df.shape[0],2))\n",
    "    print()"
   ]
  },
  {
   "cell_type": "code",
   "execution_count": 9,
   "metadata": {},
   "outputs": [
    {
     "data": {
      "text/plain": [
       "False.    2850\n",
       "True.      483\n",
       "Name: label, dtype: int64"
      ]
     },
     "execution_count": 9,
     "metadata": {},
     "output_type": "execute_result"
    }
   ],
   "source": [
    "df[\"label\"].value_counts()"
   ]
  },
  {
   "cell_type": "code",
   "execution_count": 10,
   "metadata": {},
   "outputs": [
    {
     "data": {
      "text/plain": [
       "False.    0.86\n",
       "True.     0.14\n",
       "Name: label, dtype: float64"
      ]
     },
     "execution_count": 10,
     "metadata": {},
     "output_type": "execute_result"
    }
   ],
   "source": [
    "round(df[\"label\"].value_counts()/df.shape[0],2)"
   ]
  },
  {
   "cell_type": "code",
   "execution_count": 11,
   "metadata": {},
   "outputs": [
    {
     "data": {
      "text/plain": [
       "415    0.50\n",
       "510    0.25\n",
       "408    0.25\n",
       "Name: arcode, dtype: float64"
      ]
     },
     "execution_count": 11,
     "metadata": {},
     "output_type": "execute_result"
    }
   ],
   "source": [
    "round(df[\"arcode\"].value_counts()/df.shape[0],2)"
   ]
  },
  {
   "cell_type": "code",
   "execution_count": 12,
   "metadata": {},
   "outputs": [
    {
     "data": {
      "text/plain": [
       "no     0.9\n",
       "yes    0.1\n",
       "Name: intplan, dtype: float64"
      ]
     },
     "execution_count": 12,
     "metadata": {},
     "output_type": "execute_result"
    }
   ],
   "source": [
    "round(df[\"intplan\"].value_counts()/df.shape[0],2)"
   ]
  },
  {
   "cell_type": "code",
   "execution_count": 13,
   "metadata": {},
   "outputs": [
    {
     "data": {
      "text/plain": [
       "no     3010\n",
       "yes     323\n",
       "Name: intplan, dtype: int64"
      ]
     },
     "execution_count": 13,
     "metadata": {},
     "output_type": "execute_result"
    }
   ],
   "source": [
    "df[\"intplan\"].value_counts()"
   ]
  },
  {
   "cell_type": "code",
   "execution_count": 14,
   "metadata": {},
   "outputs": [
    {
     "data": {
      "text/plain": [
       "no     0.72\n",
       "yes    0.28\n",
       "Name: voice, dtype: float64"
      ]
     },
     "execution_count": 14,
     "metadata": {},
     "output_type": "execute_result"
    }
   ],
   "source": [
    "round(df[\"voice\"].value_counts()/df.shape[0],2)"
   ]
  },
  {
   "cell_type": "code",
   "execution_count": 15,
   "metadata": {},
   "outputs": [
    {
     "data": {
      "text/plain": [
       "1    0.35\n",
       "2    0.23\n",
       "0    0.21\n",
       "3    0.13\n",
       "4    0.05\n",
       "5    0.02\n",
       "6    0.01\n",
       "7    0.00\n",
       "9    0.00\n",
       "8    0.00\n",
       "Name: ncsc, dtype: float64"
      ]
     },
     "execution_count": 15,
     "metadata": {},
     "output_type": "execute_result"
    }
   ],
   "source": [
    "round(df[\"ncsc\"].value_counts()/df.shape[0],2) "
   ]
  },
  {
   "cell_type": "code",
   "execution_count": 16,
   "metadata": {},
   "outputs": [
    {
     "data": {
      "text/plain": [
       "1    1181\n",
       "2     759\n",
       "0     697\n",
       "3     429\n",
       "4     166\n",
       "5      66\n",
       "6      22\n",
       "7       9\n",
       "9       2\n",
       "8       2\n",
       "Name: ncsc, dtype: int64"
      ]
     },
     "execution_count": 16,
     "metadata": {},
     "output_type": "execute_result"
    }
   ],
   "source": [
    "df[\"ncsc\"].value_counts()"
   ]
  },
  {
   "cell_type": "code",
   "execution_count": 17,
   "metadata": {},
   "outputs": [
    {
     "name": "stdout",
     "output_type": "stream",
     "text": [
      "8.099009900990099\n",
      "0.0\n",
      "0     2411\n",
      "31      60\n",
      "29      53\n",
      "28      51\n",
      "33      46\n",
      "27      44\n",
      "30      44\n",
      "24      42\n",
      "26      41\n",
      "32      41\n",
      "25      37\n",
      "23      36\n",
      "36      34\n",
      "35      32\n",
      "22      32\n",
      "39      30\n",
      "37      29\n",
      "34      29\n",
      "21      28\n",
      "38      25\n",
      "20      22\n",
      "19      19\n",
      "40      16\n",
      "42      15\n",
      "17      14\n",
      "41      13\n",
      "16      13\n",
      "43       9\n",
      "15       9\n",
      "18       7\n",
      "44       7\n",
      "14       7\n",
      "45       6\n",
      "12       6\n",
      "46       4\n",
      "13       4\n",
      "47       3\n",
      "8        2\n",
      "48       2\n",
      "50       2\n",
      "9        2\n",
      "11       2\n",
      "49       1\n",
      "10       1\n",
      "4        1\n",
      "51       1\n",
      "Name: nummailmes, dtype: int64\n"
     ]
    }
   ],
   "source": [
    "x=df['nummailmes'].mean()\n",
    "y=df['nummailmes'].median()\n",
    "z=df[\"nummailmes\"].value_counts()\n",
    "print(x)\n",
    "print(y)\n",
    "print(z)"
   ]
  },
  {
   "cell_type": "code",
   "execution_count": 18,
   "metadata": {},
   "outputs": [
    {
     "name": "stdout",
     "output_type": "stream",
     "text": [
      "179.77509750975116\n",
      "179.4\n"
     ]
    }
   ],
   "source": [
    "x=df['tdmin'].mean()\n",
    "y=df['tdmin'].median()\n",
    "print(x)\n",
    "print(y)"
   ]
  },
  {
   "cell_type": "code",
   "execution_count": 19,
   "metadata": {},
   "outputs": [
    {
     "name": "stdout",
     "output_type": "stream",
     "text": [
      "100.43564356435644\n",
      "101.0\n"
     ]
    }
   ],
   "source": [
    "x=df['tdcal'].mean()\n",
    "y=df['tdcal'].median()\n",
    "print(x)\n",
    "print(y)"
   ]
  },
  {
   "cell_type": "code",
   "execution_count": 20,
   "metadata": {},
   "outputs": [
    {
     "name": "stdout",
     "output_type": "stream",
     "text": [
      "30.562307230723093\n",
      "30.5\n"
     ]
    }
   ],
   "source": [
    "x=df['tdchar'].mean()\n",
    "y=df['tdchar'].median()\n",
    "print(x)\n",
    "print(y)"
   ]
  },
  {
   "cell_type": "code",
   "execution_count": 21,
   "metadata": {},
   "outputs": [
    {
     "name": "stdout",
     "output_type": "stream",
     "text": [
      "200.98034803480346\n",
      "201.4\n"
     ]
    }
   ],
   "source": [
    "x=df['temin'].mean()\n",
    "y=df['temin'].median()\n",
    "print(x)\n",
    "print(y)"
   ]
  },
  {
   "cell_type": "code",
   "execution_count": 22,
   "metadata": {},
   "outputs": [
    {
     "name": "stdout",
     "output_type": "stream",
     "text": [
      "100.11431143114311\n",
      "100.0\n"
     ]
    }
   ],
   "source": [
    "x=df['tecal'].mean()\n",
    "y=df['tecal'].median()\n",
    "print(x)\n",
    "print(y)"
   ]
  },
  {
   "cell_type": "code",
   "execution_count": 23,
   "metadata": {},
   "outputs": [
    {
     "name": "stdout",
     "output_type": "stream",
     "text": [
      "17.083540354035392\n",
      "17.12\n"
     ]
    }
   ],
   "source": [
    "x=df['tecahr'].mean()\n",
    "y=df['tecahr'].median()\n",
    "print(x)\n",
    "print(y)"
   ]
  },
  {
   "cell_type": "code",
   "execution_count": 24,
   "metadata": {},
   "outputs": [
    {
     "name": "stdout",
     "output_type": "stream",
     "text": [
      "200.87203720372048\n",
      "201.2\n"
     ]
    }
   ],
   "source": [
    "x=df['tnmin'].mean()\n",
    "y=df['tnmin'].median()\n",
    "print(x)\n",
    "print(y)"
   ]
  },
  {
   "cell_type": "code",
   "execution_count": 25,
   "metadata": {},
   "outputs": [
    {
     "name": "stdout",
     "output_type": "stream",
     "text": [
      "100.10771077107711\n",
      "100.0\n"
     ]
    }
   ],
   "source": [
    "x=df['tncal'].mean()\n",
    "y=df['tncal'].median()\n",
    "print(x)\n",
    "print(y)"
   ]
  },
  {
   "cell_type": "code",
   "execution_count": 26,
   "metadata": {},
   "outputs": [
    {
     "name": "stdout",
     "output_type": "stream",
     "text": [
      "9.039324932493264\n",
      "9.05\n"
     ]
    }
   ],
   "source": [
    "x=df['tnchar'].mean()\n",
    "y=df['tnchar'].median()\n",
    "print(x)\n",
    "print(y)"
   ]
  },
  {
   "cell_type": "code",
   "execution_count": 27,
   "metadata": {},
   "outputs": [
    {
     "name": "stdout",
     "output_type": "stream",
     "text": [
      "10.237293729372933\n",
      "10.3\n"
     ]
    }
   ],
   "source": [
    "x=df['timin'].mean()\n",
    "y=df['timin'].median()\n",
    "print(x)\n",
    "print(y)"
   ]
  },
  {
   "cell_type": "code",
   "execution_count": 28,
   "metadata": {},
   "outputs": [
    {
     "name": "stdout",
     "output_type": "stream",
     "text": [
      "4.4794479447944795\n",
      "4.0\n"
     ]
    }
   ],
   "source": [
    "x=df['tical'].mean()\n",
    "y=df['tical'].median()\n",
    "print(x)\n",
    "print(y)"
   ]
  },
  {
   "cell_type": "code",
   "execution_count": 29,
   "metadata": {},
   "outputs": [
    {
     "name": "stdout",
     "output_type": "stream",
     "text": [
      "2.764581458145804\n",
      "2.78\n"
     ]
    }
   ],
   "source": [
    "x=df['tichar'].mean()\n",
    "y=df['tichar'].median()\n",
    "print(x)\n",
    "print(y)"
   ]
  },
  {
   "cell_type": "code",
   "execution_count": 30,
   "metadata": {},
   "outputs": [
    {
     "data": {
      "text/plain": [
       "415    1655\n",
       "510     840\n",
       "408     838\n",
       "Name: arcode, dtype: int64"
      ]
     },
     "execution_count": 30,
     "metadata": {},
     "output_type": "execute_result"
    }
   ],
   "source": [
    "df[\"arcode\"].value_counts()"
   ]
  },
  {
   "cell_type": "code",
   "execution_count": 31,
   "metadata": {},
   "outputs": [
    {
     "data": {
      "text/plain": [
       "array([[<matplotlib.axes._subplots.AxesSubplot object at 0x000001665424BE80>,\n",
       "        <matplotlib.axes._subplots.AxesSubplot object at 0x00000166549673A0>,\n",
       "        <matplotlib.axes._subplots.AxesSubplot object at 0x00000166549967F0>,\n",
       "        <matplotlib.axes._subplots.AxesSubplot object at 0x00000166549C3C70>],\n",
       "       [<matplotlib.axes._subplots.AxesSubplot object at 0x00000166549F1160>,\n",
       "        <matplotlib.axes._subplots.AxesSubplot object at 0x0000016654A28490>,\n",
       "        <matplotlib.axes._subplots.AxesSubplot object at 0x0000016654A28580>,\n",
       "        <matplotlib.axes._subplots.AxesSubplot object at 0x0000016654A55A30>],\n",
       "       [<matplotlib.axes._subplots.AxesSubplot object at 0x0000016654ABC280>,\n",
       "        <matplotlib.axes._subplots.AxesSubplot object at 0x0000016654AE56D0>,\n",
       "        <matplotlib.axes._subplots.AxesSubplot object at 0x0000016654B11B50>,\n",
       "        <matplotlib.axes._subplots.AxesSubplot object at 0x0000016654B40FA0>],\n",
       "       [<matplotlib.axes._subplots.AxesSubplot object at 0x0000016654B79430>,\n",
       "        <matplotlib.axes._subplots.AxesSubplot object at 0x0000016654BA6880>,\n",
       "        <matplotlib.axes._subplots.AxesSubplot object at 0x0000016654BD0CD0>,\n",
       "        <matplotlib.axes._subplots.AxesSubplot object at 0x0000016654C09190>]],\n",
       "      dtype=object)"
      ]
     },
     "execution_count": 31,
     "metadata": {},
     "output_type": "execute_result"
    },
    {
     "data": {
      "image/png": "[encoded data removed]",
      "text/plain": [
       "<Figure size 432x288 with 16 Axes>"
      ]
     },
     "metadata": {
      "needs_background": "light"
     },
     "output_type": "display_data"
    }
   ],
   "source": [
    "df.hist()"
   ]
  },
  {
   "cell_type": "code",
   "execution_count": 32,
   "metadata": {},
   "outputs": [
    {
     "data": {
      "text/plain": [
       "<matplotlib.axes._subplots.AxesSubplot at 0x16654c4ffd0>"
      ]
     },
     "execution_count": 32,
     "metadata": {},
     "output_type": "execute_result"
    },
    {
     "data": {
      "image/png": "[encoded data removed]",
      "text/plain": [
       "<Figure size 432x288 with 1 Axes>"
      ]
     },
     "metadata": {
      "needs_background": "light"
     },
     "output_type": "display_data"
    }
   ],
   "source": [
    "sns.countplot(x=\"st\",data=df)"
   ]
  },
  {
   "cell_type": "code",
   "execution_count": 33,
   "metadata": {},
   "outputs": [],
   "source": [
    "correlation_df = df.corr()"
   ]
  },
  {
   "cell_type": "code",
   "execution_count": 34,
   "metadata": {},
   "outputs": [
    {
     "data": {
      "text/html": [
       "<div>\n",
       "<style scoped>\n",
       "    .dataframe tbody tr th:only-of-type {\n",
       "        vertical-align: middle;\n",
       "    }\n",
       "\n",
       "    .dataframe tbody tr th {\n",
       "        vertical-align: top;\n",
       "    }\n",
       "\n",
       "    .dataframe thead th {\n",
       "        text-align: right;\n",
       "    }\n",
       "</style>\n",
       "<table border=\"1\" class=\"dataframe\">\n",
       "  <thead>\n",
       "    <tr style=\"text-align: right;\">\n",
       "      <th></th>\n",
       "      <th>acclen</th>\n",
       "      <th>arcode</th>\n",
       "      <th>nummailmes</th>\n",
       "      <th>tdmin</th>\n",
       "      <th>tdcal</th>\n",
       "      <th>tdchar</th>\n",
       "      <th>temin</th>\n",
       "      <th>tecal</th>\n",
       "      <th>tecahr</th>\n",
       "      <th>tnmin</th>\n",
       "      <th>tncal</th>\n",
       "      <th>tnchar</th>\n",
       "      <th>timin</th>\n",
       "      <th>tical</th>\n",
       "      <th>tichar</th>\n",
       "      <th>ncsc</th>\n",
       "    </tr>\n",
       "  </thead>\n",
       "  <tbody>\n",
       "    <tr>\n",
       "      <th>acclen</th>\n",
       "      <td>1.000000</td>\n",
       "      <td>-0.012463</td>\n",
       "      <td>-0.004628</td>\n",
       "      <td>0.006216</td>\n",
       "      <td>0.038470</td>\n",
       "      <td>0.006214</td>\n",
       "      <td>-0.006757</td>\n",
       "      <td>0.019260</td>\n",
       "      <td>-0.006745</td>\n",
       "      <td>-0.008955</td>\n",
       "      <td>-0.013176</td>\n",
       "      <td>-0.008960</td>\n",
       "      <td>0.009514</td>\n",
       "      <td>0.020661</td>\n",
       "      <td>0.009546</td>\n",
       "      <td>-0.003796</td>\n",
       "    </tr>\n",
       "    <tr>\n",
       "      <th>arcode</th>\n",
       "      <td>-0.012463</td>\n",
       "      <td>1.000000</td>\n",
       "      <td>-0.001994</td>\n",
       "      <td>-0.008264</td>\n",
       "      <td>-0.009646</td>\n",
       "      <td>-0.008264</td>\n",
       "      <td>0.003580</td>\n",
       "      <td>-0.011886</td>\n",
       "      <td>0.003607</td>\n",
       "      <td>-0.005825</td>\n",
       "      <td>0.016522</td>\n",
       "      <td>-0.005845</td>\n",
       "      <td>-0.018288</td>\n",
       "      <td>-0.024179</td>\n",
       "      <td>-0.018395</td>\n",
       "      <td>0.027572</td>\n",
       "    </tr>\n",
       "    <tr>\n",
       "      <th>nummailmes</th>\n",
       "      <td>-0.004628</td>\n",
       "      <td>-0.001994</td>\n",
       "      <td>1.000000</td>\n",
       "      <td>0.000778</td>\n",
       "      <td>-0.009548</td>\n",
       "      <td>0.000776</td>\n",
       "      <td>0.017562</td>\n",
       "      <td>-0.005864</td>\n",
       "      <td>0.017578</td>\n",
       "      <td>0.007681</td>\n",
       "      <td>0.007123</td>\n",
       "      <td>0.007663</td>\n",
       "      <td>0.002856</td>\n",
       "      <td>0.013957</td>\n",
       "      <td>0.002884</td>\n",
       "      <td>-0.013263</td>\n",
       "    </tr>\n",
       "    <tr>\n",
       "      <th>tdmin</th>\n",
       "      <td>0.006216</td>\n",
       "      <td>-0.008264</td>\n",
       "      <td>0.000778</td>\n",
       "      <td>1.000000</td>\n",
       "      <td>0.006750</td>\n",
       "      <td>1.000000</td>\n",
       "      <td>0.007043</td>\n",
       "      <td>0.015769</td>\n",
       "      <td>0.007029</td>\n",
       "      <td>0.004323</td>\n",
       "      <td>0.022972</td>\n",
       "      <td>0.004300</td>\n",
       "      <td>-0.010155</td>\n",
       "      <td>0.008033</td>\n",
       "      <td>-0.010092</td>\n",
       "      <td>-0.013423</td>\n",
       "    </tr>\n",
       "    <tr>\n",
       "      <th>tdcal</th>\n",
       "      <td>0.038470</td>\n",
       "      <td>-0.009646</td>\n",
       "      <td>-0.009548</td>\n",
       "      <td>0.006750</td>\n",
       "      <td>1.000000</td>\n",
       "      <td>0.006753</td>\n",
       "      <td>-0.021451</td>\n",
       "      <td>0.006462</td>\n",
       "      <td>-0.021449</td>\n",
       "      <td>0.022938</td>\n",
       "      <td>-0.019557</td>\n",
       "      <td>0.022927</td>\n",
       "      <td>0.021565</td>\n",
       "      <td>0.004574</td>\n",
       "      <td>0.021666</td>\n",
       "      <td>-0.018942</td>\n",
       "    </tr>\n",
       "    <tr>\n",
       "      <th>tdchar</th>\n",
       "      <td>0.006214</td>\n",
       "      <td>-0.008264</td>\n",
       "      <td>0.000776</td>\n",
       "      <td>1.000000</td>\n",
       "      <td>0.006753</td>\n",
       "      <td>1.000000</td>\n",
       "      <td>0.007050</td>\n",
       "      <td>0.015769</td>\n",
       "      <td>0.007036</td>\n",
       "      <td>0.004324</td>\n",
       "      <td>0.022972</td>\n",
       "      <td>0.004301</td>\n",
       "      <td>-0.010157</td>\n",
       "      <td>0.008032</td>\n",
       "      <td>-0.010094</td>\n",
       "      <td>-0.013427</td>\n",
       "    </tr>\n",
       "    <tr>\n",
       "      <th>temin</th>\n",
       "      <td>-0.006757</td>\n",
       "      <td>0.003580</td>\n",
       "      <td>0.017562</td>\n",
       "      <td>0.007043</td>\n",
       "      <td>-0.021451</td>\n",
       "      <td>0.007050</td>\n",
       "      <td>1.000000</td>\n",
       "      <td>-0.011430</td>\n",
       "      <td>1.000000</td>\n",
       "      <td>-0.012584</td>\n",
       "      <td>0.007586</td>\n",
       "      <td>-0.012593</td>\n",
       "      <td>-0.011035</td>\n",
       "      <td>0.002541</td>\n",
       "      <td>-0.011067</td>\n",
       "      <td>-0.012985</td>\n",
       "    </tr>\n",
       "    <tr>\n",
       "      <th>tecal</th>\n",
       "      <td>0.019260</td>\n",
       "      <td>-0.011886</td>\n",
       "      <td>-0.005864</td>\n",
       "      <td>0.015769</td>\n",
       "      <td>0.006462</td>\n",
       "      <td>0.015769</td>\n",
       "      <td>-0.011430</td>\n",
       "      <td>1.000000</td>\n",
       "      <td>-0.011423</td>\n",
       "      <td>-0.002093</td>\n",
       "      <td>0.007710</td>\n",
       "      <td>-0.002056</td>\n",
       "      <td>0.008703</td>\n",
       "      <td>0.017434</td>\n",
       "      <td>0.008674</td>\n",
       "      <td>0.002423</td>\n",
       "    </tr>\n",
       "    <tr>\n",
       "      <th>tecahr</th>\n",
       "      <td>-0.006745</td>\n",
       "      <td>0.003607</td>\n",
       "      <td>0.017578</td>\n",
       "      <td>0.007029</td>\n",
       "      <td>-0.021449</td>\n",
       "      <td>0.007036</td>\n",
       "      <td>1.000000</td>\n",
       "      <td>-0.011423</td>\n",
       "      <td>1.000000</td>\n",
       "      <td>-0.012592</td>\n",
       "      <td>0.007596</td>\n",
       "      <td>-0.012601</td>\n",
       "      <td>-0.011043</td>\n",
       "      <td>0.002541</td>\n",
       "      <td>-0.011074</td>\n",
       "      <td>-0.012987</td>\n",
       "    </tr>\n",
       "    <tr>\n",
       "      <th>tnmin</th>\n",
       "      <td>-0.008955</td>\n",
       "      <td>-0.005825</td>\n",
       "      <td>0.007681</td>\n",
       "      <td>0.004323</td>\n",
       "      <td>0.022938</td>\n",
       "      <td>0.004324</td>\n",
       "      <td>-0.012584</td>\n",
       "      <td>-0.002093</td>\n",
       "      <td>-0.012592</td>\n",
       "      <td>1.000000</td>\n",
       "      <td>0.011204</td>\n",
       "      <td>0.999999</td>\n",
       "      <td>-0.015207</td>\n",
       "      <td>-0.012353</td>\n",
       "      <td>-0.015180</td>\n",
       "      <td>-0.009288</td>\n",
       "    </tr>\n",
       "    <tr>\n",
       "      <th>tncal</th>\n",
       "      <td>-0.013176</td>\n",
       "      <td>0.016522</td>\n",
       "      <td>0.007123</td>\n",
       "      <td>0.022972</td>\n",
       "      <td>-0.019557</td>\n",
       "      <td>0.022972</td>\n",
       "      <td>0.007586</td>\n",
       "      <td>0.007710</td>\n",
       "      <td>0.007596</td>\n",
       "      <td>0.011204</td>\n",
       "      <td>1.000000</td>\n",
       "      <td>0.011188</td>\n",
       "      <td>-0.013605</td>\n",
       "      <td>0.000305</td>\n",
       "      <td>-0.013630</td>\n",
       "      <td>-0.012802</td>\n",
       "    </tr>\n",
       "    <tr>\n",
       "      <th>tnchar</th>\n",
       "      <td>-0.008960</td>\n",
       "      <td>-0.005845</td>\n",
       "      <td>0.007663</td>\n",
       "      <td>0.004300</td>\n",
       "      <td>0.022927</td>\n",
       "      <td>0.004301</td>\n",
       "      <td>-0.012593</td>\n",
       "      <td>-0.002056</td>\n",
       "      <td>-0.012601</td>\n",
       "      <td>0.999999</td>\n",
       "      <td>0.011188</td>\n",
       "      <td>1.000000</td>\n",
       "      <td>-0.015214</td>\n",
       "      <td>-0.012329</td>\n",
       "      <td>-0.015186</td>\n",
       "      <td>-0.009277</td>\n",
       "    </tr>\n",
       "    <tr>\n",
       "      <th>timin</th>\n",
       "      <td>0.009514</td>\n",
       "      <td>-0.018288</td>\n",
       "      <td>0.002856</td>\n",
       "      <td>-0.010155</td>\n",
       "      <td>0.021565</td>\n",
       "      <td>-0.010157</td>\n",
       "      <td>-0.011035</td>\n",
       "      <td>0.008703</td>\n",
       "      <td>-0.011043</td>\n",
       "      <td>-0.015207</td>\n",
       "      <td>-0.013605</td>\n",
       "      <td>-0.015214</td>\n",
       "      <td>1.000000</td>\n",
       "      <td>0.032304</td>\n",
       "      <td>0.999993</td>\n",
       "      <td>-0.009640</td>\n",
       "    </tr>\n",
       "    <tr>\n",
       "      <th>tical</th>\n",
       "      <td>0.020661</td>\n",
       "      <td>-0.024179</td>\n",
       "      <td>0.013957</td>\n",
       "      <td>0.008033</td>\n",
       "      <td>0.004574</td>\n",
       "      <td>0.008032</td>\n",
       "      <td>0.002541</td>\n",
       "      <td>0.017434</td>\n",
       "      <td>0.002541</td>\n",
       "      <td>-0.012353</td>\n",
       "      <td>0.000305</td>\n",
       "      <td>-0.012329</td>\n",
       "      <td>0.032304</td>\n",
       "      <td>1.000000</td>\n",
       "      <td>0.032372</td>\n",
       "      <td>-0.017561</td>\n",
       "    </tr>\n",
       "    <tr>\n",
       "      <th>tichar</th>\n",
       "      <td>0.009546</td>\n",
       "      <td>-0.018395</td>\n",
       "      <td>0.002884</td>\n",
       "      <td>-0.010092</td>\n",
       "      <td>0.021666</td>\n",
       "      <td>-0.010094</td>\n",
       "      <td>-0.011067</td>\n",
       "      <td>0.008674</td>\n",
       "      <td>-0.011074</td>\n",
       "      <td>-0.015180</td>\n",
       "      <td>-0.013630</td>\n",
       "      <td>-0.015186</td>\n",
       "      <td>0.999993</td>\n",
       "      <td>0.032372</td>\n",
       "      <td>1.000000</td>\n",
       "      <td>-0.009675</td>\n",
       "    </tr>\n",
       "    <tr>\n",
       "      <th>ncsc</th>\n",
       "      <td>-0.003796</td>\n",
       "      <td>0.027572</td>\n",
       "      <td>-0.013263</td>\n",
       "      <td>-0.013423</td>\n",
       "      <td>-0.018942</td>\n",
       "      <td>-0.013427</td>\n",
       "      <td>-0.012985</td>\n",
       "      <td>0.002423</td>\n",
       "      <td>-0.012987</td>\n",
       "      <td>-0.009288</td>\n",
       "      <td>-0.012802</td>\n",
       "      <td>-0.009277</td>\n",
       "      <td>-0.009640</td>\n",
       "      <td>-0.017561</td>\n",
       "      <td>-0.009675</td>\n",
       "      <td>1.000000</td>\n",
       "    </tr>\n",
       "  </tbody>\n",
       "</table>\n",
       "</div>"
      ],
      "text/plain": [
       "              acclen    arcode  nummailmes     tdmin     tdcal    tdchar  \\\n",
       "acclen      1.000000 -0.012463   -0.004628  0.006216  0.038470  0.006214   \n",
       "arcode     -0.012463  1.000000   -0.001994 -0.008264 -0.009646 -0.008264   \n",
       "nummailmes -0.004628 -0.001994    1.000000  0.000778 -0.009548  0.000776   \n",
       "tdmin       0.006216 -0.008264    0.000778  1.000000  0.006750  1.000000   \n",
       "tdcal       0.038470 -0.009646   -0.009548  0.006750  1.000000  0.006753   \n",
       "tdchar      0.006214 -0.008264    0.000776  1.000000  0.006753  1.000000   \n",
       "temin      -0.006757  0.003580    0.017562  0.007043 -0.021451  0.007050   \n",
       "tecal       0.019260 -0.011886   -0.005864  0.015769  0.006462  0.015769   \n",
       "tecahr     -0.006745  0.003607    0.017578  0.007029 -0.021449  0.007036   \n",
       "tnmin      -0.008955 -0.005825    0.007681  0.004323  0.022938  0.004324   \n",
       "tncal      -0.013176  0.016522    0.007123  0.022972 -0.019557  0.022972   \n",
       "tnchar     -0.008960 -0.005845    0.007663  0.004300  0.022927  0.004301   \n",
       "timin       0.009514 -0.018288    0.002856 -0.010155  0.021565 -0.010157   \n",
       "tical       0.020661 -0.024179    0.013957  0.008033  0.004574  0.008032   \n",
       "tichar      0.009546 -0.018395    0.002884 -0.010092  0.021666 -0.010094   \n",
       "ncsc       -0.003796  0.027572   -0.013263 -0.013423 -0.018942 -0.013427   \n",
       "\n",
       "               temin     tecal    tecahr     tnmin     tncal    tnchar  \\\n",
       "acclen     -0.006757  0.019260 -0.006745 -0.008955 -0.013176 -0.008960   \n",
       "arcode      0.003580 -0.011886  0.003607 -0.005825  0.016522 -0.005845   \n",
       "nummailmes  0.017562 -0.005864  0.017578  0.007681  0.007123  0.007663   \n",
       "tdmin       0.007043  0.015769  0.007029  0.004323  0.022972  0.004300   \n",
       "tdcal      -0.021451  0.006462 -0.021449  0.022938 -0.019557  0.022927   \n",
       "tdchar      0.007050  0.015769  0.007036  0.004324  0.022972  0.004301   \n",
       "temin       1.000000 -0.011430  1.000000 -0.012584  0.007586 -0.012593   \n",
       "tecal      -0.011430  1.000000 -0.011423 -0.002093  0.007710 -0.002056   \n",
       "tecahr      1.000000 -0.011423  1.000000 -0.012592  0.007596 -0.012601   \n",
       "tnmin      -0.012584 -0.002093 -0.012592  1.000000  0.011204  0.999999   \n",
       "tncal       0.007586  0.007710  0.007596  0.011204  1.000000  0.011188   \n",
       "tnchar     -0.012593 -0.002056 -0.012601  0.999999  0.011188  1.000000   \n",
       "timin      -0.011035  0.008703 -0.011043 -0.015207 -0.013605 -0.015214   \n",
       "tical       0.002541  0.017434  0.002541 -0.012353  0.000305 -0.012329   \n",
       "tichar     -0.011067  0.008674 -0.011074 -0.015180 -0.013630 -0.015186   \n",
       "ncsc       -0.012985  0.002423 -0.012987 -0.009288 -0.012802 -0.009277   \n",
       "\n",
       "               timin     tical    tichar      ncsc  \n",
       "acclen      0.009514  0.020661  0.009546 -0.003796  \n",
       "arcode     -0.018288 -0.024179 -0.018395  0.027572  \n",
       "nummailmes  0.002856  0.013957  0.002884 -0.013263  \n",
       "tdmin      -0.010155  0.008033 -0.010092 -0.013423  \n",
       "tdcal       0.021565  0.004574  0.021666 -0.018942  \n",
       "tdchar     -0.010157  0.008032 -0.010094 -0.013427  \n",
       "temin      -0.011035  0.002541 -0.011067 -0.012985  \n",
       "tecal       0.008703  0.017434  0.008674  0.002423  \n",
       "tecahr     -0.011043  0.002541 -0.011074 -0.012987  \n",
       "tnmin      -0.015207 -0.012353 -0.015180 -0.009288  \n",
       "tncal      -0.013605  0.000305 -0.013630 -0.012802  \n",
       "tnchar     -0.015214 -0.012329 -0.015186 -0.009277  \n",
       "timin       1.000000  0.032304  0.999993 -0.009640  \n",
       "tical       0.032304  1.000000  0.032372 -0.017561  \n",
       "tichar      0.999993  0.032372  1.000000 -0.009675  \n",
       "ncsc       -0.009640 -0.017561 -0.009675  1.000000  "
      ]
     },
     "execution_count": 34,
     "metadata": {},
     "output_type": "execute_result"
    }
   ],
   "source": [
    "correlation_df"
   ]
  },
  {
   "cell_type": "code",
   "execution_count": 35,
   "metadata": {},
   "outputs": [],
   "source": [
    "correlation_df = (df.corr().stack().sort_values(ascending=False))"
   ]
  },
  {
   "cell_type": "code",
   "execution_count": 36,
   "metadata": {},
   "outputs": [],
   "source": [
    "correlation_df=correlation_df.drop_duplicates()"
   ]
  },
  {
   "cell_type": "code",
   "execution_count": 37,
   "metadata": {},
   "outputs": [
    {
     "data": {
      "text/plain": [
       "ncsc    ncsc      1.000000\n",
       "tdmin   tdchar    1.000000\n",
       "temin   tecahr    1.000000\n",
       "tnchar  tnmin     0.999999\n",
       "timin   tichar    0.999993\n",
       "                    ...   \n",
       "tdcal   ncsc     -0.018942\n",
       "tncal   tdcal    -0.019557\n",
       "tdcal   tecahr   -0.021449\n",
       "        temin    -0.021451\n",
       "tical   arcode   -0.024179\n",
       "Length: 121, dtype: float64"
      ]
     },
     "execution_count": 37,
     "metadata": {},
     "output_type": "execute_result"
    }
   ],
   "source": [
    "correlation_df"
   ]
  },
  {
   "cell_type": "code",
   "execution_count": null,
   "metadata": {},
   "outputs": [],
   "source": []
  },
  {
   "cell_type": "code",
   "execution_count": null,
   "metadata": {},
   "outputs": [],
   "source": []
  }
 ],
 "metadata": {
  "kernelspec": {
   "display_name": "Python 3",
   "language": "python",
   "name": "python3"
  },
  "language_info": {
   "codemirror_mode": {
    "name": "ipython",
    "version": 3
   },
   "file_extension": ".py",
   "mimetype": "text/x-python",
   "name": "python",
   "nbconvert_exporter": "python",
   "pygments_lexer": "ipython3",
   "version": "3.8.5"
  }
 },
 "nbformat": 4,
 "nbformat_minor": 4
}
